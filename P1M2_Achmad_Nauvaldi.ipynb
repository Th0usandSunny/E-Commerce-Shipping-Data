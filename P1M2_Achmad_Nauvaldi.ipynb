{
 "cells": [
  {
   "cell_type": "markdown",
   "metadata": {},
   "source": [
    "# MILESTONE 2\n",
    "<img src=\"/Users/achmadnauvaldi/DS/M2/p1-ftds010-hck-m2-Th0usandSunny/deployment/shipping.png\">\n",
    "\n"
   ]
  },
  {
   "cell_type": "markdown",
   "metadata": {},
   "source": [
    "# 1. Perkenalan"
   ]
  },
  {
   "cell_type": "markdown",
   "metadata": {},
   "source": [
    "---\n",
    "\n",
    "**Nama**    : Achmad Nauvaldi\n",
    "\n",
    "**Batch**   : HCK-010\n",
    "\n",
    "**Dataset** : E-Commerce Shipping Data \"https://www.kaggle.com/datasets/prachi13/customer-analytics/data\"\n",
    "\n",
    "**Tujuan**  : Meningkatkan Akurasi Waktu Pengiriman melalui Pemanfaatan Analisis Data dan Model Prediktif.\n",
    "\n",
    "--- "
   ]
  },
  {
   "cell_type": "markdown",
   "metadata": {},
   "source": [
    "Latar Belakang\n",
    "\n",
    "Dalam era digital dan perkembangan teknologi yang pesat, e-commerce telah menjadi komponen yang sangat penting dalam dunia bisnis dan kegiatan pembelian oleh konsumen. E-commerce mencakup berbagai platform dan situs web yang memungkinkan konsumen untuk melakukan pembelian secara online, mulai dari produk fisik hingga layanan digital.\n",
    "\n",
    "Salah satu aspek utama dalam ekosistem e-commerce adalah pengiriman atau proses pengiriman barang. Proses pengiriman yang efisien dan dapat diandalkan sangat penting untuk mempertahankan kepuasan pelanggan, mengoptimalkan biaya operasional, dan menjaga kelancaran bisnis e-commerce.\n",
    "\n",
    "Ketepatan waktu pengiriman adalah salah satu komponen kunci dalam operasional e-commerce yang memiliki dampak besar pada kepuasan pelanggan dan reputasi perusahaan. Pengiriman yang tepat waktu berarti bahwa pesanan pelanggan tiba sesuai dengan estimasi waktu yang telah dijanjikan atau dalam batas waktu yang masuk akal.\n",
    "\n",
    "Problem Steatment\n",
    "\n",
    "Dalam lingkup industri e-commerce yang terus berkembang, tantangan yang dihadapi adalah peningkatan tingkat keterlambatan dalam proses pengiriman, yang berpotensi mengakibatkan penurunan kepuasan pelanggan. Tantangan ini muncul akibat dari kompleksitas rantai pasokan yang semakin meningkat, keterbatasan sumber daya, dan volume pengiriman yang terus bertambah. Oleh karena itu, tujuan dari pernyataan masalah ini adalah untuk meningkatkan efisiensi dalam proses pengiriman e-commerce, sehingga pengiriman kepada pelanggan dapat dilakukan dengan tepat waktu. Ini akan dicapai dengan mengidentifikasi hambatan utama dalam rantai pasokan dan menghubungkan upaya perbaikan ini dengan tujuan keseluruhan perusahaan e-commerce. Solusi yang diharapkan akan mengurangi angka keterlambatan dalam pengiriman dan pada akhirnya meningkatkan kepuasan pelanggan sesuai dengan tenggat waktu yang telah ditetapkan.\n",
    "\n",
    "Informasi yang perlu pembaca pahami adalah pemahaman terhadap dataset untuk mempermudah memahami data kami yaitu :\n",
    "- Reached on time adalah target kami yang berisikan pengiriman yang belum tepat waktu 1 dan tepat waktu 0.\n",
    "\n",
    "0 = Negatif yang artinya pengiriman tepat pada waktu dan 1 = positif yang artinya pengiriman belum tepat pada waktu dengan ini mepermudah mengidentifikasi dalam memahami confusion matrix yang akan kami buat.\n",
    "\n",
    "Objektif yang ingin dicari.\n",
    "\n",
    "- Untuk mengetahui faktor yang mempengaruhi dalam memprediksi ketepatan waktu\n",
    "- Mencari nilai False negativ yang rendah,mengidentifikasi sebanyak mungkin kasus di mana pengiriman sebenarnya tidak tepat waktu, maka recall dapat menjadi lebih penting. Ini mungkin terjadi jika tidak memenuhi waktu pengiriman dapat mengakibatkan kerugian besar dalam bisnis Anda atau kecewa pada pelanggan yang tidak dapat diterima. \n",
    "- Memprediksi Reached on time menggunakan DecisionTree, RandomForest, Support Vector Machine (SVM) dan K-Nearest Neighbors (KNN) dan Xgboost.\n",
    "- Dan membuat beberapa model dan mengambil hasil terbaik kemudian di hyperparameter tuning untuk mendapatkan hasil lebih baik.\n",
    "\n"
   ]
  },
  {
   "cell_type": "markdown",
   "metadata": {},
   "source": [
    "# 2.Import Library"
   ]
  },
  {
   "cell_type": "code",
   "execution_count": 2,
   "metadata": {},
   "outputs": [
    {
     "name": "stdout",
     "output_type": "stream",
     "text": [
      "Requirement already satisfied: feature-engine in /Users/achmadnauvaldi/anaconda3/lib/python3.11/site-packages (1.6.2)\n",
      "Requirement already satisfied: numpy>=1.18.2 in /Users/achmadnauvaldi/anaconda3/lib/python3.11/site-packages (from feature-engine) (1.24.3)\n",
      "Requirement already satisfied: pandas>=1.0.3 in /Users/achmadnauvaldi/anaconda3/lib/python3.11/site-packages (from feature-engine) (1.5.3)\n",
      "Requirement already satisfied: scikit-learn>=1.0.0 in /Users/achmadnauvaldi/anaconda3/lib/python3.11/site-packages (from feature-engine) (1.3.0)\n",
      "Requirement already satisfied: scipy>=1.4.1 in /Users/achmadnauvaldi/anaconda3/lib/python3.11/site-packages (from feature-engine) (1.10.1)\n",
      "Requirement already satisfied: statsmodels>=0.11.1 in /Users/achmadnauvaldi/anaconda3/lib/python3.11/site-packages (from feature-engine) (0.14.0)\n",
      "Requirement already satisfied: python-dateutil>=2.8.1 in /Users/achmadnauvaldi/anaconda3/lib/python3.11/site-packages (from pandas>=1.0.3->feature-engine) (2.8.2)\n",
      "Requirement already satisfied: pytz>=2020.1 in /Users/achmadnauvaldi/anaconda3/lib/python3.11/site-packages (from pandas>=1.0.3->feature-engine) (2022.7)\n",
      "Requirement already satisfied: joblib>=1.1.1 in /Users/achmadnauvaldi/anaconda3/lib/python3.11/site-packages (from scikit-learn>=1.0.0->feature-engine) (1.2.0)\n",
      "Requirement already satisfied: threadpoolctl>=2.0.0 in /Users/achmadnauvaldi/anaconda3/lib/python3.11/site-packages (from scikit-learn>=1.0.0->feature-engine) (2.2.0)\n",
      "Requirement already satisfied: patsy>=0.5.2 in /Users/achmadnauvaldi/anaconda3/lib/python3.11/site-packages (from statsmodels>=0.11.1->feature-engine) (0.5.3)\n",
      "Requirement already satisfied: packaging>=21.3 in /Users/achmadnauvaldi/anaconda3/lib/python3.11/site-packages (from statsmodels>=0.11.1->feature-engine) (23.0)\n",
      "Requirement already satisfied: six in /Users/achmadnauvaldi/anaconda3/lib/python3.11/site-packages (from patsy>=0.5.2->statsmodels>=0.11.1->feature-engine) (1.16.0)\n"
     ]
    }
   ],
   "source": [
    "!pip install feature-engine"
   ]
  },
  {
   "cell_type": "code",
   "execution_count": 1,
   "metadata": {},
   "outputs": [],
   "source": [
    "# Import Pandas dan numpy\n",
    "import pandas as pd\n",
    "import numpy as np\n",
    "\n",
    "# Import visualisasi\n",
    "import seaborn as sns\n",
    "import matplotlib.pyplot as plt\n",
    "import plotly.express as px\n",
    "\n",
    "# Import train test split\n",
    "from sklearn.model_selection import train_test_split\n",
    "\n",
    "#import untuk Outlier\n",
    "from scipy.stats import skew\n",
    "\n",
    "# # import caping\n",
    "from feature_engine.outliers import Winsorizer\n",
    "\n",
    "# Import scaling and encoder\n",
    "from sklearn.preprocessing import MinMaxScaler\n",
    "from sklearn.preprocessing import OneHotEncoder\n",
    "from sklearn.preprocessing import OrdinalEncoder\n",
    "\n",
    "# Import Pipeline\n",
    "from sklearn.pipeline import make_pipeline\n",
    "from sklearn.compose import ColumnTransformer\n",
    "\n",
    "# Import Model\n",
    "from sklearn.neighbors import KNeighborsClassifier\n",
    "from sklearn.svm import SVC\n",
    "from sklearn.tree import DecisionTreeClassifier\n",
    "from sklearn.ensemble import RandomForestClassifier\n",
    "from sklearn.metrics import classification_report\n",
    "from sklearn.metrics import ConfusionMatrixDisplay\n",
    "from sklearn.metrics import confusion_matrix, recall_score\n",
    "from sklearn.model_selection import GridSearchCV\n",
    "from xgboost import XGBClassifier\n",
    "# import xgboost as xgb\n",
    "\n",
    "# Import cv dan skfold\n",
    "from sklearn.model_selection import cross_val_score\n",
    "from sklearn.model_selection import StratifiedKFold\n",
    "import pickle\n",
    "\n",
    "\n",
    "from warnings import filterwarnings\n",
    "filterwarnings('ignore')"
   ]
  },
  {
   "cell_type": "markdown",
   "metadata": {},
   "source": [
    "# 3.Data Loading\n",
    "Pada project ini, data loading dilakukan dengan cara import file csv. Data di dapatkan di Kaggle https://www.kaggle.com/datasets/prachi13/customer-analytics/data"
   ]
  },
  {
   "cell_type": "markdown",
   "metadata": {},
   "source": [
    "| No. | Column Name | Description |\n",
    "|-----|---------------------|----------------------------------------------------------------------------------------------|\n",
    "| 1 | ID | Customer identification number.                                                               |\n",
    "| 2 | Warehouse block | The warehouse block where the product is stored. Consists of multiple warehouse blocks: A, B, C, D, and E.\n",
    "| 3 | Mode of shipment | Product delivery method.                                                                   |\n",
    "| 4 | Customer care calls | Number of calls made by customers for product delivery inquiries or others. |\n",
    "| 5 | Customer rating | Ratings given by customers on a scale of 1 (worst) to 5 (best).           |\n",
    "| 6 | Cost of the product | The cost of the product in the currency purchased by the customer.                                     |\n",
    "| 7 | Prior purchases | Number of previous purchases made by the customer.                                   |\n",
    "| 8 | Product importance | Product category (low, medium, and high).                                                    |\n",
    "| 9 | Gender | Gender of the customer.                                                                    |\n",
    "| 10 | Discount offered | Discounts offered on specific products.                                                |\n"
   ]
  },
  {
   "cell_type": "code",
   "execution_count": 2,
   "metadata": {},
   "outputs": [],
   "source": [
    "# Menampung csv ke variable df\n",
    "df = pd.read_csv('Train.csv')"
   ]
  },
  {
   "cell_type": "code",
   "execution_count": 4,
   "metadata": {},
   "outputs": [
    {
     "data": {
      "text/html": [
       "<div>\n",
       "<style scoped>\n",
       "    .dataframe tbody tr th:only-of-type {\n",
       "        vertical-align: middle;\n",
       "    }\n",
       "\n",
       "    .dataframe tbody tr th {\n",
       "        vertical-align: top;\n",
       "    }\n",
       "\n",
       "    .dataframe thead th {\n",
       "        text-align: right;\n",
       "    }\n",
       "</style>\n",
       "<table border=\"1\" class=\"dataframe\">\n",
       "  <thead>\n",
       "    <tr style=\"text-align: right;\">\n",
       "      <th></th>\n",
       "      <th>ID</th>\n",
       "      <th>Warehouse_block</th>\n",
       "      <th>Mode_of_Shipment</th>\n",
       "      <th>Customer_care_calls</th>\n",
       "      <th>Customer_rating</th>\n",
       "      <th>Cost_of_the_Product</th>\n",
       "      <th>Prior_purchases</th>\n",
       "      <th>Product_importance</th>\n",
       "      <th>Gender</th>\n",
       "      <th>Discount_offered</th>\n",
       "      <th>Weight_in_gms</th>\n",
       "      <th>Reached.on.Time_Y.N</th>\n",
       "    </tr>\n",
       "  </thead>\n",
       "  <tbody>\n",
       "    <tr>\n",
       "      <th>0</th>\n",
       "      <td>1</td>\n",
       "      <td>D</td>\n",
       "      <td>Flight</td>\n",
       "      <td>4</td>\n",
       "      <td>2</td>\n",
       "      <td>177</td>\n",
       "      <td>3</td>\n",
       "      <td>low</td>\n",
       "      <td>F</td>\n",
       "      <td>44</td>\n",
       "      <td>1233</td>\n",
       "      <td>1</td>\n",
       "    </tr>\n",
       "    <tr>\n",
       "      <th>1</th>\n",
       "      <td>2</td>\n",
       "      <td>F</td>\n",
       "      <td>Flight</td>\n",
       "      <td>4</td>\n",
       "      <td>5</td>\n",
       "      <td>216</td>\n",
       "      <td>2</td>\n",
       "      <td>low</td>\n",
       "      <td>M</td>\n",
       "      <td>59</td>\n",
       "      <td>3088</td>\n",
       "      <td>1</td>\n",
       "    </tr>\n",
       "    <tr>\n",
       "      <th>2</th>\n",
       "      <td>3</td>\n",
       "      <td>A</td>\n",
       "      <td>Flight</td>\n",
       "      <td>2</td>\n",
       "      <td>2</td>\n",
       "      <td>183</td>\n",
       "      <td>4</td>\n",
       "      <td>low</td>\n",
       "      <td>M</td>\n",
       "      <td>48</td>\n",
       "      <td>3374</td>\n",
       "      <td>1</td>\n",
       "    </tr>\n",
       "    <tr>\n",
       "      <th>3</th>\n",
       "      <td>4</td>\n",
       "      <td>B</td>\n",
       "      <td>Flight</td>\n",
       "      <td>3</td>\n",
       "      <td>3</td>\n",
       "      <td>176</td>\n",
       "      <td>4</td>\n",
       "      <td>medium</td>\n",
       "      <td>M</td>\n",
       "      <td>10</td>\n",
       "      <td>1177</td>\n",
       "      <td>1</td>\n",
       "    </tr>\n",
       "    <tr>\n",
       "      <th>4</th>\n",
       "      <td>5</td>\n",
       "      <td>C</td>\n",
       "      <td>Flight</td>\n",
       "      <td>2</td>\n",
       "      <td>2</td>\n",
       "      <td>184</td>\n",
       "      <td>3</td>\n",
       "      <td>medium</td>\n",
       "      <td>F</td>\n",
       "      <td>46</td>\n",
       "      <td>2484</td>\n",
       "      <td>1</td>\n",
       "    </tr>\n",
       "  </tbody>\n",
       "</table>\n",
       "</div>"
      ],
      "text/plain": [
       "   ID Warehouse_block Mode_of_Shipment  Customer_care_calls  Customer_rating  \\\n",
       "0   1               D           Flight                    4                2   \n",
       "1   2               F           Flight                    4                5   \n",
       "2   3               A           Flight                    2                2   \n",
       "3   4               B           Flight                    3                3   \n",
       "4   5               C           Flight                    2                2   \n",
       "\n",
       "   Cost_of_the_Product  Prior_purchases Product_importance Gender  \\\n",
       "0                  177                3                low      F   \n",
       "1                  216                2                low      M   \n",
       "2                  183                4                low      M   \n",
       "3                  176                4             medium      M   \n",
       "4                  184                3             medium      F   \n",
       "\n",
       "   Discount_offered  Weight_in_gms  Reached.on.Time_Y.N  \n",
       "0                44           1233                    1  \n",
       "1                59           3088                    1  \n",
       "2                48           3374                    1  \n",
       "3                10           1177                    1  \n",
       "4                46           2484                    1  "
      ]
     },
     "execution_count": 4,
     "metadata": {},
     "output_type": "execute_result"
    }
   ],
   "source": [
    "# Menampilkan data teratas\n",
    "df.head()"
   ]
  },
  {
   "cell_type": "code",
   "execution_count": 5,
   "metadata": {},
   "outputs": [
    {
     "data": {
      "text/html": [
       "<div>\n",
       "<style scoped>\n",
       "    .dataframe tbody tr th:only-of-type {\n",
       "        vertical-align: middle;\n",
       "    }\n",
       "\n",
       "    .dataframe tbody tr th {\n",
       "        vertical-align: top;\n",
       "    }\n",
       "\n",
       "    .dataframe thead th {\n",
       "        text-align: right;\n",
       "    }\n",
       "</style>\n",
       "<table border=\"1\" class=\"dataframe\">\n",
       "  <thead>\n",
       "    <tr style=\"text-align: right;\">\n",
       "      <th></th>\n",
       "      <th>ID</th>\n",
       "      <th>Warehouse_block</th>\n",
       "      <th>Mode_of_Shipment</th>\n",
       "      <th>Customer_care_calls</th>\n",
       "      <th>Customer_rating</th>\n",
       "      <th>Cost_of_the_Product</th>\n",
       "      <th>Prior_purchases</th>\n",
       "      <th>Product_importance</th>\n",
       "      <th>Gender</th>\n",
       "      <th>Discount_offered</th>\n",
       "      <th>Weight_in_gms</th>\n",
       "      <th>Reached.on.Time_Y.N</th>\n",
       "    </tr>\n",
       "  </thead>\n",
       "  <tbody>\n",
       "    <tr>\n",
       "      <th>10994</th>\n",
       "      <td>10995</td>\n",
       "      <td>A</td>\n",
       "      <td>Ship</td>\n",
       "      <td>4</td>\n",
       "      <td>1</td>\n",
       "      <td>252</td>\n",
       "      <td>5</td>\n",
       "      <td>medium</td>\n",
       "      <td>F</td>\n",
       "      <td>1</td>\n",
       "      <td>1538</td>\n",
       "      <td>1</td>\n",
       "    </tr>\n",
       "    <tr>\n",
       "      <th>10995</th>\n",
       "      <td>10996</td>\n",
       "      <td>B</td>\n",
       "      <td>Ship</td>\n",
       "      <td>4</td>\n",
       "      <td>1</td>\n",
       "      <td>232</td>\n",
       "      <td>5</td>\n",
       "      <td>medium</td>\n",
       "      <td>F</td>\n",
       "      <td>6</td>\n",
       "      <td>1247</td>\n",
       "      <td>0</td>\n",
       "    </tr>\n",
       "    <tr>\n",
       "      <th>10996</th>\n",
       "      <td>10997</td>\n",
       "      <td>C</td>\n",
       "      <td>Ship</td>\n",
       "      <td>5</td>\n",
       "      <td>4</td>\n",
       "      <td>242</td>\n",
       "      <td>5</td>\n",
       "      <td>low</td>\n",
       "      <td>F</td>\n",
       "      <td>4</td>\n",
       "      <td>1155</td>\n",
       "      <td>0</td>\n",
       "    </tr>\n",
       "    <tr>\n",
       "      <th>10997</th>\n",
       "      <td>10998</td>\n",
       "      <td>F</td>\n",
       "      <td>Ship</td>\n",
       "      <td>5</td>\n",
       "      <td>2</td>\n",
       "      <td>223</td>\n",
       "      <td>6</td>\n",
       "      <td>medium</td>\n",
       "      <td>M</td>\n",
       "      <td>2</td>\n",
       "      <td>1210</td>\n",
       "      <td>0</td>\n",
       "    </tr>\n",
       "    <tr>\n",
       "      <th>10998</th>\n",
       "      <td>10999</td>\n",
       "      <td>D</td>\n",
       "      <td>Ship</td>\n",
       "      <td>2</td>\n",
       "      <td>5</td>\n",
       "      <td>155</td>\n",
       "      <td>5</td>\n",
       "      <td>low</td>\n",
       "      <td>F</td>\n",
       "      <td>6</td>\n",
       "      <td>1639</td>\n",
       "      <td>0</td>\n",
       "    </tr>\n",
       "  </tbody>\n",
       "</table>\n",
       "</div>"
      ],
      "text/plain": [
       "          ID Warehouse_block Mode_of_Shipment  Customer_care_calls  \\\n",
       "10994  10995               A             Ship                    4   \n",
       "10995  10996               B             Ship                    4   \n",
       "10996  10997               C             Ship                    5   \n",
       "10997  10998               F             Ship                    5   \n",
       "10998  10999               D             Ship                    2   \n",
       "\n",
       "       Customer_rating  Cost_of_the_Product  Prior_purchases  \\\n",
       "10994                1                  252                5   \n",
       "10995                1                  232                5   \n",
       "10996                4                  242                5   \n",
       "10997                2                  223                6   \n",
       "10998                5                  155                5   \n",
       "\n",
       "      Product_importance Gender  Discount_offered  Weight_in_gms  \\\n",
       "10994             medium      F                 1           1538   \n",
       "10995             medium      F                 6           1247   \n",
       "10996                low      F                 4           1155   \n",
       "10997             medium      M                 2           1210   \n",
       "10998                low      F                 6           1639   \n",
       "\n",
       "       Reached.on.Time_Y.N  \n",
       "10994                    1  \n",
       "10995                    0  \n",
       "10996                    0  \n",
       "10997                    0  \n",
       "10998                    0  "
      ]
     },
     "execution_count": 5,
     "metadata": {},
     "output_type": "execute_result"
    }
   ],
   "source": [
    "# Menampilkan data terbawah \n",
    "df.tail()"
   ]
  },
  {
   "cell_type": "markdown",
   "metadata": {},
   "source": [
    "Data csv di tampung di variable df, data kami tampilkan 5 data teratas dan 5 data ter bawah, terntu saja ini menjadi informasi awal untuk memahami data."
   ]
  },
  {
   "cell_type": "code",
   "execution_count": 6,
   "metadata": {},
   "outputs": [
    {
     "data": {
      "text/html": [
       "<div>\n",
       "<style scoped>\n",
       "    .dataframe tbody tr th:only-of-type {\n",
       "        vertical-align: middle;\n",
       "    }\n",
       "\n",
       "    .dataframe tbody tr th {\n",
       "        vertical-align: top;\n",
       "    }\n",
       "\n",
       "    .dataframe thead th {\n",
       "        text-align: right;\n",
       "    }\n",
       "</style>\n",
       "<table border=\"1\" class=\"dataframe\">\n",
       "  <thead>\n",
       "    <tr style=\"text-align: right;\">\n",
       "      <th></th>\n",
       "      <th>count</th>\n",
       "      <th>mean</th>\n",
       "      <th>std</th>\n",
       "      <th>min</th>\n",
       "      <th>25%</th>\n",
       "      <th>50%</th>\n",
       "      <th>75%</th>\n",
       "      <th>max</th>\n",
       "    </tr>\n",
       "  </thead>\n",
       "  <tbody>\n",
       "    <tr>\n",
       "      <th>ID</th>\n",
       "      <td>10999.0</td>\n",
       "      <td>5500.000000</td>\n",
       "      <td>3175.282140</td>\n",
       "      <td>1.0</td>\n",
       "      <td>2750.5</td>\n",
       "      <td>5500.0</td>\n",
       "      <td>8249.5</td>\n",
       "      <td>10999.0</td>\n",
       "    </tr>\n",
       "    <tr>\n",
       "      <th>Customer_care_calls</th>\n",
       "      <td>10999.0</td>\n",
       "      <td>4.054459</td>\n",
       "      <td>1.141490</td>\n",
       "      <td>2.0</td>\n",
       "      <td>3.0</td>\n",
       "      <td>4.0</td>\n",
       "      <td>5.0</td>\n",
       "      <td>7.0</td>\n",
       "    </tr>\n",
       "    <tr>\n",
       "      <th>Customer_rating</th>\n",
       "      <td>10999.0</td>\n",
       "      <td>2.990545</td>\n",
       "      <td>1.413603</td>\n",
       "      <td>1.0</td>\n",
       "      <td>2.0</td>\n",
       "      <td>3.0</td>\n",
       "      <td>4.0</td>\n",
       "      <td>5.0</td>\n",
       "    </tr>\n",
       "    <tr>\n",
       "      <th>Cost_of_the_Product</th>\n",
       "      <td>10999.0</td>\n",
       "      <td>210.196836</td>\n",
       "      <td>48.063272</td>\n",
       "      <td>96.0</td>\n",
       "      <td>169.0</td>\n",
       "      <td>214.0</td>\n",
       "      <td>251.0</td>\n",
       "      <td>310.0</td>\n",
       "    </tr>\n",
       "    <tr>\n",
       "      <th>Prior_purchases</th>\n",
       "      <td>10999.0</td>\n",
       "      <td>3.567597</td>\n",
       "      <td>1.522860</td>\n",
       "      <td>2.0</td>\n",
       "      <td>3.0</td>\n",
       "      <td>3.0</td>\n",
       "      <td>4.0</td>\n",
       "      <td>10.0</td>\n",
       "    </tr>\n",
       "    <tr>\n",
       "      <th>Discount_offered</th>\n",
       "      <td>10999.0</td>\n",
       "      <td>13.373216</td>\n",
       "      <td>16.205527</td>\n",
       "      <td>1.0</td>\n",
       "      <td>4.0</td>\n",
       "      <td>7.0</td>\n",
       "      <td>10.0</td>\n",
       "      <td>65.0</td>\n",
       "    </tr>\n",
       "    <tr>\n",
       "      <th>Weight_in_gms</th>\n",
       "      <td>10999.0</td>\n",
       "      <td>3634.016729</td>\n",
       "      <td>1635.377251</td>\n",
       "      <td>1001.0</td>\n",
       "      <td>1839.5</td>\n",
       "      <td>4149.0</td>\n",
       "      <td>5050.0</td>\n",
       "      <td>7846.0</td>\n",
       "    </tr>\n",
       "    <tr>\n",
       "      <th>Reached.on.Time_Y.N</th>\n",
       "      <td>10999.0</td>\n",
       "      <td>0.596691</td>\n",
       "      <td>0.490584</td>\n",
       "      <td>0.0</td>\n",
       "      <td>0.0</td>\n",
       "      <td>1.0</td>\n",
       "      <td>1.0</td>\n",
       "      <td>1.0</td>\n",
       "    </tr>\n",
       "  </tbody>\n",
       "</table>\n",
       "</div>"
      ],
      "text/plain": [
       "                       count         mean          std     min     25%  \\\n",
       "ID                   10999.0  5500.000000  3175.282140     1.0  2750.5   \n",
       "Customer_care_calls  10999.0     4.054459     1.141490     2.0     3.0   \n",
       "Customer_rating      10999.0     2.990545     1.413603     1.0     2.0   \n",
       "Cost_of_the_Product  10999.0   210.196836    48.063272    96.0   169.0   \n",
       "Prior_purchases      10999.0     3.567597     1.522860     2.0     3.0   \n",
       "Discount_offered     10999.0    13.373216    16.205527     1.0     4.0   \n",
       "Weight_in_gms        10999.0  3634.016729  1635.377251  1001.0  1839.5   \n",
       "Reached.on.Time_Y.N  10999.0     0.596691     0.490584     0.0     0.0   \n",
       "\n",
       "                        50%     75%      max  \n",
       "ID                   5500.0  8249.5  10999.0  \n",
       "Customer_care_calls     4.0     5.0      7.0  \n",
       "Customer_rating         3.0     4.0      5.0  \n",
       "Cost_of_the_Product   214.0   251.0    310.0  \n",
       "Prior_purchases         3.0     4.0     10.0  \n",
       "Discount_offered        7.0    10.0     65.0  \n",
       "Weight_in_gms        4149.0  5050.0   7846.0  \n",
       "Reached.on.Time_Y.N     1.0     1.0      1.0  "
      ]
     },
     "execution_count": 6,
     "metadata": {},
     "output_type": "execute_result"
    }
   ],
   "source": [
    "df.describe().T"
   ]
  },
  {
   "cell_type": "markdown",
   "metadata": {},
   "source": []
  },
  {
   "cell_type": "code",
   "execution_count": 7,
   "metadata": {},
   "outputs": [],
   "source": [
    "# Change Feature\n",
    "df.rename(columns={'Reached.on.Time_Y.N' : 'Rot'},inplace=True)"
   ]
  },
  {
   "cell_type": "markdown",
   "metadata": {},
   "source": [
    "Mengganti Nama Variabel dengan singkatan agar mempermudah dalam proses selanjutnya."
   ]
  },
  {
   "cell_type": "code",
   "execution_count": 8,
   "metadata": {},
   "outputs": [
    {
     "name": "stdout",
     "output_type": "stream",
     "text": [
      "<class 'pandas.core.frame.DataFrame'>\n",
      "RangeIndex: 10999 entries, 0 to 10998\n",
      "Data columns (total 12 columns):\n",
      " #   Column               Non-Null Count  Dtype \n",
      "---  ------               --------------  ----- \n",
      " 0   ID                   10999 non-null  int64 \n",
      " 1   Warehouse_block      10999 non-null  object\n",
      " 2   Mode_of_Shipment     10999 non-null  object\n",
      " 3   Customer_care_calls  10999 non-null  int64 \n",
      " 4   Customer_rating      10999 non-null  int64 \n",
      " 5   Cost_of_the_Product  10999 non-null  int64 \n",
      " 6   Prior_purchases      10999 non-null  int64 \n",
      " 7   Product_importance   10999 non-null  object\n",
      " 8   Gender               10999 non-null  object\n",
      " 9   Discount_offered     10999 non-null  int64 \n",
      " 10  Weight_in_gms        10999 non-null  int64 \n",
      " 11  Rot                  10999 non-null  int64 \n",
      "dtypes: int64(8), object(4)\n",
      "memory usage: 1.0+ MB\n"
     ]
    }
   ],
   "source": [
    "# Menampilkan Informasi\n",
    "df.info()"
   ]
  },
  {
   "cell_type": "markdown",
   "metadata": {},
   "source": [
    "Data Shipping memiliki 12 kolom, 10999 baris,masing-masing fitur memiliki tipe integer, float dan object serta tidak memiliki missing value."
   ]
  },
  {
   "cell_type": "code",
   "execution_count": 9,
   "metadata": {},
   "outputs": [
    {
     "data": {
      "text/plain": [
       "0"
      ]
     },
     "execution_count": 9,
     "metadata": {},
     "output_type": "execute_result"
    }
   ],
   "source": [
    "df.duplicated().sum()"
   ]
  },
  {
   "cell_type": "code",
   "execution_count": 10,
   "metadata": {},
   "outputs": [
    {
     "data": {
      "text/plain": [
       "ID                     0\n",
       "Warehouse_block        0\n",
       "Mode_of_Shipment       0\n",
       "Customer_care_calls    0\n",
       "Customer_rating        0\n",
       "Cost_of_the_Product    0\n",
       "Prior_purchases        0\n",
       "Product_importance     0\n",
       "Gender                 0\n",
       "Discount_offered       0\n",
       "Weight_in_gms          0\n",
       "Rot                    0\n",
       "dtype: int64"
      ]
     },
     "execution_count": 10,
     "metadata": {},
     "output_type": "execute_result"
    }
   ],
   "source": [
    "df.isnull().sum()"
   ]
  },
  {
   "cell_type": "markdown",
   "metadata": {},
   "source": [
    "Dari hasil check pada data tidak memiliki duplikat dan data tidak memiliki missing value ini akan sangat memudahkan dalam proses-proses selanjutnya."
   ]
  },
  {
   "cell_type": "code",
   "execution_count": 11,
   "metadata": {},
   "outputs": [
    {
     "name": "stdout",
     "output_type": "stream",
     "text": [
      "Jumlah nilai 0 dalam kolom 'Reached.on.Time_Y.N': 4436\n",
      "Jumlah nilai 1 dalam kolom 'Reached.on.Time_Y.N': 6563\n"
     ]
    }
   ],
   "source": [
    "# Menghitung data target\n",
    "count_0 = df['Rot'].value_counts()[0]\n",
    "count_1 = df['Rot'].value_counts()[1]\n",
    "\n",
    "print(\"Jumlah nilai 0 dalam kolom 'Reached.on.Time_Y.N':\", count_0)\n",
    "print(\"Jumlah nilai 1 dalam kolom 'Reached.on.Time_Y.N':\", count_1)"
   ]
  },
  {
   "cell_type": "markdown",
   "metadata": {},
   "source": [
    "Melakukan pengecheckan terhadap data target ternyata data masih normal dan saya anggap masih balance. Jika terjadi penggantian untuk keperluan model, maka data akan saya SMOTE atau SMOTENC untuk membalance kan data target.\n",
    "\n",
    "SMOTE (Synthetic Minority Over-sampling Technique) dan SMOTENC (SMOTE for Nominal and Continuous) adalah dua teknik oversampling yang digunakan dalam pengolahan data yang tidak seimbang, terutama dalam masalah klasifikasi di mana kelas minoritas memiliki jumlah yang jauh lebih kecil daripada kelas mayoritas. Kedua teknik ini dirancang untuk mengatasi ketidakseimbangan tersebut dengan membuat sampel-sampel sintetis untuk kelas minoritas."
   ]
  },
  {
   "cell_type": "markdown",
   "metadata": {},
   "source": [
    "# 4.Exploratory Data Analysis (EDA)\n",
    "Analisis Data Eksploratif (EDA) adalah sebuah pendekatan dalam memeriksa data yang melibatkan penggunaan perhitungan dasar dan visualisasi untuk menggambarkan dan merangkum data pengamatan. Bagian ini mencakup langkah-langkah eksplorasi data pada dataset yang telah disebutkan, termasuk penggunaan kueri, pengelompokan, visualisasi sederhana, dan berbagai teknik lainnya."
   ]
  },
  {
   "cell_type": "code",
   "execution_count": 12,
   "metadata": {},
   "outputs": [
    {
     "data": {
      "text/html": [
       "<div>\n",
       "<style scoped>\n",
       "    .dataframe tbody tr th:only-of-type {\n",
       "        vertical-align: middle;\n",
       "    }\n",
       "\n",
       "    .dataframe tbody tr th {\n",
       "        vertical-align: top;\n",
       "    }\n",
       "\n",
       "    .dataframe thead th {\n",
       "        text-align: right;\n",
       "    }\n",
       "</style>\n",
       "<table border=\"1\" class=\"dataframe\">\n",
       "  <thead>\n",
       "    <tr style=\"text-align: right;\">\n",
       "      <th></th>\n",
       "      <th>Warehouse_block</th>\n",
       "      <th>Mode_of_Shipment</th>\n",
       "      <th>Product_importance</th>\n",
       "      <th>Gender</th>\n",
       "    </tr>\n",
       "  </thead>\n",
       "  <tbody>\n",
       "    <tr>\n",
       "      <th>0</th>\n",
       "      <td>D</td>\n",
       "      <td>Flight</td>\n",
       "      <td>low</td>\n",
       "      <td>F</td>\n",
       "    </tr>\n",
       "    <tr>\n",
       "      <th>1</th>\n",
       "      <td>F</td>\n",
       "      <td>Flight</td>\n",
       "      <td>low</td>\n",
       "      <td>M</td>\n",
       "    </tr>\n",
       "    <tr>\n",
       "      <th>2</th>\n",
       "      <td>A</td>\n",
       "      <td>Flight</td>\n",
       "      <td>low</td>\n",
       "      <td>M</td>\n",
       "    </tr>\n",
       "    <tr>\n",
       "      <th>3</th>\n",
       "      <td>B</td>\n",
       "      <td>Flight</td>\n",
       "      <td>medium</td>\n",
       "      <td>M</td>\n",
       "    </tr>\n",
       "    <tr>\n",
       "      <th>4</th>\n",
       "      <td>C</td>\n",
       "      <td>Flight</td>\n",
       "      <td>medium</td>\n",
       "      <td>F</td>\n",
       "    </tr>\n",
       "  </tbody>\n",
       "</table>\n",
       "</div>"
      ],
      "text/plain": [
       "  Warehouse_block Mode_of_Shipment Product_importance Gender\n",
       "0               D           Flight                low      F\n",
       "1               F           Flight                low      M\n",
       "2               A           Flight                low      M\n",
       "3               B           Flight             medium      M\n",
       "4               C           Flight             medium      F"
      ]
     },
     "execution_count": 12,
     "metadata": {},
     "output_type": "execute_result"
    }
   ],
   "source": [
    "# menampilkan data object\n",
    "object_columns = df.select_dtypes(include = ['object'])\n",
    "object_columns.head()"
   ]
  },
  {
   "cell_type": "markdown",
   "metadata": {},
   "source": [
    "Untuk mempermudah dalam analisa dan memahami data kami akan memulai dengan menganalisa data object terlebih dahulu."
   ]
  },
  {
   "cell_type": "code",
   "execution_count": 13,
   "metadata": {},
   "outputs": [
    {
     "data": {
      "text/plain": [
       "array([1, 0])"
      ]
     },
     "execution_count": 13,
     "metadata": {},
     "output_type": "execute_result"
    }
   ],
   "source": [
    "df['Rot'].unique()"
   ]
  },
  {
   "cell_type": "code",
   "execution_count": 14,
   "metadata": {},
   "outputs": [
    {
     "data": {
      "image/png": "[encoded data removed]",
      "text/plain": [
       "<Figure size 1000x600 with 1 Axes>"
      ]
     },
     "metadata": {},
     "output_type": "display_data"
    }
   ],
   "source": [
    "# Membuat plot\n",
    "plt.figure(figsize = (10, 6))\n",
    "sns.countplot(x='Warehouse_block', hue = 'Rot',\n",
    "              data = df, palette='viridis')\n",
    "plt.show()"
   ]
  },
  {
   "cell_type": "markdown",
   "metadata": {},
   "source": [
    "Dalam data pie kita mendapatkan informasi distribusi warehouse dengan beberapa block yaitu A,B,C,D,dan F dan dari analisa yang kita dapat Block F memiliki porsi pengiriman yang paling banyak yaitu 33.7%, serta di dalam diagram batang menunjukan hal yang sama namun juga memiliki masalah pengiriamn yang sama masih banyak nya pengiriman yang tidak tepat waktu."
   ]
  },
  {
   "cell_type": "code",
   "execution_count": 15,
   "metadata": {},
   "outputs": [
    {
     "data": {
      "application/vnd.plotly.v1+json": {
       "config": {
        "plotlyServerURL": "https://plot.ly"
       },
       "data": [
        {
         "domain": {
          "x": [
           0,
           1
          ],
          "y": [
           0,
           1
          ]
         },
         "hole": 0.5,
         "hovertemplate": "warehouse=%{label}<br>value_counts=%{value}<extra></extra>",
         "labels": [
          "F",
          "D",
          "A",
          "B",
          "C"
         ],
         "legendgroup": "",
         "name": "",
         "showlegend": true,
         "textinfo": "percent+label",
         "type": "pie",
         "values": [
          3666,
          1834,
          1833,
          1833,
          1833
         ]
        }
       ],
       "layout": {
        "height": 400,
        "legend": {
         "tracegroupgap": 0
        },
        "margin": {
         "t": 60
        },
        "piecolorway": [
         "rgb(47, 15, 61)",
         "rgb(76, 21, 80)",
         "rgb(107, 24, 93)",
         "rgb(138, 29, 99)",
         "rgb(168, 40, 96)",
         "rgb(195, 56, 90)",
         "rgb(216, 80, 83)",
         "rgb(231, 109, 84)",
         "rgb(240, 142, 98)",
         "rgb(246, 173, 119)",
         "rgb(250, 205, 145)",
         "rgb(253, 237, 176)"
        ],
        "template": {
         "data": {
          "bar": [
           {
            "error_x": {
             "color": "#2a3f5f"
            },
            "error_y": {
             "color": "#2a3f5f"
            },
            "marker": {
             "line": {
              "color": "#E5ECF6",
              "width": 0.5
             },
             "pattern": {
              "fillmode": "overlay",
              "size": 10,
              "solidity": 0.2
             }
            },
            "type": "bar"
           }
          ],
          "barpolar": [
           {
            "marker": {
             "line": {
              "color": "#E5ECF6",
              "width": 0.5
             },
             "pattern": {
              "fillmode": "overlay",
              "size": 10,
              "solidity": 0.2
             }
            },
            "type": "barpolar"
           }
          ],
          "carpet": [
           {
            "aaxis": {
             "endlinecolor": "#2a3f5f",
             "gridcolor": "white",
             "linecolor": "white",
             "minorgridcolor": "white",
             "startlinecolor": "#2a3f5f"
            },
            "baxis": {
             "endlinecolor": "#2a3f5f",
             "gridcolor": "white",
             "linecolor": "white",
             "minorgridcolor": "white",
             "startlinecolor": "#2a3f5f"
            },
            "type": "carpet"
           }
          ],
          "choropleth": [
           {
            "colorbar": {
             "outlinewidth": 0,
             "ticks": ""
            },
            "type": "choropleth"
           }
          ],
          "contour": [
           {
            "colorbar": {
             "outlinewidth": 0,
             "ticks": ""
            },
            "colorscale": [
             [
              0,
              "#0d0887"
             ],
             [
              0.1111111111111111,
              "#46039f"
             ],
             [
              0.2222222222222222,
              "#7201a8"
             ],
             [
              0.3333333333333333,
              "#9c179e"
             ],
             [
              0.4444444444444444,
              "#bd3786"
             ],
             [
              0.5555555555555556,
              "#d8576b"
             ],
             [
              0.6666666666666666,
              "#ed7953"
             ],
             [
              0.7777777777777778,
              "#fb9f3a"
             ],
             [
              0.8888888888888888,
              "#fdca26"
             ],
             [
              1,
              "#f0f921"
             ]
            ],
            "type": "contour"
           }
          ],
          "contourcarpet": [
           {
            "colorbar": {
             "outlinewidth": 0,
             "ticks": ""
            },
            "type": "contourcarpet"
           }
          ],
          "heatmap": [
           {
            "colorbar": {
             "outlinewidth": 0,
             "ticks": ""
            },
            "colorscale": [
             [
              0,
              "#0d0887"
             ],
             [
              0.1111111111111111,
              "#46039f"
             ],
             [
              0.2222222222222222,
              "#7201a8"
             ],
             [
              0.3333333333333333,
              "#9c179e"
             ],
             [
              0.4444444444444444,
              "#bd3786"
             ],
             [
              0.5555555555555556,
              "#d8576b"
             ],
             [
              0.6666666666666666,
              "#ed7953"
             ],
             [
              0.7777777777777778,
              "#fb9f3a"
             ],
             [
              0.8888888888888888,
              "#fdca26"
             ],
             [
              1,
              "#f0f921"
             ]
            ],
            "type": "heatmap"
           }
          ],
          "heatmapgl": [
           {
            "colorbar": {
             "outlinewidth": 0,
             "ticks": ""
            },
            "colorscale": [
             [
              0,
              "#0d0887"
             ],
             [
              0.1111111111111111,
              "#46039f"
             ],
             [
              0.2222222222222222,
              "#7201a8"
             ],
             [
              0.3333333333333333,
              "#9c179e"
             ],
             [
              0.4444444444444444,
              "#bd3786"
             ],
             [
              0.5555555555555556,
              "#d8576b"
             ],
             [
              0.6666666666666666,
              "#ed7953"
             ],
             [
              0.7777777777777778,
              "#fb9f3a"
             ],
             [
              0.8888888888888888,
              "#fdca26"
             ],
             [
              1,
              "#f0f921"
             ]
            ],
            "type": "heatmapgl"
           }
          ],
          "histogram": [
           {
            "marker": {
             "pattern": {
              "fillmode": "overlay",
              "size": 10,
              "solidity": 0.2
             }
            },
            "type": "histogram"
           }
          ],
          "histogram2d": [
           {
            "colorbar": {
             "outlinewidth": 0,
             "ticks": ""
            },
            "colorscale": [
             [
              0,
              "#0d0887"
             ],
             [
              0.1111111111111111,
              "#46039f"
             ],
             [
              0.2222222222222222,
              "#7201a8"
             ],
             [
              0.3333333333333333,
              "#9c179e"
             ],
             [
              0.4444444444444444,
              "#bd3786"
             ],
             [
              0.5555555555555556,
              "#d8576b"
             ],
             [
              0.6666666666666666,
              "#ed7953"
             ],
             [
              0.7777777777777778,
              "#fb9f3a"
             ],
             [
              0.8888888888888888,
              "#fdca26"
             ],
             [
              1,
              "#f0f921"
             ]
            ],
            "type": "histogram2d"
           }
          ],
          "histogram2dcontour": [
           {
            "colorbar": {
             "outlinewidth": 0,
             "ticks": ""
            },
            "colorscale": [
             [
              0,
              "#0d0887"
             ],
             [
              0.1111111111111111,
              "#46039f"
             ],
             [
              0.2222222222222222,
              "#7201a8"
             ],
             [
              0.3333333333333333,
              "#9c179e"
             ],
             [
              0.4444444444444444,
              "#bd3786"
             ],
             [
              0.5555555555555556,
              "#d8576b"
             ],
             [
              0.6666666666666666,
              "#ed7953"
             ],
             [
              0.7777777777777778,
              "#fb9f3a"
             ],
             [
              0.8888888888888888,
              "#fdca26"
             ],
             [
              1,
              "#f0f921"
             ]
            ],
            "type": "histogram2dcontour"
           }
          ],
          "mesh3d": [
           {
            "colorbar": {
             "outlinewidth": 0,
             "ticks": ""
            },
            "type": "mesh3d"
           }
          ],
          "parcoords": [
           {
            "line": {
             "colorbar": {
              "outlinewidth": 0,
              "ticks": ""
             }
            },
            "type": "parcoords"
           }
          ],
          "pie": [
           {
            "automargin": true,
            "type": "pie"
           }
          ],
          "scatter": [
           {
            "fillpattern": {
             "fillmode": "overlay",
             "size": 10,
             "solidity": 0.2
            },
            "type": "scatter"
           }
          ],
          "scatter3d": [
           {
            "line": {
             "colorbar": {
              "outlinewidth": 0,
              "ticks": ""
             }
            },
            "marker": {
             "colorbar": {
              "outlinewidth": 0,
              "ticks": ""
             }
            },
            "type": "scatter3d"
           }
          ],
          "scattercarpet": [
           {
            "marker": {
             "colorbar": {
              "outlinewidth": 0,
              "ticks": ""
             }
            },
            "type": "scattercarpet"
           }
          ],
          "scattergeo": [
           {
            "marker": {
             "colorbar": {
              "outlinewidth": 0,
              "ticks": ""
             }
            },
            "type": "scattergeo"
           }
          ],
          "scattergl": [
           {
            "marker": {
             "colorbar": {
              "outlinewidth": 0,
              "ticks": ""
             }
            },
            "type": "scattergl"
           }
          ],
          "scattermapbox": [
           {
            "marker": {
             "colorbar": {
              "outlinewidth": 0,
              "ticks": ""
             }
            },
            "type": "scattermapbox"
           }
          ],
          "scatterpolar": [
           {
            "marker": {
             "colorbar": {
              "outlinewidth": 0,
              "ticks": ""
             }
            },
            "type": "scatterpolar"
           }
          ],
          "scatterpolargl": [
           {
            "marker": {
             "colorbar": {
              "outlinewidth": 0,
              "ticks": ""
             }
            },
            "type": "scatterpolargl"
           }
          ],
          "scatterternary": [
           {
            "marker": {
             "colorbar": {
              "outlinewidth": 0,
              "ticks": ""
             }
            },
            "type": "scatterternary"
           }
          ],
          "surface": [
           {
            "colorbar": {
             "outlinewidth": 0,
             "ticks": ""
            },
            "colorscale": [
             [
              0,
              "#0d0887"
             ],
             [
              0.1111111111111111,
              "#46039f"
             ],
             [
              0.2222222222222222,
              "#7201a8"
             ],
             [
              0.3333333333333333,
              "#9c179e"
             ],
             [
              0.4444444444444444,
              "#bd3786"
             ],
             [
              0.5555555555555556,
              "#d8576b"
             ],
             [
              0.6666666666666666,
              "#ed7953"
             ],
             [
              0.7777777777777778,
              "#fb9f3a"
             ],
             [
              0.8888888888888888,
              "#fdca26"
             ],
             [
              1,
              "#f0f921"
             ]
            ],
            "type": "surface"
           }
          ],
          "table": [
           {
            "cells": {
             "fill": {
              "color": "#EBF0F8"
             },
             "line": {
              "color": "white"
             }
            },
            "header": {
             "fill": {
              "color": "#C8D4E3"
             },
             "line": {
              "color": "white"
             }
            },
            "type": "table"
           }
          ]
         },
         "layout": {
          "annotationdefaults": {
           "arrowcolor": "#2a3f5f",
           "arrowhead": 0,
           "arrowwidth": 1
          },
          "autotypenumbers": "strict",
          "coloraxis": {
           "colorbar": {
            "outlinewidth": 0,
            "ticks": ""
           }
          },
          "colorscale": {
           "diverging": [
            [
             0,
             "#8e0152"
            ],
            [
             0.1,
             "#c51b7d"
            ],
            [
             0.2,
             "#de77ae"
            ],
            [
             0.3,
             "#f1b6da"
            ],
            [
             0.4,
             "#fde0ef"
            ],
            [
             0.5,
             "#f7f7f7"
            ],
            [
             0.6,
             "#e6f5d0"
            ],
            [
             0.7,
             "#b8e186"
            ],
            [
             0.8,
             "#7fbc41"
            ],
            [
             0.9,
             "#4d9221"
            ],
            [
             1,
             "#276419"
            ]
           ],
           "sequential": [
            [
             0,
             "#0d0887"
            ],
            [
             0.1111111111111111,
             "#46039f"
            ],
            [
             0.2222222222222222,
             "#7201a8"
            ],
            [
             0.3333333333333333,
             "#9c179e"
            ],
            [
             0.4444444444444444,
             "#bd3786"
            ],
            [
             0.5555555555555556,
             "#d8576b"
            ],
            [
             0.6666666666666666,
             "#ed7953"
            ],
            [
             0.7777777777777778,
             "#fb9f3a"
            ],
            [
             0.8888888888888888,
             "#fdca26"
            ],
            [
             1,
             "#f0f921"
            ]
           ],
           "sequentialminus": [
            [
             0,
             "#0d0887"
            ],
            [
             0.1111111111111111,
             "#46039f"
            ],
            [
             0.2222222222222222,
             "#7201a8"
            ],
            [
             0.3333333333333333,
             "#9c179e"
            ],
            [
             0.4444444444444444,
             "#bd3786"
            ],
            [
             0.5555555555555556,
             "#d8576b"
            ],
            [
             0.6666666666666666,
             "#ed7953"
            ],
            [
             0.7777777777777778,
             "#fb9f3a"
            ],
            [
             0.8888888888888888,
             "#fdca26"
            ],
            [
             1,
             "#f0f921"
            ]
           ]
          },
          "colorway": [
           "#636efa",
           "#EF553B",
           "#00cc96",
           "#ab63fa",
           "#FFA15A",
           "#19d3f3",
           "#FF6692",
           "#B6E880",
           "#FF97FF",
           "#FECB52"
          ],
          "font": {
           "color": "#2a3f5f"
          },
          "geo": {
           "bgcolor": "white",
           "lakecolor": "white",
           "landcolor": "#E5ECF6",
           "showlakes": true,
           "showland": true,
           "subunitcolor": "white"
          },
          "hoverlabel": {
           "align": "left"
          },
          "hovermode": "closest",
          "mapbox": {
           "style": "light"
          },
          "paper_bgcolor": "white",
          "plot_bgcolor": "#E5ECF6",
          "polar": {
           "angularaxis": {
            "gridcolor": "white",
            "linecolor": "white",
            "ticks": ""
           },
           "bgcolor": "#E5ECF6",
           "radialaxis": {
            "gridcolor": "white",
            "linecolor": "white",
            "ticks": ""
           }
          },
          "scene": {
           "xaxis": {
            "backgroundcolor": "#E5ECF6",
            "gridcolor": "white",
            "gridwidth": 2,
            "linecolor": "white",
            "showbackground": true,
            "ticks": "",
            "zerolinecolor": "white"
           },
           "yaxis": {
            "backgroundcolor": "#E5ECF6",
            "gridcolor": "white",
            "gridwidth": 2,
            "linecolor": "white",
            "showbackground": true,
            "ticks": "",
            "zerolinecolor": "white"
           },
           "zaxis": {
            "backgroundcolor": "#E5ECF6",
            "gridcolor": "white",
            "gridwidth": 2,
            "linecolor": "white",
            "showbackground": true,
            "ticks": "",
            "zerolinecolor": "white"
           }
          },
          "shapedefaults": {
           "line": {
            "color": "#2a3f5f"
           }
          },
          "ternary": {
           "aaxis": {
            "gridcolor": "white",
            "linecolor": "white",
            "ticks": ""
           },
           "baxis": {
            "gridcolor": "white",
            "linecolor": "white",
            "ticks": ""
           },
           "bgcolor": "#E5ECF6",
           "caxis": {
            "gridcolor": "white",
            "linecolor": "white",
            "ticks": ""
           }
          },
          "title": {
           "x": 0.05
          },
          "xaxis": {
           "automargin": true,
           "gridcolor": "white",
           "linecolor": "white",
           "ticks": "",
           "title": {
            "standoff": 15
           },
           "zerolinecolor": "white",
           "zerolinewidth": 2
          },
          "yaxis": {
           "automargin": true,
           "gridcolor": "white",
           "linecolor": "white",
           "ticks": "",
           "title": {
            "standoff": 15
           },
           "zerolinecolor": "white",
           "zerolinewidth": 2
          }
         }
        },
        "width": 500
       }
      }
     },
     "metadata": {},
     "output_type": "display_data"
    }
   ],
   "source": [
    "# Membuat px pie data menampilkan\n",
    "warehouse = df['Warehouse_block'].value_counts().reset_index()\n",
    "warehouse.columns = ['warehouse', 'value_counts']\n",
    "fig = px.pie(warehouse, names = 'warehouse', values = 'value_counts',\n",
    "             color_discrete_sequence = px.colors.sequential.matter_r,\n",
    "             width = 500, height = 400,\n",
    "             hole = 0.5)\n",
    "fig.update_traces(textinfo = 'percent+label')"
   ]
  },
  {
   "cell_type": "markdown",
   "metadata": {},
   "source": [
    "Dengan informasi ini, Anda dapat melihat dengan jelas distribusi data di kolom 'Warehouse_block' dalam DataFrame Anda. Anda dapat mengetahui blok gudang mana yang paling umum dan mana yang paling jarang muncul dalam data Anda. Hal ini dapat membantu dalam pengambilan keputusan atau analisis lebih lanjut terkait manajemen stok atau penempatan barang di gudang."
   ]
  },
  {
   "cell_type": "code",
   "execution_count": 16,
   "metadata": {},
   "outputs": [
    {
     "data": {
      "image/png": "[encoded data removed]",
      "text/plain": [
       "<Figure size 1000x600 with 1 Axes>"
      ]
     },
     "metadata": {},
     "output_type": "display_data"
    }
   ],
   "source": [
    "# Plot hubungan jenis pengiriman dan Rot\n",
    "plt.figure(figsize = (10, 6))\n",
    "sns.countplot(x='Mode_of_Shipment', hue = 'Rot',\n",
    "              data = df, palette='viridis')\n",
    "plt.show()"
   ]
  },
  {
   "cell_type": "markdown",
   "metadata": {},
   "source": [
    "Analisa mode of shipment menujukan distribusi yaitu :\n",
    "- Ship 67.8% dengan distibusi yang paling tinggi melayani pengantaran barang.\n",
    "- Disusul Flight 16.2% dengan distribusi di bawah ship.\n",
    "- Paling sedikit yaitu Road 16% namun tidak terlalu jauh dengan Flight.\n",
    "\n",
    "Kita lihat Rot berdasarkan mode shipment ternyata semua memiliki pengiriman yang tidak tepat waktu."
   ]
  },
  {
   "cell_type": "code",
   "execution_count": 17,
   "metadata": {},
   "outputs": [
    {
     "data": {
      "application/vnd.plotly.v1+json": {
       "config": {
        "plotlyServerURL": "https://plot.ly"
       },
       "data": [
        {
         "domain": {
          "x": [
           0,
           1
          ],
          "y": [
           0,
           1
          ]
         },
         "hole": 0.5,
         "hovertemplate": "Mode_of_Shipment=%{label}<br>value_counts=%{value}<extra></extra>",
         "labels": [
          "Ship",
          "Flight",
          "Road"
         ],
         "legendgroup": "",
         "name": "",
         "showlegend": true,
         "textinfo": "percent+label",
         "type": "pie",
         "values": [
          7462,
          1777,
          1760
         ]
        }
       ],
       "layout": {
        "height": 400,
        "legend": {
         "tracegroupgap": 0
        },
        "margin": {
         "t": 60
        },
        "piecolorway": [
         "rgb(47, 15, 61)",
         "rgb(76, 21, 80)",
         "rgb(107, 24, 93)",
         "rgb(138, 29, 99)",
         "rgb(168, 40, 96)",
         "rgb(195, 56, 90)",
         "rgb(216, 80, 83)",
         "rgb(231, 109, 84)",
         "rgb(240, 142, 98)",
         "rgb(246, 173, 119)",
         "rgb(250, 205, 145)",
         "rgb(253, 237, 176)"
        ],
        "template": {
         "data": {
          "bar": [
           {
            "error_x": {
             "color": "#2a3f5f"
            },
            "error_y": {
             "color": "#2a3f5f"
            },
            "marker": {
             "line": {
              "color": "#E5ECF6",
              "width": 0.5
             },
             "pattern": {
              "fillmode": "overlay",
              "size": 10,
              "solidity": 0.2
             }
            },
            "type": "bar"
           }
          ],
          "barpolar": [
           {
            "marker": {
             "line": {
              "color": "#E5ECF6",
              "width": 0.5
             },
             "pattern": {
              "fillmode": "overlay",
              "size": 10,
              "solidity": 0.2
             }
            },
            "type": "barpolar"
           }
          ],
          "carpet": [
           {
            "aaxis": {
             "endlinecolor": "#2a3f5f",
             "gridcolor": "white",
             "linecolor": "white",
             "minorgridcolor": "white",
             "startlinecolor": "#2a3f5f"
            },
            "baxis": {
             "endlinecolor": "#2a3f5f",
             "gridcolor": "white",
             "linecolor": "white",
             "minorgridcolor": "white",
             "startlinecolor": "#2a3f5f"
            },
            "type": "carpet"
           }
          ],
          "choropleth": [
           {
            "colorbar": {
             "outlinewidth": 0,
             "ticks": ""
            },
            "type": "choropleth"
           }
          ],
          "contour": [
           {
            "colorbar": {
             "outlinewidth": 0,
             "ticks": ""
            },
            "colorscale": [
             [
              0,
              "#0d0887"
             ],
             [
              0.1111111111111111,
              "#46039f"
             ],
             [
              0.2222222222222222,
              "#7201a8"
             ],
             [
              0.3333333333333333,
              "#9c179e"
             ],
             [
              0.4444444444444444,
              "#bd3786"
             ],
             [
              0.5555555555555556,
              "#d8576b"
             ],
             [
              0.6666666666666666,
              "#ed7953"
             ],
             [
              0.7777777777777778,
              "#fb9f3a"
             ],
             [
              0.8888888888888888,
              "#fdca26"
             ],
             [
              1,
              "#f0f921"
             ]
            ],
            "type": "contour"
           }
          ],
          "contourcarpet": [
           {
            "colorbar": {
             "outlinewidth": 0,
             "ticks": ""
            },
            "type": "contourcarpet"
           }
          ],
          "heatmap": [
           {
            "colorbar": {
             "outlinewidth": 0,
             "ticks": ""
            },
            "colorscale": [
             [
              0,
              "#0d0887"
             ],
             [
              0.1111111111111111,
              "#46039f"
             ],
             [
              0.2222222222222222,
              "#7201a8"
             ],
             [
              0.3333333333333333,
              "#9c179e"
             ],
             [
              0.4444444444444444,
              "#bd3786"
             ],
             [
              0.5555555555555556,
              "#d8576b"
             ],
             [
              0.6666666666666666,
              "#ed7953"
             ],
             [
              0.7777777777777778,
              "#fb9f3a"
             ],
             [
              0.8888888888888888,
              "#fdca26"
             ],
             [
              1,
              "#f0f921"
             ]
            ],
            "type": "heatmap"
           }
          ],
          "heatmapgl": [
           {
            "colorbar": {
             "outlinewidth": 0,
             "ticks": ""
            },
            "colorscale": [
             [
              0,
              "#0d0887"
             ],
             [
              0.1111111111111111,
              "#46039f"
             ],
             [
              0.2222222222222222,
              "#7201a8"
             ],
             [
              0.3333333333333333,
              "#9c179e"
             ],
             [
              0.4444444444444444,
              "#bd3786"
             ],
             [
              0.5555555555555556,
              "#d8576b"
             ],
             [
              0.6666666666666666,
              "#ed7953"
             ],
             [
              0.7777777777777778,
              "#fb9f3a"
             ],
             [
              0.8888888888888888,
              "#fdca26"
             ],
             [
              1,
              "#f0f921"
             ]
            ],
            "type": "heatmapgl"
           }
          ],
          "histogram": [
           {
            "marker": {
             "pattern": {
              "fillmode": "overlay",
              "size": 10,
              "solidity": 0.2
             }
            },
            "type": "histogram"
           }
          ],
          "histogram2d": [
           {
            "colorbar": {
             "outlinewidth": 0,
             "ticks": ""
            },
            "colorscale": [
             [
              0,
              "#0d0887"
             ],
             [
              0.1111111111111111,
              "#46039f"
             ],
             [
              0.2222222222222222,
              "#7201a8"
             ],
             [
              0.3333333333333333,
              "#9c179e"
             ],
             [
              0.4444444444444444,
              "#bd3786"
             ],
             [
              0.5555555555555556,
              "#d8576b"
             ],
             [
              0.6666666666666666,
              "#ed7953"
             ],
             [
              0.7777777777777778,
              "#fb9f3a"
             ],
             [
              0.8888888888888888,
              "#fdca26"
             ],
             [
              1,
              "#f0f921"
             ]
            ],
            "type": "histogram2d"
           }
          ],
          "histogram2dcontour": [
           {
            "colorbar": {
             "outlinewidth": 0,
             "ticks": ""
            },
            "colorscale": [
             [
              0,
              "#0d0887"
             ],
             [
              0.1111111111111111,
              "#46039f"
             ],
             [
              0.2222222222222222,
              "#7201a8"
             ],
             [
              0.3333333333333333,
              "#9c179e"
             ],
             [
              0.4444444444444444,
              "#bd3786"
             ],
             [
              0.5555555555555556,
              "#d8576b"
             ],
             [
              0.6666666666666666,
              "#ed7953"
             ],
             [
              0.7777777777777778,
              "#fb9f3a"
             ],
             [
              0.8888888888888888,
              "#fdca26"
             ],
             [
              1,
              "#f0f921"
             ]
            ],
            "type": "histogram2dcontour"
           }
          ],
          "mesh3d": [
           {
            "colorbar": {
             "outlinewidth": 0,
             "ticks": ""
            },
            "type": "mesh3d"
           }
          ],
          "parcoords": [
           {
            "line": {
             "colorbar": {
              "outlinewidth": 0,
              "ticks": ""
             }
            },
            "type": "parcoords"
           }
          ],
          "pie": [
           {
            "automargin": true,
            "type": "pie"
           }
          ],
          "scatter": [
           {
            "fillpattern": {
             "fillmode": "overlay",
             "size": 10,
             "solidity": 0.2
            },
            "type": "scatter"
           }
          ],
          "scatter3d": [
           {
            "line": {
             "colorbar": {
              "outlinewidth": 0,
              "ticks": ""
             }
            },
            "marker": {
             "colorbar": {
              "outlinewidth": 0,
              "ticks": ""
             }
            },
            "type": "scatter3d"
           }
          ],
          "scattercarpet": [
           {
            "marker": {
             "colorbar": {
              "outlinewidth": 0,
              "ticks": ""
             }
            },
            "type": "scattercarpet"
           }
          ],
          "scattergeo": [
           {
            "marker": {
             "colorbar": {
              "outlinewidth": 0,
              "ticks": ""
             }
            },
            "type": "scattergeo"
           }
          ],
          "scattergl": [
           {
            "marker": {
             "colorbar": {
              "outlinewidth": 0,
              "ticks": ""
             }
            },
            "type": "scattergl"
           }
          ],
          "scattermapbox": [
           {
            "marker": {
             "colorbar": {
              "outlinewidth": 0,
              "ticks": ""
             }
            },
            "type": "scattermapbox"
           }
          ],
          "scatterpolar": [
           {
            "marker": {
             "colorbar": {
              "outlinewidth": 0,
              "ticks": ""
             }
            },
            "type": "scatterpolar"
           }
          ],
          "scatterpolargl": [
           {
            "marker": {
             "colorbar": {
              "outlinewidth": 0,
              "ticks": ""
             }
            },
            "type": "scatterpolargl"
           }
          ],
          "scatterternary": [
           {
            "marker": {
             "colorbar": {
              "outlinewidth": 0,
              "ticks": ""
             }
            },
            "type": "scatterternary"
           }
          ],
          "surface": [
           {
            "colorbar": {
             "outlinewidth": 0,
             "ticks": ""
            },
            "colorscale": [
             [
              0,
              "#0d0887"
             ],
             [
              0.1111111111111111,
              "#46039f"
             ],
             [
              0.2222222222222222,
              "#7201a8"
             ],
             [
              0.3333333333333333,
              "#9c179e"
             ],
             [
              0.4444444444444444,
              "#bd3786"
             ],
             [
              0.5555555555555556,
              "#d8576b"
             ],
             [
              0.6666666666666666,
              "#ed7953"
             ],
             [
              0.7777777777777778,
              "#fb9f3a"
             ],
             [
              0.8888888888888888,
              "#fdca26"
             ],
             [
              1,
              "#f0f921"
             ]
            ],
            "type": "surface"
           }
          ],
          "table": [
           {
            "cells": {
             "fill": {
              "color": "#EBF0F8"
             },
             "line": {
              "color": "white"
             }
            },
            "header": {
             "fill": {
              "color": "#C8D4E3"
             },
             "line": {
              "color": "white"
             }
            },
            "type": "table"
           }
          ]
         },
         "layout": {
          "annotationdefaults": {
           "arrowcolor": "#2a3f5f",
           "arrowhead": 0,
           "arrowwidth": 1
          },
          "autotypenumbers": "strict",
          "coloraxis": {
           "colorbar": {
            "outlinewidth": 0,
            "ticks": ""
           }
          },
          "colorscale": {
           "diverging": [
            [
             0,
             "#8e0152"
            ],
            [
             0.1,
             "#c51b7d"
            ],
            [
             0.2,
             "#de77ae"
            ],
            [
             0.3,
             "#f1b6da"
            ],
            [
             0.4,
             "#fde0ef"
            ],
            [
             0.5,
             "#f7f7f7"
            ],
            [
             0.6,
             "#e6f5d0"
            ],
            [
             0.7,
             "#b8e186"
            ],
            [
             0.8,
             "#7fbc41"
            ],
            [
             0.9,
             "#4d9221"
            ],
            [
             1,
             "#276419"
            ]
           ],
           "sequential": [
            [
             0,
             "#0d0887"
            ],
            [
             0.1111111111111111,
             "#46039f"
            ],
            [
             0.2222222222222222,
             "#7201a8"
            ],
            [
             0.3333333333333333,
             "#9c179e"
            ],
            [
             0.4444444444444444,
             "#bd3786"
            ],
            [
             0.5555555555555556,
             "#d8576b"
            ],
            [
             0.6666666666666666,
             "#ed7953"
            ],
            [
             0.7777777777777778,
             "#fb9f3a"
            ],
            [
             0.8888888888888888,
             "#fdca26"
            ],
            [
             1,
             "#f0f921"
            ]
           ],
           "sequentialminus": [
            [
             0,
             "#0d0887"
            ],
            [
             0.1111111111111111,
             "#46039f"
            ],
            [
             0.2222222222222222,
             "#7201a8"
            ],
            [
             0.3333333333333333,
             "#9c179e"
            ],
            [
             0.4444444444444444,
             "#bd3786"
            ],
            [
             0.5555555555555556,
             "#d8576b"
            ],
            [
             0.6666666666666666,
             "#ed7953"
            ],
            [
             0.7777777777777778,
             "#fb9f3a"
            ],
            [
             0.8888888888888888,
             "#fdca26"
            ],
            [
             1,
             "#f0f921"
            ]
           ]
          },
          "colorway": [
           "#636efa",
           "#EF553B",
           "#00cc96",
           "#ab63fa",
           "#FFA15A",
           "#19d3f3",
           "#FF6692",
           "#B6E880",
           "#FF97FF",
           "#FECB52"
          ],
          "font": {
           "color": "#2a3f5f"
          },
          "geo": {
           "bgcolor": "white",
           "lakecolor": "white",
           "landcolor": "#E5ECF6",
           "showlakes": true,
           "showland": true,
           "subunitcolor": "white"
          },
          "hoverlabel": {
           "align": "left"
          },
          "hovermode": "closest",
          "mapbox": {
           "style": "light"
          },
          "paper_bgcolor": "white",
          "plot_bgcolor": "#E5ECF6",
          "polar": {
           "angularaxis": {
            "gridcolor": "white",
            "linecolor": "white",
            "ticks": ""
           },
           "bgcolor": "#E5ECF6",
           "radialaxis": {
            "gridcolor": "white",
            "linecolor": "white",
            "ticks": ""
           }
          },
          "scene": {
           "xaxis": {
            "backgroundcolor": "#E5ECF6",
            "gridcolor": "white",
            "gridwidth": 2,
            "linecolor": "white",
            "showbackground": true,
            "ticks": "",
            "zerolinecolor": "white"
           },
           "yaxis": {
            "backgroundcolor": "#E5ECF6",
            "gridcolor": "white",
            "gridwidth": 2,
            "linecolor": "white",
            "showbackground": true,
            "ticks": "",
            "zerolinecolor": "white"
           },
           "zaxis": {
            "backgroundcolor": "#E5ECF6",
            "gridcolor": "white",
            "gridwidth": 2,
            "linecolor": "white",
            "showbackground": true,
            "ticks": "",
            "zerolinecolor": "white"
           }
          },
          "shapedefaults": {
           "line": {
            "color": "#2a3f5f"
           }
          },
          "ternary": {
           "aaxis": {
            "gridcolor": "white",
            "linecolor": "white",
            "ticks": ""
           },
           "baxis": {
            "gridcolor": "white",
            "linecolor": "white",
            "ticks": ""
           },
           "bgcolor": "#E5ECF6",
           "caxis": {
            "gridcolor": "white",
            "linecolor": "white",
            "ticks": ""
           }
          },
          "title": {
           "x": 0.05
          },
          "xaxis": {
           "automargin": true,
           "gridcolor": "white",
           "linecolor": "white",
           "ticks": "",
           "title": {
            "standoff": 15
           },
           "zerolinecolor": "white",
           "zerolinewidth": 2
          },
          "yaxis": {
           "automargin": true,
           "gridcolor": "white",
           "linecolor": "white",
           "ticks": "",
           "title": {
            "standoff": 15
           },
           "zerolinecolor": "white",
           "zerolinewidth": 2
          }
         }
        },
        "width": 500
       }
      }
     },
     "metadata": {},
     "output_type": "display_data"
    }
   ],
   "source": [
    "# Pie jenis pengiriman\n",
    "Mode_of_Shipment = df['Mode_of_Shipment'].value_counts().reset_index()\n",
    "Mode_of_Shipment.columns = ['Mode_of_Shipment', 'value_counts']\n",
    "fig = px.pie(Mode_of_Shipment, names = 'Mode_of_Shipment', values = 'value_counts',\n",
    "             color_discrete_sequence = px.colors.sequential.matter_r,\n",
    "             width = 500, height = 400,hole = 0.5)\n",
    "fig.update_traces(textinfo = 'percent+label')"
   ]
  },
  {
   "cell_type": "markdown",
   "metadata": {},
   "source": [
    "Distribusi Mode Pengiriman: Grafik pie ini memberikan gambaran visual tentang seberapa sering masing-masing jenis pengiriman digunakan dalam data Anda. Setiap sektor dalam grafik pie mewakili salah satu jenis pengiriman (misalnya, Ship, Flight, Road, Courrier, dan lain-lain)."
   ]
  },
  {
   "cell_type": "code",
   "execution_count": 18,
   "metadata": {},
   "outputs": [
    {
     "data": {
      "image/png": "[encoded data removed]",
      "text/plain": [
       "<Figure size 640x480 with 1 Axes>"
      ]
     },
     "metadata": {},
     "output_type": "display_data"
    }
   ],
   "source": [
    "Product_importance = df[\"Product_importance\"].value_counts()\n",
    "explode = (0.1, 0, 0)\n",
    "fig , ax = plt.subplots()\n",
    "ax.pie(Product_importance,labels=Product_importance.index,explode=explode,autopct='%1.1f%%',shadow=True, startangle=90)\n",
    "ax.set(aspect=\"equal\", title='Product_importance')\n",
    "fig.show()"
   ]
  },
  {
   "cell_type": "markdown",
   "metadata": {},
   "source": [
    "Distribusi Tingkat Penting Produk (Product Importance): Grafik pie ini memberikan gambaran visual tentang seberapa sering masing-masing tingkat penting produk muncul dalam data Anda. Setiap sektor dalam grafik pie mewakili salah satu tingkat penting (misalnya, tinggi, sedang, atau rendah)."
   ]
  },
  {
   "cell_type": "code",
   "execution_count": 19,
   "metadata": {},
   "outputs": [
    {
     "data": {
      "image/png": "[encoded data removed]",
      "text/plain": [
       "<Figure size 1000x600 with 1 Axes>"
      ]
     },
     "metadata": {},
     "output_type": "display_data"
    }
   ],
   "source": [
    "# Membuat Plot Rot\n",
    "plt.figure(figsize = (10, 6))\n",
    "sns.countplot(x='Product_importance', hue = 'Rot',\n",
    "              data = df, palette='viridis')\n",
    "# Menampilkan plot\n",
    "plt.show()"
   ]
  },
  {
   "cell_type": "markdown",
   "metadata": {},
   "source": [
    "Distibusi product importance :\n",
    "- Low memiliki distribusi 48.2% yang mengartikan banyak barang yang tingkatan low dengan barang-barang yang ekonomis untuk dikirim.\n",
    "- Medium distribusi 43.2% hasilnya lebih rendah dari product low.\n",
    "- High dengan distribusi yang paling sedikit 8.6%.\n",
    "\n",
    "Dalam ketepatan waktu memiliki masalah yang sama yaitu pengiriman tidak tepat waktu,Grafik ini dapat membantu dalam memahami hubungan antara tingkat penting produk dan kondisi rotasi, dan ini bisa digunakan dalam perencanaan dan manajemen stok, khususnya terkait rotasi produk dalam gudang atau toko.\n"
   ]
  },
  {
   "cell_type": "code",
   "execution_count": 20,
   "metadata": {},
   "outputs": [
    {
     "data": {
      "image/png": "[encoded data removed]",
      "text/plain": [
       "<Figure size 553.861x400 with 1 Axes>"
      ]
     },
     "metadata": {},
     "output_type": "display_data"
    }
   ],
   "source": [
    "# Definisi Rot dengan fitur yang diinginkan\n",
    "Rot = df.groupby(['Rot', 'Customer_care_calls']).size().reset_index(name='count')\n",
    "# Membuat diagram batang (bar chart)\n",
    "g = sns.catplot(\n",
    "    data=Rot, kind='bar',\n",
    "    x='Rot', y='count', hue='Customer_care_calls',\n",
    "    palette='viridis', height=4\n",
    ")\n",
    "\n",
    "# Menampilkan plot\n",
    "plt.show()"
   ]
  },
  {
   "cell_type": "markdown",
   "metadata": {},
   "source": [
    "Barchart diatas kita mendapat informasi customer yang sering menanyakan terkait pengiriman adalah yang barangnya tidak tepat waktu,Pengaruh Jumlah Panggilan Layanan Pelanggan: Grafik ini juga membagi data berdasarkan jumlah panggilan layanan pelanggan ke dalam berbagai kategori yang ditunjukkan oleh warna (hue). Ini memungkinkan Anda untuk memahami bagaimana jumlah panggilan layanan pelanggan berkaitan dengan kondisi rotasi produk."
   ]
  },
  {
   "cell_type": "code",
   "execution_count": 21,
   "metadata": {},
   "outputs": [
    {
     "data": {
      "text/plain": [
       "<Axes: >"
      ]
     },
     "execution_count": 21,
     "metadata": {},
     "output_type": "execute_result"
    },
    {
     "data": {
      "image/png": "[encoded data removed]",
      "text/plain": [
       "<Figure size 1000x1000 with 2 Axes>"
      ]
     },
     "metadata": {},
     "output_type": "display_data"
    }
   ],
   "source": [
    "# Menampilkan heatmap kolerasi\n",
    "plt.figure(figsize=(10,10))\n",
    "sns.heatmap(df.corr(),annot=True)"
   ]
  },
  {
   "cell_type": "markdown",
   "metadata": {},
   "source": [
    "Dalam heatmap korelasi, kami menemukan bahwa beberapa fitur tidak memiliki korelasi yang signifikan, tetapi kami akan tetap mempertahankan fitur-fitur ini dan melanjutkannya ke tahap berikutnya. Sebaliknya, beberapa fitur yang memiliki korelasi rendah sedang dipertimbangkan untuk dihapus dalam proses selanjutnya."
   ]
  },
  {
   "cell_type": "code",
   "execution_count": 22,
   "metadata": {},
   "outputs": [
    {
     "name": "stdout",
     "output_type": "stream",
     "text": [
      "Number of categories in the variable Warehouse_block     : 5\n",
      "Number of categories in the variable Mode_of_Shipment    : 3\n",
      "Number of categories in the variable Product_importance  : 3\n",
      "Number of categories in the variable Gender              : 2\n"
     ]
    }
   ],
   "source": [
    "# count unique columns\n",
    "print('Number of categories in the variable Warehouse_block     : {}'.format(len(df.Warehouse_block.unique())))\n",
    "print('Number of categories in the variable Mode_of_Shipment    : {}'.format(len(df.Mode_of_Shipment.unique())))\n",
    "print('Number of categories in the variable Product_importance  : {}'.format(len(df.Product_importance.unique())))\n",
    "print('Number of categories in the variable Gender              : {}'.format(len(df.Gender.unique())))"
   ]
  },
  {
   "cell_type": "markdown",
   "metadata": {},
   "source": [
    "Setelah pemeriksaan, kami menemukan bahwa data cardinality dan unik tidak mencakup sejumlah besar data yang signifikan. Oleh karena itu, kami memutuskan untuk tidak mengurangi cardinality data."
   ]
  },
  {
   "cell_type": "markdown",
   "metadata": {},
   "source": [
    "# 5.Feature Engineering\n",
    "\n",
    "Bagian ini berisi proses penyiapan data, seperti pembagian data menjadi train-test, transformasi data (normalisasi, encoding, drop data dll.) untuk membantu proses pelatihan model."
   ]
  },
  {
   "cell_type": "markdown",
   "metadata": {},
   "source": [
    "**Sample Data**"
   ]
  },
  {
   "cell_type": "code",
   "execution_count": 23,
   "metadata": {},
   "outputs": [],
   "source": [
    "# store 1 random data from the original data to be used as data inference into the data_inf variable\n",
    "data_inf = df.sample(2, random_state=72)\n",
    "\n",
    "# remove data inference from df\n",
    "df.drop(data_inf.index, inplace=True)\n",
    "\n",
    "# reset indexes for data_inf and df\n",
    "df.reset_index(drop=True, inplace=True)\n",
    "data_inf.reset_index(drop=True, inplace=True)\n",
    "\n",
    "# Menghapus kolom 'Rot' dari DataFrame data_inf\n",
    "data_inf.drop(columns=['Rot'], inplace=True)\n",
    "\n",
    "data_inf.to_csv('data_inf.csv',index=False)"
   ]
  },
  {
   "cell_type": "markdown",
   "metadata": {},
   "source": [
    "Mengambil sample data untuk di test pada data inference."
   ]
  },
  {
   "cell_type": "markdown",
   "metadata": {},
   "source": [
    "**Split Data**"
   ]
  },
  {
   "cell_type": "code",
   "execution_count": 24,
   "metadata": {},
   "outputs": [
    {
     "data": {
      "text/html": [
       "<div>\n",
       "<style scoped>\n",
       "    .dataframe tbody tr th:only-of-type {\n",
       "        vertical-align: middle;\n",
       "    }\n",
       "\n",
       "    .dataframe tbody tr th {\n",
       "        vertical-align: top;\n",
       "    }\n",
       "\n",
       "    .dataframe thead th {\n",
       "        text-align: right;\n",
       "    }\n",
       "</style>\n",
       "<table border=\"1\" class=\"dataframe\">\n",
       "  <thead>\n",
       "    <tr style=\"text-align: right;\">\n",
       "      <th></th>\n",
       "      <th>ID</th>\n",
       "      <th>Warehouse_block</th>\n",
       "      <th>Mode_of_Shipment</th>\n",
       "      <th>Customer_care_calls</th>\n",
       "      <th>Customer_rating</th>\n",
       "      <th>Cost_of_the_Product</th>\n",
       "      <th>Prior_purchases</th>\n",
       "      <th>Product_importance</th>\n",
       "      <th>Gender</th>\n",
       "      <th>Discount_offered</th>\n",
       "      <th>Weight_in_gms</th>\n",
       "      <th>Rot</th>\n",
       "    </tr>\n",
       "  </thead>\n",
       "  <tbody>\n",
       "    <tr>\n",
       "      <th>0</th>\n",
       "      <td>1</td>\n",
       "      <td>D</td>\n",
       "      <td>Flight</td>\n",
       "      <td>4</td>\n",
       "      <td>2</td>\n",
       "      <td>177</td>\n",
       "      <td>3</td>\n",
       "      <td>low</td>\n",
       "      <td>F</td>\n",
       "      <td>44</td>\n",
       "      <td>1233</td>\n",
       "      <td>1</td>\n",
       "    </tr>\n",
       "    <tr>\n",
       "      <th>1</th>\n",
       "      <td>2</td>\n",
       "      <td>F</td>\n",
       "      <td>Flight</td>\n",
       "      <td>4</td>\n",
       "      <td>5</td>\n",
       "      <td>216</td>\n",
       "      <td>2</td>\n",
       "      <td>low</td>\n",
       "      <td>M</td>\n",
       "      <td>59</td>\n",
       "      <td>3088</td>\n",
       "      <td>1</td>\n",
       "    </tr>\n",
       "    <tr>\n",
       "      <th>2</th>\n",
       "      <td>3</td>\n",
       "      <td>A</td>\n",
       "      <td>Flight</td>\n",
       "      <td>2</td>\n",
       "      <td>2</td>\n",
       "      <td>183</td>\n",
       "      <td>4</td>\n",
       "      <td>low</td>\n",
       "      <td>M</td>\n",
       "      <td>48</td>\n",
       "      <td>3374</td>\n",
       "      <td>1</td>\n",
       "    </tr>\n",
       "    <tr>\n",
       "      <th>3</th>\n",
       "      <td>4</td>\n",
       "      <td>B</td>\n",
       "      <td>Flight</td>\n",
       "      <td>3</td>\n",
       "      <td>3</td>\n",
       "      <td>176</td>\n",
       "      <td>4</td>\n",
       "      <td>medium</td>\n",
       "      <td>M</td>\n",
       "      <td>10</td>\n",
       "      <td>1177</td>\n",
       "      <td>1</td>\n",
       "    </tr>\n",
       "    <tr>\n",
       "      <th>4</th>\n",
       "      <td>5</td>\n",
       "      <td>C</td>\n",
       "      <td>Flight</td>\n",
       "      <td>2</td>\n",
       "      <td>2</td>\n",
       "      <td>184</td>\n",
       "      <td>3</td>\n",
       "      <td>medium</td>\n",
       "      <td>F</td>\n",
       "      <td>46</td>\n",
       "      <td>2484</td>\n",
       "      <td>1</td>\n",
       "    </tr>\n",
       "    <tr>\n",
       "      <th>...</th>\n",
       "      <td>...</td>\n",
       "      <td>...</td>\n",
       "      <td>...</td>\n",
       "      <td>...</td>\n",
       "      <td>...</td>\n",
       "      <td>...</td>\n",
       "      <td>...</td>\n",
       "      <td>...</td>\n",
       "      <td>...</td>\n",
       "      <td>...</td>\n",
       "      <td>...</td>\n",
       "      <td>...</td>\n",
       "    </tr>\n",
       "    <tr>\n",
       "      <th>10992</th>\n",
       "      <td>10995</td>\n",
       "      <td>A</td>\n",
       "      <td>Ship</td>\n",
       "      <td>4</td>\n",
       "      <td>1</td>\n",
       "      <td>252</td>\n",
       "      <td>5</td>\n",
       "      <td>medium</td>\n",
       "      <td>F</td>\n",
       "      <td>1</td>\n",
       "      <td>1538</td>\n",
       "      <td>1</td>\n",
       "    </tr>\n",
       "    <tr>\n",
       "      <th>10993</th>\n",
       "      <td>10996</td>\n",
       "      <td>B</td>\n",
       "      <td>Ship</td>\n",
       "      <td>4</td>\n",
       "      <td>1</td>\n",
       "      <td>232</td>\n",
       "      <td>5</td>\n",
       "      <td>medium</td>\n",
       "      <td>F</td>\n",
       "      <td>6</td>\n",
       "      <td>1247</td>\n",
       "      <td>0</td>\n",
       "    </tr>\n",
       "    <tr>\n",
       "      <th>10994</th>\n",
       "      <td>10997</td>\n",
       "      <td>C</td>\n",
       "      <td>Ship</td>\n",
       "      <td>5</td>\n",
       "      <td>4</td>\n",
       "      <td>242</td>\n",
       "      <td>5</td>\n",
       "      <td>low</td>\n",
       "      <td>F</td>\n",
       "      <td>4</td>\n",
       "      <td>1155</td>\n",
       "      <td>0</td>\n",
       "    </tr>\n",
       "    <tr>\n",
       "      <th>10995</th>\n",
       "      <td>10998</td>\n",
       "      <td>F</td>\n",
       "      <td>Ship</td>\n",
       "      <td>5</td>\n",
       "      <td>2</td>\n",
       "      <td>223</td>\n",
       "      <td>6</td>\n",
       "      <td>medium</td>\n",
       "      <td>M</td>\n",
       "      <td>2</td>\n",
       "      <td>1210</td>\n",
       "      <td>0</td>\n",
       "    </tr>\n",
       "    <tr>\n",
       "      <th>10996</th>\n",
       "      <td>10999</td>\n",
       "      <td>D</td>\n",
       "      <td>Ship</td>\n",
       "      <td>2</td>\n",
       "      <td>5</td>\n",
       "      <td>155</td>\n",
       "      <td>5</td>\n",
       "      <td>low</td>\n",
       "      <td>F</td>\n",
       "      <td>6</td>\n",
       "      <td>1639</td>\n",
       "      <td>0</td>\n",
       "    </tr>\n",
       "  </tbody>\n",
       "</table>\n",
       "<p>10997 rows × 12 columns</p>\n",
       "</div>"
      ],
      "text/plain": [
       "          ID Warehouse_block Mode_of_Shipment  Customer_care_calls  \\\n",
       "0          1               D           Flight                    4   \n",
       "1          2               F           Flight                    4   \n",
       "2          3               A           Flight                    2   \n",
       "3          4               B           Flight                    3   \n",
       "4          5               C           Flight                    2   \n",
       "...      ...             ...              ...                  ...   \n",
       "10992  10995               A             Ship                    4   \n",
       "10993  10996               B             Ship                    4   \n",
       "10994  10997               C             Ship                    5   \n",
       "10995  10998               F             Ship                    5   \n",
       "10996  10999               D             Ship                    2   \n",
       "\n",
       "       Customer_rating  Cost_of_the_Product  Prior_purchases  \\\n",
       "0                    2                  177                3   \n",
       "1                    5                  216                2   \n",
       "2                    2                  183                4   \n",
       "3                    3                  176                4   \n",
       "4                    2                  184                3   \n",
       "...                ...                  ...              ...   \n",
       "10992                1                  252                5   \n",
       "10993                1                  232                5   \n",
       "10994                4                  242                5   \n",
       "10995                2                  223                6   \n",
       "10996                5                  155                5   \n",
       "\n",
       "      Product_importance Gender  Discount_offered  Weight_in_gms  Rot  \n",
       "0                    low      F                44           1233    1  \n",
       "1                    low      M                59           3088    1  \n",
       "2                    low      M                48           3374    1  \n",
       "3                 medium      M                10           1177    1  \n",
       "4                 medium      F                46           2484    1  \n",
       "...                  ...    ...               ...            ...  ...  \n",
       "10992             medium      F                 1           1538    1  \n",
       "10993             medium      F                 6           1247    0  \n",
       "10994                low      F                 4           1155    0  \n",
       "10995             medium      M                 2           1210    0  \n",
       "10996                low      F                 6           1639    0  \n",
       "\n",
       "[10997 rows x 12 columns]"
      ]
     },
     "execution_count": 24,
     "metadata": {},
     "output_type": "execute_result"
    }
   ],
   "source": [
    "df"
   ]
  },
  {
   "cell_type": "code",
   "execution_count": 25,
   "metadata": {},
   "outputs": [
    {
     "data": {
      "text/plain": [
       "(10997, 11)"
      ]
     },
     "execution_count": 25,
     "metadata": {},
     "output_type": "execute_result"
    }
   ],
   "source": [
    "# Split X and y\n",
    "X = df.drop('Rot',axis=1)\n",
    "y = df.Rot\n",
    "X.shape"
   ]
  },
  {
   "cell_type": "markdown",
   "metadata": {},
   "source": [
    "Memisahkan Target dengan di split yaitu :\n",
    "\n",
    "- Fitur Independent di simpan di X.\n",
    "- Sedangkan dependent di simpan y."
   ]
  },
  {
   "cell_type": "code",
   "execution_count": 26,
   "metadata": {},
   "outputs": [
    {
     "name": "stdout",
     "output_type": "stream",
     "text": [
      "Train size : (8797, 11)\n",
      "Test size  : (2200, 11)\n"
     ]
    },
    {
     "data": {
      "text/html": [
       "<div>\n",
       "<style scoped>\n",
       "    .dataframe tbody tr th:only-of-type {\n",
       "        vertical-align: middle;\n",
       "    }\n",
       "\n",
       "    .dataframe tbody tr th {\n",
       "        vertical-align: top;\n",
       "    }\n",
       "\n",
       "    .dataframe thead th {\n",
       "        text-align: right;\n",
       "    }\n",
       "</style>\n",
       "<table border=\"1\" class=\"dataframe\">\n",
       "  <thead>\n",
       "    <tr style=\"text-align: right;\">\n",
       "      <th></th>\n",
       "      <th>ID</th>\n",
       "      <th>Warehouse_block</th>\n",
       "      <th>Mode_of_Shipment</th>\n",
       "      <th>Customer_care_calls</th>\n",
       "      <th>Customer_rating</th>\n",
       "      <th>Cost_of_the_Product</th>\n",
       "      <th>Prior_purchases</th>\n",
       "      <th>Product_importance</th>\n",
       "      <th>Gender</th>\n",
       "      <th>Discount_offered</th>\n",
       "      <th>Weight_in_gms</th>\n",
       "    </tr>\n",
       "  </thead>\n",
       "  <tbody>\n",
       "    <tr>\n",
       "      <th>2775</th>\n",
       "      <td>2776</td>\n",
       "      <td>B</td>\n",
       "      <td>Ship</td>\n",
       "      <td>4</td>\n",
       "      <td>1</td>\n",
       "      <td>178</td>\n",
       "      <td>3</td>\n",
       "      <td>low</td>\n",
       "      <td>M</td>\n",
       "      <td>19</td>\n",
       "      <td>1906</td>\n",
       "    </tr>\n",
       "    <tr>\n",
       "      <th>2184</th>\n",
       "      <td>2185</td>\n",
       "      <td>D</td>\n",
       "      <td>Road</td>\n",
       "      <td>3</td>\n",
       "      <td>2</td>\n",
       "      <td>204</td>\n",
       "      <td>2</td>\n",
       "      <td>medium</td>\n",
       "      <td>F</td>\n",
       "      <td>35</td>\n",
       "      <td>2090</td>\n",
       "    </tr>\n",
       "    <tr>\n",
       "      <th>5323</th>\n",
       "      <td>5325</td>\n",
       "      <td>A</td>\n",
       "      <td>Road</td>\n",
       "      <td>4</td>\n",
       "      <td>3</td>\n",
       "      <td>175</td>\n",
       "      <td>3</td>\n",
       "      <td>medium</td>\n",
       "      <td>F</td>\n",
       "      <td>4</td>\n",
       "      <td>5784</td>\n",
       "    </tr>\n",
       "    <tr>\n",
       "      <th>9664</th>\n",
       "      <td>9667</td>\n",
       "      <td>D</td>\n",
       "      <td>Ship</td>\n",
       "      <td>7</td>\n",
       "      <td>5</td>\n",
       "      <td>256</td>\n",
       "      <td>4</td>\n",
       "      <td>medium</td>\n",
       "      <td>F</td>\n",
       "      <td>2</td>\n",
       "      <td>1396</td>\n",
       "    </tr>\n",
       "    <tr>\n",
       "      <th>4235</th>\n",
       "      <td>4237</td>\n",
       "      <td>D</td>\n",
       "      <td>Road</td>\n",
       "      <td>3</td>\n",
       "      <td>4</td>\n",
       "      <td>247</td>\n",
       "      <td>2</td>\n",
       "      <td>medium</td>\n",
       "      <td>F</td>\n",
       "      <td>2</td>\n",
       "      <td>5016</td>\n",
       "    </tr>\n",
       "  </tbody>\n",
       "</table>\n",
       "</div>"
      ],
      "text/plain": [
       "        ID Warehouse_block Mode_of_Shipment  Customer_care_calls  \\\n",
       "2775  2776               B             Ship                    4   \n",
       "2184  2185               D             Road                    3   \n",
       "5323  5325               A             Road                    4   \n",
       "9664  9667               D             Ship                    7   \n",
       "4235  4237               D             Road                    3   \n",
       "\n",
       "      Customer_rating  Cost_of_the_Product  Prior_purchases  \\\n",
       "2775                1                  178                3   \n",
       "2184                2                  204                2   \n",
       "5323                3                  175                3   \n",
       "9664                5                  256                4   \n",
       "4235                4                  247                2   \n",
       "\n",
       "     Product_importance Gender  Discount_offered  Weight_in_gms  \n",
       "2775                low      M                19           1906  \n",
       "2184             medium      F                35           2090  \n",
       "5323             medium      F                 4           5784  \n",
       "9664             medium      F                 2           1396  \n",
       "4235             medium      F                 2           5016  "
      ]
     },
     "execution_count": 26,
     "metadata": {},
     "output_type": "execute_result"
    }
   ],
   "source": [
    "# Mengunakan Split train_test_split\n",
    "X_train, X_test, y_train, y_test = train_test_split(X, y, test_size = 0.2, random_state=2)\n",
    "\n",
    "print('Train size :', X_train.shape)\n",
    "print('Test size  :', X_test.shape)\n",
    "X_train.head()"
   ]
  },
  {
   "cell_type": "markdown",
   "metadata": {},
   "source": [
    "Setalah kita melakukan split X dan y, selanjutnya split independent dan dependent menjadi data train dan test."
   ]
  },
  {
   "cell_type": "code",
   "execution_count": 27,
   "metadata": {},
   "outputs": [
    {
     "name": "stdout",
     "output_type": "stream",
     "text": [
      "Shape X_train (8797, 9)\n",
      "Shape X_test (2200, 9)\n"
     ]
    }
   ],
   "source": [
    "# Drop kolom\n",
    "X_train = X_train.drop(['ID','Gender'],axis=1)\n",
    "X_test  = X_test.drop(['ID','Gender'],axis=1)\n",
    "\n",
    "# check kolom\n",
    "print('Shape X_train', X_train.shape)\n",
    "print('Shape X_test',X_test.shape)"
   ]
  },
  {
   "cell_type": "code",
   "execution_count": 28,
   "metadata": {},
   "outputs": [
    {
     "data": {
      "text/plain": [
       "Warehouse_block        0\n",
       "Mode_of_Shipment       0\n",
       "Customer_care_calls    0\n",
       "Customer_rating        0\n",
       "Cost_of_the_Product    0\n",
       "Prior_purchases        0\n",
       "Product_importance     0\n",
       "Discount_offered       0\n",
       "Weight_in_gms          0\n",
       "dtype: int64"
      ]
     },
     "execution_count": 28,
     "metadata": {},
     "output_type": "execute_result"
    }
   ],
   "source": [
    "# Check X_train\n",
    "X_train.isnull().sum()"
   ]
  },
  {
   "cell_type": "code",
   "execution_count": 29,
   "metadata": {},
   "outputs": [
    {
     "data": {
      "text/plain": [
       "Warehouse_block        0\n",
       "Mode_of_Shipment       0\n",
       "Customer_care_calls    0\n",
       "Customer_rating        0\n",
       "Cost_of_the_Product    0\n",
       "Prior_purchases        0\n",
       "Product_importance     0\n",
       "Discount_offered       0\n",
       "Weight_in_gms          0\n",
       "dtype: int64"
      ]
     },
     "execution_count": 29,
     "metadata": {},
     "output_type": "execute_result"
    }
   ],
   "source": [
    "# Check X_test\n",
    "X_test.isnull().sum()"
   ]
  },
  {
   "cell_type": "code",
   "execution_count": 30,
   "metadata": {},
   "outputs": [
    {
     "name": "stdout",
     "output_type": "stream",
     "text": [
      "y_train Rot : 0\n",
      "y_test Rot  : 0\n"
     ]
    }
   ],
   "source": [
    "# Check y_train\n",
    "print('y_train Rot :',y_train.isnull().sum())\n",
    "# Check y_test\n",
    "print('y_test Rot  :',y_test.isnull().sum())"
   ]
  },
  {
   "cell_type": "markdown",
   "metadata": {},
   "source": [
    "Setelah melalui berbagai proses, kami mengidentifikasi faktor-faktor yang tidak memiliki pengaruh signifikan terhadap target. Kami akan menghapus faktor-faktor ini berdasarkan korelasi, sementara ID, yang merupakan data unik, akan tetap kami sertakan dalam daftar drop.\n",
    "\n",
    "Setalah melakukan drop di check kembali missing value."
   ]
  },
  {
   "cell_type": "code",
   "execution_count": 31,
   "metadata": {},
   "outputs": [
    {
     "data": {
      "text/html": [
       "<div>\n",
       "<style scoped>\n",
       "    .dataframe tbody tr th:only-of-type {\n",
       "        vertical-align: middle;\n",
       "    }\n",
       "\n",
       "    .dataframe tbody tr th {\n",
       "        vertical-align: top;\n",
       "    }\n",
       "\n",
       "    .dataframe thead th {\n",
       "        text-align: right;\n",
       "    }\n",
       "</style>\n",
       "<table border=\"1\" class=\"dataframe\">\n",
       "  <thead>\n",
       "    <tr style=\"text-align: right;\">\n",
       "      <th></th>\n",
       "      <th>Customer_care_calls</th>\n",
       "      <th>Customer_rating</th>\n",
       "      <th>Cost_of_the_Product</th>\n",
       "      <th>Prior_purchases</th>\n",
       "      <th>Discount_offered</th>\n",
       "      <th>Weight_in_gms</th>\n",
       "    </tr>\n",
       "  </thead>\n",
       "  <tbody>\n",
       "    <tr>\n",
       "      <th>count</th>\n",
       "      <td>8797.000000</td>\n",
       "      <td>8797.000000</td>\n",
       "      <td>8797.000000</td>\n",
       "      <td>8797.000000</td>\n",
       "      <td>8797.000000</td>\n",
       "      <td>8797.000000</td>\n",
       "    </tr>\n",
       "    <tr>\n",
       "      <th>mean</th>\n",
       "      <td>4.051267</td>\n",
       "      <td>2.996021</td>\n",
       "      <td>210.492668</td>\n",
       "      <td>3.569171</td>\n",
       "      <td>13.318518</td>\n",
       "      <td>3627.971809</td>\n",
       "    </tr>\n",
       "    <tr>\n",
       "      <th>std</th>\n",
       "      <td>1.144210</td>\n",
       "      <td>1.412559</td>\n",
       "      <td>48.057580</td>\n",
       "      <td>1.529651</td>\n",
       "      <td>16.222733</td>\n",
       "      <td>1634.155660</td>\n",
       "    </tr>\n",
       "    <tr>\n",
       "      <th>min</th>\n",
       "      <td>2.000000</td>\n",
       "      <td>1.000000</td>\n",
       "      <td>96.000000</td>\n",
       "      <td>2.000000</td>\n",
       "      <td>1.000000</td>\n",
       "      <td>1001.000000</td>\n",
       "    </tr>\n",
       "    <tr>\n",
       "      <th>25%</th>\n",
       "      <td>3.000000</td>\n",
       "      <td>2.000000</td>\n",
       "      <td>170.000000</td>\n",
       "      <td>3.000000</td>\n",
       "      <td>4.000000</td>\n",
       "      <td>1837.000000</td>\n",
       "    </tr>\n",
       "    <tr>\n",
       "      <th>50%</th>\n",
       "      <td>4.000000</td>\n",
       "      <td>3.000000</td>\n",
       "      <td>215.000000</td>\n",
       "      <td>3.000000</td>\n",
       "      <td>7.000000</td>\n",
       "      <td>4149.000000</td>\n",
       "    </tr>\n",
       "    <tr>\n",
       "      <th>75%</th>\n",
       "      <td>5.000000</td>\n",
       "      <td>4.000000</td>\n",
       "      <td>251.000000</td>\n",
       "      <td>4.000000</td>\n",
       "      <td>10.000000</td>\n",
       "      <td>5041.000000</td>\n",
       "    </tr>\n",
       "    <tr>\n",
       "      <th>max</th>\n",
       "      <td>7.000000</td>\n",
       "      <td>5.000000</td>\n",
       "      <td>310.000000</td>\n",
       "      <td>10.000000</td>\n",
       "      <td>65.000000</td>\n",
       "      <td>7846.000000</td>\n",
       "    </tr>\n",
       "  </tbody>\n",
       "</table>\n",
       "</div>"
      ],
      "text/plain": [
       "       Customer_care_calls  Customer_rating  Cost_of_the_Product  \\\n",
       "count          8797.000000      8797.000000          8797.000000   \n",
       "mean              4.051267         2.996021           210.492668   \n",
       "std               1.144210         1.412559            48.057580   \n",
       "min               2.000000         1.000000            96.000000   \n",
       "25%               3.000000         2.000000           170.000000   \n",
       "50%               4.000000         3.000000           215.000000   \n",
       "75%               5.000000         4.000000           251.000000   \n",
       "max               7.000000         5.000000           310.000000   \n",
       "\n",
       "       Prior_purchases  Discount_offered  Weight_in_gms  \n",
       "count      8797.000000       8797.000000    8797.000000  \n",
       "mean          3.569171         13.318518    3627.971809  \n",
       "std           1.529651         16.222733    1634.155660  \n",
       "min           2.000000          1.000000    1001.000000  \n",
       "25%           3.000000          4.000000    1837.000000  \n",
       "50%           3.000000          7.000000    4149.000000  \n",
       "75%           4.000000         10.000000    5041.000000  \n",
       "max          10.000000         65.000000    7846.000000  "
      ]
     },
     "execution_count": 31,
     "metadata": {},
     "output_type": "execute_result"
    }
   ],
   "source": [
    "#check sentral tendency\n",
    "X_train.describe()"
   ]
  },
  {
   "cell_type": "markdown",
   "metadata": {},
   "source": [
    "Rata-rata Weight memiliki berat 3627 gram, min nya ada pada angka 1001 gram sedangkan max ada di angka 7846 gram."
   ]
  },
  {
   "cell_type": "markdown",
   "metadata": {},
   "source": [
    "**Check Outlier**"
   ]
  },
  {
   "cell_type": "code",
   "execution_count": 33,
   "metadata": {},
   "outputs": [],
   "source": [
    "def diagnostic_plots(df, variable):\n",
    "    # Define ukurn figure\n",
    "    plt.figure(figsize=(10, 4))\n",
    "\n",
    "    # Histogram\n",
    "    plt.subplot(1, 2, 1)\n",
    "    sns.histplot(df[variable], bins=30)\n",
    "    plt.title('Histogram')\n",
    "\n",
    "    # Boxplot\n",
    "    plt.subplot(1, 2, 2)\n",
    "    sns.boxplot(y=df[variable])\n",
    "    plt.title('Boxplot')\n",
    "\n",
    "    plt.show()"
   ]
  },
  {
   "cell_type": "code",
   "execution_count": 34,
   "metadata": {},
   "outputs": [
    {
     "data": {
      "text/html": [
       "<div>\n",
       "<style scoped>\n",
       "    .dataframe tbody tr th:only-of-type {\n",
       "        vertical-align: middle;\n",
       "    }\n",
       "\n",
       "    .dataframe tbody tr th {\n",
       "        vertical-align: top;\n",
       "    }\n",
       "\n",
       "    .dataframe thead th {\n",
       "        text-align: right;\n",
       "    }\n",
       "</style>\n",
       "<table border=\"1\" class=\"dataframe\">\n",
       "  <thead>\n",
       "    <tr style=\"text-align: right;\">\n",
       "      <th></th>\n",
       "      <th>Fitur</th>\n",
       "      <th>Skewness</th>\n",
       "    </tr>\n",
       "  </thead>\n",
       "  <tbody>\n",
       "    <tr>\n",
       "      <th>0</th>\n",
       "      <td>Customer_care_calls</td>\n",
       "      <td>0.402907</td>\n",
       "    </tr>\n",
       "    <tr>\n",
       "      <th>1</th>\n",
       "      <td>Customer_rating</td>\n",
       "      <td>-0.003369</td>\n",
       "    </tr>\n",
       "    <tr>\n",
       "      <th>2</th>\n",
       "      <td>Cost_of_the_Product</td>\n",
       "      <td>-0.164067</td>\n",
       "    </tr>\n",
       "    <tr>\n",
       "      <th>3</th>\n",
       "      <td>Prior_purchases</td>\n",
       "      <td>1.682020</td>\n",
       "    </tr>\n",
       "    <tr>\n",
       "      <th>4</th>\n",
       "      <td>Discount_offered</td>\n",
       "      <td>1.813334</td>\n",
       "    </tr>\n",
       "    <tr>\n",
       "      <th>5</th>\n",
       "      <td>Weight_in_gms</td>\n",
       "      <td>-0.245680</td>\n",
       "    </tr>\n",
       "  </tbody>\n",
       "</table>\n",
       "</div>"
      ],
      "text/plain": [
       "                 Fitur  Skewness\n",
       "0  Customer_care_calls  0.402907\n",
       "1      Customer_rating -0.003369\n",
       "2  Cost_of_the_Product -0.164067\n",
       "3      Prior_purchases  1.682020\n",
       "4     Discount_offered  1.813334\n",
       "5        Weight_in_gms -0.245680"
      ]
     },
     "execution_count": 34,
     "metadata": {},
     "output_type": "execute_result"
    }
   ],
   "source": [
    "# Daftar fitur yang akan dihitung skewness-nya\n",
    "fitur = [\n",
    "      'Customer_care_calls',\n",
    "      'Customer_rating',\n",
    "      'Cost_of_the_Product',\n",
    "      'Prior_purchases',\n",
    "      'Discount_offered',\n",
    "      'Weight_in_gms'\n",
    "]\n",
    "\n",
    "# Menghitung skewness untuk setiap fitur\n",
    "skewness_values = X_train[fitur].apply(lambda x: skew(x)).reset_index()\n",
    "skewness_values.columns = ['Fitur', 'Skewness']\n",
    "\n",
    "# Menampilkan hasilnya\n",
    "skewness_values"
   ]
  },
  {
   "cell_type": "markdown",
   "metadata": {},
   "source": [
    "Setelah memeriksa hasil skewness, kami mengidentifikasi beberapa kolom yang menunjukkan tingkat skewness yang tinggi. Jika kolom-kolom ini bukan termasuk dalam kategori, maka kami akan menerapkan teknik capping IQR untuk mengurangi nilai outlier dalam kolom-kolom tersebut."
   ]
  },
  {
   "cell_type": "code",
   "execution_count": 35,
   "metadata": {},
   "outputs": [
    {
     "data": {
      "image/png": "[encoded data removed]",
      "text/plain": [
       "<Figure size 1000x400 with 2 Axes>"
      ]
     },
     "metadata": {},
     "output_type": "display_data"
    },
    {
     "name": "stdout",
     "output_type": "stream",
     "text": [
      "None\n"
     ]
    },
    {
     "data": {
      "image/png": "[encoded data removed]",
      "text/plain": [
       "<Figure size 1000x400 with 2 Axes>"
      ]
     },
     "metadata": {},
     "output_type": "display_data"
    },
    {
     "name": "stdout",
     "output_type": "stream",
     "text": [
      "None\n"
     ]
    }
   ],
   "source": [
    "# Check hasil oulier\n",
    "print(diagnostic_plots(X_train, 'Prior_purchases'))\n",
    "print(diagnostic_plots(X_train, 'Discount_offered'))"
   ]
  },
  {
   "cell_type": "markdown",
   "metadata": {},
   "source": [
    "Dari hasil pengecheckan outlier kita mendapatkan beebrapa hasil yang skew yaitu fitur `Prior_purchases` dan `Discount_offered` di angka melebihi 1. Dan hasil Diagram boxplot outlier memang memiliki jarak yang jauh maka dari hasil yang kita dapat kam memutuskan menggunakan capping untuk handle outlier agar data tidak berkurang dan kami ingin mempertahankan data yang ada."
   ]
  },
  {
   "cell_type": "markdown",
   "metadata": {},
   "source": [
    "**Capping**"
   ]
  },
  {
   "cell_type": "code",
   "execution_count": 36,
   "metadata": {},
   "outputs": [],
   "source": [
    "# Daftar kolom yang akan di-capping dengan Winsorizer\n",
    "columns_to_winsorize = ['Prior_purchases','Discount_offered']\n",
    "\n",
    "# Membuat objek Winsorizer\n",
    "winsoriser = Winsorizer(capping_method='iqr', tail='both', fold=3)\n",
    "\n",
    "# Menggunakan loop untuk menerapkan Winsorizer ke setiap kolom\n",
    "for column in columns_to_winsorize:\n",
    "    X_train[column] = winsoriser.fit_transform(X_train[[column]])"
   ]
  },
  {
   "cell_type": "code",
   "execution_count": 37,
   "metadata": {},
   "outputs": [
    {
     "data": {
      "image/png": "[encoded data removed]",
      "text/plain": [
       "<Figure size 1000x400 with 2 Axes>"
      ]
     },
     "metadata": {},
     "output_type": "display_data"
    },
    {
     "name": "stdout",
     "output_type": "stream",
     "text": [
      "None\n"
     ]
    },
    {
     "data": {
      "image/png": "[encoded data removed]",
      "text/plain": [
       "<Figure size 1000x400 with 2 Axes>"
      ]
     },
     "metadata": {},
     "output_type": "display_data"
    },
    {
     "name": "stdout",
     "output_type": "stream",
     "text": [
      "None\n"
     ]
    }
   ],
   "source": [
    "# Check hasil oulier\n",
    "print(diagnostic_plots(X_train, 'Prior_purchases'))\n",
    "print(diagnostic_plots(X_train, 'Discount_offered'))"
   ]
  },
  {
   "cell_type": "markdown",
   "metadata": {},
   "source": [
    "Saya memilih untuk menerapkan metode Winsorizer dengan IQR (Interquartile Range) untuk mengatasi outlier dengan pertimbangan sebagai berikut:\n",
    "\n",
    "Pendekatan Winsorizing dengan IQR adalah pendekatan yang cenderung hati-hati dan tidak menghapus data sepenuhnya atau mengubah data secara signifikan. Pendekatan ini hanya melakukan penyesuaian atau penyuntingan pada nilai-nilai yang berada di luar rentang tertentu tanpa mengubah distribusi data secara mendasar.\n",
    "\n",
    "Tujuan dari metode ini adalah untuk meminimalkan pengaruh outlier terhadap analisis statistik seperti mean, median, dan deviasi standar, yang dapat sangat dipengaruhi oleh nilai-nilai ekstrem. Hal ini membantu melindungi hasil analisis dari kemungkinan gangguan yang mungkin disebabkan oleh outlier.\n",
    "\n",
    "Dengan menggunakan IQR, kami tetap dapat mempertahankan informasi yang mungkin dapat diperoleh dari outlier tanpa harus sepenuhnya menghilangkan nilai-nilai tersebut."
   ]
  },
  {
   "cell_type": "code",
   "execution_count": 38,
   "metadata": {},
   "outputs": [
    {
     "data": {
      "text/plain": [
       "1    6562\n",
       "0    4435\n",
       "Name: Rot, dtype: int64"
      ]
     },
     "execution_count": 38,
     "metadata": {},
     "output_type": "execute_result"
    }
   ],
   "source": [
    "# check target\n",
    "\n",
    "y.value_counts()"
   ]
  },
  {
   "cell_type": "markdown",
   "metadata": {},
   "source": [
    "Saya memutuskan untuk tidak melakukan balancing karena menurut penilaian saya, data target masih dalam kategori moderate dan tidak memerlukan proses balancing."
   ]
  },
  {
   "cell_type": "markdown",
   "metadata": {},
   "source": [
    "**Encoder**"
   ]
  },
  {
   "cell_type": "code",
   "execution_count": 39,
   "metadata": {},
   "outputs": [
    {
     "name": "stdout",
     "output_type": "stream",
     "text": [
      "['Product_importance']\n",
      "['Mode_of_Shipment', 'Warehouse_block']\n"
     ]
    }
   ],
   "source": [
    "# drop kolom\n",
    "cat_col_odl = ['Product_importance']\n",
    "cat_col_ohe = ['Mode_of_Shipment','Warehouse_block']\n",
    "# menampilkan data\n",
    "print(cat_col_odl)\n",
    "print(cat_col_ohe)"
   ]
  },
  {
   "cell_type": "markdown",
   "metadata": {},
   "source": [
    "Sebelum kami encode data akan dipisahkan terlebih dahulu untuk di pisah data yang akan dilakukan Onehotencoder dan Ordinalencoder.\n",
    "Kenapa kolom `Mode_of_Shipment`,`Warehouse_block` Menghindari Bias: One-Hot Encoder sangat berguna untuk menghindari bias yang tidak diinginkan yang dapat timbul jika Anda mengkodekan data kategori menjadi angka-angka yang memiliki urutan tertentu juga tidak ada urutan yang jelas pada data.\n",
    "\n",
    "Dan kenapa kolom `Product_importance` kami gunakan Ordinal karena Ordinal Encoder digunakan ketika memiliki data kategori yang memiliki urutan atau tingkatan yang berarti di antara nilai-nilainya.\n",
    "\n"
   ]
  },
  {
   "cell_type": "code",
   "execution_count": 40,
   "metadata": {},
   "outputs": [
    {
     "name": "stdout",
     "output_type": "stream",
     "text": [
      "Numerical columns: ['Customer_care_calls', 'Customer_rating', 'Cost_of_the_Product', 'Prior_purchases', 'Discount_offered', 'Weight_in_gms']\n"
     ]
    }
   ],
   "source": [
    "# memisahkan data numerik dan kategori\n",
    "num_col = X_train.select_dtypes(include=np.number).columns.tolist()\n",
    "\n",
    "# menampilkan data\n",
    "print('Numerical columns:',num_col)"
   ]
  },
  {
   "cell_type": "markdown",
   "metadata": {},
   "source": [
    "Kami telah menyiapkan data dan mengisolasi komponen data numerik untuk proses scaling. Keputusan kami adalah untuk menggunakan MinMaxScaler dengan alasan tertentu. Salah satu alasan adalah untuk mengurangi sensitivitas terhadap outlier. Metode Min-Max Scaling cenderung lebih stabil dalam menghadapi pengaruh dari outlier karena kisaran nilai yang dihasilkannya biasanya terbatas antara 0 dan 1. Dengan demikian, nilai-nilai outlier tetap dalam kisaran yang sama dengan data lainnya.\n"
   ]
  },
  {
   "cell_type": "markdown",
   "metadata": {},
   "source": [
    "**Pipeline**"
   ]
  },
  {
   "cell_type": "code",
   "execution_count": 41,
   "metadata": {},
   "outputs": [],
   "source": [
    "# Pembuatan pipeline dengan make pipeline\n",
    "num_pipeline = make_pipeline(MinMaxScaler())\n",
    "\n",
    "cat_pipeline_ohe = make_pipeline(OneHotEncoder(handle_unknown=\"ignore\"))\n",
    "\n",
    "cat_pipeline_odl = make_pipeline(OrdinalEncoder(categories=[['low', 'medium', 'high']]))\n",
    "\n",
    "preprocessing_pipeline = ColumnTransformer([\n",
    "    ('pipe_num', num_pipeline, num_col),\n",
    "    ('pipe_cat_ohe', cat_pipeline_ohe, cat_col_ohe),\n",
    "    ('pipe_cat_odl', cat_pipeline_odl, cat_col_odl)\n",
    "])"
   ]
  },
  {
   "cell_type": "markdown",
   "metadata": {},
   "source": [
    "Disini kita menggunakan pipeline untuk mempermudah dalam meringkas baris kode. Didalam pipeline dilakukan Scaling dan Encoding.\n",
    "\n",
    "**Pipeline itu apa**\n",
    "\n",
    "Pipeline adalah metode yang digunakan dalam pemrosesan data dan machine learning untuk menyusun alur kerja pemrosesan data dengan cara yang terstruktur. Ini melibatkan serangkaian langkah atau operasi yang dilakukan secara berurutan pada data sebelum data tersebut digunakan untuk melatih model machine learning atau melakukan prediksi.\n",
    "- Kegunaan untuk meringkas kode.\n",
    "- Pencegahan Data Leakage: Mencegah kebocoran data dengan memisahkan tahapan pemrosesan data dengan benar.\n",
    "\n",
    "\n"
   ]
  },
  {
   "cell_type": "markdown",
   "metadata": {},
   "source": [
    "# 6.Model Definition\n",
    "\n",
    "Mendefinisikan model K-Nearest Neighbor, Support Vector Machine, Decision Tree dan Random Forest."
   ]
  },
  {
   "cell_type": "markdown",
   "metadata": {},
   "source": [
    "**K-Nearest Neighbor**"
   ]
  },
  {
   "cell_type": "code",
   "execution_count": 42,
   "metadata": {},
   "outputs": [],
   "source": [
    "# Definisi model\n",
    "knn = make_pipeline(preprocessing_pipeline, KNeighborsClassifier())"
   ]
  },
  {
   "cell_type": "markdown",
   "metadata": {},
   "source": [
    "K-Nearest Neighbors (K-NN) adalah salah satu algoritma pembelajaran mesin yang digunakan untuk klasifikasi dan regresi. Ini adalah algoritma yang relatif sederhana tetapi memiliki kelebihan dan kekurangan yang perlu dipertimbangkan dalam penggunaannya:\n",
    "1. Sederhana dan Mudah Dimengerti: K-NN adalah salah satu algoritma yang paling mudah dimengerti dalam pembelajaran mesin. Ini cocok untuk pemula dan sering digunakan sebagai pengantar untuk pemahaman dasar pembelajaran mesin.\n",
    "2. Dapat Menangani Data Non-Linier: K-NN dapat digunakan untuk masalah klasifikasi yang tidak memiliki pemisahan linier yang jelas antara kelas-kelas.\n",
    "\n",
    "Kekurangan K-Nearest Neighbors (K-NN):\n",
    "1. Sensitif Terhadap Data Outlier: K-NN sensitif terhadap data outlier. Titik data yang jauh dari sebagian besar tetangganya dapat mempengaruhi hasil prediksi secara signifikan.\n",
    "2. Tidak Mendukung Data Categorical: K-NN biasanya digunakan untuk data numerik, dan memerlukan pengolahan khusus untuk mengatasi data kategorikal dll."
   ]
  },
  {
   "cell_type": "markdown",
   "metadata": {},
   "source": [
    "**Support Vector Machine**"
   ]
  },
  {
   "cell_type": "code",
   "execution_count": 43,
   "metadata": {},
   "outputs": [],
   "source": [
    "# Devinisi model\n",
    "svm = make_pipeline(preprocessing_pipeline, SVC())"
   ]
  },
  {
   "cell_type": "markdown",
   "metadata": {},
   "source": [
    "Support Vector Machine (SVM) adalah suatu algoritma dalam bidang machine learning yang digunakan untuk menyelesaikan masalah klasifikasi dan regresi. SVM memiliki sejumlah aspek positif dan negatif yang perlu dipertimbangkan saat memilih dan menerapkan algoritma ini.\n",
    "1. Efektif dalam Kasus Data yang Tidak Linier: SVM dapat mengatasi masalah klasifikasi yang tidak memiliki pemisahan linier dengan menggunakan fungsi kernel. Fungsi kernel memungkinkan SVM untuk melakukan transformasi data ke ruang dimensi yang lebih tinggi di mana pemisahan linier dapat dicapai.\n",
    "2. Robust terhadap Overfitting: SVM cenderung lebih tahan terhadap overfitting (model terlalu sesuai dengan data pelatihan) jika parameter C (trade-off antara margin dan error pelatihan) dipilih dengan bijak.\n",
    "\n",
    "Kekurangan SVM :\n",
    "1. Keterbatasan dalam Kasus Regresi: Meskipun SVM terutama digunakan untuk klasifikasi, implementasi SVM untuk regresi (SVR) lebih kompleks dan kurang umum dibandingkan dengan metode regresi lainnya seperti regresi linear.\n",
    "2. Ketergantungan pada Tuning Parameter: Kinerja SVM sangat tergantung pada parameter C dan kernel yang dipilih. Menentukan parameter yang optimal bisa memerlukan eksperimen yang cermat."
   ]
  },
  {
   "cell_type": "markdown",
   "metadata": {},
   "source": [
    "**Decision Tree Classifier**"
   ]
  },
  {
   "cell_type": "code",
   "execution_count": 44,
   "metadata": {},
   "outputs": [],
   "source": [
    "# Devinisi model\n",
    "tree = make_pipeline(preprocessing_pipeline, DecisionTreeClassifier())"
   ]
  },
  {
   "cell_type": "markdown",
   "metadata": {},
   "source": [
    "Decision Tree (Pohon Keputusan) adalah suatu algoritma dalam machine learning yang digunakan untuk melakukan klasifikasi dan regresi. Algoritma ini melakukan pengambilan keputusan atau pembuatan prediksi dengan cara membagi data menjadi sejumlah aturan keputusan yang sederhana, membentuk struktur berbentuk pohon.\n",
    "Kelebihan Decision Tree:\n",
    "1. Penanganan Data Campuran: Decision Tree dapat menangani dataset dengan campuran fitur kategoris dan numerik dengan baik. Ini tidak memerlukan normalisasi atau pemrosesan khusus pada data.\n",
    "2. Kemampuan Menangani Missing Values: Decision Tree dapat menangani data yang memiliki nilai yang hilang (missing values) tanpa memerlukan imputasi (pengisian nilai yang hilang) terlebih dahulu.\n",
    "\n",
    "kemampuan menangani missing value decision tree dapat menangani data yang memiliki nilai yang hilang  missing value tanpa memerlukan umputasi pengisian nilai yang hilang terlebih dahulu \n",
    "kemampuan menangani missing value decision tree dapat menangani data yang memiliki nilai yagn hilang missing value tanpa memrlukan imputasi\n",
    "\n",
    "Kekurangan :\n",
    "1. Overfitting: Decision Tree cenderung rentan terhadap overfitting jika tidak diatur dengan benar. Pohon yang terlalu dalam dan kompleks dapat mempelajari detail-data sampel pelatihan yang noise, tetapi tidak menggeneralisasi dengan baik pada data yang belum pernah dilihat sebelumnya.\n",
    "2. Kerentanan terhadap Variasi Data: Decision Tree sensitif terhadap perubahan kecil dalam data pelatihan, yang dapat menghasilkan pohon yang berbeda. Hal ini dapat mempengaruhi stabilitas model."
   ]
  },
  {
   "cell_type": "markdown",
   "metadata": {},
   "source": [
    "**Random Forest**"
   ]
  },
  {
   "cell_type": "code",
   "execution_count": 45,
   "metadata": {},
   "outputs": [],
   "source": [
    "#Devinisi model\n",
    "rdf = make_pipeline(preprocessing_pipeline, RandomForestClassifier())"
   ]
  },
  {
   "cell_type": "markdown",
   "metadata": {},
   "source": [
    "Random Forest adalah algoritma ensemble learning yang menggabungkan sejumlah besar pohon keputusan (Decision Tree) untuk membentuk satu model yang memiliki kemampuan lebih kuat. Dalam ensemble learning, teknik ini mengacu pada penggabungan beberapa model untuk meningkatkan performa serta mengurangi risiko overfitting. Berikut adalah beberapa aspek positif dan negatif yang terkait dengan algoritma Random Forest.\n",
    "\n",
    "Kelebihan :\n",
    "1. Ketepatan Tinggi: Random Forest adalah salah satu algoritma yang paling akurat dan stabil untuk klasifikasi dan regresi. Ini memiliki kemampuan untuk menghasilkan hasil prediksi yang sangat baik.\n",
    "2. Penanganan Fitur yang Baik: Random Forest secara otomatis melakukan seleksi fitur dan memberikan skor pada fitur-fitur yang paling informatif. Ini membantu dalam mengidentifikasi fitur-fitur yang paling relevan dalam dataset.\n",
    "\n",
    "Kekurangan :\n",
    "1. Kesulitan dalam Interpretasi: Random Forest memiliki struktur yang kompleks dengan banyak pohon keputusan, sehingga bisa sulit untuk diinterpretasikan dengan mudah. Anda mungkin tidak dapat dengan mudah menjelaskan mengapa suatu keputusan diambil oleh model.\n",
    "2. Kinerja pada Data Tidak Seimbang: Random Forest dapat cenderung memihak kepada kelas mayoritas pada dataset yang tidak seimbang, kecuali jika langkah-langkah penanganan data tidak seimbang diambil."
   ]
  },
  {
   "cell_type": "markdown",
   "metadata": {},
   "source": [
    "**XGBClassifier**"
   ]
  },
  {
   "cell_type": "code",
   "execution_count": 46,
   "metadata": {},
   "outputs": [],
   "source": [
    "# Devinisi model\n",
    "xgb = make_pipeline(preprocessing_pipeline, XGBClassifier())"
   ]
  },
  {
   "cell_type": "markdown",
   "metadata": {},
   "source": [
    "XGBoost (Extreme Gradient Boosting) adalah algoritma ensemble learning yang umumnya digunakan untuk melakukan tugas klasifikasi dan regresi. Algoritma XGBoost terkenal karena kinerjanya yang sangat baik dalam kompetisi data science dan memiliki berbagai aspek positif dan negatif yang perlu diperhatikan.\n",
    "1. Akurasi Tinggi: XGBoost sering memberikan akurasi yang sangat baik dalam tugas klasifikasi dan regresi. Ini adalah salah satu algoritma yang sangat cocok untuk masalah yang membutuhkan prediksi yang tepat.\n",
    "2. Penanganan Outlier: XGBoost dapat mengatasi outlier dengan baik karena secara alami menggunakan pohon keputusan sebagai komponen utamanya. Pohon keputusan cenderung tidak peka terhadap outlier.\n",
    "\n",
    "Kekurangan XGBoost (XGBClassifier):\n",
    "1. Kompleksitas Parameter: XGBoost memiliki banyak parameter yang perlu diatur, termasuk kedalaman pohon, laju pembelajaran, dan lainnya. Memilih parameter yang optimal dapat memerlukan eksperimen yang cermat.\n",
    "2. Menggunakan Sumber Daya Komputasi yang Signifikan: Pelatihan model XGBoost dapat memerlukan sumber daya komputasi yang signifikan, terutama jika digunakan pada dataset besar."
   ]
  },
  {
   "cell_type": "markdown",
   "metadata": {},
   "source": [
    "# 7.Model Training\n",
    "\n",
    "\n",
    "Selama tahap pelatihan model, algoritma machine learning digunakan untuk menganalisis dan memproses dataset yang telah dipisahkan menjadi data pelatihan. Selama proses ini, algoritma disesuaikan dan ditingkatkan performanya untuk mengenali pola data dan menghasilkan keluaran sesuai dengan tujuan yang diinginkan."
   ]
  },
  {
   "cell_type": "markdown",
   "metadata": {},
   "source": [
    "**K-Nearest Neighbor**"
   ]
  },
  {
   "cell_type": "code",
   "execution_count": 47,
   "metadata": {},
   "outputs": [
    {
     "data": {
      "text/html": [
       "<style>#sk-container-id-1 {color: black;}#sk-container-id-1 pre{padding: 0;}#sk-container-id-1 div.sk-toggleable {background-color: white;}#sk-container-id-1 label.sk-toggleable__label {cursor: pointer;display: block;width: 100%;margin-bottom: 0;padding: 0.3em;box-sizing: border-box;text-align: center;}#sk-container-id-1 label.sk-toggleable__label-arrow:before {content: \"▸\";float: left;margin-right: 0.25em;color: #696969;}#sk-container-id-1 label.sk-toggleable__label-arrow:hover:before {color: black;}#sk-container-id-1 div.sk-estimator:hover label.sk-toggleable__label-arrow:before {color: black;}#sk-container-id-1 div.sk-toggleable__content {max-height: 0;max-width: 0;overflow: hidden;text-align: left;background-color: #f0f8ff;}#sk-container-id-1 div.sk-toggleable__content pre {margin: 0.2em;color: black;border-radius: 0.25em;background-color: #f0f8ff;}#sk-container-id-1 input.sk-toggleable__control:checked~div.sk-toggleable__content {max-height: 200px;max-width: 100%;overflow: auto;}#sk-container-id-1 input.sk-toggleable__control:checked~label.sk-toggleable__label-arrow:before {content: \"▾\";}#sk-container-id-1 div.sk-estimator input.sk-toggleable__control:checked~label.sk-toggleable__label {background-color: #d4ebff;}#sk-container-id-1 div.sk-label input.sk-toggleable__control:checked~label.sk-toggleable__label {background-color: #d4ebff;}#sk-container-id-1 input.sk-hidden--visually {border: 0;clip: rect(1px 1px 1px 1px);clip: rect(1px, 1px, 1px, 1px);height: 1px;margin: -1px;overflow: hidden;padding: 0;position: absolute;width: 1px;}#sk-container-id-1 div.sk-estimator {font-family: monospace;background-color: #f0f8ff;border: 1px dotted black;border-radius: 0.25em;box-sizing: border-box;margin-bottom: 0.5em;}#sk-container-id-1 div.sk-estimator:hover {background-color: #d4ebff;}#sk-container-id-1 div.sk-parallel-item::after {content: \"\";width: 100%;border-bottom: 1px solid gray;flex-grow: 1;}#sk-container-id-1 div.sk-label:hover label.sk-toggleable__label {background-color: #d4ebff;}#sk-container-id-1 div.sk-serial::before {content: \"\";position: absolute;border-left: 1px solid gray;box-sizing: border-box;top: 0;bottom: 0;left: 50%;z-index: 0;}#sk-container-id-1 div.sk-serial {display: flex;flex-direction: column;align-items: center;background-color: white;padding-right: 0.2em;padding-left: 0.2em;position: relative;}#sk-container-id-1 div.sk-item {position: relative;z-index: 1;}#sk-container-id-1 div.sk-parallel {display: flex;align-items: stretch;justify-content: center;background-color: white;position: relative;}#sk-container-id-1 div.sk-item::before, #sk-container-id-1 div.sk-parallel-item::before {content: \"\";position: absolute;border-left: 1px solid gray;box-sizing: border-box;top: 0;bottom: 0;left: 50%;z-index: -1;}#sk-container-id-1 div.sk-parallel-item {display: flex;flex-direction: column;z-index: 1;position: relative;background-color: white;}#sk-container-id-1 div.sk-parallel-item:first-child::after {align-self: flex-end;width: 50%;}#sk-container-id-1 div.sk-parallel-item:last-child::after {align-self: flex-start;width: 50%;}#sk-container-id-1 div.sk-parallel-item:only-child::after {width: 0;}#sk-container-id-1 div.sk-dashed-wrapped {border: 1px dashed gray;margin: 0 0.4em 0.5em 0.4em;box-sizing: border-box;padding-bottom: 0.4em;background-color: white;}#sk-container-id-1 div.sk-label label {font-family: monospace;font-weight: bold;display: inline-block;line-height: 1.2em;}#sk-container-id-1 div.sk-label-container {text-align: center;}#sk-container-id-1 div.sk-container {/* jupyter's `normalize.less` sets `[hidden] { display: none; }` but bootstrap.min.css set `[hidden] { display: none !important; }` so we also need the `!important` here to be able to override the default hidden behavior on the sphinx rendered scikit-learn.org. See: https://github.com/scikit-learn/scikit-learn/issues/21755 */display: inline-block !important;position: relative;}#sk-container-id-1 div.sk-text-repr-fallback {display: none;}</style><div id=\"sk-container-id-1\" class=\"sk-top-container\"><div class=\"sk-text-repr-fallback\"><pre>Pipeline(steps=[(&#x27;columntransformer&#x27;,\n",
       "                 ColumnTransformer(transformers=[(&#x27;pipe_num&#x27;,\n",
       "                                                  Pipeline(steps=[(&#x27;minmaxscaler&#x27;,\n",
       "                                                                   MinMaxScaler())]),\n",
       "                                                  [&#x27;Customer_care_calls&#x27;,\n",
       "                                                   &#x27;Customer_rating&#x27;,\n",
       "                                                   &#x27;Cost_of_the_Product&#x27;,\n",
       "                                                   &#x27;Prior_purchases&#x27;,\n",
       "                                                   &#x27;Discount_offered&#x27;,\n",
       "                                                   &#x27;Weight_in_gms&#x27;]),\n",
       "                                                 (&#x27;pipe_cat_ohe&#x27;,\n",
       "                                                  Pipeline(steps=[(&#x27;onehotencoder&#x27;,\n",
       "                                                                   OneHotEncoder(handle_unknown=&#x27;ignore&#x27;))]),\n",
       "                                                  [&#x27;Mode_of_Shipment&#x27;,\n",
       "                                                   &#x27;Warehouse_block&#x27;]),\n",
       "                                                 (&#x27;pipe_cat_odl&#x27;,\n",
       "                                                  Pipeline(steps=[(&#x27;ordinalencoder&#x27;,\n",
       "                                                                   OrdinalEncoder(categories=[[&#x27;low&#x27;,\n",
       "                                                                                               &#x27;medium&#x27;,\n",
       "                                                                                               &#x27;high&#x27;]]))]),\n",
       "                                                  [&#x27;Product_importance&#x27;])])),\n",
       "                (&#x27;kneighborsclassifier&#x27;, KNeighborsClassifier())])</pre><b>In a Jupyter environment, please rerun this cell to show the HTML representation or trust the notebook. <br />On GitHub, the HTML representation is unable to render, please try loading this page with nbviewer.org.</b></div><div class=\"sk-container\" hidden><div class=\"sk-item sk-dashed-wrapped\"><div class=\"sk-label-container\"><div class=\"sk-label sk-toggleable\"><input class=\"sk-toggleable__control sk-hidden--visually\" id=\"sk-estimator-id-1\" type=\"checkbox\" ><label for=\"sk-estimator-id-1\" class=\"sk-toggleable__label sk-toggleable__label-arrow\">Pipeline</label><div class=\"sk-toggleable__content\"><pre>Pipeline(steps=[(&#x27;columntransformer&#x27;,\n",
       "                 ColumnTransformer(transformers=[(&#x27;pipe_num&#x27;,\n",
       "                                                  Pipeline(steps=[(&#x27;minmaxscaler&#x27;,\n",
       "                                                                   MinMaxScaler())]),\n",
       "                                                  [&#x27;Customer_care_calls&#x27;,\n",
       "                                                   &#x27;Customer_rating&#x27;,\n",
       "                                                   &#x27;Cost_of_the_Product&#x27;,\n",
       "                                                   &#x27;Prior_purchases&#x27;,\n",
       "                                                   &#x27;Discount_offered&#x27;,\n",
       "                                                   &#x27;Weight_in_gms&#x27;]),\n",
       "                                                 (&#x27;pipe_cat_ohe&#x27;,\n",
       "                                                  Pipeline(steps=[(&#x27;onehotencoder&#x27;,\n",
       "                                                                   OneHotEncoder(handle_unknown=&#x27;ignore&#x27;))]),\n",
       "                                                  [&#x27;Mode_of_Shipment&#x27;,\n",
       "                                                   &#x27;Warehouse_block&#x27;]),\n",
       "                                                 (&#x27;pipe_cat_odl&#x27;,\n",
       "                                                  Pipeline(steps=[(&#x27;ordinalencoder&#x27;,\n",
       "                                                                   OrdinalEncoder(categories=[[&#x27;low&#x27;,\n",
       "                                                                                               &#x27;medium&#x27;,\n",
       "                                                                                               &#x27;high&#x27;]]))]),\n",
       "                                                  [&#x27;Product_importance&#x27;])])),\n",
       "                (&#x27;kneighborsclassifier&#x27;, KNeighborsClassifier())])</pre></div></div></div><div class=\"sk-serial\"><div class=\"sk-item sk-dashed-wrapped\"><div class=\"sk-label-container\"><div class=\"sk-label sk-toggleable\"><input class=\"sk-toggleable__control sk-hidden--visually\" id=\"sk-estimator-id-2\" type=\"checkbox\" ><label for=\"sk-estimator-id-2\" class=\"sk-toggleable__label sk-toggleable__label-arrow\">columntransformer: ColumnTransformer</label><div class=\"sk-toggleable__content\"><pre>ColumnTransformer(transformers=[(&#x27;pipe_num&#x27;,\n",
       "                                 Pipeline(steps=[(&#x27;minmaxscaler&#x27;,\n",
       "                                                  MinMaxScaler())]),\n",
       "                                 [&#x27;Customer_care_calls&#x27;, &#x27;Customer_rating&#x27;,\n",
       "                                  &#x27;Cost_of_the_Product&#x27;, &#x27;Prior_purchases&#x27;,\n",
       "                                  &#x27;Discount_offered&#x27;, &#x27;Weight_in_gms&#x27;]),\n",
       "                                (&#x27;pipe_cat_ohe&#x27;,\n",
       "                                 Pipeline(steps=[(&#x27;onehotencoder&#x27;,\n",
       "                                                  OneHotEncoder(handle_unknown=&#x27;ignore&#x27;))]),\n",
       "                                 [&#x27;Mode_of_Shipment&#x27;, &#x27;Warehouse_block&#x27;]),\n",
       "                                (&#x27;pipe_cat_odl&#x27;,\n",
       "                                 Pipeline(steps=[(&#x27;ordinalencoder&#x27;,\n",
       "                                                  OrdinalEncoder(categories=[[&#x27;low&#x27;,\n",
       "                                                                              &#x27;medium&#x27;,\n",
       "                                                                              &#x27;high&#x27;]]))]),\n",
       "                                 [&#x27;Product_importance&#x27;])])</pre></div></div></div><div class=\"sk-parallel\"><div class=\"sk-parallel-item\"><div class=\"sk-item\"><div class=\"sk-label-container\"><div class=\"sk-label sk-toggleable\"><input class=\"sk-toggleable__control sk-hidden--visually\" id=\"sk-estimator-id-3\" type=\"checkbox\" ><label for=\"sk-estimator-id-3\" class=\"sk-toggleable__label sk-toggleable__label-arrow\">pipe_num</label><div class=\"sk-toggleable__content\"><pre>[&#x27;Customer_care_calls&#x27;, &#x27;Customer_rating&#x27;, &#x27;Cost_of_the_Product&#x27;, &#x27;Prior_purchases&#x27;, &#x27;Discount_offered&#x27;, &#x27;Weight_in_gms&#x27;]</pre></div></div></div><div class=\"sk-serial\"><div class=\"sk-item\"><div class=\"sk-serial\"><div class=\"sk-item\"><div class=\"sk-estimator sk-toggleable\"><input class=\"sk-toggleable__control sk-hidden--visually\" id=\"sk-estimator-id-4\" type=\"checkbox\" ><label for=\"sk-estimator-id-4\" class=\"sk-toggleable__label sk-toggleable__label-arrow\">MinMaxScaler</label><div class=\"sk-toggleable__content\"><pre>MinMaxScaler()</pre></div></div></div></div></div></div></div></div><div class=\"sk-parallel-item\"><div class=\"sk-item\"><div class=\"sk-label-container\"><div class=\"sk-label sk-toggleable\"><input class=\"sk-toggleable__control sk-hidden--visually\" id=\"sk-estimator-id-5\" type=\"checkbox\" ><label for=\"sk-estimator-id-5\" class=\"sk-toggleable__label sk-toggleable__label-arrow\">pipe_cat_ohe</label><div class=\"sk-toggleable__content\"><pre>[&#x27;Mode_of_Shipment&#x27;, &#x27;Warehouse_block&#x27;]</pre></div></div></div><div class=\"sk-serial\"><div class=\"sk-item\"><div class=\"sk-serial\"><div class=\"sk-item\"><div class=\"sk-estimator sk-toggleable\"><input class=\"sk-toggleable__control sk-hidden--visually\" id=\"sk-estimator-id-6\" type=\"checkbox\" ><label for=\"sk-estimator-id-6\" class=\"sk-toggleable__label sk-toggleable__label-arrow\">OneHotEncoder</label><div class=\"sk-toggleable__content\"><pre>OneHotEncoder(handle_unknown=&#x27;ignore&#x27;)</pre></div></div></div></div></div></div></div></div><div class=\"sk-parallel-item\"><div class=\"sk-item\"><div class=\"sk-label-container\"><div class=\"sk-label sk-toggleable\"><input class=\"sk-toggleable__control sk-hidden--visually\" id=\"sk-estimator-id-7\" type=\"checkbox\" ><label for=\"sk-estimator-id-7\" class=\"sk-toggleable__label sk-toggleable__label-arrow\">pipe_cat_odl</label><div class=\"sk-toggleable__content\"><pre>[&#x27;Product_importance&#x27;]</pre></div></div></div><div class=\"sk-serial\"><div class=\"sk-item\"><div class=\"sk-serial\"><div class=\"sk-item\"><div class=\"sk-estimator sk-toggleable\"><input class=\"sk-toggleable__control sk-hidden--visually\" id=\"sk-estimator-id-8\" type=\"checkbox\" ><label for=\"sk-estimator-id-8\" class=\"sk-toggleable__label sk-toggleable__label-arrow\">OrdinalEncoder</label><div class=\"sk-toggleable__content\"><pre>OrdinalEncoder(categories=[[&#x27;low&#x27;, &#x27;medium&#x27;, &#x27;high&#x27;]])</pre></div></div></div></div></div></div></div></div></div></div><div class=\"sk-item\"><div class=\"sk-estimator sk-toggleable\"><input class=\"sk-toggleable__control sk-hidden--visually\" id=\"sk-estimator-id-9\" type=\"checkbox\" ><label for=\"sk-estimator-id-9\" class=\"sk-toggleable__label sk-toggleable__label-arrow\">KNeighborsClassifier</label><div class=\"sk-toggleable__content\"><pre>KNeighborsClassifier()</pre></div></div></div></div></div></div></div>"
      ],
      "text/plain": [
       "Pipeline(steps=[('columntransformer',\n",
       "                 ColumnTransformer(transformers=[('pipe_num',\n",
       "                                                  Pipeline(steps=[('minmaxscaler',\n",
       "                                                                   MinMaxScaler())]),\n",
       "                                                  ['Customer_care_calls',\n",
       "                                                   'Customer_rating',\n",
       "                                                   'Cost_of_the_Product',\n",
       "                                                   'Prior_purchases',\n",
       "                                                   'Discount_offered',\n",
       "                                                   'Weight_in_gms']),\n",
       "                                                 ('pipe_cat_ohe',\n",
       "                                                  Pipeline(steps=[('onehotencoder',\n",
       "                                                                   OneHotEncoder(handle_unknown='ignore'))]),\n",
       "                                                  ['Mode_of_Shipment',\n",
       "                                                   'Warehouse_block']),\n",
       "                                                 ('pipe_cat_odl',\n",
       "                                                  Pipeline(steps=[('ordinalencoder',\n",
       "                                                                   OrdinalEncoder(categories=[['low',\n",
       "                                                                                               'medium',\n",
       "                                                                                               'high']]))]),\n",
       "                                                  ['Product_importance'])])),\n",
       "                ('kneighborsclassifier', KNeighborsClassifier())])"
      ]
     },
     "execution_count": 47,
     "metadata": {},
     "output_type": "execute_result"
    }
   ],
   "source": [
    "# Fit Train\n",
    "knn.fit(X_train, y_train)"
   ]
  },
  {
   "cell_type": "markdown",
   "metadata": {},
   "source": [
    "**Support Vector Machine**"
   ]
  },
  {
   "cell_type": "code",
   "execution_count": 48,
   "metadata": {},
   "outputs": [
    {
     "data": {
      "text/html": [
       "<style>#sk-container-id-2 {color: black;}#sk-container-id-2 pre{padding: 0;}#sk-container-id-2 div.sk-toggleable {background-color: white;}#sk-container-id-2 label.sk-toggleable__label {cursor: pointer;display: block;width: 100%;margin-bottom: 0;padding: 0.3em;box-sizing: border-box;text-align: center;}#sk-container-id-2 label.sk-toggleable__label-arrow:before {content: \"▸\";float: left;margin-right: 0.25em;color: #696969;}#sk-container-id-2 label.sk-toggleable__label-arrow:hover:before {color: black;}#sk-container-id-2 div.sk-estimator:hover label.sk-toggleable__label-arrow:before {color: black;}#sk-container-id-2 div.sk-toggleable__content {max-height: 0;max-width: 0;overflow: hidden;text-align: left;background-color: #f0f8ff;}#sk-container-id-2 div.sk-toggleable__content pre {margin: 0.2em;color: black;border-radius: 0.25em;background-color: #f0f8ff;}#sk-container-id-2 input.sk-toggleable__control:checked~div.sk-toggleable__content {max-height: 200px;max-width: 100%;overflow: auto;}#sk-container-id-2 input.sk-toggleable__control:checked~label.sk-toggleable__label-arrow:before {content: \"▾\";}#sk-container-id-2 div.sk-estimator input.sk-toggleable__control:checked~label.sk-toggleable__label {background-color: #d4ebff;}#sk-container-id-2 div.sk-label input.sk-toggleable__control:checked~label.sk-toggleable__label {background-color: #d4ebff;}#sk-container-id-2 input.sk-hidden--visually {border: 0;clip: rect(1px 1px 1px 1px);clip: rect(1px, 1px, 1px, 1px);height: 1px;margin: -1px;overflow: hidden;padding: 0;position: absolute;width: 1px;}#sk-container-id-2 div.sk-estimator {font-family: monospace;background-color: #f0f8ff;border: 1px dotted black;border-radius: 0.25em;box-sizing: border-box;margin-bottom: 0.5em;}#sk-container-id-2 div.sk-estimator:hover {background-color: #d4ebff;}#sk-container-id-2 div.sk-parallel-item::after {content: \"\";width: 100%;border-bottom: 1px solid gray;flex-grow: 1;}#sk-container-id-2 div.sk-label:hover label.sk-toggleable__label {background-color: #d4ebff;}#sk-container-id-2 div.sk-serial::before {content: \"\";position: absolute;border-left: 1px solid gray;box-sizing: border-box;top: 0;bottom: 0;left: 50%;z-index: 0;}#sk-container-id-2 div.sk-serial {display: flex;flex-direction: column;align-items: center;background-color: white;padding-right: 0.2em;padding-left: 0.2em;position: relative;}#sk-container-id-2 div.sk-item {position: relative;z-index: 1;}#sk-container-id-2 div.sk-parallel {display: flex;align-items: stretch;justify-content: center;background-color: white;position: relative;}#sk-container-id-2 div.sk-item::before, #sk-container-id-2 div.sk-parallel-item::before {content: \"\";position: absolute;border-left: 1px solid gray;box-sizing: border-box;top: 0;bottom: 0;left: 50%;z-index: -1;}#sk-container-id-2 div.sk-parallel-item {display: flex;flex-direction: column;z-index: 1;position: relative;background-color: white;}#sk-container-id-2 div.sk-parallel-item:first-child::after {align-self: flex-end;width: 50%;}#sk-container-id-2 div.sk-parallel-item:last-child::after {align-self: flex-start;width: 50%;}#sk-container-id-2 div.sk-parallel-item:only-child::after {width: 0;}#sk-container-id-2 div.sk-dashed-wrapped {border: 1px dashed gray;margin: 0 0.4em 0.5em 0.4em;box-sizing: border-box;padding-bottom: 0.4em;background-color: white;}#sk-container-id-2 div.sk-label label {font-family: monospace;font-weight: bold;display: inline-block;line-height: 1.2em;}#sk-container-id-2 div.sk-label-container {text-align: center;}#sk-container-id-2 div.sk-container {/* jupyter's `normalize.less` sets `[hidden] { display: none; }` but bootstrap.min.css set `[hidden] { display: none !important; }` so we also need the `!important` here to be able to override the default hidden behavior on the sphinx rendered scikit-learn.org. See: https://github.com/scikit-learn/scikit-learn/issues/21755 */display: inline-block !important;position: relative;}#sk-container-id-2 div.sk-text-repr-fallback {display: none;}</style><div id=\"sk-container-id-2\" class=\"sk-top-container\"><div class=\"sk-text-repr-fallback\"><pre>Pipeline(steps=[(&#x27;columntransformer&#x27;,\n",
       "                 ColumnTransformer(transformers=[(&#x27;pipe_num&#x27;,\n",
       "                                                  Pipeline(steps=[(&#x27;minmaxscaler&#x27;,\n",
       "                                                                   MinMaxScaler())]),\n",
       "                                                  [&#x27;Customer_care_calls&#x27;,\n",
       "                                                   &#x27;Customer_rating&#x27;,\n",
       "                                                   &#x27;Cost_of_the_Product&#x27;,\n",
       "                                                   &#x27;Prior_purchases&#x27;,\n",
       "                                                   &#x27;Discount_offered&#x27;,\n",
       "                                                   &#x27;Weight_in_gms&#x27;]),\n",
       "                                                 (&#x27;pipe_cat_ohe&#x27;,\n",
       "                                                  Pipeline(steps=[(&#x27;onehotencoder&#x27;,\n",
       "                                                                   OneHotEncoder(handle_unknown=&#x27;ignore&#x27;))]),\n",
       "                                                  [&#x27;Mode_of_Shipment&#x27;,\n",
       "                                                   &#x27;Warehouse_block&#x27;]),\n",
       "                                                 (&#x27;pipe_cat_odl&#x27;,\n",
       "                                                  Pipeline(steps=[(&#x27;ordinalencoder&#x27;,\n",
       "                                                                   OrdinalEncoder(categories=[[&#x27;low&#x27;,\n",
       "                                                                                               &#x27;medium&#x27;,\n",
       "                                                                                               &#x27;high&#x27;]]))]),\n",
       "                                                  [&#x27;Product_importance&#x27;])])),\n",
       "                (&#x27;svc&#x27;, SVC())])</pre><b>In a Jupyter environment, please rerun this cell to show the HTML representation or trust the notebook. <br />On GitHub, the HTML representation is unable to render, please try loading this page with nbviewer.org.</b></div><div class=\"sk-container\" hidden><div class=\"sk-item sk-dashed-wrapped\"><div class=\"sk-label-container\"><div class=\"sk-label sk-toggleable\"><input class=\"sk-toggleable__control sk-hidden--visually\" id=\"sk-estimator-id-10\" type=\"checkbox\" ><label for=\"sk-estimator-id-10\" class=\"sk-toggleable__label sk-toggleable__label-arrow\">Pipeline</label><div class=\"sk-toggleable__content\"><pre>Pipeline(steps=[(&#x27;columntransformer&#x27;,\n",
       "                 ColumnTransformer(transformers=[(&#x27;pipe_num&#x27;,\n",
       "                                                  Pipeline(steps=[(&#x27;minmaxscaler&#x27;,\n",
       "                                                                   MinMaxScaler())]),\n",
       "                                                  [&#x27;Customer_care_calls&#x27;,\n",
       "                                                   &#x27;Customer_rating&#x27;,\n",
       "                                                   &#x27;Cost_of_the_Product&#x27;,\n",
       "                                                   &#x27;Prior_purchases&#x27;,\n",
       "                                                   &#x27;Discount_offered&#x27;,\n",
       "                                                   &#x27;Weight_in_gms&#x27;]),\n",
       "                                                 (&#x27;pipe_cat_ohe&#x27;,\n",
       "                                                  Pipeline(steps=[(&#x27;onehotencoder&#x27;,\n",
       "                                                                   OneHotEncoder(handle_unknown=&#x27;ignore&#x27;))]),\n",
       "                                                  [&#x27;Mode_of_Shipment&#x27;,\n",
       "                                                   &#x27;Warehouse_block&#x27;]),\n",
       "                                                 (&#x27;pipe_cat_odl&#x27;,\n",
       "                                                  Pipeline(steps=[(&#x27;ordinalencoder&#x27;,\n",
       "                                                                   OrdinalEncoder(categories=[[&#x27;low&#x27;,\n",
       "                                                                                               &#x27;medium&#x27;,\n",
       "                                                                                               &#x27;high&#x27;]]))]),\n",
       "                                                  [&#x27;Product_importance&#x27;])])),\n",
       "                (&#x27;svc&#x27;, SVC())])</pre></div></div></div><div class=\"sk-serial\"><div class=\"sk-item sk-dashed-wrapped\"><div class=\"sk-label-container\"><div class=\"sk-label sk-toggleable\"><input class=\"sk-toggleable__control sk-hidden--visually\" id=\"sk-estimator-id-11\" type=\"checkbox\" ><label for=\"sk-estimator-id-11\" class=\"sk-toggleable__label sk-toggleable__label-arrow\">columntransformer: ColumnTransformer</label><div class=\"sk-toggleable__content\"><pre>ColumnTransformer(transformers=[(&#x27;pipe_num&#x27;,\n",
       "                                 Pipeline(steps=[(&#x27;minmaxscaler&#x27;,\n",
       "                                                  MinMaxScaler())]),\n",
       "                                 [&#x27;Customer_care_calls&#x27;, &#x27;Customer_rating&#x27;,\n",
       "                                  &#x27;Cost_of_the_Product&#x27;, &#x27;Prior_purchases&#x27;,\n",
       "                                  &#x27;Discount_offered&#x27;, &#x27;Weight_in_gms&#x27;]),\n",
       "                                (&#x27;pipe_cat_ohe&#x27;,\n",
       "                                 Pipeline(steps=[(&#x27;onehotencoder&#x27;,\n",
       "                                                  OneHotEncoder(handle_unknown=&#x27;ignore&#x27;))]),\n",
       "                                 [&#x27;Mode_of_Shipment&#x27;, &#x27;Warehouse_block&#x27;]),\n",
       "                                (&#x27;pipe_cat_odl&#x27;,\n",
       "                                 Pipeline(steps=[(&#x27;ordinalencoder&#x27;,\n",
       "                                                  OrdinalEncoder(categories=[[&#x27;low&#x27;,\n",
       "                                                                              &#x27;medium&#x27;,\n",
       "                                                                              &#x27;high&#x27;]]))]),\n",
       "                                 [&#x27;Product_importance&#x27;])])</pre></div></div></div><div class=\"sk-parallel\"><div class=\"sk-parallel-item\"><div class=\"sk-item\"><div class=\"sk-label-container\"><div class=\"sk-label sk-toggleable\"><input class=\"sk-toggleable__control sk-hidden--visually\" id=\"sk-estimator-id-12\" type=\"checkbox\" ><label for=\"sk-estimator-id-12\" class=\"sk-toggleable__label sk-toggleable__label-arrow\">pipe_num</label><div class=\"sk-toggleable__content\"><pre>[&#x27;Customer_care_calls&#x27;, &#x27;Customer_rating&#x27;, &#x27;Cost_of_the_Product&#x27;, &#x27;Prior_purchases&#x27;, &#x27;Discount_offered&#x27;, &#x27;Weight_in_gms&#x27;]</pre></div></div></div><div class=\"sk-serial\"><div class=\"sk-item\"><div class=\"sk-serial\"><div class=\"sk-item\"><div class=\"sk-estimator sk-toggleable\"><input class=\"sk-toggleable__control sk-hidden--visually\" id=\"sk-estimator-id-13\" type=\"checkbox\" ><label for=\"sk-estimator-id-13\" class=\"sk-toggleable__label sk-toggleable__label-arrow\">MinMaxScaler</label><div class=\"sk-toggleable__content\"><pre>MinMaxScaler()</pre></div></div></div></div></div></div></div></div><div class=\"sk-parallel-item\"><div class=\"sk-item\"><div class=\"sk-label-container\"><div class=\"sk-label sk-toggleable\"><input class=\"sk-toggleable__control sk-hidden--visually\" id=\"sk-estimator-id-14\" type=\"checkbox\" ><label for=\"sk-estimator-id-14\" class=\"sk-toggleable__label sk-toggleable__label-arrow\">pipe_cat_ohe</label><div class=\"sk-toggleable__content\"><pre>[&#x27;Mode_of_Shipment&#x27;, &#x27;Warehouse_block&#x27;]</pre></div></div></div><div class=\"sk-serial\"><div class=\"sk-item\"><div class=\"sk-serial\"><div class=\"sk-item\"><div class=\"sk-estimator sk-toggleable\"><input class=\"sk-toggleable__control sk-hidden--visually\" id=\"sk-estimator-id-15\" type=\"checkbox\" ><label for=\"sk-estimator-id-15\" class=\"sk-toggleable__label sk-toggleable__label-arrow\">OneHotEncoder</label><div class=\"sk-toggleable__content\"><pre>OneHotEncoder(handle_unknown=&#x27;ignore&#x27;)</pre></div></div></div></div></div></div></div></div><div class=\"sk-parallel-item\"><div class=\"sk-item\"><div class=\"sk-label-container\"><div class=\"sk-label sk-toggleable\"><input class=\"sk-toggleable__control sk-hidden--visually\" id=\"sk-estimator-id-16\" type=\"checkbox\" ><label for=\"sk-estimator-id-16\" class=\"sk-toggleable__label sk-toggleable__label-arrow\">pipe_cat_odl</label><div class=\"sk-toggleable__content\"><pre>[&#x27;Product_importance&#x27;]</pre></div></div></div><div class=\"sk-serial\"><div class=\"sk-item\"><div class=\"sk-serial\"><div class=\"sk-item\"><div class=\"sk-estimator sk-toggleable\"><input class=\"sk-toggleable__control sk-hidden--visually\" id=\"sk-estimator-id-17\" type=\"checkbox\" ><label for=\"sk-estimator-id-17\" class=\"sk-toggleable__label sk-toggleable__label-arrow\">OrdinalEncoder</label><div class=\"sk-toggleable__content\"><pre>OrdinalEncoder(categories=[[&#x27;low&#x27;, &#x27;medium&#x27;, &#x27;high&#x27;]])</pre></div></div></div></div></div></div></div></div></div></div><div class=\"sk-item\"><div class=\"sk-estimator sk-toggleable\"><input class=\"sk-toggleable__control sk-hidden--visually\" id=\"sk-estimator-id-18\" type=\"checkbox\" ><label for=\"sk-estimator-id-18\" class=\"sk-toggleable__label sk-toggleable__label-arrow\">SVC</label><div class=\"sk-toggleable__content\"><pre>SVC()</pre></div></div></div></div></div></div></div>"
      ],
      "text/plain": [
       "Pipeline(steps=[('columntransformer',\n",
       "                 ColumnTransformer(transformers=[('pipe_num',\n",
       "                                                  Pipeline(steps=[('minmaxscaler',\n",
       "                                                                   MinMaxScaler())]),\n",
       "                                                  ['Customer_care_calls',\n",
       "                                                   'Customer_rating',\n",
       "                                                   'Cost_of_the_Product',\n",
       "                                                   'Prior_purchases',\n",
       "                                                   'Discount_offered',\n",
       "                                                   'Weight_in_gms']),\n",
       "                                                 ('pipe_cat_ohe',\n",
       "                                                  Pipeline(steps=[('onehotencoder',\n",
       "                                                                   OneHotEncoder(handle_unknown='ignore'))]),\n",
       "                                                  ['Mode_of_Shipment',\n",
       "                                                   'Warehouse_block']),\n",
       "                                                 ('pipe_cat_odl',\n",
       "                                                  Pipeline(steps=[('ordinalencoder',\n",
       "                                                                   OrdinalEncoder(categories=[['low',\n",
       "                                                                                               'medium',\n",
       "                                                                                               'high']]))]),\n",
       "                                                  ['Product_importance'])])),\n",
       "                ('svc', SVC())])"
      ]
     },
     "execution_count": 48,
     "metadata": {},
     "output_type": "execute_result"
    }
   ],
   "source": [
    "# Fit Train\n",
    "svm.fit(X_train, y_train)"
   ]
  },
  {
   "cell_type": "markdown",
   "metadata": {},
   "source": [
    "**Decision Tree Classifier**"
   ]
  },
  {
   "cell_type": "code",
   "execution_count": 49,
   "metadata": {},
   "outputs": [
    {
     "data": {
      "text/html": [
       "<style>#sk-container-id-3 {color: black;}#sk-container-id-3 pre{padding: 0;}#sk-container-id-3 div.sk-toggleable {background-color: white;}#sk-container-id-3 label.sk-toggleable__label {cursor: pointer;display: block;width: 100%;margin-bottom: 0;padding: 0.3em;box-sizing: border-box;text-align: center;}#sk-container-id-3 label.sk-toggleable__label-arrow:before {content: \"▸\";float: left;margin-right: 0.25em;color: #696969;}#sk-container-id-3 label.sk-toggleable__label-arrow:hover:before {color: black;}#sk-container-id-3 div.sk-estimator:hover label.sk-toggleable__label-arrow:before {color: black;}#sk-container-id-3 div.sk-toggleable__content {max-height: 0;max-width: 0;overflow: hidden;text-align: left;background-color: #f0f8ff;}#sk-container-id-3 div.sk-toggleable__content pre {margin: 0.2em;color: black;border-radius: 0.25em;background-color: #f0f8ff;}#sk-container-id-3 input.sk-toggleable__control:checked~div.sk-toggleable__content {max-height: 200px;max-width: 100%;overflow: auto;}#sk-container-id-3 input.sk-toggleable__control:checked~label.sk-toggleable__label-arrow:before {content: \"▾\";}#sk-container-id-3 div.sk-estimator input.sk-toggleable__control:checked~label.sk-toggleable__label {background-color: #d4ebff;}#sk-container-id-3 div.sk-label input.sk-toggleable__control:checked~label.sk-toggleable__label {background-color: #d4ebff;}#sk-container-id-3 input.sk-hidden--visually {border: 0;clip: rect(1px 1px 1px 1px);clip: rect(1px, 1px, 1px, 1px);height: 1px;margin: -1px;overflow: hidden;padding: 0;position: absolute;width: 1px;}#sk-container-id-3 div.sk-estimator {font-family: monospace;background-color: #f0f8ff;border: 1px dotted black;border-radius: 0.25em;box-sizing: border-box;margin-bottom: 0.5em;}#sk-container-id-3 div.sk-estimator:hover {background-color: #d4ebff;}#sk-container-id-3 div.sk-parallel-item::after {content: \"\";width: 100%;border-bottom: 1px solid gray;flex-grow: 1;}#sk-container-id-3 div.sk-label:hover label.sk-toggleable__label {background-color: #d4ebff;}#sk-container-id-3 div.sk-serial::before {content: \"\";position: absolute;border-left: 1px solid gray;box-sizing: border-box;top: 0;bottom: 0;left: 50%;z-index: 0;}#sk-container-id-3 div.sk-serial {display: flex;flex-direction: column;align-items: center;background-color: white;padding-right: 0.2em;padding-left: 0.2em;position: relative;}#sk-container-id-3 div.sk-item {position: relative;z-index: 1;}#sk-container-id-3 div.sk-parallel {display: flex;align-items: stretch;justify-content: center;background-color: white;position: relative;}#sk-container-id-3 div.sk-item::before, #sk-container-id-3 div.sk-parallel-item::before {content: \"\";position: absolute;border-left: 1px solid gray;box-sizing: border-box;top: 0;bottom: 0;left: 50%;z-index: -1;}#sk-container-id-3 div.sk-parallel-item {display: flex;flex-direction: column;z-index: 1;position: relative;background-color: white;}#sk-container-id-3 div.sk-parallel-item:first-child::after {align-self: flex-end;width: 50%;}#sk-container-id-3 div.sk-parallel-item:last-child::after {align-self: flex-start;width: 50%;}#sk-container-id-3 div.sk-parallel-item:only-child::after {width: 0;}#sk-container-id-3 div.sk-dashed-wrapped {border: 1px dashed gray;margin: 0 0.4em 0.5em 0.4em;box-sizing: border-box;padding-bottom: 0.4em;background-color: white;}#sk-container-id-3 div.sk-label label {font-family: monospace;font-weight: bold;display: inline-block;line-height: 1.2em;}#sk-container-id-3 div.sk-label-container {text-align: center;}#sk-container-id-3 div.sk-container {/* jupyter's `normalize.less` sets `[hidden] { display: none; }` but bootstrap.min.css set `[hidden] { display: none !important; }` so we also need the `!important` here to be able to override the default hidden behavior on the sphinx rendered scikit-learn.org. See: https://github.com/scikit-learn/scikit-learn/issues/21755 */display: inline-block !important;position: relative;}#sk-container-id-3 div.sk-text-repr-fallback {display: none;}</style><div id=\"sk-container-id-3\" class=\"sk-top-container\"><div class=\"sk-text-repr-fallback\"><pre>Pipeline(steps=[(&#x27;columntransformer&#x27;,\n",
       "                 ColumnTransformer(transformers=[(&#x27;pipe_num&#x27;,\n",
       "                                                  Pipeline(steps=[(&#x27;minmaxscaler&#x27;,\n",
       "                                                                   MinMaxScaler())]),\n",
       "                                                  [&#x27;Customer_care_calls&#x27;,\n",
       "                                                   &#x27;Customer_rating&#x27;,\n",
       "                                                   &#x27;Cost_of_the_Product&#x27;,\n",
       "                                                   &#x27;Prior_purchases&#x27;,\n",
       "                                                   &#x27;Discount_offered&#x27;,\n",
       "                                                   &#x27;Weight_in_gms&#x27;]),\n",
       "                                                 (&#x27;pipe_cat_ohe&#x27;,\n",
       "                                                  Pipeline(steps=[(&#x27;onehotencoder&#x27;,\n",
       "                                                                   OneHotEncoder(handle_unknown=&#x27;ignore&#x27;))]),\n",
       "                                                  [&#x27;Mode_of_Shipment&#x27;,\n",
       "                                                   &#x27;Warehouse_block&#x27;]),\n",
       "                                                 (&#x27;pipe_cat_odl&#x27;,\n",
       "                                                  Pipeline(steps=[(&#x27;ordinalencoder&#x27;,\n",
       "                                                                   OrdinalEncoder(categories=[[&#x27;low&#x27;,\n",
       "                                                                                               &#x27;medium&#x27;,\n",
       "                                                                                               &#x27;high&#x27;]]))]),\n",
       "                                                  [&#x27;Product_importance&#x27;])])),\n",
       "                (&#x27;decisiontreeclassifier&#x27;, DecisionTreeClassifier())])</pre><b>In a Jupyter environment, please rerun this cell to show the HTML representation or trust the notebook. <br />On GitHub, the HTML representation is unable to render, please try loading this page with nbviewer.org.</b></div><div class=\"sk-container\" hidden><div class=\"sk-item sk-dashed-wrapped\"><div class=\"sk-label-container\"><div class=\"sk-label sk-toggleable\"><input class=\"sk-toggleable__control sk-hidden--visually\" id=\"sk-estimator-id-19\" type=\"checkbox\" ><label for=\"sk-estimator-id-19\" class=\"sk-toggleable__label sk-toggleable__label-arrow\">Pipeline</label><div class=\"sk-toggleable__content\"><pre>Pipeline(steps=[(&#x27;columntransformer&#x27;,\n",
       "                 ColumnTransformer(transformers=[(&#x27;pipe_num&#x27;,\n",
       "                                                  Pipeline(steps=[(&#x27;minmaxscaler&#x27;,\n",
       "                                                                   MinMaxScaler())]),\n",
       "                                                  [&#x27;Customer_care_calls&#x27;,\n",
       "                                                   &#x27;Customer_rating&#x27;,\n",
       "                                                   &#x27;Cost_of_the_Product&#x27;,\n",
       "                                                   &#x27;Prior_purchases&#x27;,\n",
       "                                                   &#x27;Discount_offered&#x27;,\n",
       "                                                   &#x27;Weight_in_gms&#x27;]),\n",
       "                                                 (&#x27;pipe_cat_ohe&#x27;,\n",
       "                                                  Pipeline(steps=[(&#x27;onehotencoder&#x27;,\n",
       "                                                                   OneHotEncoder(handle_unknown=&#x27;ignore&#x27;))]),\n",
       "                                                  [&#x27;Mode_of_Shipment&#x27;,\n",
       "                                                   &#x27;Warehouse_block&#x27;]),\n",
       "                                                 (&#x27;pipe_cat_odl&#x27;,\n",
       "                                                  Pipeline(steps=[(&#x27;ordinalencoder&#x27;,\n",
       "                                                                   OrdinalEncoder(categories=[[&#x27;low&#x27;,\n",
       "                                                                                               &#x27;medium&#x27;,\n",
       "                                                                                               &#x27;high&#x27;]]))]),\n",
       "                                                  [&#x27;Product_importance&#x27;])])),\n",
       "                (&#x27;decisiontreeclassifier&#x27;, DecisionTreeClassifier())])</pre></div></div></div><div class=\"sk-serial\"><div class=\"sk-item sk-dashed-wrapped\"><div class=\"sk-label-container\"><div class=\"sk-label sk-toggleable\"><input class=\"sk-toggleable__control sk-hidden--visually\" id=\"sk-estimator-id-20\" type=\"checkbox\" ><label for=\"sk-estimator-id-20\" class=\"sk-toggleable__label sk-toggleable__label-arrow\">columntransformer: ColumnTransformer</label><div class=\"sk-toggleable__content\"><pre>ColumnTransformer(transformers=[(&#x27;pipe_num&#x27;,\n",
       "                                 Pipeline(steps=[(&#x27;minmaxscaler&#x27;,\n",
       "                                                  MinMaxScaler())]),\n",
       "                                 [&#x27;Customer_care_calls&#x27;, &#x27;Customer_rating&#x27;,\n",
       "                                  &#x27;Cost_of_the_Product&#x27;, &#x27;Prior_purchases&#x27;,\n",
       "                                  &#x27;Discount_offered&#x27;, &#x27;Weight_in_gms&#x27;]),\n",
       "                                (&#x27;pipe_cat_ohe&#x27;,\n",
       "                                 Pipeline(steps=[(&#x27;onehotencoder&#x27;,\n",
       "                                                  OneHotEncoder(handle_unknown=&#x27;ignore&#x27;))]),\n",
       "                                 [&#x27;Mode_of_Shipment&#x27;, &#x27;Warehouse_block&#x27;]),\n",
       "                                (&#x27;pipe_cat_odl&#x27;,\n",
       "                                 Pipeline(steps=[(&#x27;ordinalencoder&#x27;,\n",
       "                                                  OrdinalEncoder(categories=[[&#x27;low&#x27;,\n",
       "                                                                              &#x27;medium&#x27;,\n",
       "                                                                              &#x27;high&#x27;]]))]),\n",
       "                                 [&#x27;Product_importance&#x27;])])</pre></div></div></div><div class=\"sk-parallel\"><div class=\"sk-parallel-item\"><div class=\"sk-item\"><div class=\"sk-label-container\"><div class=\"sk-label sk-toggleable\"><input class=\"sk-toggleable__control sk-hidden--visually\" id=\"sk-estimator-id-21\" type=\"checkbox\" ><label for=\"sk-estimator-id-21\" class=\"sk-toggleable__label sk-toggleable__label-arrow\">pipe_num</label><div class=\"sk-toggleable__content\"><pre>[&#x27;Customer_care_calls&#x27;, &#x27;Customer_rating&#x27;, &#x27;Cost_of_the_Product&#x27;, &#x27;Prior_purchases&#x27;, &#x27;Discount_offered&#x27;, &#x27;Weight_in_gms&#x27;]</pre></div></div></div><div class=\"sk-serial\"><div class=\"sk-item\"><div class=\"sk-serial\"><div class=\"sk-item\"><div class=\"sk-estimator sk-toggleable\"><input class=\"sk-toggleable__control sk-hidden--visually\" id=\"sk-estimator-id-22\" type=\"checkbox\" ><label for=\"sk-estimator-id-22\" class=\"sk-toggleable__label sk-toggleable__label-arrow\">MinMaxScaler</label><div class=\"sk-toggleable__content\"><pre>MinMaxScaler()</pre></div></div></div></div></div></div></div></div><div class=\"sk-parallel-item\"><div class=\"sk-item\"><div class=\"sk-label-container\"><div class=\"sk-label sk-toggleable\"><input class=\"sk-toggleable__control sk-hidden--visually\" id=\"sk-estimator-id-23\" type=\"checkbox\" ><label for=\"sk-estimator-id-23\" class=\"sk-toggleable__label sk-toggleable__label-arrow\">pipe_cat_ohe</label><div class=\"sk-toggleable__content\"><pre>[&#x27;Mode_of_Shipment&#x27;, &#x27;Warehouse_block&#x27;]</pre></div></div></div><div class=\"sk-serial\"><div class=\"sk-item\"><div class=\"sk-serial\"><div class=\"sk-item\"><div class=\"sk-estimator sk-toggleable\"><input class=\"sk-toggleable__control sk-hidden--visually\" id=\"sk-estimator-id-24\" type=\"checkbox\" ><label for=\"sk-estimator-id-24\" class=\"sk-toggleable__label sk-toggleable__label-arrow\">OneHotEncoder</label><div class=\"sk-toggleable__content\"><pre>OneHotEncoder(handle_unknown=&#x27;ignore&#x27;)</pre></div></div></div></div></div></div></div></div><div class=\"sk-parallel-item\"><div class=\"sk-item\"><div class=\"sk-label-container\"><div class=\"sk-label sk-toggleable\"><input class=\"sk-toggleable__control sk-hidden--visually\" id=\"sk-estimator-id-25\" type=\"checkbox\" ><label for=\"sk-estimator-id-25\" class=\"sk-toggleable__label sk-toggleable__label-arrow\">pipe_cat_odl</label><div class=\"sk-toggleable__content\"><pre>[&#x27;Product_importance&#x27;]</pre></div></div></div><div class=\"sk-serial\"><div class=\"sk-item\"><div class=\"sk-serial\"><div class=\"sk-item\"><div class=\"sk-estimator sk-toggleable\"><input class=\"sk-toggleable__control sk-hidden--visually\" id=\"sk-estimator-id-26\" type=\"checkbox\" ><label for=\"sk-estimator-id-26\" class=\"sk-toggleable__label sk-toggleable__label-arrow\">OrdinalEncoder</label><div class=\"sk-toggleable__content\"><pre>OrdinalEncoder(categories=[[&#x27;low&#x27;, &#x27;medium&#x27;, &#x27;high&#x27;]])</pre></div></div></div></div></div></div></div></div></div></div><div class=\"sk-item\"><div class=\"sk-estimator sk-toggleable\"><input class=\"sk-toggleable__control sk-hidden--visually\" id=\"sk-estimator-id-27\" type=\"checkbox\" ><label for=\"sk-estimator-id-27\" class=\"sk-toggleable__label sk-toggleable__label-arrow\">DecisionTreeClassifier</label><div class=\"sk-toggleable__content\"><pre>DecisionTreeClassifier()</pre></div></div></div></div></div></div></div>"
      ],
      "text/plain": [
       "Pipeline(steps=[('columntransformer',\n",
       "                 ColumnTransformer(transformers=[('pipe_num',\n",
       "                                                  Pipeline(steps=[('minmaxscaler',\n",
       "                                                                   MinMaxScaler())]),\n",
       "                                                  ['Customer_care_calls',\n",
       "                                                   'Customer_rating',\n",
       "                                                   'Cost_of_the_Product',\n",
       "                                                   'Prior_purchases',\n",
       "                                                   'Discount_offered',\n",
       "                                                   'Weight_in_gms']),\n",
       "                                                 ('pipe_cat_ohe',\n",
       "                                                  Pipeline(steps=[('onehotencoder',\n",
       "                                                                   OneHotEncoder(handle_unknown='ignore'))]),\n",
       "                                                  ['Mode_of_Shipment',\n",
       "                                                   'Warehouse_block']),\n",
       "                                                 ('pipe_cat_odl',\n",
       "                                                  Pipeline(steps=[('ordinalencoder',\n",
       "                                                                   OrdinalEncoder(categories=[['low',\n",
       "                                                                                               'medium',\n",
       "                                                                                               'high']]))]),\n",
       "                                                  ['Product_importance'])])),\n",
       "                ('decisiontreeclassifier', DecisionTreeClassifier())])"
      ]
     },
     "execution_count": 49,
     "metadata": {},
     "output_type": "execute_result"
    }
   ],
   "source": [
    "# Fit Train\n",
    "tree.fit(X_train, y_train)"
   ]
  },
  {
   "cell_type": "markdown",
   "metadata": {},
   "source": [
    "**Random Forest**"
   ]
  },
  {
   "cell_type": "code",
   "execution_count": 50,
   "metadata": {},
   "outputs": [
    {
     "data": {
      "text/html": [
       "<style>#sk-container-id-4 {color: black;}#sk-container-id-4 pre{padding: 0;}#sk-container-id-4 div.sk-toggleable {background-color: white;}#sk-container-id-4 label.sk-toggleable__label {cursor: pointer;display: block;width: 100%;margin-bottom: 0;padding: 0.3em;box-sizing: border-box;text-align: center;}#sk-container-id-4 label.sk-toggleable__label-arrow:before {content: \"▸\";float: left;margin-right: 0.25em;color: #696969;}#sk-container-id-4 label.sk-toggleable__label-arrow:hover:before {color: black;}#sk-container-id-4 div.sk-estimator:hover label.sk-toggleable__label-arrow:before {color: black;}#sk-container-id-4 div.sk-toggleable__content {max-height: 0;max-width: 0;overflow: hidden;text-align: left;background-color: #f0f8ff;}#sk-container-id-4 div.sk-toggleable__content pre {margin: 0.2em;color: black;border-radius: 0.25em;background-color: #f0f8ff;}#sk-container-id-4 input.sk-toggleable__control:checked~div.sk-toggleable__content {max-height: 200px;max-width: 100%;overflow: auto;}#sk-container-id-4 input.sk-toggleable__control:checked~label.sk-toggleable__label-arrow:before {content: \"▾\";}#sk-container-id-4 div.sk-estimator input.sk-toggleable__control:checked~label.sk-toggleable__label {background-color: #d4ebff;}#sk-container-id-4 div.sk-label input.sk-toggleable__control:checked~label.sk-toggleable__label {background-color: #d4ebff;}#sk-container-id-4 input.sk-hidden--visually {border: 0;clip: rect(1px 1px 1px 1px);clip: rect(1px, 1px, 1px, 1px);height: 1px;margin: -1px;overflow: hidden;padding: 0;position: absolute;width: 1px;}#sk-container-id-4 div.sk-estimator {font-family: monospace;background-color: #f0f8ff;border: 1px dotted black;border-radius: 0.25em;box-sizing: border-box;margin-bottom: 0.5em;}#sk-container-id-4 div.sk-estimator:hover {background-color: #d4ebff;}#sk-container-id-4 div.sk-parallel-item::after {content: \"\";width: 100%;border-bottom: 1px solid gray;flex-grow: 1;}#sk-container-id-4 div.sk-label:hover label.sk-toggleable__label {background-color: #d4ebff;}#sk-container-id-4 div.sk-serial::before {content: \"\";position: absolute;border-left: 1px solid gray;box-sizing: border-box;top: 0;bottom: 0;left: 50%;z-index: 0;}#sk-container-id-4 div.sk-serial {display: flex;flex-direction: column;align-items: center;background-color: white;padding-right: 0.2em;padding-left: 0.2em;position: relative;}#sk-container-id-4 div.sk-item {position: relative;z-index: 1;}#sk-container-id-4 div.sk-parallel {display: flex;align-items: stretch;justify-content: center;background-color: white;position: relative;}#sk-container-id-4 div.sk-item::before, #sk-container-id-4 div.sk-parallel-item::before {content: \"\";position: absolute;border-left: 1px solid gray;box-sizing: border-box;top: 0;bottom: 0;left: 50%;z-index: -1;}#sk-container-id-4 div.sk-parallel-item {display: flex;flex-direction: column;z-index: 1;position: relative;background-color: white;}#sk-container-id-4 div.sk-parallel-item:first-child::after {align-self: flex-end;width: 50%;}#sk-container-id-4 div.sk-parallel-item:last-child::after {align-self: flex-start;width: 50%;}#sk-container-id-4 div.sk-parallel-item:only-child::after {width: 0;}#sk-container-id-4 div.sk-dashed-wrapped {border: 1px dashed gray;margin: 0 0.4em 0.5em 0.4em;box-sizing: border-box;padding-bottom: 0.4em;background-color: white;}#sk-container-id-4 div.sk-label label {font-family: monospace;font-weight: bold;display: inline-block;line-height: 1.2em;}#sk-container-id-4 div.sk-label-container {text-align: center;}#sk-container-id-4 div.sk-container {/* jupyter's `normalize.less` sets `[hidden] { display: none; }` but bootstrap.min.css set `[hidden] { display: none !important; }` so we also need the `!important` here to be able to override the default hidden behavior on the sphinx rendered scikit-learn.org. See: https://github.com/scikit-learn/scikit-learn/issues/21755 */display: inline-block !important;position: relative;}#sk-container-id-4 div.sk-text-repr-fallback {display: none;}</style><div id=\"sk-container-id-4\" class=\"sk-top-container\"><div class=\"sk-text-repr-fallback\"><pre>Pipeline(steps=[(&#x27;columntransformer&#x27;,\n",
       "                 ColumnTransformer(transformers=[(&#x27;pipe_num&#x27;,\n",
       "                                                  Pipeline(steps=[(&#x27;minmaxscaler&#x27;,\n",
       "                                                                   MinMaxScaler())]),\n",
       "                                                  [&#x27;Customer_care_calls&#x27;,\n",
       "                                                   &#x27;Customer_rating&#x27;,\n",
       "                                                   &#x27;Cost_of_the_Product&#x27;,\n",
       "                                                   &#x27;Prior_purchases&#x27;,\n",
       "                                                   &#x27;Discount_offered&#x27;,\n",
       "                                                   &#x27;Weight_in_gms&#x27;]),\n",
       "                                                 (&#x27;pipe_cat_ohe&#x27;,\n",
       "                                                  Pipeline(steps=[(&#x27;onehotencoder&#x27;,\n",
       "                                                                   OneHotEncoder(handle_unknown=&#x27;ignore&#x27;))]),\n",
       "                                                  [&#x27;Mode_of_Shipment&#x27;,\n",
       "                                                   &#x27;Warehouse_block&#x27;]),\n",
       "                                                 (&#x27;pipe_cat_odl&#x27;,\n",
       "                                                  Pipeline(steps=[(&#x27;ordinalencoder&#x27;,\n",
       "                                                                   OrdinalEncoder(categories=[[&#x27;low&#x27;,\n",
       "                                                                                               &#x27;medium&#x27;,\n",
       "                                                                                               &#x27;high&#x27;]]))]),\n",
       "                                                  [&#x27;Product_importance&#x27;])])),\n",
       "                (&#x27;randomforestclassifier&#x27;, RandomForestClassifier())])</pre><b>In a Jupyter environment, please rerun this cell to show the HTML representation or trust the notebook. <br />On GitHub, the HTML representation is unable to render, please try loading this page with nbviewer.org.</b></div><div class=\"sk-container\" hidden><div class=\"sk-item sk-dashed-wrapped\"><div class=\"sk-label-container\"><div class=\"sk-label sk-toggleable\"><input class=\"sk-toggleable__control sk-hidden--visually\" id=\"sk-estimator-id-28\" type=\"checkbox\" ><label for=\"sk-estimator-id-28\" class=\"sk-toggleable__label sk-toggleable__label-arrow\">Pipeline</label><div class=\"sk-toggleable__content\"><pre>Pipeline(steps=[(&#x27;columntransformer&#x27;,\n",
       "                 ColumnTransformer(transformers=[(&#x27;pipe_num&#x27;,\n",
       "                                                  Pipeline(steps=[(&#x27;minmaxscaler&#x27;,\n",
       "                                                                   MinMaxScaler())]),\n",
       "                                                  [&#x27;Customer_care_calls&#x27;,\n",
       "                                                   &#x27;Customer_rating&#x27;,\n",
       "                                                   &#x27;Cost_of_the_Product&#x27;,\n",
       "                                                   &#x27;Prior_purchases&#x27;,\n",
       "                                                   &#x27;Discount_offered&#x27;,\n",
       "                                                   &#x27;Weight_in_gms&#x27;]),\n",
       "                                                 (&#x27;pipe_cat_ohe&#x27;,\n",
       "                                                  Pipeline(steps=[(&#x27;onehotencoder&#x27;,\n",
       "                                                                   OneHotEncoder(handle_unknown=&#x27;ignore&#x27;))]),\n",
       "                                                  [&#x27;Mode_of_Shipment&#x27;,\n",
       "                                                   &#x27;Warehouse_block&#x27;]),\n",
       "                                                 (&#x27;pipe_cat_odl&#x27;,\n",
       "                                                  Pipeline(steps=[(&#x27;ordinalencoder&#x27;,\n",
       "                                                                   OrdinalEncoder(categories=[[&#x27;low&#x27;,\n",
       "                                                                                               &#x27;medium&#x27;,\n",
       "                                                                                               &#x27;high&#x27;]]))]),\n",
       "                                                  [&#x27;Product_importance&#x27;])])),\n",
       "                (&#x27;randomforestclassifier&#x27;, RandomForestClassifier())])</pre></div></div></div><div class=\"sk-serial\"><div class=\"sk-item sk-dashed-wrapped\"><div class=\"sk-label-container\"><div class=\"sk-label sk-toggleable\"><input class=\"sk-toggleable__control sk-hidden--visually\" id=\"sk-estimator-id-29\" type=\"checkbox\" ><label for=\"sk-estimator-id-29\" class=\"sk-toggleable__label sk-toggleable__label-arrow\">columntransformer: ColumnTransformer</label><div class=\"sk-toggleable__content\"><pre>ColumnTransformer(transformers=[(&#x27;pipe_num&#x27;,\n",
       "                                 Pipeline(steps=[(&#x27;minmaxscaler&#x27;,\n",
       "                                                  MinMaxScaler())]),\n",
       "                                 [&#x27;Customer_care_calls&#x27;, &#x27;Customer_rating&#x27;,\n",
       "                                  &#x27;Cost_of_the_Product&#x27;, &#x27;Prior_purchases&#x27;,\n",
       "                                  &#x27;Discount_offered&#x27;, &#x27;Weight_in_gms&#x27;]),\n",
       "                                (&#x27;pipe_cat_ohe&#x27;,\n",
       "                                 Pipeline(steps=[(&#x27;onehotencoder&#x27;,\n",
       "                                                  OneHotEncoder(handle_unknown=&#x27;ignore&#x27;))]),\n",
       "                                 [&#x27;Mode_of_Shipment&#x27;, &#x27;Warehouse_block&#x27;]),\n",
       "                                (&#x27;pipe_cat_odl&#x27;,\n",
       "                                 Pipeline(steps=[(&#x27;ordinalencoder&#x27;,\n",
       "                                                  OrdinalEncoder(categories=[[&#x27;low&#x27;,\n",
       "                                                                              &#x27;medium&#x27;,\n",
       "                                                                              &#x27;high&#x27;]]))]),\n",
       "                                 [&#x27;Product_importance&#x27;])])</pre></div></div></div><div class=\"sk-parallel\"><div class=\"sk-parallel-item\"><div class=\"sk-item\"><div class=\"sk-label-container\"><div class=\"sk-label sk-toggleable\"><input class=\"sk-toggleable__control sk-hidden--visually\" id=\"sk-estimator-id-30\" type=\"checkbox\" ><label for=\"sk-estimator-id-30\" class=\"sk-toggleable__label sk-toggleable__label-arrow\">pipe_num</label><div class=\"sk-toggleable__content\"><pre>[&#x27;Customer_care_calls&#x27;, &#x27;Customer_rating&#x27;, &#x27;Cost_of_the_Product&#x27;, &#x27;Prior_purchases&#x27;, &#x27;Discount_offered&#x27;, &#x27;Weight_in_gms&#x27;]</pre></div></div></div><div class=\"sk-serial\"><div class=\"sk-item\"><div class=\"sk-serial\"><div class=\"sk-item\"><div class=\"sk-estimator sk-toggleable\"><input class=\"sk-toggleable__control sk-hidden--visually\" id=\"sk-estimator-id-31\" type=\"checkbox\" ><label for=\"sk-estimator-id-31\" class=\"sk-toggleable__label sk-toggleable__label-arrow\">MinMaxScaler</label><div class=\"sk-toggleable__content\"><pre>MinMaxScaler()</pre></div></div></div></div></div></div></div></div><div class=\"sk-parallel-item\"><div class=\"sk-item\"><div class=\"sk-label-container\"><div class=\"sk-label sk-toggleable\"><input class=\"sk-toggleable__control sk-hidden--visually\" id=\"sk-estimator-id-32\" type=\"checkbox\" ><label for=\"sk-estimator-id-32\" class=\"sk-toggleable__label sk-toggleable__label-arrow\">pipe_cat_ohe</label><div class=\"sk-toggleable__content\"><pre>[&#x27;Mode_of_Shipment&#x27;, &#x27;Warehouse_block&#x27;]</pre></div></div></div><div class=\"sk-serial\"><div class=\"sk-item\"><div class=\"sk-serial\"><div class=\"sk-item\"><div class=\"sk-estimator sk-toggleable\"><input class=\"sk-toggleable__control sk-hidden--visually\" id=\"sk-estimator-id-33\" type=\"checkbox\" ><label for=\"sk-estimator-id-33\" class=\"sk-toggleable__label sk-toggleable__label-arrow\">OneHotEncoder</label><div class=\"sk-toggleable__content\"><pre>OneHotEncoder(handle_unknown=&#x27;ignore&#x27;)</pre></div></div></div></div></div></div></div></div><div class=\"sk-parallel-item\"><div class=\"sk-item\"><div class=\"sk-label-container\"><div class=\"sk-label sk-toggleable\"><input class=\"sk-toggleable__control sk-hidden--visually\" id=\"sk-estimator-id-34\" type=\"checkbox\" ><label for=\"sk-estimator-id-34\" class=\"sk-toggleable__label sk-toggleable__label-arrow\">pipe_cat_odl</label><div class=\"sk-toggleable__content\"><pre>[&#x27;Product_importance&#x27;]</pre></div></div></div><div class=\"sk-serial\"><div class=\"sk-item\"><div class=\"sk-serial\"><div class=\"sk-item\"><div class=\"sk-estimator sk-toggleable\"><input class=\"sk-toggleable__control sk-hidden--visually\" id=\"sk-estimator-id-35\" type=\"checkbox\" ><label for=\"sk-estimator-id-35\" class=\"sk-toggleable__label sk-toggleable__label-arrow\">OrdinalEncoder</label><div class=\"sk-toggleable__content\"><pre>OrdinalEncoder(categories=[[&#x27;low&#x27;, &#x27;medium&#x27;, &#x27;high&#x27;]])</pre></div></div></div></div></div></div></div></div></div></div><div class=\"sk-item\"><div class=\"sk-estimator sk-toggleable\"><input class=\"sk-toggleable__control sk-hidden--visually\" id=\"sk-estimator-id-36\" type=\"checkbox\" ><label for=\"sk-estimator-id-36\" class=\"sk-toggleable__label sk-toggleable__label-arrow\">RandomForestClassifier</label><div class=\"sk-toggleable__content\"><pre>RandomForestClassifier()</pre></div></div></div></div></div></div></div>"
      ],
      "text/plain": [
       "Pipeline(steps=[('columntransformer',\n",
       "                 ColumnTransformer(transformers=[('pipe_num',\n",
       "                                                  Pipeline(steps=[('minmaxscaler',\n",
       "                                                                   MinMaxScaler())]),\n",
       "                                                  ['Customer_care_calls',\n",
       "                                                   'Customer_rating',\n",
       "                                                   'Cost_of_the_Product',\n",
       "                                                   'Prior_purchases',\n",
       "                                                   'Discount_offered',\n",
       "                                                   'Weight_in_gms']),\n",
       "                                                 ('pipe_cat_ohe',\n",
       "                                                  Pipeline(steps=[('onehotencoder',\n",
       "                                                                   OneHotEncoder(handle_unknown='ignore'))]),\n",
       "                                                  ['Mode_of_Shipment',\n",
       "                                                   'Warehouse_block']),\n",
       "                                                 ('pipe_cat_odl',\n",
       "                                                  Pipeline(steps=[('ordinalencoder',\n",
       "                                                                   OrdinalEncoder(categories=[['low',\n",
       "                                                                                               'medium',\n",
       "                                                                                               'high']]))]),\n",
       "                                                  ['Product_importance'])])),\n",
       "                ('randomforestclassifier', RandomForestClassifier())])"
      ]
     },
     "execution_count": 50,
     "metadata": {},
     "output_type": "execute_result"
    }
   ],
   "source": [
    "# Fit Train\n",
    "rdf.fit(X_train, y_train)"
   ]
  },
  {
   "cell_type": "markdown",
   "metadata": {},
   "source": [
    "**XGBClassifier**"
   ]
  },
  {
   "cell_type": "code",
   "execution_count": 51,
   "metadata": {},
   "outputs": [
    {
     "data": {
      "text/html": [
       "<style>#sk-container-id-5 {color: black;}#sk-container-id-5 pre{padding: 0;}#sk-container-id-5 div.sk-toggleable {background-color: white;}#sk-container-id-5 label.sk-toggleable__label {cursor: pointer;display: block;width: 100%;margin-bottom: 0;padding: 0.3em;box-sizing: border-box;text-align: center;}#sk-container-id-5 label.sk-toggleable__label-arrow:before {content: \"▸\";float: left;margin-right: 0.25em;color: #696969;}#sk-container-id-5 label.sk-toggleable__label-arrow:hover:before {color: black;}#sk-container-id-5 div.sk-estimator:hover label.sk-toggleable__label-arrow:before {color: black;}#sk-container-id-5 div.sk-toggleable__content {max-height: 0;max-width: 0;overflow: hidden;text-align: left;background-color: #f0f8ff;}#sk-container-id-5 div.sk-toggleable__content pre {margin: 0.2em;color: black;border-radius: 0.25em;background-color: #f0f8ff;}#sk-container-id-5 input.sk-toggleable__control:checked~div.sk-toggleable__content {max-height: 200px;max-width: 100%;overflow: auto;}#sk-container-id-5 input.sk-toggleable__control:checked~label.sk-toggleable__label-arrow:before {content: \"▾\";}#sk-container-id-5 div.sk-estimator input.sk-toggleable__control:checked~label.sk-toggleable__label {background-color: #d4ebff;}#sk-container-id-5 div.sk-label input.sk-toggleable__control:checked~label.sk-toggleable__label {background-color: #d4ebff;}#sk-container-id-5 input.sk-hidden--visually {border: 0;clip: rect(1px 1px 1px 1px);clip: rect(1px, 1px, 1px, 1px);height: 1px;margin: -1px;overflow: hidden;padding: 0;position: absolute;width: 1px;}#sk-container-id-5 div.sk-estimator {font-family: monospace;background-color: #f0f8ff;border: 1px dotted black;border-radius: 0.25em;box-sizing: border-box;margin-bottom: 0.5em;}#sk-container-id-5 div.sk-estimator:hover {background-color: #d4ebff;}#sk-container-id-5 div.sk-parallel-item::after {content: \"\";width: 100%;border-bottom: 1px solid gray;flex-grow: 1;}#sk-container-id-5 div.sk-label:hover label.sk-toggleable__label {background-color: #d4ebff;}#sk-container-id-5 div.sk-serial::before {content: \"\";position: absolute;border-left: 1px solid gray;box-sizing: border-box;top: 0;bottom: 0;left: 50%;z-index: 0;}#sk-container-id-5 div.sk-serial {display: flex;flex-direction: column;align-items: center;background-color: white;padding-right: 0.2em;padding-left: 0.2em;position: relative;}#sk-container-id-5 div.sk-item {position: relative;z-index: 1;}#sk-container-id-5 div.sk-parallel {display: flex;align-items: stretch;justify-content: center;background-color: white;position: relative;}#sk-container-id-5 div.sk-item::before, #sk-container-id-5 div.sk-parallel-item::before {content: \"\";position: absolute;border-left: 1px solid gray;box-sizing: border-box;top: 0;bottom: 0;left: 50%;z-index: -1;}#sk-container-id-5 div.sk-parallel-item {display: flex;flex-direction: column;z-index: 1;position: relative;background-color: white;}#sk-container-id-5 div.sk-parallel-item:first-child::after {align-self: flex-end;width: 50%;}#sk-container-id-5 div.sk-parallel-item:last-child::after {align-self: flex-start;width: 50%;}#sk-container-id-5 div.sk-parallel-item:only-child::after {width: 0;}#sk-container-id-5 div.sk-dashed-wrapped {border: 1px dashed gray;margin: 0 0.4em 0.5em 0.4em;box-sizing: border-box;padding-bottom: 0.4em;background-color: white;}#sk-container-id-5 div.sk-label label {font-family: monospace;font-weight: bold;display: inline-block;line-height: 1.2em;}#sk-container-id-5 div.sk-label-container {text-align: center;}#sk-container-id-5 div.sk-container {/* jupyter's `normalize.less` sets `[hidden] { display: none; }` but bootstrap.min.css set `[hidden] { display: none !important; }` so we also need the `!important` here to be able to override the default hidden behavior on the sphinx rendered scikit-learn.org. See: https://github.com/scikit-learn/scikit-learn/issues/21755 */display: inline-block !important;position: relative;}#sk-container-id-5 div.sk-text-repr-fallback {display: none;}</style><div id=\"sk-container-id-5\" class=\"sk-top-container\"><div class=\"sk-text-repr-fallback\"><pre>Pipeline(steps=[(&#x27;columntransformer&#x27;,\n",
       "                 ColumnTransformer(transformers=[(&#x27;pipe_num&#x27;,\n",
       "                                                  Pipeline(steps=[(&#x27;minmaxscaler&#x27;,\n",
       "                                                                   MinMaxScaler())]),\n",
       "                                                  [&#x27;Customer_care_calls&#x27;,\n",
       "                                                   &#x27;Customer_rating&#x27;,\n",
       "                                                   &#x27;Cost_of_the_Product&#x27;,\n",
       "                                                   &#x27;Prior_purchases&#x27;,\n",
       "                                                   &#x27;Discount_offered&#x27;,\n",
       "                                                   &#x27;Weight_in_gms&#x27;]),\n",
       "                                                 (&#x27;pipe_cat_ohe&#x27;,\n",
       "                                                  Pipeline(steps=[(&#x27;onehotencoder&#x27;,\n",
       "                                                                   OneHotEncoder(handle_unknown=&#x27;ignore&#x27;))]),\n",
       "                                                  [&#x27;Mode_of_...\n",
       "                               feature_types=None, gamma=None, gpu_id=None,\n",
       "                               grow_policy=None, importance_type=None,\n",
       "                               interaction_constraints=None, learning_rate=None,\n",
       "                               max_bin=None, max_cat_threshold=None,\n",
       "                               max_cat_to_onehot=None, max_delta_step=None,\n",
       "                               max_depth=None, max_leaves=None,\n",
       "                               min_child_weight=None, missing=nan,\n",
       "                               monotone_constraints=None, n_estimators=100,\n",
       "                               n_jobs=None, num_parallel_tree=None,\n",
       "                               predictor=None, random_state=None, ...))])</pre><b>In a Jupyter environment, please rerun this cell to show the HTML representation or trust the notebook. <br />On GitHub, the HTML representation is unable to render, please try loading this page with nbviewer.org.</b></div><div class=\"sk-container\" hidden><div class=\"sk-item sk-dashed-wrapped\"><div class=\"sk-label-container\"><div class=\"sk-label sk-toggleable\"><input class=\"sk-toggleable__control sk-hidden--visually\" id=\"sk-estimator-id-37\" type=\"checkbox\" ><label for=\"sk-estimator-id-37\" class=\"sk-toggleable__label sk-toggleable__label-arrow\">Pipeline</label><div class=\"sk-toggleable__content\"><pre>Pipeline(steps=[(&#x27;columntransformer&#x27;,\n",
       "                 ColumnTransformer(transformers=[(&#x27;pipe_num&#x27;,\n",
       "                                                  Pipeline(steps=[(&#x27;minmaxscaler&#x27;,\n",
       "                                                                   MinMaxScaler())]),\n",
       "                                                  [&#x27;Customer_care_calls&#x27;,\n",
       "                                                   &#x27;Customer_rating&#x27;,\n",
       "                                                   &#x27;Cost_of_the_Product&#x27;,\n",
       "                                                   &#x27;Prior_purchases&#x27;,\n",
       "                                                   &#x27;Discount_offered&#x27;,\n",
       "                                                   &#x27;Weight_in_gms&#x27;]),\n",
       "                                                 (&#x27;pipe_cat_ohe&#x27;,\n",
       "                                                  Pipeline(steps=[(&#x27;onehotencoder&#x27;,\n",
       "                                                                   OneHotEncoder(handle_unknown=&#x27;ignore&#x27;))]),\n",
       "                                                  [&#x27;Mode_of_...\n",
       "                               feature_types=None, gamma=None, gpu_id=None,\n",
       "                               grow_policy=None, importance_type=None,\n",
       "                               interaction_constraints=None, learning_rate=None,\n",
       "                               max_bin=None, max_cat_threshold=None,\n",
       "                               max_cat_to_onehot=None, max_delta_step=None,\n",
       "                               max_depth=None, max_leaves=None,\n",
       "                               min_child_weight=None, missing=nan,\n",
       "                               monotone_constraints=None, n_estimators=100,\n",
       "                               n_jobs=None, num_parallel_tree=None,\n",
       "                               predictor=None, random_state=None, ...))])</pre></div></div></div><div class=\"sk-serial\"><div class=\"sk-item sk-dashed-wrapped\"><div class=\"sk-label-container\"><div class=\"sk-label sk-toggleable\"><input class=\"sk-toggleable__control sk-hidden--visually\" id=\"sk-estimator-id-38\" type=\"checkbox\" ><label for=\"sk-estimator-id-38\" class=\"sk-toggleable__label sk-toggleable__label-arrow\">columntransformer: ColumnTransformer</label><div class=\"sk-toggleable__content\"><pre>ColumnTransformer(transformers=[(&#x27;pipe_num&#x27;,\n",
       "                                 Pipeline(steps=[(&#x27;minmaxscaler&#x27;,\n",
       "                                                  MinMaxScaler())]),\n",
       "                                 [&#x27;Customer_care_calls&#x27;, &#x27;Customer_rating&#x27;,\n",
       "                                  &#x27;Cost_of_the_Product&#x27;, &#x27;Prior_purchases&#x27;,\n",
       "                                  &#x27;Discount_offered&#x27;, &#x27;Weight_in_gms&#x27;]),\n",
       "                                (&#x27;pipe_cat_ohe&#x27;,\n",
       "                                 Pipeline(steps=[(&#x27;onehotencoder&#x27;,\n",
       "                                                  OneHotEncoder(handle_unknown=&#x27;ignore&#x27;))]),\n",
       "                                 [&#x27;Mode_of_Shipment&#x27;, &#x27;Warehouse_block&#x27;]),\n",
       "                                (&#x27;pipe_cat_odl&#x27;,\n",
       "                                 Pipeline(steps=[(&#x27;ordinalencoder&#x27;,\n",
       "                                                  OrdinalEncoder(categories=[[&#x27;low&#x27;,\n",
       "                                                                              &#x27;medium&#x27;,\n",
       "                                                                              &#x27;high&#x27;]]))]),\n",
       "                                 [&#x27;Product_importance&#x27;])])</pre></div></div></div><div class=\"sk-parallel\"><div class=\"sk-parallel-item\"><div class=\"sk-item\"><div class=\"sk-label-container\"><div class=\"sk-label sk-toggleable\"><input class=\"sk-toggleable__control sk-hidden--visually\" id=\"sk-estimator-id-39\" type=\"checkbox\" ><label for=\"sk-estimator-id-39\" class=\"sk-toggleable__label sk-toggleable__label-arrow\">pipe_num</label><div class=\"sk-toggleable__content\"><pre>[&#x27;Customer_care_calls&#x27;, &#x27;Customer_rating&#x27;, &#x27;Cost_of_the_Product&#x27;, &#x27;Prior_purchases&#x27;, &#x27;Discount_offered&#x27;, &#x27;Weight_in_gms&#x27;]</pre></div></div></div><div class=\"sk-serial\"><div class=\"sk-item\"><div class=\"sk-serial\"><div class=\"sk-item\"><div class=\"sk-estimator sk-toggleable\"><input class=\"sk-toggleable__control sk-hidden--visually\" id=\"sk-estimator-id-40\" type=\"checkbox\" ><label for=\"sk-estimator-id-40\" class=\"sk-toggleable__label sk-toggleable__label-arrow\">MinMaxScaler</label><div class=\"sk-toggleable__content\"><pre>MinMaxScaler()</pre></div></div></div></div></div></div></div></div><div class=\"sk-parallel-item\"><div class=\"sk-item\"><div class=\"sk-label-container\"><div class=\"sk-label sk-toggleable\"><input class=\"sk-toggleable__control sk-hidden--visually\" id=\"sk-estimator-id-41\" type=\"checkbox\" ><label for=\"sk-estimator-id-41\" class=\"sk-toggleable__label sk-toggleable__label-arrow\">pipe_cat_ohe</label><div class=\"sk-toggleable__content\"><pre>[&#x27;Mode_of_Shipment&#x27;, &#x27;Warehouse_block&#x27;]</pre></div></div></div><div class=\"sk-serial\"><div class=\"sk-item\"><div class=\"sk-serial\"><div class=\"sk-item\"><div class=\"sk-estimator sk-toggleable\"><input class=\"sk-toggleable__control sk-hidden--visually\" id=\"sk-estimator-id-42\" type=\"checkbox\" ><label for=\"sk-estimator-id-42\" class=\"sk-toggleable__label sk-toggleable__label-arrow\">OneHotEncoder</label><div class=\"sk-toggleable__content\"><pre>OneHotEncoder(handle_unknown=&#x27;ignore&#x27;)</pre></div></div></div></div></div></div></div></div><div class=\"sk-parallel-item\"><div class=\"sk-item\"><div class=\"sk-label-container\"><div class=\"sk-label sk-toggleable\"><input class=\"sk-toggleable__control sk-hidden--visually\" id=\"sk-estimator-id-43\" type=\"checkbox\" ><label for=\"sk-estimator-id-43\" class=\"sk-toggleable__label sk-toggleable__label-arrow\">pipe_cat_odl</label><div class=\"sk-toggleable__content\"><pre>[&#x27;Product_importance&#x27;]</pre></div></div></div><div class=\"sk-serial\"><div class=\"sk-item\"><div class=\"sk-serial\"><div class=\"sk-item\"><div class=\"sk-estimator sk-toggleable\"><input class=\"sk-toggleable__control sk-hidden--visually\" id=\"sk-estimator-id-44\" type=\"checkbox\" ><label for=\"sk-estimator-id-44\" class=\"sk-toggleable__label sk-toggleable__label-arrow\">OrdinalEncoder</label><div class=\"sk-toggleable__content\"><pre>OrdinalEncoder(categories=[[&#x27;low&#x27;, &#x27;medium&#x27;, &#x27;high&#x27;]])</pre></div></div></div></div></div></div></div></div></div></div><div class=\"sk-item\"><div class=\"sk-estimator sk-toggleable\"><input class=\"sk-toggleable__control sk-hidden--visually\" id=\"sk-estimator-id-45\" type=\"checkbox\" ><label for=\"sk-estimator-id-45\" class=\"sk-toggleable__label sk-toggleable__label-arrow\">XGBClassifier</label><div class=\"sk-toggleable__content\"><pre>XGBClassifier(base_score=None, booster=None, callbacks=None,\n",
       "              colsample_bylevel=None, colsample_bynode=None,\n",
       "              colsample_bytree=None, early_stopping_rounds=None,\n",
       "              enable_categorical=False, eval_metric=None, feature_types=None,\n",
       "              gamma=None, gpu_id=None, grow_policy=None, importance_type=None,\n",
       "              interaction_constraints=None, learning_rate=None, max_bin=None,\n",
       "              max_cat_threshold=None, max_cat_to_onehot=None,\n",
       "              max_delta_step=None, max_depth=None, max_leaves=None,\n",
       "              min_child_weight=None, missing=nan, monotone_constraints=None,\n",
       "              n_estimators=100, n_jobs=None, num_parallel_tree=None,\n",
       "              predictor=None, random_state=None, ...)</pre></div></div></div></div></div></div></div>"
      ],
      "text/plain": [
       "Pipeline(steps=[('columntransformer',\n",
       "                 ColumnTransformer(transformers=[('pipe_num',\n",
       "                                                  Pipeline(steps=[('minmaxscaler',\n",
       "                                                                   MinMaxScaler())]),\n",
       "                                                  ['Customer_care_calls',\n",
       "                                                   'Customer_rating',\n",
       "                                                   'Cost_of_the_Product',\n",
       "                                                   'Prior_purchases',\n",
       "                                                   'Discount_offered',\n",
       "                                                   'Weight_in_gms']),\n",
       "                                                 ('pipe_cat_ohe',\n",
       "                                                  Pipeline(steps=[('onehotencoder',\n",
       "                                                                   OneHotEncoder(handle_unknown='ignore'))]),\n",
       "                                                  ['Mode_of_...\n",
       "                               feature_types=None, gamma=None, gpu_id=None,\n",
       "                               grow_policy=None, importance_type=None,\n",
       "                               interaction_constraints=None, learning_rate=None,\n",
       "                               max_bin=None, max_cat_threshold=None,\n",
       "                               max_cat_to_onehot=None, max_delta_step=None,\n",
       "                               max_depth=None, max_leaves=None,\n",
       "                               min_child_weight=None, missing=nan,\n",
       "                               monotone_constraints=None, n_estimators=100,\n",
       "                               n_jobs=None, num_parallel_tree=None,\n",
       "                               predictor=None, random_state=None, ...))])"
      ]
     },
     "execution_count": 51,
     "metadata": {},
     "output_type": "execute_result"
    }
   ],
   "source": [
    "# Fit Train\n",
    "xgb.fit(X_train, y_train)"
   ]
  },
  {
   "cell_type": "markdown",
   "metadata": {},
   "source": [
    "# 8.Model Evaluation\n",
    "\n",
    "Evaluasi model melibatkan pengujian akurasi model pada data pengujian setelah proses pelatihan model. Selama evaluasi model, fokus kami adalah untuk menemukan nilai recall tertinggi yang dapat diandalkan dalam memprediksi data."
   ]
  },
  {
   "cell_type": "markdown",
   "metadata": {},
   "source": [
    "**Cross Validation**"
   ]
  },
  {
   "cell_type": "code",
   "execution_count": 52,
   "metadata": {},
   "outputs": [
    {
     "name": "stdout",
     "output_type": "stream",
     "text": [
      "knn_model\n",
      "recall - All - Cross Validation  :  [0.66603235 0.66317793 0.64985728 0.65556613 0.61750714]\n",
      "recall - Mean - Cross Validation :  0.6504281636536632\n",
      "recall - Std - Cross Validation  :  0.017415887632574782\n",
      "recall - Range of Test-Set       :  0.6330122760210884 - 0.6678440512862379\n",
      "--------------------------------------------------\n",
      "svm_model\n",
      "recall - All - Cross Validation  :  [0.59276879 0.59276879 0.56327307 0.61655566 0.58896289]\n",
      "recall - Mean - Cross Validation :  0.5908658420551856\n",
      "recall - Std - Cross Validation  :  0.01692448730303267\n",
      "recall - Range of Test-Set       :  0.5739413547521529 - 0.6077903293582182\n",
      "--------------------------------------------------\n",
      "tree_model\n",
      "recall - All - Cross Validation  :  [0.70028544 0.68506185 0.72216936 0.70694577 0.68886775]\n",
      "recall - Mean - Cross Validation :  0.7006660323501427\n",
      "recall - Std - Cross Validation  :  0.013301603895186547\n",
      "recall - Range of Test-Set       :  0.6873644284549562 - 0.7139676362453292\n",
      "--------------------------------------------------\n",
      "rdf_model\n",
      "recall - All - Cross Validation  :  [0.66222645 0.64319696 0.63843958 0.62892483 0.62416746]\n",
      "recall - Mean - Cross Validation :  0.6393910561370124\n",
      "recall - Std - Cross Validation  :  0.013252510254218974\n",
      "recall - Range of Test-Set       :  0.6261385458827935 - 0.6526435663912313\n",
      "--------------------------------------------------\n",
      "xgb_model\n",
      "recall - All - Cross Validation  :  [0.63748811 0.66127498 0.66222645 0.65366318 0.64414843]\n",
      "recall - Mean - Cross Validation :  0.6517602283539486\n",
      "recall - Std - Cross Validation  :  0.009647034714090622\n",
      "recall - Range of Test-Set       :  0.642113193639858 - 0.6614072630680393\n",
      "--------------------------------------------------\n",
      "best model: tree_model\n",
      "cross-val mean: 0.7006660323501427\n"
     ]
    }
   ],
   "source": [
    "# set skfold\n",
    "skfold=StratifiedKFold(n_splits=5)\n",
    "# checking cross validation score\n",
    "cv_knn_model = cross_val_score(knn, X_train, y_train, cv=skfold, scoring=\"recall\")\n",
    "cv_svm_model = cross_val_score(svm, X_train, y_train, cv=skfold, scoring=\"recall\")\n",
    "cv_tree_model = cross_val_score(tree, X_train, y_train, cv=skfold, scoring=\"recall\")\n",
    "cv_rdf_model = cross_val_score(rdf, X_train, y_train, cv=skfold, scoring=\"recall\")\n",
    "cv_xgb_model = cross_val_score(xgb, X_train, y_train, cv=skfold, scoring=\"recall\")\n",
    "name_model = []\n",
    "cv_scores=0\n",
    "for cv,name in zip([cv_knn_model,cv_svm_model,cv_tree_model,cv_rdf_model,cv_xgb_model],['knn_model','svm_model','tree_model','rdf_model','xgb_model']):\n",
    "    print(name)\n",
    "    print('recall - All - Cross Validation  : ', cv)\n",
    "    print('recall - Mean - Cross Validation : ', cv.mean())\n",
    "    print('recall - Std - Cross Validation  : ', cv.std())\n",
    "    print('recall - Range of Test-Set       : ', (cv.mean()-cv.std()) , '-', (cv.mean()+cv.std()))\n",
    "    print('-'*50)\n",
    "    if cv.mean()>cv_scores:\n",
    "        cv_scores = cv.mean()\n",
    "        name_model = name\n",
    "    else:\n",
    "        pass\n",
    "print('best model:', name_model)\n",
    "print('cross-val mean:', cv_scores)"
   ]
  },
  {
   "cell_type": "markdown",
   "metadata": {},
   "source": [
    "**Cross-validation**\n",
    "\n",
    "Cross-validation adalah teknik yang digunakan untuk menilai performa model dengan lebih baik daripada hanya membagi dataset menjadi satu set data latihan dan satu set data pengujian. Dalam cross-validation, dataset dibagi menjadi beberapa lipatan (folds) sehingga model dapat diuji pada beberapa sub-kumpulan data yang berbeda.\n",
    "\n",
    "Dengan pengaturan n_splits=5, dataset akan dibagi menjadi 5 lipatan atau bagian yang setara. Proses cross-validation kemudian akan dilakukan dalam 5 iterasi, di mana pada setiap iterasi, salah satu lipatan akan digunakan sebagai data pengujian, sedangkan yang lainnya digunakan sebagai data pelatihan. Ini berarti model Anda akan diuji pada setiap lipatan yang berbeda, dan hasil pengujian akan diambil rata-ratanya untuk memberikan perkiraan kinerja model secara keseluruhan. Berdasarkan hasil Cross-validation dengan 5 lipatan, kami menemukan bahwa model terbaik adalah model Decision Tree, sehingga model Decision Tree akan digunakan dalam analisis kami.\n",
    "\n",
    "Hasil dari Recall mean merupakan nilai rata-rata dari recall yang dihasilkan dalam proses Cross-Validation. Ini memberikan perkiraan kinerja rata-rata model Anda pada data yang belum pernah dilihat sebelumnya. Semakin tinggi nilai \"recall mean,\" semakin baik model dalam mengenali kelas positif dalam situasi tertentu. Selain itu, semakin rendah standar deviasi, semakin konsisten kinerja model dalam berbagai iterasi cross-validation.\n",
    "\n"
   ]
  },
  {
   "cell_type": "markdown",
   "metadata": {},
   "source": [
    "## **Decision Tree Classifier**"
   ]
  },
  {
   "cell_type": "code",
   "execution_count": 53,
   "metadata": {},
   "outputs": [],
   "source": [
    "# membuat variable predict\n",
    "y_pred_train_tree = tree.predict(X_train)\n",
    "y_pred_test_tree = tree.predict(X_test)"
   ]
  },
  {
   "cell_type": "code",
   "execution_count": 54,
   "metadata": {},
   "outputs": [
    {
     "name": "stdout",
     "output_type": "stream",
     "text": [
      "recall Score - Test Set   :  0.7276205049732212 \n",
      "\n",
      "              precision    recall  f1-score   support\n",
      "\n",
      "           0       1.00      1.00      1.00      3542\n",
      "           1       1.00      1.00      1.00      5255\n",
      "\n",
      "    accuracy                           1.00      8797\n",
      "   macro avg       1.00      1.00      1.00      8797\n",
      "weighted avg       1.00      1.00      1.00      8797\n",
      "\n",
      "              precision    recall  f1-score   support\n",
      "\n",
      "           0       0.59      0.58      0.59       893\n",
      "           1       0.72      0.73      0.72      1307\n",
      "\n",
      "    accuracy                           0.67      2200\n",
      "   macro avg       0.65      0.65      0.65      2200\n",
      "weighted avg       0.67      0.67      0.67      2200\n",
      "\n"
     ]
    },
    {
     "data": {
      "text/plain": [
       "<sklearn.metrics._plot.confusion_matrix.ConfusionMatrixDisplay at 0x173ecc250>"
      ]
     },
     "execution_count": 54,
     "metadata": {},
     "output_type": "execute_result"
    },
    {
     "data": {
      "image/png": "[encoded data removed]",
      "text/plain": [
       "<Figure size 640x480 with 2 Axes>"
      ]
     },
     "metadata": {},
     "output_type": "display_data"
    }
   ],
   "source": [
    "# Model Evaluation - Train Set\n",
    "\n",
    "print('recall Score - Test Set   : ', recall_score(y_test, y_pred_test_tree), '\\n')\n",
    "print(classification_report(y_train, y_pred_train_tree))\n",
    "\n",
    "# Model Evaluation - Test Set\n",
    "\n",
    "print(classification_report(y_test, y_pred_test_tree))\n",
    "\n",
    "# Confusion Matrix - test Set\n",
    "cm_test_tree = confusion_matrix(y_test, y_pred_test_tree)\n",
    "ConfusionMatrixDisplay(cm_test_tree).plot()"
   ]
  },
  {
   "cell_type": "markdown",
   "metadata": {},
   "source": [
    "Setelah kita memiliki model terbaik, kami melakukan prediksi menggunakan dataset uji, namun hasil pengujian pada data uji menunjukkan kinerja yang kurang memuaskan. Sepertinya model yang kami kembangkan lebih cenderung untuk memprediksi angka positif, yaitu 1, seperti yang dapat dilihat dari skor dan tabel kebingungan (confusion matrix). Mesin mampu memprediksi banyak kasus True Positif sebanyak 951, sementara jumlah True Negatif hanya 517, dengan jumlah False Negatif sebanyak 376 dan False Positive sebanyak 356.\n",
    "\n",
    "Untuk mengatasi hal ini, kami melakukan penyetelan hyperparameter dengan menggunakan metode Grid Search. Tujuannya adalah untuk mencari kombinasi parameter terbaik yang dapat meningkatkan skor model dan menghasilkan kinerja yang lebih baik. Penting untuk diingat bahwa nilai-nilai ini bersifat dinamis dan dapat berubah dari waktu ke waktu seiring dengan pengujian dan penyetelan yang terus berlanjut."
   ]
  },
  {
   "cell_type": "markdown",
   "metadata": {},
   "source": [
    "## **Grid Search**"
   ]
  },
  {
   "cell_type": "code",
   "execution_count": 55,
   "metadata": {},
   "outputs": [
    {
     "data": {
      "text/plain": [
       "{'decisiontreeclassifier__criterion': ['gini', 'entropy'],\n",
       " 'decisiontreeclassifier__max_depth': [None, 10, 20, 30, 40],\n",
       " 'decisiontreeclassifier__min_samples_split': [2, 5, 10],\n",
       " 'decisiontreeclassifier__min_samples_leaf': [1, 2, 4]}"
      ]
     },
     "execution_count": 55,
     "metadata": {},
     "output_type": "execute_result"
    }
   ],
   "source": [
    "# set hyperparameter tuning\n",
    "param_grid_tree = {\n",
    "    'decisiontreeclassifier__criterion': ['gini', 'entropy'],\n",
    "    'decisiontreeclassifier__max_depth': [None, 10, 20, 30, 40],\n",
    "    'decisiontreeclassifier__min_samples_split': [2, 5, 10],\n",
    "    'decisiontreeclassifier__min_samples_leaf': [1, 2, 4],\n",
    "}\n",
    "param_grid_tree"
   ]
  },
  {
   "cell_type": "markdown",
   "metadata": {},
   "source": [
    "Kita beri beberapa Hyperparameter tuning yang kita dapat pada sklearn DecisionTreeClassifier bisa di dapakan disini https://scikit-learn.org/stable/modules/generated/sklearn.tree.DecisionTreeClassifier.html parameter yang kita masukan adalah :\n",
    "- criterion': ['gini', 'entropy','log_loss']\n",
    "- max_depth': [None, 10, 20, 30, 40]\n",
    "- min_samples_split': [2, 5, 10]\n",
    "- min_samples_leaf': [1, 2, 4]"
   ]
  },
  {
   "cell_type": "code",
   "execution_count": 56,
   "metadata": {},
   "outputs": [
    {
     "name": "stdout",
     "output_type": "stream",
     "text": [
      "Fitting 5 folds for each of 90 candidates, totalling 450 fits\n"
     ]
    },
    {
     "name": "stdout",
     "output_type": "stream",
     "text": [
      "[CV 5/5] END decisiontreeclassifier__criterion=gini, decisiontreeclassifier__max_depth=None, decisiontreeclassifier__min_samples_leaf=1, decisiontreeclassifier__min_samples_split=2;, score=(train=1.000, test=0.677) total time=   0.1s\n",
      "[CV 2/5] END decisiontreeclassifier__criterion=gini, decisiontreeclassifier__max_depth=None, decisiontreeclassifier__min_samples_leaf=1, decisiontreeclassifier__min_samples_split=2;, score=(train=1.000, test=0.684) total time=   0.1s\n",
      "[CV 4/5] END decisiontreeclassifier__criterion=gini, decisiontreeclassifier__max_depth=None, decisiontreeclassifier__min_samples_leaf=1, decisiontreeclassifier__min_samples_split=2;, score=(train=1.000, test=0.703) total time=   0.1s\n",
      "[CV 1/5] END decisiontreeclassifier__criterion=gini, decisiontreeclassifier__max_depth=None, decisiontreeclassifier__min_samples_leaf=1, decisiontreeclassifier__min_samples_split=2;, score=(train=1.000, test=0.702) total time=   0.1s\n",
      "[CV 3/5] END decisiontreeclassifier__criterion=gini, decisiontreeclassifier__max_depth=None, decisiontreeclassifier__min_samples_leaf=1, decisiontreeclassifier__min_samples_split=2;, score=(train=1.000, test=0.721) total time=   0.1s\n",
      "[CV 1/5] END decisiontreeclassifier__criterion=gini, decisiontreeclassifier__max_depth=None, decisiontreeclassifier__min_samples_leaf=1, decisiontreeclassifier__min_samples_split=5;, score=(train=0.946, test=0.688) total time=   0.0s\n",
      "[CV 5/5] END decisiontreeclassifier__criterion=gini, decisiontreeclassifier__max_depth=None, decisiontreeclassifier__min_samples_leaf=1, decisiontreeclassifier__min_samples_split=5;, score=(train=0.949, test=0.673) total time=   0.0s\n",
      "[CV 4/5] END decisiontreeclassifier__criterion=gini, decisiontreeclassifier__max_depth=None, decisiontreeclassifier__min_samples_leaf=1, decisiontreeclassifier__min_samples_split=5;, score=(train=0.946, test=0.685) total time=   0.1s\n",
      "[CV 2/5] END decisiontreeclassifier__criterion=gini, decisiontreeclassifier__max_depth=None, decisiontreeclassifier__min_samples_leaf=1, decisiontreeclassifier__min_samples_split=5;, score=(train=0.943, test=0.672) total time=   0.1s\n",
      "[CV 3/5] END decisiontreeclassifier__criterion=gini, decisiontreeclassifier__max_depth=None, decisiontreeclassifier__min_samples_leaf=1, decisiontreeclassifier__min_samples_split=5;, score=(train=0.951, test=0.711) total time=   0.1s\n",
      "[CV 1/5] END decisiontreeclassifier__criterion=gini, decisiontreeclassifier__max_depth=None, decisiontreeclassifier__min_samples_leaf=1, decisiontreeclassifier__min_samples_split=10;, score=(train=0.903, test=0.694) total time=   0.1s\n",
      "[CV 2/5] END decisiontreeclassifier__criterion=gini, decisiontreeclassifier__max_depth=None, decisiontreeclassifier__min_samples_leaf=1, decisiontreeclassifier__min_samples_split=10;, score=(train=0.903, test=0.674) total time=   0.1s\n",
      "[CV 4/5] END decisiontreeclassifier__criterion=gini, decisiontreeclassifier__max_depth=None, decisiontreeclassifier__min_samples_leaf=1, decisiontreeclassifier__min_samples_split=10;, score=(train=0.903, test=0.690) total time=   0.1s\n",
      "[CV 3/5] END decisiontreeclassifier__criterion=gini, decisiontreeclassifier__max_depth=None, decisiontreeclassifier__min_samples_leaf=1, decisiontreeclassifier__min_samples_split=10;, score=(train=0.903, test=0.717) total time=   0.1s\n",
      "[CV 5/5] END decisiontreeclassifier__criterion=gini, decisiontreeclassifier__max_depth=None, decisiontreeclassifier__min_samples_leaf=1, decisiontreeclassifier__min_samples_split=10;, score=(train=0.899, test=0.661) total time=   0.1s\n",
      "[CV 1/5] END decisiontreeclassifier__criterion=gini, decisiontreeclassifier__max_depth=None, decisiontreeclassifier__min_samples_leaf=2, decisiontreeclassifier__min_samples_split=2;, score=(train=0.921, test=0.671) total time=   0.1s\n",
      "[CV 2/5] END decisiontreeclassifier__criterion=gini, decisiontreeclassifier__max_depth=None, decisiontreeclassifier__min_samples_leaf=2, decisiontreeclassifier__min_samples_split=2;, score=(train=0.923, test=0.657) total time=   0.1s\n",
      "[CV 3/5] END decisiontreeclassifier__criterion=gini, decisiontreeclassifier__max_depth=None, decisiontreeclassifier__min_samples_leaf=2, decisiontreeclassifier__min_samples_split=2;, score=(train=0.924, test=0.693) total time=   0.1s\n",
      "[CV 4/5] END decisiontreeclassifier__criterion=gini, decisiontreeclassifier__max_depth=None, decisiontreeclassifier__min_samples_leaf=2, decisiontreeclassifier__min_samples_split=2;, score=(train=0.922, test=0.676) total time=   0.1s\n",
      "[CV 1/5] END decisiontreeclassifier__criterion=gini, decisiontreeclassifier__max_depth=None, decisiontreeclassifier__min_samples_leaf=2, decisiontreeclassifier__min_samples_split=5;, score=(train=0.915, test=0.674) total time=   0.1s\n",
      "[CV 5/5] END decisiontreeclassifier__criterion=gini, decisiontreeclassifier__max_depth=None, decisiontreeclassifier__min_samples_leaf=2, decisiontreeclassifier__min_samples_split=2;, score=(train=0.916, test=0.644) total time=   0.1s\n",
      "[CV 2/5] END decisiontreeclassifier__criterion=gini, decisiontreeclassifier__max_depth=None, decisiontreeclassifier__min_samples_leaf=2, decisiontreeclassifier__min_samples_split=5;, score=(train=0.912, test=0.657) total time=   0.1s\n",
      "[CV 4/5] END decisiontreeclassifier__criterion=gini, decisiontreeclassifier__max_depth=None, decisiontreeclassifier__min_samples_leaf=2, decisiontreeclassifier__min_samples_split=5;, score=(train=0.912, test=0.673) total time=   0.1s\n",
      "[CV 3/5] END decisiontreeclassifier__criterion=gini, decisiontreeclassifier__max_depth=None, decisiontreeclassifier__min_samples_leaf=2, decisiontreeclassifier__min_samples_split=5;, score=(train=0.920, test=0.682) total time=   0.1s\n",
      "[CV 5/5] END decisiontreeclassifier__criterion=gini, decisiontreeclassifier__max_depth=None, decisiontreeclassifier__min_samples_leaf=2, decisiontreeclassifier__min_samples_split=5;, score=(train=0.912, test=0.643) total time=   0.1s\n",
      "[CV 1/5] END decisiontreeclassifier__criterion=gini, decisiontreeclassifier__max_depth=None, decisiontreeclassifier__min_samples_leaf=2, decisiontreeclassifier__min_samples_split=10;, score=(train=0.895, test=0.686) total time=   0.1s\n",
      "[CV 3/5] END decisiontreeclassifier__criterion=gini, decisiontreeclassifier__max_depth=None, decisiontreeclassifier__min_samples_leaf=2, decisiontreeclassifier__min_samples_split=10;, score=(train=0.893, test=0.702) total time=   0.1s\n",
      "[CV 2/5] END decisiontreeclassifier__criterion=gini, decisiontreeclassifier__max_depth=None, decisiontreeclassifier__min_samples_leaf=2, decisiontreeclassifier__min_samples_split=10;, score=(train=0.900, test=0.676) total time=   0.1s\n",
      "[CV 5/5] END decisiontreeclassifier__criterion=gini, decisiontreeclassifier__max_depth=None, decisiontreeclassifier__min_samples_leaf=2, decisiontreeclassifier__min_samples_split=10;, score=(train=0.889, test=0.661) total time=   0.1s\n",
      "[CV 4/5] END decisiontreeclassifier__criterion=gini, decisiontreeclassifier__max_depth=None, decisiontreeclassifier__min_samples_leaf=2, decisiontreeclassifier__min_samples_split=10;, score=(train=0.898, test=0.685) total time=   0.1s\n",
      "[CV 1/5] END decisiontreeclassifier__criterion=gini, decisiontreeclassifier__max_depth=None, decisiontreeclassifier__min_samples_leaf=4, decisiontreeclassifier__min_samples_split=2;, score=(train=0.867, test=0.669) total time=   0.1s\n",
      "[CV 2/5] END decisiontreeclassifier__criterion=gini, decisiontreeclassifier__max_depth=None, decisiontreeclassifier__min_samples_leaf=4, decisiontreeclassifier__min_samples_split=2;, score=(train=0.883, test=0.676) total time=   0.1s\n",
      "[CV 3/5] END decisiontreeclassifier__criterion=gini, decisiontreeclassifier__max_depth=None, decisiontreeclassifier__min_samples_leaf=4, decisiontreeclassifier__min_samples_split=2;, score=(train=0.873, test=0.677) total time=   0.1s\n",
      "[CV 1/5] END decisiontreeclassifier__criterion=gini, decisiontreeclassifier__max_depth=None, decisiontreeclassifier__min_samples_leaf=4, decisiontreeclassifier__min_samples_split=5;, score=(train=0.866, test=0.674) total time=   0.1s\n",
      "[CV 4/5] END decisiontreeclassifier__criterion=gini, decisiontreeclassifier__max_depth=None, decisiontreeclassifier__min_samples_leaf=4, decisiontreeclassifier__min_samples_split=2;, score=(train=0.879, test=0.688) total time=   0.1s\n",
      "[CV 5/5] END decisiontreeclassifier__criterion=gini, decisiontreeclassifier__max_depth=None, decisiontreeclassifier__min_samples_leaf=4, decisiontreeclassifier__min_samples_split=2;, score=(train=0.874, test=0.670) total time=   0.1s\n",
      "[CV 2/5] END decisiontreeclassifier__criterion=gini, decisiontreeclassifier__max_depth=None, decisiontreeclassifier__min_samples_leaf=4, decisiontreeclassifier__min_samples_split=5;, score=(train=0.881, test=0.676) total time=   0.1s\n",
      "[CV 3/5] END decisiontreeclassifier__criterion=gini, decisiontreeclassifier__max_depth=None, decisiontreeclassifier__min_samples_leaf=4, decisiontreeclassifier__min_samples_split=5;, score=(train=0.874, test=0.683) total time=   0.1s\n",
      "[CV 4/5] END decisiontreeclassifier__criterion=gini, decisiontreeclassifier__max_depth=None, decisiontreeclassifier__min_samples_leaf=4, decisiontreeclassifier__min_samples_split=5;, score=(train=0.880, test=0.682) total time=   0.1s\n",
      "[CV 5/5] END decisiontreeclassifier__criterion=gini, decisiontreeclassifier__max_depth=None, decisiontreeclassifier__min_samples_leaf=4, decisiontreeclassifier__min_samples_split=5;, score=(train=0.874, test=0.670) total time=   0.1s\n",
      "[CV 5/5] END decisiontreeclassifier__criterion=gini, decisiontreeclassifier__max_depth=None, decisiontreeclassifier__min_samples_leaf=4, decisiontreeclassifier__min_samples_split=10;, score=(train=0.868, test=0.669) total time=   0.0s\n",
      "[CV 2/5] END decisiontreeclassifier__criterion=gini, decisiontreeclassifier__max_depth=None, decisiontreeclassifier__min_samples_leaf=4, decisiontreeclassifier__min_samples_split=10;, score=(train=0.885, test=0.687) total time=   0.1s\n",
      "[CV 3/5] END decisiontreeclassifier__criterion=gini, decisiontreeclassifier__max_depth=None, decisiontreeclassifier__min_samples_leaf=4, decisiontreeclassifier__min_samples_split=10;, score=(train=0.878, test=0.699) total time=   0.1s\n",
      "[CV 1/5] END decisiontreeclassifier__criterion=gini, decisiontreeclassifier__max_depth=None, decisiontreeclassifier__min_samples_leaf=4, decisiontreeclassifier__min_samples_split=10;, score=(train=0.866, test=0.688) total time=   0.1s\n",
      "[CV 1/5] END decisiontreeclassifier__criterion=gini, decisiontreeclassifier__max_depth=10, decisiontreeclassifier__min_samples_leaf=1, decisiontreeclassifier__min_samples_split=2;, score=(train=0.629, test=0.575) total time=   0.0s\n",
      "[CV 4/5] END decisiontreeclassifier__criterion=gini, decisiontreeclassifier__max_depth=None, decisiontreeclassifier__min_samples_leaf=4, decisiontreeclassifier__min_samples_split=10;, score=(train=0.881, test=0.686) total time=   0.1s\n",
      "[CV 2/5] END decisiontreeclassifier__criterion=gini, decisiontreeclassifier__max_depth=10, decisiontreeclassifier__min_samples_leaf=1, decisiontreeclassifier__min_samples_split=2;, score=(train=0.620, test=0.569) total time=   0.0s\n",
      "[CV 3/5] END decisiontreeclassifier__criterion=gini, decisiontreeclassifier__max_depth=10, decisiontreeclassifier__min_samples_leaf=1, decisiontreeclassifier__min_samples_split=2;, score=(train=0.631, test=0.556) total time=   0.0s\n",
      "[CV 4/5] END decisiontreeclassifier__criterion=gini, decisiontreeclassifier__max_depth=10, decisiontreeclassifier__min_samples_leaf=1, decisiontreeclassifier__min_samples_split=2;, score=(train=0.615, test=0.569) total time=   0.0s\n",
      "[CV 5/5] END decisiontreeclassifier__criterion=gini, decisiontreeclassifier__max_depth=10, decisiontreeclassifier__min_samples_leaf=1, decisiontreeclassifier__min_samples_split=5;, score=(train=0.620, test=0.573) total time=   0.0s\n",
      "[CV 5/5] END decisiontreeclassifier__criterion=gini, decisiontreeclassifier__max_depth=10, decisiontreeclassifier__min_samples_leaf=1, decisiontreeclassifier__min_samples_split=2;, score=(train=0.622, test=0.571) total time=   0.0s\n",
      "[CV 2/5] END decisiontreeclassifier__criterion=gini, decisiontreeclassifier__max_depth=10, decisiontreeclassifier__min_samples_leaf=1, decisiontreeclassifier__min_samples_split=5;, score=(train=0.617, test=0.564) total time=   0.0s\n",
      "[CV 1/5] END decisiontreeclassifier__criterion=gini, decisiontreeclassifier__max_depth=10, decisiontreeclassifier__min_samples_leaf=1, decisiontreeclassifier__min_samples_split=5;, score=(train=0.627, test=0.576) total time=   0.0s\n",
      "[CV 3/5] END decisiontreeclassifier__criterion=gini, decisiontreeclassifier__max_depth=10, decisiontreeclassifier__min_samples_leaf=1, decisiontreeclassifier__min_samples_split=5;, score=(train=0.628, test=0.557) total time=   0.0s\n",
      "[CV 4/5] END decisiontreeclassifier__criterion=gini, decisiontreeclassifier__max_depth=10, decisiontreeclassifier__min_samples_leaf=1, decisiontreeclassifier__min_samples_split=5;, score=(train=0.613, test=0.569) total time=   0.0s\n",
      "[CV 2/5] END decisiontreeclassifier__criterion=gini, decisiontreeclassifier__max_depth=10, decisiontreeclassifier__min_samples_leaf=1, decisiontreeclassifier__min_samples_split=10;, score=(train=0.614, test=0.563) total time=   0.0s\n",
      "[CV 1/5] END decisiontreeclassifier__criterion=gini, decisiontreeclassifier__max_depth=10, decisiontreeclassifier__min_samples_leaf=1, decisiontreeclassifier__min_samples_split=10;, score=(train=0.623, test=0.576) total time=   0.0s\n",
      "[CV 4/5] END decisiontreeclassifier__criterion=gini, decisiontreeclassifier__max_depth=10, decisiontreeclassifier__min_samples_leaf=1, decisiontreeclassifier__min_samples_split=10;, score=(train=0.612, test=0.574) total time=   0.0s\n",
      "[CV 1/5] END decisiontreeclassifier__criterion=gini, decisiontreeclassifier__max_depth=10, decisiontreeclassifier__min_samples_leaf=2, decisiontreeclassifier__min_samples_split=2;, score=(train=0.627, test=0.574) total time=   0.0s\n",
      "[CV 5/5] END decisiontreeclassifier__criterion=gini, decisiontreeclassifier__max_depth=10, decisiontreeclassifier__min_samples_leaf=2, decisiontreeclassifier__min_samples_split=2;, score=(train=0.618, test=0.567) total time=   0.0s\n",
      "[CV 2/5] END decisiontreeclassifier__criterion=gini, decisiontreeclassifier__max_depth=10, decisiontreeclassifier__min_samples_leaf=2, decisiontreeclassifier__min_samples_split=5;, score=(train=0.614, test=0.564) total time=   0.0s\n",
      "[CV 3/5] END decisiontreeclassifier__criterion=gini, decisiontreeclassifier__max_depth=10, decisiontreeclassifier__min_samples_leaf=2, decisiontreeclassifier__min_samples_split=2;, score=(train=0.626, test=0.550) total time=   0.0s\n",
      "[CV 4/5] END decisiontreeclassifier__criterion=gini, decisiontreeclassifier__max_depth=10, decisiontreeclassifier__min_samples_leaf=2, decisiontreeclassifier__min_samples_split=5;, score=(train=0.611, test=0.566) total time=   0.0s\n",
      "[CV 5/5] END decisiontreeclassifier__criterion=gini, decisiontreeclassifier__max_depth=10, decisiontreeclassifier__min_samples_leaf=1, decisiontreeclassifier__min_samples_split=10;, score=(train=0.618, test=0.572) total time=   0.0s\n",
      "[CV 3/5] END decisiontreeclassifier__criterion=gini, decisiontreeclassifier__max_depth=10, decisiontreeclassifier__min_samples_leaf=1, decisiontreeclassifier__min_samples_split=10;, score=(train=0.627, test=0.559) total time=   0.0s\n",
      "[CV 2/5] END decisiontreeclassifier__criterion=gini, decisiontreeclassifier__max_depth=10, decisiontreeclassifier__min_samples_leaf=2, decisiontreeclassifier__min_samples_split=2;, score=(train=0.616, test=0.566) total time=   0.0s\n",
      "[CV 1/5] END decisiontreeclassifier__criterion=gini, decisiontreeclassifier__max_depth=10, decisiontreeclassifier__min_samples_leaf=2, decisiontreeclassifier__min_samples_split=10;, score=(train=0.623, test=0.576) total time=   0.0s\n",
      "[CV 1/5] END decisiontreeclassifier__criterion=gini, decisiontreeclassifier__max_depth=10, decisiontreeclassifier__min_samples_leaf=2, decisiontreeclassifier__min_samples_split=5;, score=(train=0.626, test=0.576) total time=   0.0s\n",
      "[CV 3/5] END decisiontreeclassifier__criterion=gini, decisiontreeclassifier__max_depth=10, decisiontreeclassifier__min_samples_leaf=2, decisiontreeclassifier__min_samples_split=10;, score=(train=0.625, test=0.556) total time=   0.0s\n",
      "[CV 3/5] END decisiontreeclassifier__criterion=gini, decisiontreeclassifier__max_depth=10, decisiontreeclassifier__min_samples_leaf=2, decisiontreeclassifier__min_samples_split=5;, score=(train=0.627, test=0.548) total time=   0.0s\n",
      "[CV 5/5] END decisiontreeclassifier__criterion=gini, decisiontreeclassifier__max_depth=10, decisiontreeclassifier__min_samples_leaf=2, decisiontreeclassifier__min_samples_split=5;, score=(train=0.617, test=0.570) total time=   0.0s\n",
      "[CV 4/5] END decisiontreeclassifier__criterion=gini, decisiontreeclassifier__max_depth=10, decisiontreeclassifier__min_samples_leaf=2, decisiontreeclassifier__min_samples_split=2;, score=(train=0.612, test=0.565) total time=   0.0s\n",
      "[CV 5/5] END decisiontreeclassifier__criterion=gini, decisiontreeclassifier__max_depth=10, decisiontreeclassifier__min_samples_leaf=2, decisiontreeclassifier__min_samples_split=10;, score=(train=0.616, test=0.568) total time=   0.0s\n",
      "[CV 4/5] END decisiontreeclassifier__criterion=gini, decisiontreeclassifier__max_depth=10, decisiontreeclassifier__min_samples_leaf=4, decisiontreeclassifier__min_samples_split=2;, score=(train=0.613, test=0.572) total time=   0.0s\n",
      "[CV 2/5] END decisiontreeclassifier__criterion=gini, decisiontreeclassifier__max_depth=10, decisiontreeclassifier__min_samples_leaf=4, decisiontreeclassifier__min_samples_split=2;, score=(train=0.611, test=0.563) total time=   0.0s\n",
      "[CV 1/5] END decisiontreeclassifier__criterion=gini, decisiontreeclassifier__max_depth=10, decisiontreeclassifier__min_samples_leaf=4, decisiontreeclassifier__min_samples_split=5;, score=(train=0.622, test=0.575) total time=   0.0s\n",
      "[CV 2/5] END decisiontreeclassifier__criterion=gini, decisiontreeclassifier__max_depth=10, decisiontreeclassifier__min_samples_leaf=2, decisiontreeclassifier__min_samples_split=10;, score=(train=0.613, test=0.563) total time=   0.0s\n",
      "[CV 4/5] END decisiontreeclassifier__criterion=gini, decisiontreeclassifier__max_depth=10, decisiontreeclassifier__min_samples_leaf=2, decisiontreeclassifier__min_samples_split=10;, score=(train=0.611, test=0.574) total time=   0.0s\n",
      "[CV 5/5] END decisiontreeclassifier__criterion=gini, decisiontreeclassifier__max_depth=10, decisiontreeclassifier__min_samples_leaf=4, decisiontreeclassifier__min_samples_split=5;, score=(train=0.616, test=0.571) total time=   0.0s\n",
      "[CV 3/5] END decisiontreeclassifier__criterion=gini, decisiontreeclassifier__max_depth=10, decisiontreeclassifier__min_samples_leaf=4, decisiontreeclassifier__min_samples_split=5;, score=(train=0.628, test=0.558) total time=   0.0s\n",
      "[CV 5/5] END decisiontreeclassifier__criterion=gini, decisiontreeclassifier__max_depth=10, decisiontreeclassifier__min_samples_leaf=4, decisiontreeclassifier__min_samples_split=2;, score=(train=0.616, test=0.570) total time=   0.0s\n",
      "[CV 1/5] END decisiontreeclassifier__criterion=gini, decisiontreeclassifier__max_depth=10, decisiontreeclassifier__min_samples_leaf=4, decisiontreeclassifier__min_samples_split=2;, score=(train=0.622, test=0.575) total time=   0.0s\n",
      "[CV 3/5] END decisiontreeclassifier__criterion=gini, decisiontreeclassifier__max_depth=10, decisiontreeclassifier__min_samples_leaf=4, decisiontreeclassifier__min_samples_split=2;, score=(train=0.628, test=0.553) total time=   0.0s\n",
      "[CV 2/5] END decisiontreeclassifier__criterion=gini, decisiontreeclassifier__max_depth=10, decisiontreeclassifier__min_samples_leaf=4, decisiontreeclassifier__min_samples_split=5;, score=(train=0.612, test=0.563) total time=   0.0s\n",
      "[CV 2/5] END decisiontreeclassifier__criterion=gini, decisiontreeclassifier__max_depth=10, decisiontreeclassifier__min_samples_leaf=4, decisiontreeclassifier__min_samples_split=10;, score=(train=0.612, test=0.562) total time=   0.0s\n",
      "[CV 1/5] END decisiontreeclassifier__criterion=gini, decisiontreeclassifier__max_depth=10, decisiontreeclassifier__min_samples_leaf=4, decisiontreeclassifier__min_samples_split=10;, score=(train=0.621, test=0.575) total time=   0.0s\n",
      "[CV 4/5] END decisiontreeclassifier__criterion=gini, decisiontreeclassifier__max_depth=10, decisiontreeclassifier__min_samples_leaf=4, decisiontreeclassifier__min_samples_split=10;, score=(train=0.613, test=0.575) total time=   0.0s\n",
      "[CV 4/5] END decisiontreeclassifier__criterion=gini, decisiontreeclassifier__max_depth=10, decisiontreeclassifier__min_samples_leaf=4, decisiontreeclassifier__min_samples_split=5;, score=(train=0.613, test=0.571) total time=   0.0s\n",
      "[CV 3/5] END decisiontreeclassifier__criterion=gini, decisiontreeclassifier__max_depth=20, decisiontreeclassifier__min_samples_leaf=1, decisiontreeclassifier__min_samples_split=2;, score=(train=0.938, test=0.722) total time=   0.0s\n",
      "[CV 2/5] END decisiontreeclassifier__criterion=gini, decisiontreeclassifier__max_depth=20, decisiontreeclassifier__min_samples_leaf=1, decisiontreeclassifier__min_samples_split=5;, score=(train=0.879, test=0.657) total time=   0.1s\n",
      "[CV 1/5] END decisiontreeclassifier__criterion=gini, decisiontreeclassifier__max_depth=20, decisiontreeclassifier__min_samples_leaf=1, decisiontreeclassifier__min_samples_split=10;, score=(train=0.787, test=0.644) total time=   0.0s\n",
      "[CV 3/5] END decisiontreeclassifier__criterion=gini, decisiontreeclassifier__max_depth=10, decisiontreeclassifier__min_samples_leaf=4, decisiontreeclassifier__min_samples_split=10;, score=(train=0.628, test=0.559) total time=   0.0s\n",
      "[CV 5/5] END decisiontreeclassifier__criterion=gini, decisiontreeclassifier__max_depth=10, decisiontreeclassifier__min_samples_leaf=4, decisiontreeclassifier__min_samples_split=10;, score=(train=0.617, test=0.573) total time=   0.0s\n",
      "[CV 4/5] END decisiontreeclassifier__criterion=gini, decisiontreeclassifier__max_depth=20, decisiontreeclassifier__min_samples_leaf=2, decisiontreeclassifier__min_samples_split=2;, score=(train=0.762, test=0.620) total time=   0.0s\n",
      "[CV 5/5] END decisiontreeclassifier__criterion=gini, decisiontreeclassifier__max_depth=20, decisiontreeclassifier__min_samples_leaf=1, decisiontreeclassifier__min_samples_split=10;, score=(train=0.824, test=0.655) total time=   0.1s\n",
      "[CV 3/5] END decisiontreeclassifier__criterion=gini, decisiontreeclassifier__max_depth=20, decisiontreeclassifier__min_samples_leaf=2, decisiontreeclassifier__min_samples_split=5;, score=(train=0.883, test=0.695) total time=   0.0s\n",
      "[CV 4/5] END decisiontreeclassifier__criterion=gini, decisiontreeclassifier__max_depth=20, decisiontreeclassifier__min_samples_leaf=1, decisiontreeclassifier__min_samples_split=2;, score=(train=0.802, test=0.634) total time=   0.0s\n",
      "[CV 2/5] END decisiontreeclassifier__criterion=gini, decisiontreeclassifier__max_depth=20, decisiontreeclassifier__min_samples_leaf=1, decisiontreeclassifier__min_samples_split=10;, score=(train=0.858, test=0.663) total time=   0.0s\n",
      "[CV 2/5] END decisiontreeclassifier__criterion=gini, decisiontreeclassifier__max_depth=20, decisiontreeclassifier__min_samples_leaf=2, decisiontreeclassifier__min_samples_split=10;, score=(train=0.851, test=0.663) total time=   0.0s\n",
      "[CV 1/5] END decisiontreeclassifier__criterion=gini, decisiontreeclassifier__max_depth=20, decisiontreeclassifier__min_samples_leaf=1, decisiontreeclassifier__min_samples_split=2;, score=(train=0.837, test=0.645) total time=   0.0s\n",
      "[CV 3/5] END decisiontreeclassifier__criterion=gini, decisiontreeclassifier__max_depth=20, decisiontreeclassifier__min_samples_leaf=1, decisiontreeclassifier__min_samples_split=5;, score=(train=0.905, test=0.704) total time=   0.1s\n",
      "[CV 5/5] END decisiontreeclassifier__criterion=gini, decisiontreeclassifier__max_depth=20, decisiontreeclassifier__min_samples_leaf=2, decisiontreeclassifier__min_samples_split=2;, score=(train=0.833, test=0.643) total time=   0.0s\n",
      "[CV 1/5] END decisiontreeclassifier__criterion=gini, decisiontreeclassifier__max_depth=20, decisiontreeclassifier__min_samples_leaf=2, decisiontreeclassifier__min_samples_split=2;, score=(train=0.796, test=0.631) total time=   0.1s\n",
      "[CV 5/5] END decisiontreeclassifier__criterion=gini, decisiontreeclassifier__max_depth=20, decisiontreeclassifier__min_samples_leaf=1, decisiontreeclassifier__min_samples_split=2;, score=(train=0.877, test=0.657) total time=   0.0s\n",
      "[CV 4/5] END decisiontreeclassifier__criterion=gini, decisiontreeclassifier__max_depth=20, decisiontreeclassifier__min_samples_leaf=2, decisiontreeclassifier__min_samples_split=5;, score=(train=0.755, test=0.616) total time=   0.1s\n",
      "[CV 2/5] END decisiontreeclassifier__criterion=gini, decisiontreeclassifier__max_depth=20, decisiontreeclassifier__min_samples_leaf=1, decisiontreeclassifier__min_samples_split=2;, score=(train=0.918, test=0.669) total time=   0.0s\n",
      "[CV 4/5] END decisiontreeclassifier__criterion=gini, decisiontreeclassifier__max_depth=20, decisiontreeclassifier__min_samples_leaf=1, decisiontreeclassifier__min_samples_split=5;, score=(train=0.773, test=0.625) total time=   0.0s\n",
      "[CV 3/5] END decisiontreeclassifier__criterion=gini, decisiontreeclassifier__max_depth=20, decisiontreeclassifier__min_samples_leaf=2, decisiontreeclassifier__min_samples_split=10;, score=(train=0.865, test=0.701) total time=   0.0s\n",
      "[CV 3/5] END decisiontreeclassifier__criterion=gini, decisiontreeclassifier__max_depth=20, decisiontreeclassifier__min_samples_leaf=1, decisiontreeclassifier__min_samples_split=10;, score=(train=0.874, test=0.708) total time=   0.0s\n",
      "[CV 1/5] END decisiontreeclassifier__criterion=gini, decisiontreeclassifier__max_depth=20, decisiontreeclassifier__min_samples_leaf=2, decisiontreeclassifier__min_samples_split=5;, score=(train=0.794, test=0.633) total time=   0.0s\n",
      "[CV 1/5] END decisiontreeclassifier__criterion=gini, decisiontreeclassifier__max_depth=20, decisiontreeclassifier__min_samples_leaf=1, decisiontreeclassifier__min_samples_split=5;, score=(train=0.809, test=0.637) total time=   0.0s\n",
      "[CV 2/5] END decisiontreeclassifier__criterion=gini, decisiontreeclassifier__max_depth=20, decisiontreeclassifier__min_samples_leaf=2, decisiontreeclassifier__min_samples_split=2;, score=(train=0.868, test=0.648) total time=   0.1s\n",
      "[CV 4/5] END decisiontreeclassifier__criterion=gini, decisiontreeclassifier__max_depth=20, decisiontreeclassifier__min_samples_leaf=1, decisiontreeclassifier__min_samples_split=10;, score=(train=0.750, test=0.627) total time=   0.0s\n",
      "[CV 1/5] END decisiontreeclassifier__criterion=gini, decisiontreeclassifier__max_depth=20, decisiontreeclassifier__min_samples_leaf=4, decisiontreeclassifier__min_samples_split=2;, score=(train=0.818, test=0.659) total time=   0.1s\n",
      "[CV 4/5] END decisiontreeclassifier__criterion=gini, decisiontreeclassifier__max_depth=20, decisiontreeclassifier__min_samples_leaf=2, decisiontreeclassifier__min_samples_split=10;, score=(train=0.743, test=0.625) total time=   0.0s\n",
      "[CV 5/5] END decisiontreeclassifier__criterion=gini, decisiontreeclassifier__max_depth=20, decisiontreeclassifier__min_samples_leaf=1, decisiontreeclassifier__min_samples_split=5;, score=(train=0.851, test=0.651) total time=   0.1s\n",
      "[CV 2/5] END decisiontreeclassifier__criterion=gini, decisiontreeclassifier__max_depth=20, decisiontreeclassifier__min_samples_leaf=2, decisiontreeclassifier__min_samples_split=5;, score=(train=0.859, test=0.657) total time=   0.0s\n",
      "[CV 3/5] END decisiontreeclassifier__criterion=gini, decisiontreeclassifier__max_depth=20, decisiontreeclassifier__min_samples_leaf=2, decisiontreeclassifier__min_samples_split=2;, score=(train=0.886, test=0.684) total time=   0.0s\n",
      "[CV 4/5] END decisiontreeclassifier__criterion=gini, decisiontreeclassifier__max_depth=20, decisiontreeclassifier__min_samples_leaf=4, decisiontreeclassifier__min_samples_split=5;, score=(train=0.737, test=0.626) total time=   0.0s\n",
      "[CV 2/5] END decisiontreeclassifier__criterion=gini, decisiontreeclassifier__max_depth=20, decisiontreeclassifier__min_samples_leaf=4, decisiontreeclassifier__min_samples_split=2;, score=(train=0.836, test=0.657) total time=   0.0s\n",
      "[CV 5/5] END decisiontreeclassifier__criterion=gini, decisiontreeclassifier__max_depth=20, decisiontreeclassifier__min_samples_leaf=4, decisiontreeclassifier__min_samples_split=2;, score=(train=0.825, test=0.652) total time=   0.1s\n",
      "[CV 5/5] END decisiontreeclassifier__criterion=gini, decisiontreeclassifier__max_depth=20, decisiontreeclassifier__min_samples_leaf=2, decisiontreeclassifier__min_samples_split=10;, score=(train=0.817, test=0.640) total time=   0.0s\n",
      "[CV 3/5] END decisiontreeclassifier__criterion=gini, decisiontreeclassifier__max_depth=20, decisiontreeclassifier__min_samples_leaf=4, decisiontreeclassifier__min_samples_split=10;, score=(train=0.860, test=0.691) total time=   0.1s\n",
      "[CV 2/5] END decisiontreeclassifier__criterion=gini, decisiontreeclassifier__max_depth=30, decisiontreeclassifier__min_samples_leaf=1, decisiontreeclassifier__min_samples_split=2;, score=(train=1.000, test=0.689) total time=   0.0s\n",
      "[CV 5/5] END decisiontreeclassifier__criterion=gini, decisiontreeclassifier__max_depth=20, decisiontreeclassifier__min_samples_leaf=2, decisiontreeclassifier__min_samples_split=5;, score=(train=0.828, test=0.629) total time=   0.1s\n",
      "[CV 1/5] END decisiontreeclassifier__criterion=gini, decisiontreeclassifier__max_depth=20, decisiontreeclassifier__min_samples_leaf=4, decisiontreeclassifier__min_samples_split=5;, score=(train=0.819, test=0.657) total time=   0.0s\n",
      "[CV 1/5] END decisiontreeclassifier__criterion=gini, decisiontreeclassifier__max_depth=30, decisiontreeclassifier__min_samples_leaf=1, decisiontreeclassifier__min_samples_split=5;, score=(train=0.919, test=0.674) total time=   0.1s\n",
      "[CV 4/5] END decisiontreeclassifier__criterion=gini, decisiontreeclassifier__max_depth=20, decisiontreeclassifier__min_samples_leaf=4, decisiontreeclassifier__min_samples_split=10;, score=(train=0.739, test=0.627) total time=   0.0s\n",
      "[CV 1/5] END decisiontreeclassifier__criterion=gini, decisiontreeclassifier__max_depth=20, decisiontreeclassifier__min_samples_leaf=2, decisiontreeclassifier__min_samples_split=10;, score=(train=0.781, test=0.641) total time=   0.0s\n",
      "[CV 5/5] END decisiontreeclassifier__criterion=gini, decisiontreeclassifier__max_depth=20, decisiontreeclassifier__min_samples_leaf=4, decisiontreeclassifier__min_samples_split=5;, score=(train=0.825, test=0.657) total time=   0.1s\n",
      "[CV 5/5] END decisiontreeclassifier__criterion=gini, decisiontreeclassifier__max_depth=30, decisiontreeclassifier__min_samples_leaf=1, decisiontreeclassifier__min_samples_split=5;, score=(train=0.947, test=0.669) total time=   0.1s\n",
      "[CV 3/5] END decisiontreeclassifier__criterion=gini, decisiontreeclassifier__max_depth=20, decisiontreeclassifier__min_samples_leaf=4, decisiontreeclassifier__min_samples_split=2;, score=(train=0.855, test=0.680) total time=   0.1s\n",
      "[CV 3/5] END decisiontreeclassifier__criterion=gini, decisiontreeclassifier__max_depth=30, decisiontreeclassifier__min_samples_leaf=1, decisiontreeclassifier__min_samples_split=2;, score=(train=1.000, test=0.726) total time=   0.1s\n",
      "[CV 4/5] END decisiontreeclassifier__criterion=gini, decisiontreeclassifier__max_depth=30, decisiontreeclassifier__min_samples_leaf=1, decisiontreeclassifier__min_samples_split=10;, score=(train=0.871, test=0.676) total time=   0.0s\n",
      "[CV 5/5] END decisiontreeclassifier__criterion=gini, decisiontreeclassifier__max_depth=20, decisiontreeclassifier__min_samples_leaf=4, decisiontreeclassifier__min_samples_split=10;, score=(train=0.822, test=0.649) total time=   0.0s\n",
      "[CV 1/5] END decisiontreeclassifier__criterion=gini, decisiontreeclassifier__max_depth=20, decisiontreeclassifier__min_samples_leaf=4, decisiontreeclassifier__min_samples_split=10;, score=(train=0.820, test=0.666) total time=   0.1s\n",
      "[CV 2/5] END decisiontreeclassifier__criterion=gini, decisiontreeclassifier__max_depth=30, decisiontreeclassifier__min_samples_leaf=1, decisiontreeclassifier__min_samples_split=5;, score=(train=0.943, test=0.672) total time=   0.1s\n",
      "[CV 1/5] END decisiontreeclassifier__criterion=gini, decisiontreeclassifier__max_depth=30, decisiontreeclassifier__min_samples_leaf=1, decisiontreeclassifier__min_samples_split=10;, score=(train=0.883, test=0.689) total time=   0.1s\n",
      "[CV 4/5] END decisiontreeclassifier__criterion=gini, decisiontreeclassifier__max_depth=20, decisiontreeclassifier__min_samples_leaf=4, decisiontreeclassifier__min_samples_split=2;, score=(train=0.739, test=0.631) total time=   0.0s\n",
      "[CV 2/5] END decisiontreeclassifier__criterion=gini, decisiontreeclassifier__max_depth=20, decisiontreeclassifier__min_samples_leaf=4, decisiontreeclassifier__min_samples_split=5;, score=(train=0.835, test=0.660) total time=   0.1s\n",
      "[CV 5/5] END decisiontreeclassifier__criterion=gini, decisiontreeclassifier__max_depth=30, decisiontreeclassifier__min_samples_leaf=1, decisiontreeclassifier__min_samples_split=10;, score=(train=0.902, test=0.673) total time=   0.0s\n",
      "[CV 4/5] END decisiontreeclassifier__criterion=gini, decisiontreeclassifier__max_depth=30, decisiontreeclassifier__min_samples_leaf=1, decisiontreeclassifier__min_samples_split=2;, score=(train=0.948, test=0.676) total time=   0.1s\n",
      "[CV 3/5] END decisiontreeclassifier__criterion=gini, decisiontreeclassifier__max_depth=20, decisiontreeclassifier__min_samples_leaf=4, decisiontreeclassifier__min_samples_split=5;, score=(train=0.853, test=0.678) total time=   0.0s\n",
      "[CV 2/5] END decisiontreeclassifier__criterion=gini, decisiontreeclassifier__max_depth=20, decisiontreeclassifier__min_samples_leaf=4, decisiontreeclassifier__min_samples_split=10;, score=(train=0.838, test=0.673) total time=   0.0s\n",
      "[CV 3/5] END decisiontreeclassifier__criterion=gini, decisiontreeclassifier__max_depth=30, decisiontreeclassifier__min_samples_leaf=1, decisiontreeclassifier__min_samples_split=5;, score=(train=0.951, test=0.706) total time=   0.0s\n",
      "[CV 3/5] END decisiontreeclassifier__criterion=gini, decisiontreeclassifier__max_depth=30, decisiontreeclassifier__min_samples_leaf=2, decisiontreeclassifier__min_samples_split=2;, score=(train=0.923, test=0.687) total time=   0.0s\n",
      "[CV 1/5] END decisiontreeclassifier__criterion=gini, decisiontreeclassifier__max_depth=30, decisiontreeclassifier__min_samples_leaf=1, decisiontreeclassifier__min_samples_split=2;, score=(train=0.967, test=0.695) total time=   0.1s\n",
      "[CV 1/5] END decisiontreeclassifier__criterion=gini, decisiontreeclassifier__max_depth=30, decisiontreeclassifier__min_samples_leaf=2, decisiontreeclassifier__min_samples_split=2;, score=(train=0.898, test=0.657) total time=   0.0s\n",
      "[CV 2/5] END decisiontreeclassifier__criterion=gini, decisiontreeclassifier__max_depth=30, decisiontreeclassifier__min_samples_leaf=1, decisiontreeclassifier__min_samples_split=10;, score=(train=0.905, test=0.677) total time=   0.1s\n",
      "[CV 2/5] END decisiontreeclassifier__criterion=gini, decisiontreeclassifier__max_depth=30, decisiontreeclassifier__min_samples_leaf=2, decisiontreeclassifier__min_samples_split=5;, score=(train=0.913, test=0.657) total time=   0.0s\n",
      "[CV 5/5] END decisiontreeclassifier__criterion=gini, decisiontreeclassifier__max_depth=30, decisiontreeclassifier__min_samples_leaf=1, decisiontreeclassifier__min_samples_split=2;, score=(train=0.995, test=0.683) total time=   0.1s\n",
      "[CV 5/5] END decisiontreeclassifier__criterion=gini, decisiontreeclassifier__max_depth=30, decisiontreeclassifier__min_samples_leaf=2, decisiontreeclassifier__min_samples_split=10;, score=(train=0.887, test=0.658) total time=   0.0s\n",
      "[CV 4/5] END decisiontreeclassifier__criterion=gini, decisiontreeclassifier__max_depth=30, decisiontreeclassifier__min_samples_leaf=1, decisiontreeclassifier__min_samples_split=5;, score=(train=0.903, test=0.667) total time=   0.1s\n",
      "[CV 2/5] END decisiontreeclassifier__criterion=gini, decisiontreeclassifier__max_depth=30, decisiontreeclassifier__min_samples_leaf=2, decisiontreeclassifier__min_samples_split=2;, score=(train=0.922, test=0.670) total time=   0.0s\n",
      "[CV 1/5] END decisiontreeclassifier__criterion=gini, decisiontreeclassifier__max_depth=30, decisiontreeclassifier__min_samples_leaf=2, decisiontreeclassifier__min_samples_split=10;, score=(train=0.874, test=0.674) total time=   0.0s\n",
      "[CV 3/5] END decisiontreeclassifier__criterion=gini, decisiontreeclassifier__max_depth=30, decisiontreeclassifier__min_samples_leaf=1, decisiontreeclassifier__min_samples_split=10;, score=(train=0.901, test=0.715) total time=   0.0s\n",
      "[CV 4/5] END decisiontreeclassifier__criterion=gini, decisiontreeclassifier__max_depth=30, decisiontreeclassifier__min_samples_leaf=2, decisiontreeclassifier__min_samples_split=2;, score=(train=0.888, test=0.668) total time=   0.1s\n",
      "[CV 3/5] END decisiontreeclassifier__criterion=gini, decisiontreeclassifier__max_depth=30, decisiontreeclassifier__min_samples_leaf=2, decisiontreeclassifier__min_samples_split=5;, score=(train=0.918, test=0.683) total time=   0.0s\n",
      "[CV 3/5] END decisiontreeclassifier__criterion=gini, decisiontreeclassifier__max_depth=30, decisiontreeclassifier__min_samples_leaf=4, decisiontreeclassifier__min_samples_split=5;, score=(train=0.873, test=0.677) total time=   0.0s\n",
      "[CV 2/5] END decisiontreeclassifier__criterion=gini, decisiontreeclassifier__max_depth=30, decisiontreeclassifier__min_samples_leaf=4, decisiontreeclassifier__min_samples_split=10;, score=(train=0.886, test=0.696) total time=   0.0s\n",
      "[CV 2/5] END decisiontreeclassifier__criterion=gini, decisiontreeclassifier__max_depth=30, decisiontreeclassifier__min_samples_leaf=2, decisiontreeclassifier__min_samples_split=10;, score=(train=0.897, test=0.679) total time=   0.0s\n",
      "[CV 1/5] END decisiontreeclassifier__criterion=gini, decisiontreeclassifier__max_depth=30, decisiontreeclassifier__min_samples_leaf=4, decisiontreeclassifier__min_samples_split=2;, score=(train=0.865, test=0.670) total time=   0.1s\n",
      "[CV 5/5] END decisiontreeclassifier__criterion=gini, decisiontreeclassifier__max_depth=30, decisiontreeclassifier__min_samples_leaf=2, decisiontreeclassifier__min_samples_split=2;, score=(train=0.916, test=0.636) total time=   0.0s\n",
      "[CV 1/5] END decisiontreeclassifier__criterion=gini, decisiontreeclassifier__max_depth=40, decisiontreeclassifier__min_samples_leaf=1, decisiontreeclassifier__min_samples_split=2;, score=(train=0.998, test=0.704) total time=   0.1s\n",
      "[CV 4/5] END decisiontreeclassifier__criterion=gini, decisiontreeclassifier__max_depth=30, decisiontreeclassifier__min_samples_leaf=4, decisiontreeclassifier__min_samples_split=2;, score=(train=0.851, test=0.669) total time=   0.1s\n",
      "[CV 3/5] END decisiontreeclassifier__criterion=gini, decisiontreeclassifier__max_depth=30, decisiontreeclassifier__min_samples_leaf=2, decisiontreeclassifier__min_samples_split=10;, score=(train=0.891, test=0.702) total time=   0.0s\n",
      "[CV 4/5] END decisiontreeclassifier__criterion=gini, decisiontreeclassifier__max_depth=30, decisiontreeclassifier__min_samples_leaf=2, decisiontreeclassifier__min_samples_split=5;, score=(train=0.879, test=0.665) total time=   0.0s\n",
      "[CV 4/5] END decisiontreeclassifier__criterion=gini, decisiontreeclassifier__max_depth=30, decisiontreeclassifier__min_samples_leaf=4, decisiontreeclassifier__min_samples_split=5;, score=(train=0.853, test=0.673) total time=   0.0s\n",
      "[CV 3/5] END decisiontreeclassifier__criterion=gini, decisiontreeclassifier__max_depth=30, decisiontreeclassifier__min_samples_leaf=4, decisiontreeclassifier__min_samples_split=10;, score=(train=0.878, test=0.698) total time=   0.0s\n",
      "[CV 2/5] END decisiontreeclassifier__criterion=gini, decisiontreeclassifier__max_depth=30, decisiontreeclassifier__min_samples_leaf=4, decisiontreeclassifier__min_samples_split=2;, score=(train=0.882, test=0.681) total time=   0.0s\n",
      "[CV 1/5] END decisiontreeclassifier__criterion=gini, decisiontreeclassifier__max_depth=30, decisiontreeclassifier__min_samples_leaf=2, decisiontreeclassifier__min_samples_split=5;, score=(train=0.892, test=0.663) total time=   0.1s\n",
      "[CV 2/5] END decisiontreeclassifier__criterion=gini, decisiontreeclassifier__max_depth=40, decisiontreeclassifier__min_samples_leaf=1, decisiontreeclassifier__min_samples_split=2;, score=(train=1.000, test=0.688) total time=   0.0s\n",
      "[CV 5/5] END decisiontreeclassifier__criterion=gini, decisiontreeclassifier__max_depth=30, decisiontreeclassifier__min_samples_leaf=4, decisiontreeclassifier__min_samples_split=5;, score=(train=0.873, test=0.668) total time=   0.0s\n",
      "[CV 4/5] END decisiontreeclassifier__criterion=gini, decisiontreeclassifier__max_depth=30, decisiontreeclassifier__min_samples_leaf=4, decisiontreeclassifier__min_samples_split=10;, score=(train=0.856, test=0.681) total time=   0.0s\n",
      "[CV 4/5] END decisiontreeclassifier__criterion=gini, decisiontreeclassifier__max_depth=30, decisiontreeclassifier__min_samples_leaf=2, decisiontreeclassifier__min_samples_split=10;, score=(train=0.866, test=0.674) total time=   0.0s\n",
      "[CV 5/5] END decisiontreeclassifier__criterion=gini, decisiontreeclassifier__max_depth=30, decisiontreeclassifier__min_samples_leaf=2, decisiontreeclassifier__min_samples_split=5;, score=(train=0.911, test=0.653) total time=   0.0s\n",
      "[CV 3/5] END decisiontreeclassifier__criterion=gini, decisiontreeclassifier__max_depth=30, decisiontreeclassifier__min_samples_leaf=4, decisiontreeclassifier__min_samples_split=2;, score=(train=0.873, test=0.681) total time=   0.0s\n",
      "[CV 1/5] END decisiontreeclassifier__criterion=gini, decisiontreeclassifier__max_depth=30, decisiontreeclassifier__min_samples_leaf=4, decisiontreeclassifier__min_samples_split=10;, score=(train=0.864, test=0.687) total time=   0.0s\n",
      "[CV 5/5] END decisiontreeclassifier__criterion=gini, decisiontreeclassifier__max_depth=30, decisiontreeclassifier__min_samples_leaf=4, decisiontreeclassifier__min_samples_split=10;, score=(train=0.865, test=0.666) total time=   0.0s\n",
      "[CV 5/5] END decisiontreeclassifier__criterion=gini, decisiontreeclassifier__max_depth=40, decisiontreeclassifier__min_samples_leaf=1, decisiontreeclassifier__min_samples_split=2;, score=(train=1.000, test=0.674) total time=   0.0s\n",
      "[CV 3/5] END decisiontreeclassifier__criterion=gini, decisiontreeclassifier__max_depth=40, decisiontreeclassifier__min_samples_leaf=1, decisiontreeclassifier__min_samples_split=2;, score=(train=1.000, test=0.722) total time=   0.0s\n",
      "[CV 4/5] END decisiontreeclassifier__criterion=gini, decisiontreeclassifier__max_depth=40, decisiontreeclassifier__min_samples_leaf=1, decisiontreeclassifier__min_samples_split=5;, score=(train=0.946, test=0.680) total time=   0.0s\n",
      "[CV 2/5] END decisiontreeclassifier__criterion=gini, decisiontreeclassifier__max_depth=40, decisiontreeclassifier__min_samples_leaf=2, decisiontreeclassifier__min_samples_split=2;, score=(train=0.923, test=0.648) total time=   0.0s\n",
      "[CV 3/5] END decisiontreeclassifier__criterion=gini, decisiontreeclassifier__max_depth=40, decisiontreeclassifier__min_samples_leaf=1, decisiontreeclassifier__min_samples_split=10;, score=(train=0.903, test=0.716) total time=   0.0s\n",
      "[CV 4/5] END decisiontreeclassifier__criterion=gini, decisiontreeclassifier__max_depth=40, decisiontreeclassifier__min_samples_leaf=1, decisiontreeclassifier__min_samples_split=2;, score=(train=0.999, test=0.704) total time=   0.0s\n",
      "[CV 1/5] END decisiontreeclassifier__criterion=gini, decisiontreeclassifier__max_depth=40, decisiontreeclassifier__min_samples_leaf=2, decisiontreeclassifier__min_samples_split=5;, score=(train=0.913, test=0.671) total time=   0.0s\n",
      "[CV 5/5] END decisiontreeclassifier__criterion=gini, decisiontreeclassifier__max_depth=30, decisiontreeclassifier__min_samples_leaf=4, decisiontreeclassifier__min_samples_split=2;, score=(train=0.873, test=0.665) total time=   0.1s\n",
      "[CV 1/5] END decisiontreeclassifier__criterion=gini, decisiontreeclassifier__max_depth=40, decisiontreeclassifier__min_samples_leaf=1, decisiontreeclassifier__min_samples_split=5;, score=(train=0.945, test=0.693) total time=   0.1s\n",
      "[CV 5/5] END decisiontreeclassifier__criterion=gini, decisiontreeclassifier__max_depth=40, decisiontreeclassifier__min_samples_leaf=2, decisiontreeclassifier__min_samples_split=5;, score=(train=0.910, test=0.640) total time=   0.0s\n",
      "[CV 5/5] END decisiontreeclassifier__criterion=gini, decisiontreeclassifier__max_depth=40, decisiontreeclassifier__min_samples_leaf=1, decisiontreeclassifier__min_samples_split=5;, score=(train=0.950, test=0.668) total time=   0.0s\n",
      "[CV 3/5] END decisiontreeclassifier__criterion=gini, decisiontreeclassifier__max_depth=40, decisiontreeclassifier__min_samples_leaf=2, decisiontreeclassifier__min_samples_split=2;, score=(train=0.922, test=0.694) total time=   0.0s\n",
      "[CV 4/5] END decisiontreeclassifier__criterion=gini, decisiontreeclassifier__max_depth=40, decisiontreeclassifier__min_samples_leaf=1, decisiontreeclassifier__min_samples_split=10;, score=(train=0.904, test=0.695) total time=   0.0s\n",
      "[CV 2/5] END decisiontreeclassifier__criterion=gini, decisiontreeclassifier__max_depth=40, decisiontreeclassifier__min_samples_leaf=1, decisiontreeclassifier__min_samples_split=5;, score=(train=0.943, test=0.667) total time=   0.0s\n",
      "[CV 2/5] END decisiontreeclassifier__criterion=gini, decisiontreeclassifier__max_depth=40, decisiontreeclassifier__min_samples_leaf=2, decisiontreeclassifier__min_samples_split=5;, score=(train=0.913, test=0.652) total time=   0.1s\n",
      "[CV 1/5] END decisiontreeclassifier__criterion=gini, decisiontreeclassifier__max_depth=30, decisiontreeclassifier__min_samples_leaf=4, decisiontreeclassifier__min_samples_split=5;, score=(train=0.863, test=0.675) total time=   0.0s\n",
      "[CV 1/5] END decisiontreeclassifier__criterion=gini, decisiontreeclassifier__max_depth=40, decisiontreeclassifier__min_samples_leaf=2, decisiontreeclassifier__min_samples_split=10;, score=(train=0.892, test=0.686) total time=   0.0s\n",
      "[CV 1/5] END decisiontreeclassifier__criterion=gini, decisiontreeclassifier__max_depth=40, decisiontreeclassifier__min_samples_leaf=1, decisiontreeclassifier__min_samples_split=10;, score=(train=0.905, test=0.693) total time=   0.0s\n",
      "[CV 5/5] END decisiontreeclassifier__criterion=gini, decisiontreeclassifier__max_depth=40, decisiontreeclassifier__min_samples_leaf=1, decisiontreeclassifier__min_samples_split=10;, score=(train=0.902, test=0.671) total time=   0.0s\n",
      "[CV 4/5] END decisiontreeclassifier__criterion=gini, decisiontreeclassifier__max_depth=40, decisiontreeclassifier__min_samples_leaf=2, decisiontreeclassifier__min_samples_split=2;, score=(train=0.923, test=0.678) total time=   0.0s\n",
      "[CV 2/5] END decisiontreeclassifier__criterion=gini, decisiontreeclassifier__max_depth=30, decisiontreeclassifier__min_samples_leaf=4, decisiontreeclassifier__min_samples_split=5;, score=(train=0.880, test=0.676) total time=   0.0s\n",
      "[CV 3/5] END decisiontreeclassifier__criterion=gini, decisiontreeclassifier__max_depth=40, decisiontreeclassifier__min_samples_leaf=1, decisiontreeclassifier__min_samples_split=5;, score=(train=0.953, test=0.709) total time=   0.0s\n",
      "[CV 3/5] END decisiontreeclassifier__criterion=gini, decisiontreeclassifier__max_depth=40, decisiontreeclassifier__min_samples_leaf=2, decisiontreeclassifier__min_samples_split=5;, score=(train=0.920, test=0.689) total time=   0.0s\n",
      "[CV 2/5] END decisiontreeclassifier__criterion=gini, decisiontreeclassifier__max_depth=40, decisiontreeclassifier__min_samples_leaf=2, decisiontreeclassifier__min_samples_split=10;, score=(train=0.897, test=0.673) total time=   0.0s\n",
      "[CV 2/5] END decisiontreeclassifier__criterion=gini, decisiontreeclassifier__max_depth=40, decisiontreeclassifier__min_samples_leaf=1, decisiontreeclassifier__min_samples_split=10;, score=(train=0.907, test=0.678) total time=   0.0s\n",
      "[CV 5/5] END decisiontreeclassifier__criterion=gini, decisiontreeclassifier__max_depth=40, decisiontreeclassifier__min_samples_leaf=2, decisiontreeclassifier__min_samples_split=2;, score=(train=0.917, test=0.646) total time=   0.0s\n",
      "[CV 1/5] END decisiontreeclassifier__criterion=gini, decisiontreeclassifier__max_depth=40, decisiontreeclassifier__min_samples_leaf=2, decisiontreeclassifier__min_samples_split=2;, score=(train=0.920, test=0.671) total time=   0.0s\n",
      "[CV 3/5] END decisiontreeclassifier__criterion=gini, decisiontreeclassifier__max_depth=40, decisiontreeclassifier__min_samples_leaf=4, decisiontreeclassifier__min_samples_split=2;, score=(train=0.873, test=0.677) total time=   0.0s\n",
      "[CV 4/5] END decisiontreeclassifier__criterion=gini, decisiontreeclassifier__max_depth=40, decisiontreeclassifier__min_samples_leaf=2, decisiontreeclassifier__min_samples_split=10;, score=(train=0.896, test=0.679) total time=   0.1s\n",
      "[CV 4/5] END decisiontreeclassifier__criterion=gini, decisiontreeclassifier__max_depth=40, decisiontreeclassifier__min_samples_leaf=2, decisiontreeclassifier__min_samples_split=5;, score=(train=0.913, test=0.672) total time=   0.0s\n",
      "[CV 3/5] END decisiontreeclassifier__criterion=gini, decisiontreeclassifier__max_depth=40, decisiontreeclassifier__min_samples_leaf=2, decisiontreeclassifier__min_samples_split=10;, score=(train=0.893, test=0.702) total time=   0.0s\n",
      "[CV 2/5] END decisiontreeclassifier__criterion=gini, decisiontreeclassifier__max_depth=40, decisiontreeclassifier__min_samples_leaf=4, decisiontreeclassifier__min_samples_split=5;, score=(train=0.881, test=0.674) total time=   0.0s\n",
      "[CV 1/5] END decisiontreeclassifier__criterion=gini, decisiontreeclassifier__max_depth=40, decisiontreeclassifier__min_samples_leaf=4, decisiontreeclassifier__min_samples_split=10;, score=(train=0.864, test=0.686) total time=   0.0s\n",
      "[CV 4/5] END decisiontreeclassifier__criterion=gini, decisiontreeclassifier__max_depth=40, decisiontreeclassifier__min_samples_leaf=4, decisiontreeclassifier__min_samples_split=2;, score=(train=0.879, test=0.679) total time=   0.0s\n",
      "[CV 5/5] END decisiontreeclassifier__criterion=gini, decisiontreeclassifier__max_depth=40, decisiontreeclassifier__min_samples_leaf=4, decisiontreeclassifier__min_samples_split=10;, score=(train=0.868, test=0.662) total time=   0.0s\n",
      "[CV 4/5] END decisiontreeclassifier__criterion=entropy, decisiontreeclassifier__max_depth=None, decisiontreeclassifier__min_samples_leaf=1, decisiontreeclassifier__min_samples_split=2;, score=(train=1.000, test=0.712) total time=   0.1s\n",
      "[CV 5/5] END decisiontreeclassifier__criterion=gini, decisiontreeclassifier__max_depth=40, decisiontreeclassifier__min_samples_leaf=2, decisiontreeclassifier__min_samples_split=10;, score=(train=0.888, test=0.656) total time=   0.1s\n",
      "[CV 3/5] END decisiontreeclassifier__criterion=gini, decisiontreeclassifier__max_depth=40, decisiontreeclassifier__min_samples_leaf=4, decisiontreeclassifier__min_samples_split=5;, score=(train=0.872, test=0.681) total time=   0.0s\n",
      "[CV 2/5] END decisiontreeclassifier__criterion=gini, decisiontreeclassifier__max_depth=40, decisiontreeclassifier__min_samples_leaf=4, decisiontreeclassifier__min_samples_split=10;, score=(train=0.885, test=0.693) total time=   0.0s\n",
      "[CV 3/5] END decisiontreeclassifier__criterion=entropy, decisiontreeclassifier__max_depth=None, decisiontreeclassifier__min_samples_leaf=1, decisiontreeclassifier__min_samples_split=5;, score=(train=0.956, test=0.716) total time=   0.1s\n",
      "[CV 2/5] END decisiontreeclassifier__criterion=entropy, decisiontreeclassifier__max_depth=None, decisiontreeclassifier__min_samples_leaf=1, decisiontreeclassifier__min_samples_split=10;, score=(train=0.914, test=0.675) total time=   0.1s\n",
      "[CV 5/5] END decisiontreeclassifier__criterion=gini, decisiontreeclassifier__max_depth=40, decisiontreeclassifier__min_samples_leaf=4, decisiontreeclassifier__min_samples_split=2;, score=(train=0.873, test=0.667) total time=   0.0s\n",
      "[CV 1/5] END decisiontreeclassifier__criterion=entropy, decisiontreeclassifier__max_depth=None, decisiontreeclassifier__min_samples_leaf=1, decisiontreeclassifier__min_samples_split=2;, score=(train=1.000, test=0.729) total time=   0.1s\n",
      "[CV 1/5] END decisiontreeclassifier__criterion=gini, decisiontreeclassifier__max_depth=40, decisiontreeclassifier__min_samples_leaf=4, decisiontreeclassifier__min_samples_split=2;, score=(train=0.865, test=0.672) total time=   0.0s\n",
      "[CV 4/5] END decisiontreeclassifier__criterion=gini, decisiontreeclassifier__max_depth=40, decisiontreeclassifier__min_samples_leaf=4, decisiontreeclassifier__min_samples_split=5;, score=(train=0.881, test=0.683) total time=   0.0s\n",
      "[CV 3/5] END decisiontreeclassifier__criterion=gini, decisiontreeclassifier__max_depth=40, decisiontreeclassifier__min_samples_leaf=4, decisiontreeclassifier__min_samples_split=10;, score=(train=0.879, test=0.696) total time=   0.0s\n",
      "[CV 5/5] END decisiontreeclassifier__criterion=entropy, decisiontreeclassifier__max_depth=None, decisiontreeclassifier__min_samples_leaf=1, decisiontreeclassifier__min_samples_split=2;, score=(train=1.000, test=0.676) total time=   0.1s\n",
      "[CV 3/5] END decisiontreeclassifier__criterion=entropy, decisiontreeclassifier__max_depth=None, decisiontreeclassifier__min_samples_leaf=1, decisiontreeclassifier__min_samples_split=10;, score=(train=0.910, test=0.723) total time=   0.1s\n",
      "[CV 4/5] END decisiontreeclassifier__criterion=entropy, decisiontreeclassifier__max_depth=None, decisiontreeclassifier__min_samples_leaf=1, decisiontreeclassifier__min_samples_split=5;, score=(train=0.958, test=0.694) total time=   0.1s\n",
      "[CV 2/5] END decisiontreeclassifier__criterion=entropy, decisiontreeclassifier__max_depth=None, decisiontreeclassifier__min_samples_leaf=1, decisiontreeclassifier__min_samples_split=2;, score=(train=1.000, test=0.687) total time=   0.0s\n",
      "[CV 1/5] END decisiontreeclassifier__criterion=gini, decisiontreeclassifier__max_depth=40, decisiontreeclassifier__min_samples_leaf=4, decisiontreeclassifier__min_samples_split=5;, score=(train=0.866, test=0.677) total time=   0.0s\n",
      "[CV 4/5] END decisiontreeclassifier__criterion=gini, decisiontreeclassifier__max_depth=40, decisiontreeclassifier__min_samples_leaf=4, decisiontreeclassifier__min_samples_split=10;, score=(train=0.880, test=0.685) total time=   0.0s\n",
      "[CV 1/5] END decisiontreeclassifier__criterion=entropy, decisiontreeclassifier__max_depth=None, decisiontreeclassifier__min_samples_leaf=1, decisiontreeclassifier__min_samples_split=5;, score=(train=0.960, test=0.698) total time=   0.0s\n",
      "[CV 5/5] END decisiontreeclassifier__criterion=gini, decisiontreeclassifier__max_depth=40, decisiontreeclassifier__min_samples_leaf=4, decisiontreeclassifier__min_samples_split=5;, score=(train=0.874, test=0.669) total time=   0.1s\n",
      "[CV 2/5] END decisiontreeclassifier__criterion=gini, decisiontreeclassifier__max_depth=40, decisiontreeclassifier__min_samples_leaf=4, decisiontreeclassifier__min_samples_split=2;, score=(train=0.881, test=0.680) total time=   0.1s\n",
      "[CV 5/5] END decisiontreeclassifier__criterion=entropy, decisiontreeclassifier__max_depth=None, decisiontreeclassifier__min_samples_leaf=1, decisiontreeclassifier__min_samples_split=5;, score=(train=0.955, test=0.661) total time=   0.0s\n",
      "[CV 4/5] END decisiontreeclassifier__criterion=entropy, decisiontreeclassifier__max_depth=None, decisiontreeclassifier__min_samples_leaf=1, decisiontreeclassifier__min_samples_split=10;, score=(train=0.907, test=0.683) total time=   0.1s\n",
      "[CV 3/5] END decisiontreeclassifier__criterion=entropy, decisiontreeclassifier__max_depth=None, decisiontreeclassifier__min_samples_leaf=1, decisiontreeclassifier__min_samples_split=2;, score=(train=1.000, test=0.727) total time=   0.0s\n",
      "[CV 1/5] END decisiontreeclassifier__criterion=entropy, decisiontreeclassifier__max_depth=None, decisiontreeclassifier__min_samples_leaf=2, decisiontreeclassifier__min_samples_split=2;, score=(train=0.930, test=0.686) total time=   0.0s\n",
      "[CV 2/5] END decisiontreeclassifier__criterion=entropy, decisiontreeclassifier__max_depth=None, decisiontreeclassifier__min_samples_leaf=1, decisiontreeclassifier__min_samples_split=5;, score=(train=0.954, test=0.669) total time=   0.1s\n",
      "[CV 5/5] END decisiontreeclassifier__criterion=entropy, decisiontreeclassifier__max_depth=None, decisiontreeclassifier__min_samples_leaf=2, decisiontreeclassifier__min_samples_split=2;, score=(train=0.930, test=0.640) total time=   0.1s\n",
      "[CV 4/5] END decisiontreeclassifier__criterion=entropy, decisiontreeclassifier__max_depth=None, decisiontreeclassifier__min_samples_leaf=2, decisiontreeclassifier__min_samples_split=5;, score=(train=0.931, test=0.676) total time=   0.1s\n",
      "[CV 3/5] END decisiontreeclassifier__criterion=entropy, decisiontreeclassifier__max_depth=None, decisiontreeclassifier__min_samples_leaf=2, decisiontreeclassifier__min_samples_split=10;, score=(train=0.910, test=0.718) total time=   0.0s\n",
      "[CV 1/5] END decisiontreeclassifier__criterion=entropy, decisiontreeclassifier__max_depth=None, decisiontreeclassifier__min_samples_leaf=1, decisiontreeclassifier__min_samples_split=10;, score=(train=0.913, test=0.705) total time=   0.1s\n",
      "[CV 5/5] END decisiontreeclassifier__criterion=entropy, decisiontreeclassifier__max_depth=None, decisiontreeclassifier__min_samples_leaf=1, decisiontreeclassifier__min_samples_split=10;, score=(train=0.907, test=0.661) total time=   0.1s\n",
      "[CV 2/5] END decisiontreeclassifier__criterion=entropy, decisiontreeclassifier__max_depth=None, decisiontreeclassifier__min_samples_leaf=4, decisiontreeclassifier__min_samples_split=2;, score=(train=0.875, test=0.656) total time=   0.1s\n",
      "[CV 2/5] END decisiontreeclassifier__criterion=entropy, decisiontreeclassifier__max_depth=None, decisiontreeclassifier__min_samples_leaf=2, decisiontreeclassifier__min_samples_split=2;, score=(train=0.929, test=0.663) total time=   0.1s\n",
      "[CV 1/5] END decisiontreeclassifier__criterion=entropy, decisiontreeclassifier__max_depth=None, decisiontreeclassifier__min_samples_leaf=2, decisiontreeclassifier__min_samples_split=5;, score=(train=0.929, test=0.697) total time=   0.0s\n",
      "[CV 1/5] END decisiontreeclassifier__criterion=entropy, decisiontreeclassifier__max_depth=None, decisiontreeclassifier__min_samples_leaf=4, decisiontreeclassifier__min_samples_split=5;, score=(train=0.875, test=0.680) total time=   0.0s\n",
      "[CV 4/5] END decisiontreeclassifier__criterion=entropy, decisiontreeclassifier__max_depth=None, decisiontreeclassifier__min_samples_leaf=2, decisiontreeclassifier__min_samples_split=10;, score=(train=0.899, test=0.677) total time=   0.1s\n",
      "[CV 5/5] END decisiontreeclassifier__criterion=entropy, decisiontreeclassifier__max_depth=None, decisiontreeclassifier__min_samples_leaf=2, decisiontreeclassifier__min_samples_split=5;, score=(train=0.926, test=0.637) total time=   0.1s\n",
      "[CV 3/5] END decisiontreeclassifier__criterion=entropy, decisiontreeclassifier__max_depth=None, decisiontreeclassifier__min_samples_leaf=4, decisiontreeclassifier__min_samples_split=2;, score=(train=0.883, test=0.696) total time=   0.0s\n",
      "[CV 4/5] END decisiontreeclassifier__criterion=entropy, decisiontreeclassifier__max_depth=None, decisiontreeclassifier__min_samples_leaf=4, decisiontreeclassifier__min_samples_split=10;, score=(train=0.876, test=0.692) total time=   0.1s\n",
      "[CV 5/5] END decisiontreeclassifier__criterion=entropy, decisiontreeclassifier__max_depth=None, decisiontreeclassifier__min_samples_leaf=4, decisiontreeclassifier__min_samples_split=5;, score=(train=0.880, test=0.659) total time=   0.1s\n",
      "[CV 3/5] END decisiontreeclassifier__criterion=entropy, decisiontreeclassifier__max_depth=None, decisiontreeclassifier__min_samples_leaf=2, decisiontreeclassifier__min_samples_split=2;, score=(train=0.936, test=0.699) total time=   0.1s\n",
      "[CV 2/5] END decisiontreeclassifier__criterion=entropy, decisiontreeclassifier__max_depth=None, decisiontreeclassifier__min_samples_leaf=4, decisiontreeclassifier__min_samples_split=5;, score=(train=0.877, test=0.660) total time=   0.0s\n",
      "[CV 2/5] END decisiontreeclassifier__criterion=entropy, decisiontreeclassifier__max_depth=None, decisiontreeclassifier__min_samples_leaf=2, decisiontreeclassifier__min_samples_split=5;, score=(train=0.927, test=0.660) total time=   0.1s\n",
      "[CV 5/5] END decisiontreeclassifier__criterion=entropy, decisiontreeclassifier__max_depth=None, decisiontreeclassifier__min_samples_leaf=2, decisiontreeclassifier__min_samples_split=10;, score=(train=0.903, test=0.662) total time=   0.1s\n",
      "[CV 1/5] END decisiontreeclassifier__criterion=entropy, decisiontreeclassifier__max_depth=None, decisiontreeclassifier__min_samples_leaf=2, decisiontreeclassifier__min_samples_split=10;, score=(train=0.904, test=0.692) total time=   0.0s\n",
      "[CV 4/5] END decisiontreeclassifier__criterion=entropy, decisiontreeclassifier__max_depth=None, decisiontreeclassifier__min_samples_leaf=4, decisiontreeclassifier__min_samples_split=2;, score=(train=0.882, test=0.685) total time=   0.1s\n",
      "[CV 1/5] END decisiontreeclassifier__criterion=entropy, decisiontreeclassifier__max_depth=None, decisiontreeclassifier__min_samples_leaf=4, decisiontreeclassifier__min_samples_split=10;, score=(train=0.872, test=0.683) total time=   0.1s\n",
      "[CV 5/5] END decisiontreeclassifier__criterion=entropy, decisiontreeclassifier__max_depth=None, decisiontreeclassifier__min_samples_leaf=4, decisiontreeclassifier__min_samples_split=10;, score=(train=0.883, test=0.678) total time=   0.1s\n",
      "[CV 3/5] END decisiontreeclassifier__criterion=entropy, decisiontreeclassifier__max_depth=None, decisiontreeclassifier__min_samples_leaf=2, decisiontreeclassifier__min_samples_split=5;, score=(train=0.931, test=0.698) total time=   0.1s\n",
      "[CV 3/5] END decisiontreeclassifier__criterion=entropy, decisiontreeclassifier__max_depth=None, decisiontreeclassifier__min_samples_leaf=4, decisiontreeclassifier__min_samples_split=5;, score=(train=0.882, test=0.699) total time=   0.1s\n",
      "[CV 2/5] END decisiontreeclassifier__criterion=entropy, decisiontreeclassifier__max_depth=None, decisiontreeclassifier__min_samples_leaf=2, decisiontreeclassifier__min_samples_split=10;, score=(train=0.899, test=0.678) total time=   0.0s\n",
      "[CV 1/5] END decisiontreeclassifier__criterion=entropy, decisiontreeclassifier__max_depth=None, decisiontreeclassifier__min_samples_leaf=4, decisiontreeclassifier__min_samples_split=2;, score=(train=0.873, test=0.671) total time=   0.1s\n",
      "[CV 4/5] END decisiontreeclassifier__criterion=entropy, decisiontreeclassifier__max_depth=None, decisiontreeclassifier__min_samples_leaf=2, decisiontreeclassifier__min_samples_split=2;, score=(train=0.931, test=0.663) total time=   0.1s\n",
      "[CV 5/5] END decisiontreeclassifier__criterion=entropy, decisiontreeclassifier__max_depth=None, decisiontreeclassifier__min_samples_leaf=4, decisiontreeclassifier__min_samples_split=2;, score=(train=0.881, test=0.669) total time=   0.1s\n",
      "[CV 1/5] END decisiontreeclassifier__criterion=entropy, decisiontreeclassifier__max_depth=10, decisiontreeclassifier__min_samples_leaf=1, decisiontreeclassifier__min_samples_split=2;, score=(train=0.639, test=0.597) total time=   0.0s\n",
      "[CV 2/5] END decisiontreeclassifier__criterion=entropy, decisiontreeclassifier__max_depth=10, decisiontreeclassifier__min_samples_leaf=1, decisiontreeclassifier__min_samples_split=5;, score=(train=0.598, test=0.561) total time=   0.0s\n",
      "[CV 1/5] END decisiontreeclassifier__criterion=entropy, decisiontreeclassifier__max_depth=10, decisiontreeclassifier__min_samples_leaf=1, decisiontreeclassifier__min_samples_split=10;, score=(train=0.635, test=0.596) total time=   0.0s\n",
      "[CV 3/5] END decisiontreeclassifier__criterion=entropy, decisiontreeclassifier__max_depth=10, decisiontreeclassifier__min_samples_leaf=1, decisiontreeclassifier__min_samples_split=2;, score=(train=0.623, test=0.556) total time=   0.0s\n",
      "[CV 5/5] END decisiontreeclassifier__criterion=entropy, decisiontreeclassifier__max_depth=10, decisiontreeclassifier__min_samples_leaf=1, decisiontreeclassifier__min_samples_split=10;, score=(train=0.519, test=0.481) total time=   0.0s\n",
      "[CV 2/5] END decisiontreeclassifier__criterion=entropy, decisiontreeclassifier__max_depth=None, decisiontreeclassifier__min_samples_leaf=4, decisiontreeclassifier__min_samples_split=10;, score=(train=0.882, test=0.673) total time=   0.0s\n",
      "[CV 3/5] END decisiontreeclassifier__criterion=entropy, decisiontreeclassifier__max_depth=10, decisiontreeclassifier__min_samples_leaf=1, decisiontreeclassifier__min_samples_split=5;, score=(train=0.622, test=0.557) total time=   0.0s\n",
      "[CV 4/5] END decisiontreeclassifier__criterion=entropy, decisiontreeclassifier__max_depth=None, decisiontreeclassifier__min_samples_leaf=4, decisiontreeclassifier__min_samples_split=5;, score=(train=0.881, test=0.685) total time=   0.1s\n",
      "[CV 2/5] END decisiontreeclassifier__criterion=entropy, decisiontreeclassifier__max_depth=10, decisiontreeclassifier__min_samples_leaf=1, decisiontreeclassifier__min_samples_split=2;, score=(train=0.600, test=0.563) total time=   0.0s\n",
      "[CV 4/5] END decisiontreeclassifier__criterion=entropy, decisiontreeclassifier__max_depth=10, decisiontreeclassifier__min_samples_leaf=2, decisiontreeclassifier__min_samples_split=2;, score=(train=0.599, test=0.559) total time=   0.0s\n",
      "[CV 2/5] END decisiontreeclassifier__criterion=entropy, decisiontreeclassifier__max_depth=10, decisiontreeclassifier__min_samples_leaf=1, decisiontreeclassifier__min_samples_split=10;, score=(train=0.596, test=0.559) total time=   0.0s\n",
      "[CV 4/5] END decisiontreeclassifier__criterion=entropy, decisiontreeclassifier__max_depth=10, decisiontreeclassifier__min_samples_leaf=1, decisiontreeclassifier__min_samples_split=2;, score=(train=0.601, test=0.560) total time=   0.0s\n",
      "[CV 1/5] END decisiontreeclassifier__criterion=entropy, decisiontreeclassifier__max_depth=10, decisiontreeclassifier__min_samples_leaf=2, decisiontreeclassifier__min_samples_split=2;, score=(train=0.637, test=0.595) total time=   0.0s\n",
      "[CV 4/5] END decisiontreeclassifier__criterion=entropy, decisiontreeclassifier__max_depth=10, decisiontreeclassifier__min_samples_leaf=1, decisiontreeclassifier__min_samples_split=5;, score=(train=0.599, test=0.559) total time=   0.0s\n",
      "[CV 3/5] END decisiontreeclassifier__criterion=entropy, decisiontreeclassifier__max_depth=None, decisiontreeclassifier__min_samples_leaf=4, decisiontreeclassifier__min_samples_split=10;, score=(train=0.889, test=0.705) total time=   0.0s\n",
      "[CV 3/5] END decisiontreeclassifier__criterion=entropy, decisiontreeclassifier__max_depth=10, decisiontreeclassifier__min_samples_leaf=2, decisiontreeclassifier__min_samples_split=5;, score=(train=0.620, test=0.553) total time=   0.0s\n",
      "[CV 5/5] END decisiontreeclassifier__criterion=entropy, decisiontreeclassifier__max_depth=10, decisiontreeclassifier__min_samples_leaf=2, decisiontreeclassifier__min_samples_split=2;, score=(train=0.519, test=0.480) total time=   0.0s\n",
      "[CV 2/5] END decisiontreeclassifier__criterion=entropy, decisiontreeclassifier__max_depth=10, decisiontreeclassifier__min_samples_leaf=2, decisiontreeclassifier__min_samples_split=10;, score=(train=0.595, test=0.559) total time=   0.0s\n",
      "[CV 5/5] END decisiontreeclassifier__criterion=entropy, decisiontreeclassifier__max_depth=10, decisiontreeclassifier__min_samples_leaf=1, decisiontreeclassifier__min_samples_split=2;, score=(train=0.522, test=0.484) total time=   0.0s\n",
      "[CV 3/5] END decisiontreeclassifier__criterion=entropy, decisiontreeclassifier__max_depth=10, decisiontreeclassifier__min_samples_leaf=1, decisiontreeclassifier__min_samples_split=10;, score=(train=0.620, test=0.556) total time=   0.0s\n",
      "[CV 5/5] END decisiontreeclassifier__criterion=entropy, decisiontreeclassifier__max_depth=10, decisiontreeclassifier__min_samples_leaf=1, decisiontreeclassifier__min_samples_split=5;, score=(train=0.521, test=0.486) total time=   0.0s\n",
      "[CV 2/5] END decisiontreeclassifier__criterion=entropy, decisiontreeclassifier__max_depth=10, decisiontreeclassifier__min_samples_leaf=2, decisiontreeclassifier__min_samples_split=2;, score=(train=0.598, test=0.560) total time=   0.0s\n",
      "[CV 1/5] END decisiontreeclassifier__criterion=entropy, decisiontreeclassifier__max_depth=10, decisiontreeclassifier__min_samples_leaf=2, decisiontreeclassifier__min_samples_split=5;, score=(train=0.638, test=0.595) total time=   0.0s\n",
      "[CV 3/5] END decisiontreeclassifier__criterion=entropy, decisiontreeclassifier__max_depth=10, decisiontreeclassifier__min_samples_leaf=2, decisiontreeclassifier__min_samples_split=10;, score=(train=0.620, test=0.556) total time=   0.0s\n",
      "[CV 4/5] END decisiontreeclassifier__criterion=entropy, decisiontreeclassifier__max_depth=10, decisiontreeclassifier__min_samples_leaf=1, decisiontreeclassifier__min_samples_split=10;, score=(train=0.596, test=0.564) total time=   0.0s\n",
      "[CV 1/5] END decisiontreeclassifier__criterion=entropy, decisiontreeclassifier__max_depth=10, decisiontreeclassifier__min_samples_leaf=1, decisiontreeclassifier__min_samples_split=5;, score=(train=0.640, test=0.597) total time=   0.0s\n",
      "[CV 4/5] END decisiontreeclassifier__criterion=entropy, decisiontreeclassifier__max_depth=10, decisiontreeclassifier__min_samples_leaf=2, decisiontreeclassifier__min_samples_split=5;, score=(train=0.598, test=0.558) total time=   0.0s\n",
      "[CV 1/5] END decisiontreeclassifier__criterion=entropy, decisiontreeclassifier__max_depth=10, decisiontreeclassifier__min_samples_leaf=4, decisiontreeclassifier__min_samples_split=2;, score=(train=0.621, test=0.580) total time=   0.0s\n",
      "[CV 2/5] END decisiontreeclassifier__criterion=entropy, decisiontreeclassifier__max_depth=10, decisiontreeclassifier__min_samples_leaf=2, decisiontreeclassifier__min_samples_split=5;, score=(train=0.598, test=0.559) total time=   0.0s\n",
      "[CV 3/5] END decisiontreeclassifier__criterion=entropy, decisiontreeclassifier__max_depth=10, decisiontreeclassifier__min_samples_leaf=2, decisiontreeclassifier__min_samples_split=2;, score=(train=0.620, test=0.553) total time=   0.0s\n",
      "[CV 5/5] END decisiontreeclassifier__criterion=entropy, decisiontreeclassifier__max_depth=10, decisiontreeclassifier__min_samples_leaf=4, decisiontreeclassifier__min_samples_split=2;, score=(train=0.559, test=0.515) total time=   0.0s\n",
      "[CV 4/5] END decisiontreeclassifier__criterion=entropy, decisiontreeclassifier__max_depth=10, decisiontreeclassifier__min_samples_leaf=2, decisiontreeclassifier__min_samples_split=10;, score=(train=0.596, test=0.559) total time=   0.0s\n",
      "[CV 5/5] END decisiontreeclassifier__criterion=entropy, decisiontreeclassifier__max_depth=10, decisiontreeclassifier__min_samples_leaf=2, decisiontreeclassifier__min_samples_split=5;, score=(train=0.519, test=0.481) total time=   0.0s\n",
      "[CV 2/5] END decisiontreeclassifier__criterion=entropy, decisiontreeclassifier__max_depth=10, decisiontreeclassifier__min_samples_leaf=4, decisiontreeclassifier__min_samples_split=2;, score=(train=0.596, test=0.559) total time=   0.0s\n",
      "[CV 1/5] END decisiontreeclassifier__criterion=entropy, decisiontreeclassifier__max_depth=10, decisiontreeclassifier__min_samples_leaf=4, decisiontreeclassifier__min_samples_split=5;, score=(train=0.620, test=0.579) total time=   0.0s\n",
      "[CV 5/5] END decisiontreeclassifier__criterion=entropy, decisiontreeclassifier__max_depth=10, decisiontreeclassifier__min_samples_leaf=2, decisiontreeclassifier__min_samples_split=10;, score=(train=0.518, test=0.481) total time=   0.0s\n",
      "[CV 3/5] END decisiontreeclassifier__criterion=entropy, decisiontreeclassifier__max_depth=10, decisiontreeclassifier__min_samples_leaf=4, decisiontreeclassifier__min_samples_split=10;, score=(train=0.625, test=0.559) total time=   0.0s\n",
      "[CV 4/5] END decisiontreeclassifier__criterion=entropy, decisiontreeclassifier__max_depth=10, decisiontreeclassifier__min_samples_leaf=4, decisiontreeclassifier__min_samples_split=5;, score=(train=0.597, test=0.565) total time=   0.0s\n",
      "[CV 2/5] END decisiontreeclassifier__criterion=entropy, decisiontreeclassifier__max_depth=10, decisiontreeclassifier__min_samples_leaf=4, decisiontreeclassifier__min_samples_split=5;, score=(train=0.597, test=0.559) total time=   0.0s\n",
      "[CV 3/5] END decisiontreeclassifier__criterion=entropy, decisiontreeclassifier__max_depth=10, decisiontreeclassifier__min_samples_leaf=4, decisiontreeclassifier__min_samples_split=2;, score=(train=0.625, test=0.559) total time=   0.0s\n",
      "[CV 2/5] END decisiontreeclassifier__criterion=entropy, decisiontreeclassifier__max_depth=20, decisiontreeclassifier__min_samples_leaf=1, decisiontreeclassifier__min_samples_split=2;, score=(train=0.892, test=0.671) total time=   0.0s\n",
      "[CV 1/5] END decisiontreeclassifier__criterion=entropy, decisiontreeclassifier__max_depth=10, decisiontreeclassifier__min_samples_leaf=2, decisiontreeclassifier__min_samples_split=10;, score=(train=0.635, test=0.596) total time=   0.0s\n",
      "[CV 1/5] END decisiontreeclassifier__criterion=entropy, decisiontreeclassifier__max_depth=20, decisiontreeclassifier__min_samples_leaf=1, decisiontreeclassifier__min_samples_split=5;, score=(train=0.827, test=0.670) total time=   0.0s\n",
      "[CV 4/5] END decisiontreeclassifier__criterion=entropy, decisiontreeclassifier__max_depth=10, decisiontreeclassifier__min_samples_leaf=4, decisiontreeclassifier__min_samples_split=10;, score=(train=0.595, test=0.566) total time=   0.0s\n",
      "[CV 5/5] END decisiontreeclassifier__criterion=entropy, decisiontreeclassifier__max_depth=10, decisiontreeclassifier__min_samples_leaf=4, decisiontreeclassifier__min_samples_split=5;, score=(train=0.559, test=0.513) total time=   0.0s\n",
      "[CV 3/5] END decisiontreeclassifier__criterion=entropy, decisiontreeclassifier__max_depth=10, decisiontreeclassifier__min_samples_leaf=4, decisiontreeclassifier__min_samples_split=5;, score=(train=0.625, test=0.557) total time=   0.0s\n",
      "[CV 4/5] END decisiontreeclassifier__criterion=entropy, decisiontreeclassifier__max_depth=10, decisiontreeclassifier__min_samples_leaf=4, decisiontreeclassifier__min_samples_split=2;, score=(train=0.596, test=0.563) total time=   0.0s\n",
      "[CV 5/5] END decisiontreeclassifier__criterion=entropy, decisiontreeclassifier__max_depth=20, decisiontreeclassifier__min_samples_leaf=1, decisiontreeclassifier__min_samples_split=5;, score=(train=0.749, test=0.605) total time=   0.0s\n",
      "[CV 5/5] END decisiontreeclassifier__criterion=entropy, decisiontreeclassifier__max_depth=10, decisiontreeclassifier__min_samples_leaf=4, decisiontreeclassifier__min_samples_split=10;, score=(train=0.559, test=0.516) total time=   0.0s\n",
      "[CV 3/5] END decisiontreeclassifier__criterion=entropy, decisiontreeclassifier__max_depth=20, decisiontreeclassifier__min_samples_leaf=1, decisiontreeclassifier__min_samples_split=2;, score=(train=0.921, test=0.721) total time=   0.0s\n",
      "[CV 2/5] END decisiontreeclassifier__criterion=entropy, decisiontreeclassifier__max_depth=20, decisiontreeclassifier__min_samples_leaf=1, decisiontreeclassifier__min_samples_split=5;, score=(train=0.866, test=0.655) total time=   0.0s\n",
      "[CV 4/5] END decisiontreeclassifier__criterion=entropy, decisiontreeclassifier__max_depth=20, decisiontreeclassifier__min_samples_leaf=1, decisiontreeclassifier__min_samples_split=10;, score=(train=0.783, test=0.644) total time=   0.1s\n",
      "[CV 1/5] END decisiontreeclassifier__criterion=entropy, decisiontreeclassifier__max_depth=10, decisiontreeclassifier__min_samples_leaf=4, decisiontreeclassifier__min_samples_split=10;, score=(train=0.619, test=0.580) total time=   0.0s\n",
      "[CV 3/5] END decisiontreeclassifier__criterion=entropy, decisiontreeclassifier__max_depth=20, decisiontreeclassifier__min_samples_leaf=2, decisiontreeclassifier__min_samples_split=2;, score=(train=0.883, test=0.692) total time=   0.0s\n",
      "[CV 2/5] END decisiontreeclassifier__criterion=entropy, decisiontreeclassifier__max_depth=20, decisiontreeclassifier__min_samples_leaf=2, decisiontreeclassifier__min_samples_split=5;, score=(train=0.853, test=0.655) total time=   0.0s\n",
      "[CV 1/5] END decisiontreeclassifier__criterion=entropy, decisiontreeclassifier__max_depth=20, decisiontreeclassifier__min_samples_leaf=1, decisiontreeclassifier__min_samples_split=10;, score=(train=0.802, test=0.674) total time=   0.1s\n",
      "[CV 2/5] END decisiontreeclassifier__criterion=entropy, decisiontreeclassifier__max_depth=10, decisiontreeclassifier__min_samples_leaf=4, decisiontreeclassifier__min_samples_split=10;, score=(train=0.597, test=0.557) total time=   0.0s\n",
      "[CV 4/5] END decisiontreeclassifier__criterion=entropy, decisiontreeclassifier__max_depth=20, decisiontreeclassifier__min_samples_leaf=1, decisiontreeclassifier__min_samples_split=2;, score=(train=0.817, test=0.654) total time=   0.0s\n",
      "[CV 1/5] END decisiontreeclassifier__criterion=entropy, decisiontreeclassifier__max_depth=20, decisiontreeclassifier__min_samples_leaf=1, decisiontreeclassifier__min_samples_split=2;, score=(train=0.842, test=0.674) total time=   0.1s\n",
      "[CV 5/5] END decisiontreeclassifier__criterion=entropy, decisiontreeclassifier__max_depth=20, decisiontreeclassifier__min_samples_leaf=1, decisiontreeclassifier__min_samples_split=10;, score=(train=0.736, test=0.605) total time=   0.0s\n",
      "[CV 3/5] END decisiontreeclassifier__criterion=entropy, decisiontreeclassifier__max_depth=20, decisiontreeclassifier__min_samples_leaf=1, decisiontreeclassifier__min_samples_split=5;, score=(train=0.889, test=0.705) total time=   0.1s\n",
      "[CV 4/5] END decisiontreeclassifier__criterion=entropy, decisiontreeclassifier__max_depth=20, decisiontreeclassifier__min_samples_leaf=2, decisiontreeclassifier__min_samples_split=2;, score=(train=0.799, test=0.641) total time=   0.0s\n",
      "[CV 2/5] END decisiontreeclassifier__criterion=entropy, decisiontreeclassifier__max_depth=20, decisiontreeclassifier__min_samples_leaf=1, decisiontreeclassifier__min_samples_split=10;, score=(train=0.850, test=0.669) total time=   0.0s\n",
      "[CV 3/5] END decisiontreeclassifier__criterion=entropy, decisiontreeclassifier__max_depth=20, decisiontreeclassifier__min_samples_leaf=2, decisiontreeclassifier__min_samples_split=5;, score=(train=0.880, test=0.703) total time=   0.0s\n",
      "[CV 5/5] END decisiontreeclassifier__criterion=entropy, decisiontreeclassifier__max_depth=20, decisiontreeclassifier__min_samples_leaf=1, decisiontreeclassifier__min_samples_split=2;, score=(train=0.766, test=0.613) total time=   0.0s\n",
      "[CV 4/5] END decisiontreeclassifier__criterion=entropy, decisiontreeclassifier__max_depth=20, decisiontreeclassifier__min_samples_leaf=1, decisiontreeclassifier__min_samples_split=5;, score=(train=0.807, test=0.639) total time=   0.0s\n",
      "[CV 1/5] END decisiontreeclassifier__criterion=entropy, decisiontreeclassifier__max_depth=20, decisiontreeclassifier__min_samples_leaf=2, decisiontreeclassifier__min_samples_split=2;, score=(train=0.814, test=0.658) total time=   0.0s\n",
      "[CV 5/5] END decisiontreeclassifier__criterion=entropy, decisiontreeclassifier__max_depth=20, decisiontreeclassifier__min_samples_leaf=2, decisiontreeclassifier__min_samples_split=10;, score=(train=0.730, test=0.596) total time=   0.0s\n",
      "[CV 3/5] END decisiontreeclassifier__criterion=entropy, decisiontreeclassifier__max_depth=20, decisiontreeclassifier__min_samples_leaf=1, decisiontreeclassifier__min_samples_split=10;, score=(train=0.864, test=0.707) total time=   0.0s\n",
      "[CV 5/5] END decisiontreeclassifier__criterion=entropy, decisiontreeclassifier__max_depth=20, decisiontreeclassifier__min_samples_leaf=2, decisiontreeclassifier__min_samples_split=2;, score=(train=0.743, test=0.593) total time=   0.0s\n",
      "[CV 1/5] END decisiontreeclassifier__criterion=entropy, decisiontreeclassifier__max_depth=20, decisiontreeclassifier__min_samples_leaf=2, decisiontreeclassifier__min_samples_split=10;, score=(train=0.803, test=0.672) total time=   0.1s\n",
      "[CV 4/5] END decisiontreeclassifier__criterion=entropy, decisiontreeclassifier__max_depth=20, decisiontreeclassifier__min_samples_leaf=2, decisiontreeclassifier__min_samples_split=5;, score=(train=0.788, test=0.634) total time=   0.1s\n",
      "[CV 1/5] END decisiontreeclassifier__criterion=entropy, decisiontreeclassifier__max_depth=20, decisiontreeclassifier__min_samples_leaf=4, decisiontreeclassifier__min_samples_split=2;, score=(train=0.798, test=0.638) total time=   0.0s\n",
      "[CV 3/5] END decisiontreeclassifier__criterion=entropy, decisiontreeclassifier__max_depth=20, decisiontreeclassifier__min_samples_leaf=4, decisiontreeclassifier__min_samples_split=5;, score=(train=0.843, test=0.692) total time=   0.0s\n",
      "[CV 4/5] END decisiontreeclassifier__criterion=entropy, decisiontreeclassifier__max_depth=20, decisiontreeclassifier__min_samples_leaf=4, decisiontreeclassifier__min_samples_split=2;, score=(train=0.787, test=0.648) total time=   0.1s\n",
      "[CV 1/5] END decisiontreeclassifier__criterion=entropy, decisiontreeclassifier__max_depth=20, decisiontreeclassifier__min_samples_leaf=2, decisiontreeclassifier__min_samples_split=5;, score=(train=0.812, test=0.659) total time=   0.0s\n",
      "[CV 2/5] END decisiontreeclassifier__criterion=entropy, decisiontreeclassifier__max_depth=20, decisiontreeclassifier__min_samples_leaf=2, decisiontreeclassifier__min_samples_split=2;, score=(train=0.856, test=0.656) total time=   0.0s\n",
      "[CV 2/5] END decisiontreeclassifier__criterion=entropy, decisiontreeclassifier__max_depth=20, decisiontreeclassifier__min_samples_leaf=2, decisiontreeclassifier__min_samples_split=10;, score=(train=0.844, test=0.666) total time=   0.0s\n",
      "[CV 2/5] END decisiontreeclassifier__criterion=entropy, decisiontreeclassifier__max_depth=20, decisiontreeclassifier__min_samples_leaf=4, decisiontreeclassifier__min_samples_split=10;, score=(train=0.838, test=0.663) total time=   0.1s\n",
      "[CV 5/5] END decisiontreeclassifier__criterion=entropy, decisiontreeclassifier__max_depth=20, decisiontreeclassifier__min_samples_leaf=2, decisiontreeclassifier__min_samples_split=5;, score=(train=0.735, test=0.592) total time=   0.1s\n",
      "[CV 4/5] END decisiontreeclassifier__criterion=entropy, decisiontreeclassifier__max_depth=20, decisiontreeclassifier__min_samples_leaf=4, decisiontreeclassifier__min_samples_split=5;, score=(train=0.785, test=0.644) total time=   0.0s\n",
      "[CV 2/5] END decisiontreeclassifier__criterion=entropy, decisiontreeclassifier__max_depth=20, decisiontreeclassifier__min_samples_leaf=4, decisiontreeclassifier__min_samples_split=2;, score=(train=0.830, test=0.656) total time=   0.0s\n",
      "[CV 5/5] END decisiontreeclassifier__criterion=entropy, decisiontreeclassifier__max_depth=20, decisiontreeclassifier__min_samples_leaf=4, decisiontreeclassifier__min_samples_split=2;, score=(train=0.742, test=0.601) total time=   0.0s\n",
      "[CV 3/5] END decisiontreeclassifier__criterion=entropy, decisiontreeclassifier__max_depth=20, decisiontreeclassifier__min_samples_leaf=4, decisiontreeclassifier__min_samples_split=10;, score=(train=0.850, test=0.697) total time=   0.0s\n",
      "[CV 3/5] END decisiontreeclassifier__criterion=entropy, decisiontreeclassifier__max_depth=20, decisiontreeclassifier__min_samples_leaf=2, decisiontreeclassifier__min_samples_split=10;, score=(train=0.870, test=0.712) total time=   0.1s\n",
      "[CV 5/5] END decisiontreeclassifier__criterion=entropy, decisiontreeclassifier__max_depth=30, decisiontreeclassifier__min_samples_leaf=1, decisiontreeclassifier__min_samples_split=2;, score=(train=0.947, test=0.676) total time=   0.1s\n",
      "[CV 1/5] END decisiontreeclassifier__criterion=entropy, decisiontreeclassifier__max_depth=30, decisiontreeclassifier__min_samples_leaf=1, decisiontreeclassifier__min_samples_split=2;, score=(train=0.985, test=0.708) total time=   0.1s\n",
      "[CV 5/5] END decisiontreeclassifier__criterion=entropy, decisiontreeclassifier__max_depth=20, decisiontreeclassifier__min_samples_leaf=4, decisiontreeclassifier__min_samples_split=5;, score=(train=0.742, test=0.600) total time=   0.0s\n",
      "[CV 3/5] END decisiontreeclassifier__criterion=entropy, decisiontreeclassifier__max_depth=20, decisiontreeclassifier__min_samples_leaf=4, decisiontreeclassifier__min_samples_split=2;, score=(train=0.841, test=0.690) total time=   0.0s\n",
      "[CV 4/5] END decisiontreeclassifier__criterion=entropy, decisiontreeclassifier__max_depth=20, decisiontreeclassifier__min_samples_leaf=4, decisiontreeclassifier__min_samples_split=10;, score=(train=0.784, test=0.653) total time=   0.0s\n",
      "[CV 1/5] END decisiontreeclassifier__criterion=entropy, decisiontreeclassifier__max_depth=20, decisiontreeclassifier__min_samples_leaf=4, decisiontreeclassifier__min_samples_split=5;, score=(train=0.798, test=0.631) total time=   0.1s\n",
      "[CV 4/5] END decisiontreeclassifier__criterion=entropy, decisiontreeclassifier__max_depth=30, decisiontreeclassifier__min_samples_leaf=1, decisiontreeclassifier__min_samples_split=5;, score=(train=0.936, test=0.689) total time=   0.1s\n",
      "[CV 4/5] END decisiontreeclassifier__criterion=entropy, decisiontreeclassifier__max_depth=20, decisiontreeclassifier__min_samples_leaf=2, decisiontreeclassifier__min_samples_split=10;, score=(train=0.785, test=0.637) total time=   0.0s\n",
      "[CV 1/5] END decisiontreeclassifier__criterion=entropy, decisiontreeclassifier__max_depth=30, decisiontreeclassifier__min_samples_leaf=1, decisiontreeclassifier__min_samples_split=5;, score=(train=0.949, test=0.696) total time=   0.1s\n",
      "[CV 2/5] END decisiontreeclassifier__criterion=entropy, decisiontreeclassifier__max_depth=30, decisiontreeclassifier__min_samples_leaf=1, decisiontreeclassifier__min_samples_split=2;, score=(train=0.994, test=0.682) total time=   0.1s\n",
      "[CV 1/5] END decisiontreeclassifier__criterion=entropy, decisiontreeclassifier__max_depth=20, decisiontreeclassifier__min_samples_leaf=4, decisiontreeclassifier__min_samples_split=10;, score=(train=0.797, test=0.640) total time=   0.0s\n",
      "[CV 5/5] END decisiontreeclassifier__criterion=entropy, decisiontreeclassifier__max_depth=20, decisiontreeclassifier__min_samples_leaf=4, decisiontreeclassifier__min_samples_split=10;, score=(train=0.744, test=0.598) total time=   0.0s\n",
      "[CV 2/5] END decisiontreeclassifier__criterion=entropy, decisiontreeclassifier__max_depth=20, decisiontreeclassifier__min_samples_leaf=4, decisiontreeclassifier__min_samples_split=5;, score=(train=0.833, test=0.656) total time=   0.0s\n",
      "[CV 5/5] END decisiontreeclassifier__criterion=entropy, decisiontreeclassifier__max_depth=30, decisiontreeclassifier__min_samples_leaf=1, decisiontreeclassifier__min_samples_split=5;, score=(train=0.914, test=0.657) total time=   0.1s\n",
      "[CV 3/5] END decisiontreeclassifier__criterion=entropy, decisiontreeclassifier__max_depth=30, decisiontreeclassifier__min_samples_leaf=1, decisiontreeclassifier__min_samples_split=10;, score=(train=0.914, test=0.723) total time=   0.0s\n",
      "[CV 3/5] END decisiontreeclassifier__criterion=entropy, decisiontreeclassifier__max_depth=30, decisiontreeclassifier__min_samples_leaf=1, decisiontreeclassifier__min_samples_split=2;, score=(train=0.998, test=0.726) total time=   0.0s\n",
      "[CV 2/5] END decisiontreeclassifier__criterion=entropy, decisiontreeclassifier__max_depth=30, decisiontreeclassifier__min_samples_leaf=1, decisiontreeclassifier__min_samples_split=5;, score=(train=0.952, test=0.674) total time=   0.0s\n",
      "[CV 1/5] END decisiontreeclassifier__criterion=entropy, decisiontreeclassifier__max_depth=30, decisiontreeclassifier__min_samples_leaf=1, decisiontreeclassifier__min_samples_split=10;, score=(train=0.900, test=0.699) total time=   0.0s\n",
      "[CV 4/5] END decisiontreeclassifier__criterion=entropy, decisiontreeclassifier__max_depth=30, decisiontreeclassifier__min_samples_leaf=1, decisiontreeclassifier__min_samples_split=2;, score=(train=0.976, test=0.710) total time=   0.0s\n",
      "[CV 1/5] END decisiontreeclassifier__criterion=entropy, decisiontreeclassifier__max_depth=30, decisiontreeclassifier__min_samples_leaf=2, decisiontreeclassifier__min_samples_split=5;, score=(train=0.921, test=0.680) total time=   0.1s\n",
      "[CV 4/5] END decisiontreeclassifier__criterion=entropy, decisiontreeclassifier__max_depth=30, decisiontreeclassifier__min_samples_leaf=1, decisiontreeclassifier__min_samples_split=10;, score=(train=0.893, test=0.684) total time=   0.1s\n",
      "[CV 2/5] END decisiontreeclassifier__criterion=entropy, decisiontreeclassifier__max_depth=30, decisiontreeclassifier__min_samples_leaf=2, decisiontreeclassifier__min_samples_split=2;, score=(train=0.929, test=0.658) total time=   0.1s\n",
      "[CV 5/5] END decisiontreeclassifier__criterion=entropy, decisiontreeclassifier__max_depth=30, decisiontreeclassifier__min_samples_leaf=2, decisiontreeclassifier__min_samples_split=5;, score=(train=0.889, test=0.638) total time=   0.1s\n",
      "[CV 4/5] END decisiontreeclassifier__criterion=entropy, decisiontreeclassifier__max_depth=30, decisiontreeclassifier__min_samples_leaf=2, decisiontreeclassifier__min_samples_split=10;, score=(train=0.886, test=0.673) total time=   0.1s\n",
      "[CV 3/5] END decisiontreeclassifier__criterion=entropy, decisiontreeclassifier__max_depth=30, decisiontreeclassifier__min_samples_leaf=1, decisiontreeclassifier__min_samples_split=5;, score=(train=0.954, test=0.710) total time=   0.1s\n",
      "[CV 2/5] END decisiontreeclassifier__criterion=entropy, decisiontreeclassifier__max_depth=30, decisiontreeclassifier__min_samples_leaf=1, decisiontreeclassifier__min_samples_split=10;, score=(train=0.915, test=0.678) total time=   0.0s\n",
      "[CV 3/5] END decisiontreeclassifier__criterion=entropy, decisiontreeclassifier__max_depth=30, decisiontreeclassifier__min_samples_leaf=2, decisiontreeclassifier__min_samples_split=2;, score=(train=0.935, test=0.700) total time=   0.0s\n",
      "[CV 2/5] END decisiontreeclassifier__criterion=entropy, decisiontreeclassifier__max_depth=30, decisiontreeclassifier__min_samples_leaf=2, decisiontreeclassifier__min_samples_split=5;, score=(train=0.928, test=0.657) total time=   0.0s\n",
      "[CV 5/5] END decisiontreeclassifier__criterion=entropy, decisiontreeclassifier__max_depth=30, decisiontreeclassifier__min_samples_leaf=1, decisiontreeclassifier__min_samples_split=10;, score=(train=0.880, test=0.652) total time=   0.1s\n",
      "[CV 3/5] END decisiontreeclassifier__criterion=entropy, decisiontreeclassifier__max_depth=30, decisiontreeclassifier__min_samples_leaf=4, decisiontreeclassifier__min_samples_split=2;, score=(train=0.882, test=0.691) total time=   0.1s\n",
      "[CV 1/5] END decisiontreeclassifier__criterion=entropy, decisiontreeclassifier__max_depth=30, decisiontreeclassifier__min_samples_leaf=2, decisiontreeclassifier__min_samples_split=10;, score=(train=0.897, test=0.690) total time=   0.1s\n",
      "[CV 2/5] END decisiontreeclassifier__criterion=entropy, decisiontreeclassifier__max_depth=30, decisiontreeclassifier__min_samples_leaf=4, decisiontreeclassifier__min_samples_split=5;, score=(train=0.877, test=0.663) total time=   0.0s\n",
      "[CV 3/5] END decisiontreeclassifier__criterion=entropy, decisiontreeclassifier__max_depth=30, decisiontreeclassifier__min_samples_leaf=2, decisiontreeclassifier__min_samples_split=5;, score=(train=0.930, test=0.692) total time=   0.0s\n",
      "[CV 5/5] END decisiontreeclassifier__criterion=entropy, decisiontreeclassifier__max_depth=30, decisiontreeclassifier__min_samples_leaf=2, decisiontreeclassifier__min_samples_split=10;, score=(train=0.877, test=0.650) total time=   0.1s\n",
      "[CV 1/5] END decisiontreeclassifier__criterion=entropy, decisiontreeclassifier__max_depth=30, decisiontreeclassifier__min_samples_leaf=4, decisiontreeclassifier__min_samples_split=10;, score=(train=0.868, test=0.675) total time=   0.0s\n",
      "[CV 4/5] END decisiontreeclassifier__criterion=entropy, decisiontreeclassifier__max_depth=30, decisiontreeclassifier__min_samples_leaf=2, decisiontreeclassifier__min_samples_split=2;, score=(train=0.916, test=0.666) total time=   0.1s\n",
      "[CV 4/5] END decisiontreeclassifier__criterion=entropy, decisiontreeclassifier__max_depth=30, decisiontreeclassifier__min_samples_leaf=4, decisiontreeclassifier__min_samples_split=2;, score=(train=0.872, test=0.678) total time=   0.1s\n",
      "[CV 1/5] END decisiontreeclassifier__criterion=entropy, decisiontreeclassifier__max_depth=30, decisiontreeclassifier__min_samples_leaf=2, decisiontreeclassifier__min_samples_split=2;, score=(train=0.919, test=0.682) total time=   0.1s\n",
      "[CV 3/5] END decisiontreeclassifier__criterion=entropy, decisiontreeclassifier__max_depth=30, decisiontreeclassifier__min_samples_leaf=4, decisiontreeclassifier__min_samples_split=5;, score=(train=0.883, test=0.701) total time=   0.0s\n",
      "[CV 2/5] END decisiontreeclassifier__criterion=entropy, decisiontreeclassifier__max_depth=30, decisiontreeclassifier__min_samples_leaf=2, decisiontreeclassifier__min_samples_split=10;, score=(train=0.902, test=0.676) total time=   0.0s\n",
      "[CV 1/5] END decisiontreeclassifier__criterion=entropy, decisiontreeclassifier__max_depth=30, decisiontreeclassifier__min_samples_leaf=4, decisiontreeclassifier__min_samples_split=2;, score=(train=0.871, test=0.672) total time=   0.0s\n",
      "[CV 2/5] END decisiontreeclassifier__criterion=entropy, decisiontreeclassifier__max_depth=30, decisiontreeclassifier__min_samples_leaf=4, decisiontreeclassifier__min_samples_split=10;, score=(train=0.880, test=0.676) total time=   0.0s\n",
      "[CV 5/5] END decisiontreeclassifier__criterion=entropy, decisiontreeclassifier__max_depth=30, decisiontreeclassifier__min_samples_leaf=2, decisiontreeclassifier__min_samples_split=2;, score=(train=0.896, test=0.643) total time=   0.0s\n",
      "[CV 4/5] END decisiontreeclassifier__criterion=entropy, decisiontreeclassifier__max_depth=30, decisiontreeclassifier__min_samples_leaf=2, decisiontreeclassifier__min_samples_split=5;, score=(train=0.916, test=0.663) total time=   0.1s\n",
      "[CV 5/5] END decisiontreeclassifier__criterion=entropy, decisiontreeclassifier__max_depth=30, decisiontreeclassifier__min_samples_leaf=4, decisiontreeclassifier__min_samples_split=2;, score=(train=0.873, test=0.662) total time=   0.1s\n",
      "[CV 4/5] END decisiontreeclassifier__criterion=entropy, decisiontreeclassifier__max_depth=30, decisiontreeclassifier__min_samples_leaf=4, decisiontreeclassifier__min_samples_split=5;, score=(train=0.870, test=0.684) total time=   0.0s\n",
      "[CV 3/5] END decisiontreeclassifier__criterion=entropy, decisiontreeclassifier__max_depth=30, decisiontreeclassifier__min_samples_leaf=2, decisiontreeclassifier__min_samples_split=10;, score=(train=0.911, test=0.712) total time=   0.1s\n",
      "[CV 5/5] END decisiontreeclassifier__criterion=entropy, decisiontreeclassifier__max_depth=30, decisiontreeclassifier__min_samples_leaf=4, decisiontreeclassifier__min_samples_split=10;, score=(train=0.877, test=0.672) total time=   0.1s\n",
      "[CV 3/5] END decisiontreeclassifier__criterion=entropy, decisiontreeclassifier__max_depth=30, decisiontreeclassifier__min_samples_leaf=4, decisiontreeclassifier__min_samples_split=10;, score=(train=0.890, test=0.706) total time=   0.0s\n",
      "[CV 2/5] END decisiontreeclassifier__criterion=entropy, decisiontreeclassifier__max_depth=30, decisiontreeclassifier__min_samples_leaf=4, decisiontreeclassifier__min_samples_split=2;, score=(train=0.873, test=0.657) total time=   0.0s\n",
      "[CV 4/5] END decisiontreeclassifier__criterion=entropy, decisiontreeclassifier__max_depth=40, decisiontreeclassifier__min_samples_leaf=1, decisiontreeclassifier__min_samples_split=2;, score=(train=0.999, test=0.709) total time=   0.0s\n",
      "[CV 1/5] END decisiontreeclassifier__criterion=entropy, decisiontreeclassifier__max_depth=30, decisiontreeclassifier__min_samples_leaf=4, decisiontreeclassifier__min_samples_split=5;, score=(train=0.871, test=0.669) total time=   0.0s\n",
      "[CV 3/5] END decisiontreeclassifier__criterion=entropy, decisiontreeclassifier__max_depth=40, decisiontreeclassifier__min_samples_leaf=1, decisiontreeclassifier__min_samples_split=5;, score=(train=0.956, test=0.711) total time=   0.1s\n",
      "[CV 5/5] END decisiontreeclassifier__criterion=entropy, decisiontreeclassifier__max_depth=30, decisiontreeclassifier__min_samples_leaf=4, decisiontreeclassifier__min_samples_split=5;, score=(train=0.874, test=0.666) total time=   0.1s\n",
      "[CV 4/5] END decisiontreeclassifier__criterion=entropy, decisiontreeclassifier__max_depth=30, decisiontreeclassifier__min_samples_leaf=4, decisiontreeclassifier__min_samples_split=10;, score=(train=0.866, test=0.687) total time=   0.0s\n",
      "[CV 2/5] END decisiontreeclassifier__criterion=entropy, decisiontreeclassifier__max_depth=40, decisiontreeclassifier__min_samples_leaf=1, decisiontreeclassifier__min_samples_split=10;, score=(train=0.914, test=0.681) total time=   0.0s\n",
      "[CV 1/5] END decisiontreeclassifier__criterion=entropy, decisiontreeclassifier__max_depth=40, decisiontreeclassifier__min_samples_leaf=1, decisiontreeclassifier__min_samples_split=2;, score=(train=1.000, test=0.720) total time=   0.1s\n",
      "[CV 1/5] END decisiontreeclassifier__criterion=entropy, decisiontreeclassifier__max_depth=40, decisiontreeclassifier__min_samples_leaf=2, decisiontreeclassifier__min_samples_split=2;, score=(train=0.931, test=0.685) total time=   0.1s\n",
      "[CV 5/5] END decisiontreeclassifier__criterion=entropy, decisiontreeclassifier__max_depth=40, decisiontreeclassifier__min_samples_leaf=1, decisiontreeclassifier__min_samples_split=2;, score=(train=0.999, test=0.660) total time=   0.1s\n",
      "[CV 2/5] END decisiontreeclassifier__criterion=entropy, decisiontreeclassifier__max_depth=40, decisiontreeclassifier__min_samples_leaf=1, decisiontreeclassifier__min_samples_split=2;, score=(train=1.000, test=0.682) total time=   0.0s\n",
      "[CV 4/5] END decisiontreeclassifier__criterion=entropy, decisiontreeclassifier__max_depth=40, decisiontreeclassifier__min_samples_leaf=1, decisiontreeclassifier__min_samples_split=5;, score=(train=0.955, test=0.693) total time=   0.1s\n",
      "[CV 5/5] END decisiontreeclassifier__criterion=entropy, decisiontreeclassifier__max_depth=40, decisiontreeclassifier__min_samples_leaf=2, decisiontreeclassifier__min_samples_split=2;, score=(train=0.931, test=0.644) total time=   0.1s\n",
      "[CV 2/5] END decisiontreeclassifier__criterion=entropy, decisiontreeclassifier__max_depth=40, decisiontreeclassifier__min_samples_leaf=2, decisiontreeclassifier__min_samples_split=2;, score=(train=0.932, test=0.660) total time=   0.0s\n",
      "[CV 4/5] END decisiontreeclassifier__criterion=entropy, decisiontreeclassifier__max_depth=40, decisiontreeclassifier__min_samples_leaf=2, decisiontreeclassifier__min_samples_split=5;, score=(train=0.931, test=0.673) total time=   0.1s\n",
      "[CV 3/5] END decisiontreeclassifier__criterion=entropy, decisiontreeclassifier__max_depth=40, decisiontreeclassifier__min_samples_leaf=1, decisiontreeclassifier__min_samples_split=10;, score=(train=0.914, test=0.715) total time=   0.1s\n",
      "[CV 3/5] END decisiontreeclassifier__criterion=entropy, decisiontreeclassifier__max_depth=40, decisiontreeclassifier__min_samples_leaf=2, decisiontreeclassifier__min_samples_split=10;, score=(train=0.912, test=0.713) total time=   0.0s\n",
      "[CV 3/5] END decisiontreeclassifier__criterion=entropy, decisiontreeclassifier__max_depth=40, decisiontreeclassifier__min_samples_leaf=1, decisiontreeclassifier__min_samples_split=2;, score=(train=1.000, test=0.721) total time=   0.0s\n",
      "[CV 5/5] END decisiontreeclassifier__criterion=entropy, decisiontreeclassifier__max_depth=40, decisiontreeclassifier__min_samples_leaf=1, decisiontreeclassifier__min_samples_split=5;, score=(train=0.954, test=0.665) total time=   0.1s\n",
      "[CV 1/5] END decisiontreeclassifier__criterion=entropy, decisiontreeclassifier__max_depth=40, decisiontreeclassifier__min_samples_leaf=1, decisiontreeclassifier__min_samples_split=5;, score=(train=0.960, test=0.714) total time=   0.1s\n",
      "[CV 5/5] END decisiontreeclassifier__criterion=entropy, decisiontreeclassifier__max_depth=40, decisiontreeclassifier__min_samples_leaf=2, decisiontreeclassifier__min_samples_split=5;, score=(train=0.924, test=0.639) total time=   0.0s\n",
      "[CV 3/5] END decisiontreeclassifier__criterion=entropy, decisiontreeclassifier__max_depth=40, decisiontreeclassifier__min_samples_leaf=2, decisiontreeclassifier__min_samples_split=2;, score=(train=0.934, test=0.694) total time=   0.1s\n",
      "[CV 1/5] END decisiontreeclassifier__criterion=entropy, decisiontreeclassifier__max_depth=40, decisiontreeclassifier__min_samples_leaf=2, decisiontreeclassifier__min_samples_split=5;, score=(train=0.932, test=0.689) total time=   0.1s\n",
      "[CV 4/5] END decisiontreeclassifier__criterion=entropy, decisiontreeclassifier__max_depth=40, decisiontreeclassifier__min_samples_leaf=2, decisiontreeclassifier__min_samples_split=10;, score=(train=0.897, test=0.676) total time=   0.1s\n",
      "[CV 4/5] END decisiontreeclassifier__criterion=entropy, decisiontreeclassifier__max_depth=40, decisiontreeclassifier__min_samples_leaf=1, decisiontreeclassifier__min_samples_split=10;, score=(train=0.906, test=0.689) total time=   0.1s\n",
      "[CV 1/5] END decisiontreeclassifier__criterion=entropy, decisiontreeclassifier__max_depth=40, decisiontreeclassifier__min_samples_leaf=2, decisiontreeclassifier__min_samples_split=10;, score=(train=0.905, test=0.696) total time=   0.0s\n",
      "[CV 2/5] END decisiontreeclassifier__criterion=entropy, decisiontreeclassifier__max_depth=40, decisiontreeclassifier__min_samples_leaf=4, decisiontreeclassifier__min_samples_split=2;, score=(train=0.875, test=0.663) total time=   0.1s\n",
      "[CV 2/5] END decisiontreeclassifier__criterion=entropy, decisiontreeclassifier__max_depth=40, decisiontreeclassifier__min_samples_leaf=1, decisiontreeclassifier__min_samples_split=5;, score=(train=0.958, test=0.676) total time=   0.1s\n",
      "[CV 1/5] END decisiontreeclassifier__criterion=entropy, decisiontreeclassifier__max_depth=40, decisiontreeclassifier__min_samples_leaf=1, decisiontreeclassifier__min_samples_split=10;, score=(train=0.914, test=0.702) total time=   0.1s\n",
      "[CV 4/5] END decisiontreeclassifier__criterion=entropy, decisiontreeclassifier__max_depth=40, decisiontreeclassifier__min_samples_leaf=2, decisiontreeclassifier__min_samples_split=2;, score=(train=0.931, test=0.667) total time=   0.1s\n",
      "[CV 2/5] END decisiontreeclassifier__criterion=entropy, decisiontreeclassifier__max_depth=40, decisiontreeclassifier__min_samples_leaf=2, decisiontreeclassifier__min_samples_split=5;, score=(train=0.927, test=0.653) total time=   0.1s\n",
      "[CV 2/5] END decisiontreeclassifier__criterion=entropy, decisiontreeclassifier__max_depth=40, decisiontreeclassifier__min_samples_leaf=2, decisiontreeclassifier__min_samples_split=10;, score=(train=0.902, test=0.678) total time=   0.0s\n",
      "[CV 5/5] END decisiontreeclassifier__criterion=entropy, decisiontreeclassifier__max_depth=40, decisiontreeclassifier__min_samples_leaf=1, decisiontreeclassifier__min_samples_split=10;, score=(train=0.907, test=0.663) total time=   0.1s\n",
      "[CV 5/5] END decisiontreeclassifier__criterion=entropy, decisiontreeclassifier__max_depth=40, decisiontreeclassifier__min_samples_leaf=2, decisiontreeclassifier__min_samples_split=10;, score=(train=0.901, test=0.656) total time=   0.1s\n",
      "[CV 3/5] END decisiontreeclassifier__criterion=entropy, decisiontreeclassifier__max_depth=40, decisiontreeclassifier__min_samples_leaf=4, decisiontreeclassifier__min_samples_split=2;, score=(train=0.882, test=0.690) total time=   0.0s\n",
      "[CV 1/5] END decisiontreeclassifier__criterion=entropy, decisiontreeclassifier__max_depth=40, decisiontreeclassifier__min_samples_leaf=4, decisiontreeclassifier__min_samples_split=5;, score=(train=0.875, test=0.679) total time=   0.0s\n",
      "[CV 3/5] END decisiontreeclassifier__criterion=entropy, decisiontreeclassifier__max_depth=40, decisiontreeclassifier__min_samples_leaf=2, decisiontreeclassifier__min_samples_split=5;, score=(train=0.929, test=0.691) total time=   0.0s\n",
      "[CV 2/5] END decisiontreeclassifier__criterion=entropy, decisiontreeclassifier__max_depth=40, decisiontreeclassifier__min_samples_leaf=4, decisiontreeclassifier__min_samples_split=5;, score=(train=0.875, test=0.660) total time=   0.0s\n",
      "[CV 1/5] END decisiontreeclassifier__criterion=entropy, decisiontreeclassifier__max_depth=40, decisiontreeclassifier__min_samples_leaf=4, decisiontreeclassifier__min_samples_split=2;, score=(train=0.873, test=0.672) total time=   0.0s\n",
      "[CV 3/5] END decisiontreeclassifier__criterion=entropy, decisiontreeclassifier__max_depth=40, decisiontreeclassifier__min_samples_leaf=4, decisiontreeclassifier__min_samples_split=5;, score=(train=0.881, test=0.704) total time=   0.0s\n",
      "[CV 4/5] END decisiontreeclassifier__criterion=entropy, decisiontreeclassifier__max_depth=40, decisiontreeclassifier__min_samples_leaf=4, decisiontreeclassifier__min_samples_split=2;, score=(train=0.882, test=0.686) total time=   0.1s\n",
      "[CV 4/5] END decisiontreeclassifier__criterion=entropy, decisiontreeclassifier__max_depth=40, decisiontreeclassifier__min_samples_leaf=4, decisiontreeclassifier__min_samples_split=5;, score=(train=0.882, test=0.684) total time=   0.0s\n",
      "[CV 5/5] END decisiontreeclassifier__criterion=entropy, decisiontreeclassifier__max_depth=40, decisiontreeclassifier__min_samples_leaf=4, decisiontreeclassifier__min_samples_split=5;, score=(train=0.882, test=0.661) total time=   0.0s\n",
      "[CV 1/5] END decisiontreeclassifier__criterion=entropy, decisiontreeclassifier__max_depth=40, decisiontreeclassifier__min_samples_leaf=4, decisiontreeclassifier__min_samples_split=10;, score=(train=0.872, test=0.677) total time=   0.0s\n",
      "[CV 3/5] END decisiontreeclassifier__criterion=entropy, decisiontreeclassifier__max_depth=40, decisiontreeclassifier__min_samples_leaf=4, decisiontreeclassifier__min_samples_split=10;, score=(train=0.891, test=0.708) total time=   0.0s\n",
      "[CV 2/5] END decisiontreeclassifier__criterion=entropy, decisiontreeclassifier__max_depth=40, decisiontreeclassifier__min_samples_leaf=4, decisiontreeclassifier__min_samples_split=10;, score=(train=0.880, test=0.670) total time=   0.0s\n",
      "[CV 5/5] END decisiontreeclassifier__criterion=entropy, decisiontreeclassifier__max_depth=40, decisiontreeclassifier__min_samples_leaf=4, decisiontreeclassifier__min_samples_split=2;, score=(train=0.881, test=0.666) total time=   0.0s\n",
      "[CV 4/5] END decisiontreeclassifier__criterion=entropy, decisiontreeclassifier__max_depth=40, decisiontreeclassifier__min_samples_leaf=4, decisiontreeclassifier__min_samples_split=10;, score=(train=0.877, test=0.690) total time=   0.0s\n",
      "[CV 5/5] END decisiontreeclassifier__criterion=entropy, decisiontreeclassifier__max_depth=40, decisiontreeclassifier__min_samples_leaf=4, decisiontreeclassifier__min_samples_split=10;, score=(train=0.882, test=0.678) total time=   0.0s\n"
     ]
    },
    {
     "data": {
      "text/html": [
       "<style>#sk-container-id-6 {color: black;}#sk-container-id-6 pre{padding: 0;}#sk-container-id-6 div.sk-toggleable {background-color: white;}#sk-container-id-6 label.sk-toggleable__label {cursor: pointer;display: block;width: 100%;margin-bottom: 0;padding: 0.3em;box-sizing: border-box;text-align: center;}#sk-container-id-6 label.sk-toggleable__label-arrow:before {content: \"▸\";float: left;margin-right: 0.25em;color: #696969;}#sk-container-id-6 label.sk-toggleable__label-arrow:hover:before {color: black;}#sk-container-id-6 div.sk-estimator:hover label.sk-toggleable__label-arrow:before {color: black;}#sk-container-id-6 div.sk-toggleable__content {max-height: 0;max-width: 0;overflow: hidden;text-align: left;background-color: #f0f8ff;}#sk-container-id-6 div.sk-toggleable__content pre {margin: 0.2em;color: black;border-radius: 0.25em;background-color: #f0f8ff;}#sk-container-id-6 input.sk-toggleable__control:checked~div.sk-toggleable__content {max-height: 200px;max-width: 100%;overflow: auto;}#sk-container-id-6 input.sk-toggleable__control:checked~label.sk-toggleable__label-arrow:before {content: \"▾\";}#sk-container-id-6 div.sk-estimator input.sk-toggleable__control:checked~label.sk-toggleable__label {background-color: #d4ebff;}#sk-container-id-6 div.sk-label input.sk-toggleable__control:checked~label.sk-toggleable__label {background-color: #d4ebff;}#sk-container-id-6 input.sk-hidden--visually {border: 0;clip: rect(1px 1px 1px 1px);clip: rect(1px, 1px, 1px, 1px);height: 1px;margin: -1px;overflow: hidden;padding: 0;position: absolute;width: 1px;}#sk-container-id-6 div.sk-estimator {font-family: monospace;background-color: #f0f8ff;border: 1px dotted black;border-radius: 0.25em;box-sizing: border-box;margin-bottom: 0.5em;}#sk-container-id-6 div.sk-estimator:hover {background-color: #d4ebff;}#sk-container-id-6 div.sk-parallel-item::after {content: \"\";width: 100%;border-bottom: 1px solid gray;flex-grow: 1;}#sk-container-id-6 div.sk-label:hover label.sk-toggleable__label {background-color: #d4ebff;}#sk-container-id-6 div.sk-serial::before {content: \"\";position: absolute;border-left: 1px solid gray;box-sizing: border-box;top: 0;bottom: 0;left: 50%;z-index: 0;}#sk-container-id-6 div.sk-serial {display: flex;flex-direction: column;align-items: center;background-color: white;padding-right: 0.2em;padding-left: 0.2em;position: relative;}#sk-container-id-6 div.sk-item {position: relative;z-index: 1;}#sk-container-id-6 div.sk-parallel {display: flex;align-items: stretch;justify-content: center;background-color: white;position: relative;}#sk-container-id-6 div.sk-item::before, #sk-container-id-6 div.sk-parallel-item::before {content: \"\";position: absolute;border-left: 1px solid gray;box-sizing: border-box;top: 0;bottom: 0;left: 50%;z-index: -1;}#sk-container-id-6 div.sk-parallel-item {display: flex;flex-direction: column;z-index: 1;position: relative;background-color: white;}#sk-container-id-6 div.sk-parallel-item:first-child::after {align-self: flex-end;width: 50%;}#sk-container-id-6 div.sk-parallel-item:last-child::after {align-self: flex-start;width: 50%;}#sk-container-id-6 div.sk-parallel-item:only-child::after {width: 0;}#sk-container-id-6 div.sk-dashed-wrapped {border: 1px dashed gray;margin: 0 0.4em 0.5em 0.4em;box-sizing: border-box;padding-bottom: 0.4em;background-color: white;}#sk-container-id-6 div.sk-label label {font-family: monospace;font-weight: bold;display: inline-block;line-height: 1.2em;}#sk-container-id-6 div.sk-label-container {text-align: center;}#sk-container-id-6 div.sk-container {/* jupyter's `normalize.less` sets `[hidden] { display: none; }` but bootstrap.min.css set `[hidden] { display: none !important; }` so we also need the `!important` here to be able to override the default hidden behavior on the sphinx rendered scikit-learn.org. See: https://github.com/scikit-learn/scikit-learn/issues/21755 */display: inline-block !important;position: relative;}#sk-container-id-6 div.sk-text-repr-fallback {display: none;}</style><div id=\"sk-container-id-6\" class=\"sk-top-container\"><div class=\"sk-text-repr-fallback\"><pre>GridSearchCV(cv=5,\n",
       "             estimator=Pipeline(steps=[(&#x27;columntransformer&#x27;,\n",
       "                                        ColumnTransformer(transformers=[(&#x27;pipe_num&#x27;,\n",
       "                                                                         Pipeline(steps=[(&#x27;minmaxscaler&#x27;,\n",
       "                                                                                          MinMaxScaler())]),\n",
       "                                                                         [&#x27;Customer_care_calls&#x27;,\n",
       "                                                                          &#x27;Customer_rating&#x27;,\n",
       "                                                                          &#x27;Cost_of_the_Product&#x27;,\n",
       "                                                                          &#x27;Prior_purchases&#x27;,\n",
       "                                                                          &#x27;Discount_offered&#x27;,\n",
       "                                                                          &#x27;Weight_in_gms&#x27;]),\n",
       "                                                                        (&#x27;pipe_cat_ohe&#x27;,\n",
       "                                                                         Pipeline(steps=[(&#x27;onehotencoder&#x27;,\n",
       "                                                                                          OneHotEncoder(handle_unk...\n",
       "                                                                         [&#x27;Product_importance&#x27;])])),\n",
       "                                       (&#x27;decisiontreeclassifier&#x27;,\n",
       "                                        DecisionTreeClassifier())]),\n",
       "             n_jobs=-1,\n",
       "             param_grid={&#x27;decisiontreeclassifier__criterion&#x27;: [&#x27;gini&#x27;,\n",
       "                                                               &#x27;entropy&#x27;],\n",
       "                         &#x27;decisiontreeclassifier__max_depth&#x27;: [None, 10, 20, 30,\n",
       "                                                               40],\n",
       "                         &#x27;decisiontreeclassifier__min_samples_leaf&#x27;: [1, 2, 4],\n",
       "                         &#x27;decisiontreeclassifier__min_samples_split&#x27;: [2, 5,\n",
       "                                                                       10]},\n",
       "             return_train_score=True, scoring=&#x27;recall&#x27;, verbose=3)</pre><b>In a Jupyter environment, please rerun this cell to show the HTML representation or trust the notebook. <br />On GitHub, the HTML representation is unable to render, please try loading this page with nbviewer.org.</b></div><div class=\"sk-container\" hidden><div class=\"sk-item sk-dashed-wrapped\"><div class=\"sk-label-container\"><div class=\"sk-label sk-toggleable\"><input class=\"sk-toggleable__control sk-hidden--visually\" id=\"sk-estimator-id-46\" type=\"checkbox\" ><label for=\"sk-estimator-id-46\" class=\"sk-toggleable__label sk-toggleable__label-arrow\">GridSearchCV</label><div class=\"sk-toggleable__content\"><pre>GridSearchCV(cv=5,\n",
       "             estimator=Pipeline(steps=[(&#x27;columntransformer&#x27;,\n",
       "                                        ColumnTransformer(transformers=[(&#x27;pipe_num&#x27;,\n",
       "                                                                         Pipeline(steps=[(&#x27;minmaxscaler&#x27;,\n",
       "                                                                                          MinMaxScaler())]),\n",
       "                                                                         [&#x27;Customer_care_calls&#x27;,\n",
       "                                                                          &#x27;Customer_rating&#x27;,\n",
       "                                                                          &#x27;Cost_of_the_Product&#x27;,\n",
       "                                                                          &#x27;Prior_purchases&#x27;,\n",
       "                                                                          &#x27;Discount_offered&#x27;,\n",
       "                                                                          &#x27;Weight_in_gms&#x27;]),\n",
       "                                                                        (&#x27;pipe_cat_ohe&#x27;,\n",
       "                                                                         Pipeline(steps=[(&#x27;onehotencoder&#x27;,\n",
       "                                                                                          OneHotEncoder(handle_unk...\n",
       "                                                                         [&#x27;Product_importance&#x27;])])),\n",
       "                                       (&#x27;decisiontreeclassifier&#x27;,\n",
       "                                        DecisionTreeClassifier())]),\n",
       "             n_jobs=-1,\n",
       "             param_grid={&#x27;decisiontreeclassifier__criterion&#x27;: [&#x27;gini&#x27;,\n",
       "                                                               &#x27;entropy&#x27;],\n",
       "                         &#x27;decisiontreeclassifier__max_depth&#x27;: [None, 10, 20, 30,\n",
       "                                                               40],\n",
       "                         &#x27;decisiontreeclassifier__min_samples_leaf&#x27;: [1, 2, 4],\n",
       "                         &#x27;decisiontreeclassifier__min_samples_split&#x27;: [2, 5,\n",
       "                                                                       10]},\n",
       "             return_train_score=True, scoring=&#x27;recall&#x27;, verbose=3)</pre></div></div></div><div class=\"sk-parallel\"><div class=\"sk-parallel-item\"><div class=\"sk-item\"><div class=\"sk-label-container\"><div class=\"sk-label sk-toggleable\"><input class=\"sk-toggleable__control sk-hidden--visually\" id=\"sk-estimator-id-47\" type=\"checkbox\" ><label for=\"sk-estimator-id-47\" class=\"sk-toggleable__label sk-toggleable__label-arrow\">estimator: Pipeline</label><div class=\"sk-toggleable__content\"><pre>Pipeline(steps=[(&#x27;columntransformer&#x27;,\n",
       "                 ColumnTransformer(transformers=[(&#x27;pipe_num&#x27;,\n",
       "                                                  Pipeline(steps=[(&#x27;minmaxscaler&#x27;,\n",
       "                                                                   MinMaxScaler())]),\n",
       "                                                  [&#x27;Customer_care_calls&#x27;,\n",
       "                                                   &#x27;Customer_rating&#x27;,\n",
       "                                                   &#x27;Cost_of_the_Product&#x27;,\n",
       "                                                   &#x27;Prior_purchases&#x27;,\n",
       "                                                   &#x27;Discount_offered&#x27;,\n",
       "                                                   &#x27;Weight_in_gms&#x27;]),\n",
       "                                                 (&#x27;pipe_cat_ohe&#x27;,\n",
       "                                                  Pipeline(steps=[(&#x27;onehotencoder&#x27;,\n",
       "                                                                   OneHotEncoder(handle_unknown=&#x27;ignore&#x27;))]),\n",
       "                                                  [&#x27;Mode_of_Shipment&#x27;,\n",
       "                                                   &#x27;Warehouse_block&#x27;]),\n",
       "                                                 (&#x27;pipe_cat_odl&#x27;,\n",
       "                                                  Pipeline(steps=[(&#x27;ordinalencoder&#x27;,\n",
       "                                                                   OrdinalEncoder(categories=[[&#x27;low&#x27;,\n",
       "                                                                                               &#x27;medium&#x27;,\n",
       "                                                                                               &#x27;high&#x27;]]))]),\n",
       "                                                  [&#x27;Product_importance&#x27;])])),\n",
       "                (&#x27;decisiontreeclassifier&#x27;, DecisionTreeClassifier())])</pre></div></div></div><div class=\"sk-serial\"><div class=\"sk-item\"><div class=\"sk-serial\"><div class=\"sk-item sk-dashed-wrapped\"><div class=\"sk-label-container\"><div class=\"sk-label sk-toggleable\"><input class=\"sk-toggleable__control sk-hidden--visually\" id=\"sk-estimator-id-48\" type=\"checkbox\" ><label for=\"sk-estimator-id-48\" class=\"sk-toggleable__label sk-toggleable__label-arrow\">columntransformer: ColumnTransformer</label><div class=\"sk-toggleable__content\"><pre>ColumnTransformer(transformers=[(&#x27;pipe_num&#x27;,\n",
       "                                 Pipeline(steps=[(&#x27;minmaxscaler&#x27;,\n",
       "                                                  MinMaxScaler())]),\n",
       "                                 [&#x27;Customer_care_calls&#x27;, &#x27;Customer_rating&#x27;,\n",
       "                                  &#x27;Cost_of_the_Product&#x27;, &#x27;Prior_purchases&#x27;,\n",
       "                                  &#x27;Discount_offered&#x27;, &#x27;Weight_in_gms&#x27;]),\n",
       "                                (&#x27;pipe_cat_ohe&#x27;,\n",
       "                                 Pipeline(steps=[(&#x27;onehotencoder&#x27;,\n",
       "                                                  OneHotEncoder(handle_unknown=&#x27;ignore&#x27;))]),\n",
       "                                 [&#x27;Mode_of_Shipment&#x27;, &#x27;Warehouse_block&#x27;]),\n",
       "                                (&#x27;pipe_cat_odl&#x27;,\n",
       "                                 Pipeline(steps=[(&#x27;ordinalencoder&#x27;,\n",
       "                                                  OrdinalEncoder(categories=[[&#x27;low&#x27;,\n",
       "                                                                              &#x27;medium&#x27;,\n",
       "                                                                              &#x27;high&#x27;]]))]),\n",
       "                                 [&#x27;Product_importance&#x27;])])</pre></div></div></div><div class=\"sk-parallel\"><div class=\"sk-parallel-item\"><div class=\"sk-item\"><div class=\"sk-label-container\"><div class=\"sk-label sk-toggleable\"><input class=\"sk-toggleable__control sk-hidden--visually\" id=\"sk-estimator-id-49\" type=\"checkbox\" ><label for=\"sk-estimator-id-49\" class=\"sk-toggleable__label sk-toggleable__label-arrow\">pipe_num</label><div class=\"sk-toggleable__content\"><pre>[&#x27;Customer_care_calls&#x27;, &#x27;Customer_rating&#x27;, &#x27;Cost_of_the_Product&#x27;, &#x27;Prior_purchases&#x27;, &#x27;Discount_offered&#x27;, &#x27;Weight_in_gms&#x27;]</pre></div></div></div><div class=\"sk-serial\"><div class=\"sk-item\"><div class=\"sk-serial\"><div class=\"sk-item\"><div class=\"sk-estimator sk-toggleable\"><input class=\"sk-toggleable__control sk-hidden--visually\" id=\"sk-estimator-id-50\" type=\"checkbox\" ><label for=\"sk-estimator-id-50\" class=\"sk-toggleable__label sk-toggleable__label-arrow\">MinMaxScaler</label><div class=\"sk-toggleable__content\"><pre>MinMaxScaler()</pre></div></div></div></div></div></div></div></div><div class=\"sk-parallel-item\"><div class=\"sk-item\"><div class=\"sk-label-container\"><div class=\"sk-label sk-toggleable\"><input class=\"sk-toggleable__control sk-hidden--visually\" id=\"sk-estimator-id-51\" type=\"checkbox\" ><label for=\"sk-estimator-id-51\" class=\"sk-toggleable__label sk-toggleable__label-arrow\">pipe_cat_ohe</label><div class=\"sk-toggleable__content\"><pre>[&#x27;Mode_of_Shipment&#x27;, &#x27;Warehouse_block&#x27;]</pre></div></div></div><div class=\"sk-serial\"><div class=\"sk-item\"><div class=\"sk-serial\"><div class=\"sk-item\"><div class=\"sk-estimator sk-toggleable\"><input class=\"sk-toggleable__control sk-hidden--visually\" id=\"sk-estimator-id-52\" type=\"checkbox\" ><label for=\"sk-estimator-id-52\" class=\"sk-toggleable__label sk-toggleable__label-arrow\">OneHotEncoder</label><div class=\"sk-toggleable__content\"><pre>OneHotEncoder(handle_unknown=&#x27;ignore&#x27;)</pre></div></div></div></div></div></div></div></div><div class=\"sk-parallel-item\"><div class=\"sk-item\"><div class=\"sk-label-container\"><div class=\"sk-label sk-toggleable\"><input class=\"sk-toggleable__control sk-hidden--visually\" id=\"sk-estimator-id-53\" type=\"checkbox\" ><label for=\"sk-estimator-id-53\" class=\"sk-toggleable__label sk-toggleable__label-arrow\">pipe_cat_odl</label><div class=\"sk-toggleable__content\"><pre>[&#x27;Product_importance&#x27;]</pre></div></div></div><div class=\"sk-serial\"><div class=\"sk-item\"><div class=\"sk-serial\"><div class=\"sk-item\"><div class=\"sk-estimator sk-toggleable\"><input class=\"sk-toggleable__control sk-hidden--visually\" id=\"sk-estimator-id-54\" type=\"checkbox\" ><label for=\"sk-estimator-id-54\" class=\"sk-toggleable__label sk-toggleable__label-arrow\">OrdinalEncoder</label><div class=\"sk-toggleable__content\"><pre>OrdinalEncoder(categories=[[&#x27;low&#x27;, &#x27;medium&#x27;, &#x27;high&#x27;]])</pre></div></div></div></div></div></div></div></div></div></div><div class=\"sk-item\"><div class=\"sk-estimator sk-toggleable\"><input class=\"sk-toggleable__control sk-hidden--visually\" id=\"sk-estimator-id-55\" type=\"checkbox\" ><label for=\"sk-estimator-id-55\" class=\"sk-toggleable__label sk-toggleable__label-arrow\">DecisionTreeClassifier</label><div class=\"sk-toggleable__content\"><pre>DecisionTreeClassifier()</pre></div></div></div></div></div></div></div></div></div></div></div></div>"
      ],
      "text/plain": [
       "GridSearchCV(cv=5,\n",
       "             estimator=Pipeline(steps=[('columntransformer',\n",
       "                                        ColumnTransformer(transformers=[('pipe_num',\n",
       "                                                                         Pipeline(steps=[('minmaxscaler',\n",
       "                                                                                          MinMaxScaler())]),\n",
       "                                                                         ['Customer_care_calls',\n",
       "                                                                          'Customer_rating',\n",
       "                                                                          'Cost_of_the_Product',\n",
       "                                                                          'Prior_purchases',\n",
       "                                                                          'Discount_offered',\n",
       "                                                                          'Weight_in_gms']),\n",
       "                                                                        ('pipe_cat_ohe',\n",
       "                                                                         Pipeline(steps=[('onehotencoder',\n",
       "                                                                                          OneHotEncoder(handle_unk...\n",
       "                                                                         ['Product_importance'])])),\n",
       "                                       ('decisiontreeclassifier',\n",
       "                                        DecisionTreeClassifier())]),\n",
       "             n_jobs=-1,\n",
       "             param_grid={'decisiontreeclassifier__criterion': ['gini',\n",
       "                                                               'entropy'],\n",
       "                         'decisiontreeclassifier__max_depth': [None, 10, 20, 30,\n",
       "                                                               40],\n",
       "                         'decisiontreeclassifier__min_samples_leaf': [1, 2, 4],\n",
       "                         'decisiontreeclassifier__min_samples_split': [2, 5,\n",
       "                                                                       10]},\n",
       "             return_train_score=True, scoring='recall', verbose=3)"
      ]
     },
     "execution_count": 56,
     "metadata": {},
     "output_type": "execute_result"
    }
   ],
   "source": [
    "# Train with Grid Search\n",
    "tree_gridcv = GridSearchCV(estimator=tree,\n",
    "                         param_grid=param_grid_tree,\n",
    "                         refit=True,\n",
    "                         return_train_score=True,\n",
    "                         cv=5,\n",
    "                         n_jobs=-1,\n",
    "                         verbose=3,\n",
    "                         scoring='recall')\n",
    "tree_gridcv.fit(X_train, y_train)"
   ]
  },
  {
   "cell_type": "code",
   "execution_count": 57,
   "metadata": {},
   "outputs": [
    {
     "data": {
      "text/plain": [
       "{'decisiontreeclassifier__criterion': 'entropy',\n",
       " 'decisiontreeclassifier__max_depth': None,\n",
       " 'decisiontreeclassifier__min_samples_leaf': 1,\n",
       " 'decisiontreeclassifier__min_samples_split': 2}"
      ]
     },
     "execution_count": 57,
     "metadata": {},
     "output_type": "execute_result"
    }
   ],
   "source": [
    "# Display Best Hyperparamters from Random Search\n",
    "tree_gridcv.best_params_"
   ]
  },
  {
   "cell_type": "markdown",
   "metadata": {},
   "source": [
    "Setalah kita lakukan grid search dan dilakukan fit pada X_train dan y_train kita mendapatkan hasil best parameter terbaik yaitu :\n",
    "- criterion': 'gini'\n",
    "- max_depth': 40\n",
    "- min_samples_leaf': 1\n",
    "- min_samples_split': 2"
   ]
  },
  {
   "cell_type": "code",
   "execution_count": 58,
   "metadata": {},
   "outputs": [
    {
     "name": "stdout",
     "output_type": "stream",
     "text": [
      "recall Score - Test Set   :  0.7016067329762815 \n",
      "\n",
      "Classification Report : \n",
      "               precision    recall  f1-score   support\n",
      "\n",
      "           0       0.57      0.58      0.58       893\n",
      "           1       0.71      0.70      0.71      1307\n",
      "\n",
      "    accuracy                           0.65      2200\n",
      "   macro avg       0.64      0.64      0.64      2200\n",
      "weighted avg       0.66      0.65      0.65      2200\n",
      " \n",
      "\n"
     ]
    },
    {
     "data": {
      "text/plain": [
       "<sklearn.metrics._plot.confusion_matrix.ConfusionMatrixDisplay at 0x173fa2e10>"
      ]
     },
     "execution_count": 58,
     "metadata": {},
     "output_type": "execute_result"
    },
    {
     "data": {
      "image/png": "[encoded data removed]",
      "text/plain": [
       "<Figure size 640x480 with 2 Axes>"
      ]
     },
     "metadata": {},
     "output_type": "display_data"
    }
   ],
   "source": [
    "# Get Best Estimator\n",
    "tree_gridcv_best = tree_gridcv.best_estimator_\n",
    "\n",
    "y_pred_treegv = tree_gridcv_best.predict(X_test)\n",
    "print('recall Score - Test Set   : ', recall_score(y_test, y_pred_treegv), '\\n')\n",
    "print('Classification Report : \\n', classification_report(y_test, y_pred_treegv), '\\n')\n",
    "cm_tree_gv = confusion_matrix(y_test, y_pred_treegv)\n",
    "ConfusionMatrixDisplay(cm_tree_gv).plot()"
   ]
  },
  {
   "cell_type": "markdown",
   "metadata": {},
   "source": [
    "Setelah melakukan penyetelan parameter terbaik, kami mencapai skor recall sebesar 0,71, yang menunjukkan peningkatan dibandingkan dengan hasil sebelum melakukan penyetelan parameter. Namun, kami menyadari bahwa skor ini bersifat dinamis dan dapat berubah dari waktu ke waktu jika kami mengulang proses yang sama.\n",
    "\n",
    "Selain itu, dalam metrik kebingungan kami, kita melihat penurunan yang konsisten dalam nilai False Negatif, dari 377 menjadi 368. Perlu diingat bahwa hasil ini juga dapat berfluktuasi jika kami menjalankan proses yang sama sekali lagi."
   ]
  },
  {
   "cell_type": "code",
   "execution_count": 59,
   "metadata": {},
   "outputs": [
    {
     "name": "stdout",
     "output_type": "stream",
     "text": [
      "Score Recall :\n",
      "Classification Report Baseline: \n",
      " 0.7276205049732212 \n",
      "\n",
      "Classification Report Hyperparameter dan Grid Search : \n",
      " 0.7016067329762815 \n",
      "\n"
     ]
    }
   ],
   "source": [
    "print('Score Recall :')\n",
    "print('Classification Report Baseline: \\n', recall_score(y_test, y_pred_test_tree), '\\n')\n",
    "print('Classification Report Hyperparameter dan Grid Search : \\n', recall_score(y_test, y_pred_treegv), '\\n')"
   ]
  },
  {
   "cell_type": "markdown",
   "metadata": {},
   "source": [
    "Dalam baseline Decision Tree Classifier kita mendapatkan score 0.72 setalah kita melakukan grid search dan hyperparameters tuning meningkat menjadi 0.70.\n",
    "\n",
    "**Kelebihan Model**\n",
    "\n",
    "Penanganan Data Campuran: Decision Tree dapat menangani dataset dengan campuran fitur kategoris dan numerik dengan baik. Ini tidak memerlukan normalisasi atau pemrosesan khusus pada data.\n",
    "Kemampuan Menangani Missing Values: Decision Tree dapat menangani data yang memiliki nilai yang hilang (missing values) tanpa memerlukan imputasi (pengisian nilai yang hilang) terlebih dahulu.\n",
    "\n",
    "\n",
    "**Kelemahan model**\n",
    "\n",
    "Saya menyadari bahwa beberapa model mungkin memberikan hasil yang sangat baik saat memprediksi data pelatihan, tetapi kemungkinan hanya menghafal pola data. Masalah muncul ketika model ini diuji dengan data baru atau data yang belum pernah dilihat sebelumnya, di mana model mulai kesulitan dan gagal memberikan prediksi yang akurat. Hal ini dapat menjadi masalah serius ketika model digunakan dalam situasi dunia nyata, karena dapat menghasilkan peningkatan keluhan dari pelanggan yang pada gilirannya mengurangi tingkat kepercayaan dalam bisnis pengiriman ini.\n",
    "\n",
    "Karenanya, rencana kami adalah meningkatkan performa model kami di masa depan dengan beberapa opsi model alternatif. Selain itu, kami akan mengevaluasi penggunaan teknik ensemble seperti stacking dan bagging sebagai alternatif yang lebih baik. Ini akan membantu dalam meningkatkan kinerja model secara keseluruhan dan mengurangi masalah yang disebutkan sebelumnya."
   ]
  },
  {
   "cell_type": "markdown",
   "metadata": {},
   "source": [
    "**Check Karakteristik**"
   ]
  },
  {
   "cell_type": "code",
   "execution_count": 60,
   "metadata": {},
   "outputs": [
    {
     "data": {
      "text/html": [
       "<div>\n",
       "<style scoped>\n",
       "    .dataframe tbody tr th:only-of-type {\n",
       "        vertical-align: middle;\n",
       "    }\n",
       "\n",
       "    .dataframe tbody tr th {\n",
       "        vertical-align: top;\n",
       "    }\n",
       "\n",
       "    .dataframe thead th {\n",
       "        text-align: right;\n",
       "    }\n",
       "</style>\n",
       "<table border=\"1\" class=\"dataframe\">\n",
       "  <thead>\n",
       "    <tr style=\"text-align: right;\">\n",
       "      <th></th>\n",
       "      <th>Warehouse_block</th>\n",
       "      <th>Mode_of_Shipment</th>\n",
       "      <th>Customer_care_calls</th>\n",
       "      <th>Customer_rating</th>\n",
       "      <th>Cost_of_the_Product</th>\n",
       "      <th>Prior_purchases</th>\n",
       "      <th>Product_importance</th>\n",
       "      <th>Discount_offered</th>\n",
       "      <th>Weight_in_gms</th>\n",
       "      <th>Rot</th>\n",
       "      <th>Prediction</th>\n",
       "    </tr>\n",
       "  </thead>\n",
       "  <tbody>\n",
       "    <tr>\n",
       "      <th>6560</th>\n",
       "      <td>C</td>\n",
       "      <td>Road</td>\n",
       "      <td>4</td>\n",
       "      <td>3</td>\n",
       "      <td>256</td>\n",
       "      <td>5</td>\n",
       "      <td>low</td>\n",
       "      <td>5</td>\n",
       "      <td>1533</td>\n",
       "      <td>1</td>\n",
       "      <td>1</td>\n",
       "    </tr>\n",
       "    <tr>\n",
       "      <th>1112</th>\n",
       "      <td>A</td>\n",
       "      <td>Flight</td>\n",
       "      <td>5</td>\n",
       "      <td>1</td>\n",
       "      <td>222</td>\n",
       "      <td>3</td>\n",
       "      <td>high</td>\n",
       "      <td>21</td>\n",
       "      <td>2351</td>\n",
       "      <td>1</td>\n",
       "      <td>1</td>\n",
       "    </tr>\n",
       "    <tr>\n",
       "      <th>3181</th>\n",
       "      <td>A</td>\n",
       "      <td>Ship</td>\n",
       "      <td>3</td>\n",
       "      <td>3</td>\n",
       "      <td>132</td>\n",
       "      <td>3</td>\n",
       "      <td>low</td>\n",
       "      <td>6</td>\n",
       "      <td>5721</td>\n",
       "      <td>1</td>\n",
       "      <td>1</td>\n",
       "    </tr>\n",
       "    <tr>\n",
       "      <th>4057</th>\n",
       "      <td>A</td>\n",
       "      <td>Ship</td>\n",
       "      <td>4</td>\n",
       "      <td>2</td>\n",
       "      <td>249</td>\n",
       "      <td>2</td>\n",
       "      <td>medium</td>\n",
       "      <td>7</td>\n",
       "      <td>5876</td>\n",
       "      <td>1</td>\n",
       "      <td>1</td>\n",
       "    </tr>\n",
       "    <tr>\n",
       "      <th>6152</th>\n",
       "      <td>B</td>\n",
       "      <td>Road</td>\n",
       "      <td>5</td>\n",
       "      <td>4</td>\n",
       "      <td>269</td>\n",
       "      <td>2</td>\n",
       "      <td>medium</td>\n",
       "      <td>2</td>\n",
       "      <td>5962</td>\n",
       "      <td>0</td>\n",
       "      <td>1</td>\n",
       "    </tr>\n",
       "  </tbody>\n",
       "</table>\n",
       "</div>"
      ],
      "text/plain": [
       "     Warehouse_block Mode_of_Shipment  Customer_care_calls  Customer_rating  \\\n",
       "6560               C             Road                    4                3   \n",
       "1112               A           Flight                    5                1   \n",
       "3181               A             Ship                    3                3   \n",
       "4057               A             Ship                    4                2   \n",
       "6152               B             Road                    5                4   \n",
       "\n",
       "      Cost_of_the_Product  Prior_purchases Product_importance  \\\n",
       "6560                  256                5                low   \n",
       "1112                  222                3               high   \n",
       "3181                  132                3                low   \n",
       "4057                  249                2             medium   \n",
       "6152                  269                2             medium   \n",
       "\n",
       "      Discount_offered  Weight_in_gms  Rot  Prediction  \n",
       "6560                 5           1533    1           1  \n",
       "1112                21           2351    1           1  \n",
       "3181                 6           5721    1           1  \n",
       "4057                 7           5876    1           1  \n",
       "6152                 2           5962    0           1  "
      ]
     },
     "execution_count": 60,
     "metadata": {},
     "output_type": "execute_result"
    }
   ],
   "source": [
    "# Membuat variable baru\n",
    "X_test_1 = X_test.copy()\n",
    "X_test_1['Rot'] = y_test\n",
    "\n",
    "# Menambahkan kolom baru\n",
    "X_test_1['Prediction'] = y_pred_treegv\n",
    "X_test_1.head()"
   ]
  },
  {
   "cell_type": "code",
   "execution_count": 61,
   "metadata": {},
   "outputs": [
    {
     "data": {
      "text/plain": [
       "Customer_care_calls       4.138462\n",
       "Customer_rating           3.084615\n",
       "Cost_of_the_Product     215.279487\n",
       "Prior_purchases           3.689744\n",
       "Discount_offered          5.587179\n",
       "Weight_in_gms          4219.146154\n",
       "Rot                       1.000000\n",
       "Prediction                0.000000\n",
       "dtype: float64"
      ]
     },
     "execution_count": 61,
     "metadata": {},
     "output_type": "execute_result"
    }
   ],
   "source": [
    "# Hitung rata-rata dari kolom-kolom numerik pada dataframe False_negative\n",
    "False_negatif = X_test_1[(X_test_1['Rot'] == 1 ) &(X_test_1['Prediction'] == 0)]\n",
    "False_negatif.select_dtypes(exclude='object').mean()"
   ]
  },
  {
   "cell_type": "markdown",
   "metadata": {},
   "source": [
    "Karakterisitik False Negatif yaitu :\n",
    "Customer_care_calls (Panggilan Ke Layanan Pelanggan): Rata-rata panggilan ke layanan pelanggan adalah sekitar 4.13. Ini mungkin menunjukkan bahwa sebagian besar pelanggan melakukan beberapa panggilan ke layanan pelanggan untuk menyelesaikan masalah atau mendapatkan bantuan terkait produk atau layanan.\n",
    "\n",
    "Customer_rating (Rating Pelanggan): Rata-rata rating pelanggan adalah sekitar 3.08. Ini bisa menjadi indikasi bahwa sebagian besar pelanggan memberikan rating yang rendah atau sedang terhadap produk atau layanan.\n",
    "\n",
    "Cost_of_the_Product (Harga Produk): Rata-rata harga produk adalah sekitar 215.27. Ini menunjukkan bahwa produk dalam dataset memiliki variasi harga, dengan rata-rata di sekitar angka tersebut."
   ]
  },
  {
   "cell_type": "code",
   "execution_count": 62,
   "metadata": {},
   "outputs": [
    {
     "data": {
      "text/plain": [
       "Customer_care_calls       4.103448\n",
       "Customer_rating           2.959770\n",
       "Cost_of_the_Product     209.381226\n",
       "Prior_purchases           3.670498\n",
       "Discount_offered          5.643678\n",
       "Weight_in_gms          4296.591954\n",
       "Rot                       0.000000\n",
       "Prediction                0.000000\n",
       "dtype: float64"
      ]
     },
     "execution_count": 62,
     "metadata": {},
     "output_type": "execute_result"
    }
   ],
   "source": [
    "# Hitung rata-rata dari kolom-kolom numerik pada dataframe True_negative\n",
    "true_negatif = X_test_1[(X_test_1['Rot'] == 0 ) &(X_test_1['Prediction'] == 0)]\n",
    "true_negatif.select_dtypes(exclude='object').mean()"
   ]
  },
  {
   "cell_type": "markdown",
   "metadata": {},
   "source": [
    "Karakteristik true negatif :\n",
    "Customer_care_calls (Panggilan Ke Layanan Pelanggan): Rata-rata panggilan ke layanan pelanggan adalah sekitar 4.10. Meskipun nilainya sedikit lebih rendah dibandingkan dengan yang sebelumnya, ini masih menunjukkan bahwa sebagian besar pelanggan melakukan beberapa panggilan ke layanan pelanggan.\n",
    "\n",
    "Customer_rating (Rating Pelanggan): Rata-rata rating pelanggan adalah sekitar 2.95. Ini juga lebih rendah daripada sebelumnya, menunjukkan bahwa pelanggan dalam data ini cenderung memberikan rating yang lebih rendah atau sedang terhadap produk atau layanan.\n",
    "\n",
    "Cost_of_the_Product (Harga Produk): Rata-rata harga produk adalah sekitar 209.38. Nilai ini lebih rendah daripada sebelumnya, menunjukkan variasi dalam harga produk yang lebih rendah."
   ]
  },
  {
   "cell_type": "code",
   "execution_count": 63,
   "metadata": {},
   "outputs": [
    {
     "data": {
      "text/html": [
       "<div>\n",
       "<style scoped>\n",
       "    .dataframe tbody tr th:only-of-type {\n",
       "        vertical-align: middle;\n",
       "    }\n",
       "\n",
       "    .dataframe tbody tr th {\n",
       "        vertical-align: top;\n",
       "    }\n",
       "\n",
       "    .dataframe thead th {\n",
       "        text-align: right;\n",
       "    }\n",
       "</style>\n",
       "<table border=\"1\" class=\"dataframe\">\n",
       "  <thead>\n",
       "    <tr style=\"text-align: right;\">\n",
       "      <th></th>\n",
       "      <th>Customer_care_calls</th>\n",
       "      <th>Customer_rating</th>\n",
       "      <th>Cost_of_the_Product</th>\n",
       "      <th>Prior_purchases</th>\n",
       "      <th>Discount_offered</th>\n",
       "      <th>Weight_in_gms</th>\n",
       "    </tr>\n",
       "    <tr>\n",
       "      <th>Rot</th>\n",
       "      <th></th>\n",
       "      <th></th>\n",
       "      <th></th>\n",
       "      <th></th>\n",
       "      <th></th>\n",
       "      <th></th>\n",
       "    </tr>\n",
       "  </thead>\n",
       "  <tbody>\n",
       "    <tr>\n",
       "      <th>0</th>\n",
       "      <td>4.155655</td>\n",
       "      <td>2.954087</td>\n",
       "      <td>211.426652</td>\n",
       "      <td>3.650616</td>\n",
       "      <td>5.634938</td>\n",
       "      <td>4219.950728</td>\n",
       "    </tr>\n",
       "    <tr>\n",
       "      <th>1</th>\n",
       "      <td>4.007651</td>\n",
       "      <td>2.976282</td>\n",
       "      <td>207.285386</td>\n",
       "      <td>3.501148</td>\n",
       "      <td>18.997705</td>\n",
       "      <td>3273.298393</td>\n",
       "    </tr>\n",
       "  </tbody>\n",
       "</table>\n",
       "</div>"
      ],
      "text/plain": [
       "     Customer_care_calls  Customer_rating  Cost_of_the_Product  \\\n",
       "Rot                                                              \n",
       "0               4.155655         2.954087           211.426652   \n",
       "1               4.007651         2.976282           207.285386   \n",
       "\n",
       "     Prior_purchases  Discount_offered  Weight_in_gms  \n",
       "Rot                                                    \n",
       "0           3.650616          5.634938    4219.950728  \n",
       "1           3.501148         18.997705    3273.298393  "
      ]
     },
     "execution_count": 63,
     "metadata": {},
     "output_type": "execute_result"
    }
   ],
   "source": [
    "# Menghitung rata - rata\n",
    "X_test1 = X_test_1.drop('Prediction',axis=1)\n",
    "X_test1.groupby('Rot').mean()"
   ]
  },
  {
   "cell_type": "markdown",
   "metadata": {},
   "source": [
    "Mari kita bahas karakteristik masing-masing atribut:\n",
    "\n",
    "Customer_care_calls:\n",
    "Untuk \"Rot=0,\" rata-rata panggilan ke layanan pelanggan adalah sekitar 4.15.\n",
    "Untuk \"Rot=1,\" rata-rata panggilan ke layanan pelanggan adalah sekitar 4.00.\n",
    "\n",
    "Ini menunjukkan bahwa rata-rata jumlah panggilan ke layanan pelanggan lebih tinggi pada kelompok \"Rot=0\" daripada pada kelompok \"Rot=1.\"\n",
    "\n",
    "\n",
    "Customer_rating:\n",
    "Untuk \"Rot=0,\" rata-rata rating pelanggan adalah sekitar 2.95.\n",
    "Untuk \"Rot=1,\" rata-rata rating pelanggan adalah sekitar 2.97.\n",
    "\n",
    "Ini menunjukkan bahwa rata-rata rating pelanggan sedikit lebih tinggi pada kelompok \"Rot=1\" daripada pada kelompok \"Rot=0.\"\n",
    "\n",
    "Cost_of_the_Product:\n",
    "Untuk \"Rot=0,\" rata-rata harga produk adalah sekitar 211.42.\n",
    "Untuk \"Rot=1,\" rata-rata harga produk adalah sekitar 207.28.\n",
    "\n",
    "Ini mengindikasikan bahwa rata-rata harga produk cenderung lebih tinggi pada kelompok \"Rot=0\" dibandingkan dengan kelompok \"Rot=1.\"\n",
    "\n",
    "Discount_offered:\n",
    "Untuk \"Rot=0,\" rata-rata diskon yang ditawarkan adalah sekitar 5.63.\n",
    "Untuk \"Rot=1,\" rata-rata diskon yang ditawarkan adalah sekitar 18.99.\n",
    "\n",
    "Ini mengindikasikan bahwa rata-rata diskon yang ditawarkan jauh lebih tinggi pada kelompok \"Rot=1\" dibandingkan dengan kelompok \"Rot=0.\""
   ]
  },
  {
   "cell_type": "markdown",
   "metadata": {},
   "source": [
    "# Model Saving"
   ]
  },
  {
   "cell_type": "code",
   "execution_count": null,
   "metadata": {},
   "outputs": [],
   "source": [
    "# save pipeline\n",
    "with open('donePipeline.pkl','wb') as file:\n",
    "  pickle.dump(tree_gridcv,file)"
   ]
  },
  {
   "cell_type": "markdown",
   "metadata": {},
   "source": [
    "Menyimpan Final proses dalam file final pipeline1 untuk di gunakan di model inference."
   ]
  },
  {
   "cell_type": "markdown",
   "metadata": {},
   "source": [
    "# Model Inference\n",
    "\n",
    "Model inference di ipynb yang berbeda."
   ]
  },
  {
   "cell_type": "markdown",
   "metadata": {},
   "source": [
    "# Pengambilan Kesimpulan\n",
    "\n",
    "**Conceptual Problems**\n",
    "\n",
    "Bagging itu apa\n",
    "\n",
    "Bagging, yang merupakan kependekan dari \"Bootstrap Aggregating,\" adalah metode ensemble learning yang digunakan dalam machine learning dengan tujuan untuk meningkatkan performa model. Metode ini diterapkan untuk mengatasi masalah overfitting, meningkatkan kestabilan model, dan menghasilkan prediksi yang lebih andal dan konsisten.\n",
    "\n",
    "Bagging cara kerja\n",
    "\n",
    "Bootstrap Sampling: Bagging memulai dengan mengambil sampel acak dari dataset pelatihan asli dengan penggantian. Artinya, beberapa data contoh bisa muncul beberapa kali dalam sampel, sementara yang lain mungkin tidak ada sama sekali. Hasil dari langkah ini adalah pembentukan dataset baru yang disebut \"bootstrap sample.\"\n",
    "\n",
    "Manfaat dari Bagging adalah bahwa melalui penggabungan hasil dari beberapa model yang telah dilatih pada dataset yang berbeda, itu dapat mengurangi variabilitas dalam prediksi dan menghasilkan model yang lebih konsisten. Ini adalah salah satu bentuk dari \"ensemble learning,\" di mana kita mengkombinasikan hasil dari beberapa model untuk meningkatkan performa dan stabilitas prediksi.\n",
    "\n",
    "Perbedaan RandomForest dan Xgboost\n",
    "\n",
    "Random Forest dan XGBoost merupakan dua pendekatan berbeda dalam ensemble learning yang mengkombinasikan beberapa model dasar guna meningkatkan prediksi. Terdapat perbedaan utama dalam cara kerja kedua algoritma ini:\n",
    "\n",
    "Algoritma Random Forest dan metode Boosting, seperti XGBoost, adalah dua pendekatan dalam ensemble learning yang berbeda dalam cara mereka menggabungkan beberapa model dasar untuk meningkatkan kinerja prediksi. Perbedaan utama terletak pada mekanisme dasar di balik cara kerja keduanya.\n",
    "\n",
    "Random Forest:\n",
    "\n",
    "Proses Pengambilan Sampel: Dalam Random Forest, teknik pengambilan sampel bootstrap digunakan untuk menciptakan sejumlah dataset pelatihan yang beragam. Setiap dataset ini digunakan untuk melatih Decision Trees yang bekerja secara independen. Selain itu, Random Forest juga menerapkan sub-sampling pada fitur (variabel) untuk setiap pohon dalam upaya untuk menghindari terjadinya korelasi yang kuat antara pohon-pohon dalam ensemble.\n",
    "\n",
    "Proses Pengambilan Keputusan: Setelah Decision Trees selesai dilatih, Random Forest mengumpulkan prediksi dari setiap pohon, yang kemudian digabungkan dengan cara menghitung mayoritas suara (mode) dalam konteks masalah klasifikasi atau dengan menghitung rata-rata dalam konteks masalah regresi.\n",
    "\n",
    "XGBoost (Extreme Gradient Boosting):\n",
    "\n",
    "Proses Pengambilan Sampel: XGBoost menerapkan konsep boosting, yang berarti bahwa setiap pohon berikutnya (weak learner) dalam ensemble difokuskan pada sampel-sampel yang sebelumnya telah salah diklasifikasikan oleh pohon-pohon sebelumnya. Dengan kata lain, setiap pohon berikutnya berusaha untuk memperbaiki kesalahan yang terjadi pada langkah-langkah sebelumnya.\n",
    "\n",
    "Proses Pengambilan Keputusan: XGBoost juga mengumpulkan hasil prediksi dari semua pohon dalam ensemble, namun, hal ini dilakukan dengan memberikan bobot pada masing-masing pohon berdasarkan seberapa baik kinerja mereka pada iterasi sebelumnya.\n",
    "\n",
    "Berurutan: XGBoost merupakan algoritma berurutan, yang berarti bahwa setiap pohon dalam ensemble bergantung pada hasil pohon-pohon sebelumnya. Dampaknya adalah waktu pelatihan yang mungkin lebih lama dibandingkan dengan Random Forest.\n",
    "\n",
    "Cross Validation itu apa\n",
    "\n",
    "Cross-validation (validasi silang) Merupakan metode kunci dalam machine learning yang digunakan untuk mengevaluasi performa model secara obyektif dan mencegah terjadinya overfitting. Ini merupakan teknik evaluasi yang membantu dalam mengestimasi sejauh mana model machine learning dapat berfungsi dengan baik pada data yang belum pernah dihadapi sebelumnya.\n",
    "\n",
    "Cross Validation cara kerja:\n",
    "\n",
    "Pembagian Data: Dataset yang ada dibagi menjadi dua komponen utama: satu adalah komponen untuk melatih model (training set), sementara yang lainnya digunakan untuk menguji performa model (testing set). Bagian yang digunakan untuk melatih model digunakan dalam proses pelatihan, sementara yang digunakan untuk menguji digunakan untuk mengevaluasi kinerja model.\n",
    "\n",
    "Pengulangan: Subset data dibagi lagi menjadi beberapa \"lipatan\" (folds). Sebagai contoh, dalam metode validasi silang 5 lipatan (5-fold cross-validation), data dibagi menjadi 5 bagian yang sama besar.\n",
    "\n",
    "Proses Pelatihan dan Pengujian: Model machine learning dilatih dan dievaluasi dalam beberapa iterasi, sejumlah yang sama dengan jumlah lipatan yang ada. Pada setiap iterasi, satu lipatan digunakan sebagai dataset pengujian, sementara yang lainnya digunakan sebagai dataset pelatihan. Dengan demikian, setiap lipatan digunakan sekali sebagai dataset pengujian dan empat kali sebagai dataset pelatihan (dalam contoh 5-fold cross-validation)."
   ]
  },
  {
   "cell_type": "markdown",
   "metadata": {},
   "source": [
    "**Kesimpulan dan Implikasi Bisnis:**\n",
    "\n",
    "Hasil analisis yang telah dilakukan menunjukkan pola yang konsisten dalam data, yaitu nilai \"Reched on time\" dengan label 0 memiliki tingkat yang lebih rendah dibandingkan dengan label 1. Hal ini menjadi dasar untuk membangun model yang dapat memberikan prediksi yang akurat. Meskipun demikian, ada beberapa keterbatasan dalam fitur yang mungkin memengaruhi kualitas prediksi model terhadap data baru. Kami berharap bahwa kelemahan-kelemahan dalam model dapat diperbaiki dengan baik, terutama dalam meningkatkan nilai recall, yang sangat penting dalam upaya untuk meningkatkan layanan kami dan hubungan dengan pelanggan. Ini karena dalam bisnis pengiriman, kepercayaan pelanggan sangat penting, dan kualitas pelayanan kami bergantung pada kemampuan kami dalam memberikan prediksi yang akurat dan tepat waktu.\n",
    "\n",
    "Dari hasil analisis karakteristik data yang telah dilakukan, berikut beberapa saran untuk memperbaiki akurasi waktu pengiriman dalam sektor e-commerce:\n",
    "\n",
    "1.Kontrol Kualitas Produk: Walaupun terlihat bahwa pelanggan mungkin memberikan peringkat yang lebih tinggi untuk pengiriman yang tidak tepat waktu, perusahaan harus tetap memantau kualitas produk dan proses pengiriman. Produk dengan harga yang lebih tinggi mungkin lebih cenderung tepat waktu, jadi pastikan bahwa kualitas produk sesuai dengan harganya.\n",
    "\n",
    "2.Fokus pada Peningkatan Layanan Pelanggan: Perusahaan sebaiknya mempertimbangkan upaya untuk meningkatkan pelayanan pelanggan, terutama dalam penanganan pengiriman yang tidak tepat waktu (\"Rot=1\"). Ini mungkin melibatkan perbaikan dalam menangani keluhan pelanggan, memberikan informasi pengiriman yang lebih akurat, atau memberikan insentif kepada pelanggan yang mengalami keterlambatan.\n",
    "\n",
    "3.Rencana Strategis Jangka Panjang: Selain perbaikan operasional segera, perusahaan juga harus memiliki strategi jangka panjang untuk mengatasi masalah ketepatan waktu pengiriman. Ini mungkin melibatkan investasi dalam teknologi yang lebih maju, ekspansi geografis, atau pembaruan model bisnis.\n",
    "\n",
    "4.Pengelolaan Diskon dengan Bijak: Perusahaan perlu mengelola dengan hati-hati penggunaan tawaran diskon. Tawaran diskon yang signifikan untuk pengiriman yang tidak tepat waktu (\"Rot=1\") mungkin menjadi solusi sementara, tetapi strategi tersebut dapat berdampak pada margin keuntungan. Pertimbangkan untuk memberikan diskon yang lebih seimbang dan memberikan insentif untuk pengiriman tepat waktu.\n",
    "\n",
    "5.Edukasi Pelanggan: Perusahaan dapat mengambil inisiatif untuk memberikan pemahaman kepada pelanggan mengenai proses pengiriman, perkiraan waktu pengiriman yang realistis, dan faktor-faktor yang dapat memengaruhi ketepatan waktu. Ini dapat mengurangi ketidakpuasan pelanggan dan mengurangi keluhan yang mungkin muncul karena ketidakpahaman.\n",
    "\n",
    "6.Pemanfaatan Model Prediktif: Teruslah menggunakan model machine learning yang telah dikembangkan untuk meramalkan ketepatan waktu pengiriman. Dengan demikian, perusahaan dapat mengidentifikasi pengiriman yang berpotensi tidak tepat waktu dan mengambil langkah-langkah pencegahan.\n"
   ]
  }
 ],
 "metadata": {
  "kernelspec": {
   "display_name": "base",
   "language": "python",
   "name": "python3"
  },
  "language_info": {
   "codemirror_mode": {
    "name": "ipython",
    "version": 3
   },
   "file_extension": ".py",
   "mimetype": "text/x-python",
   "name": "python",
   "nbconvert_exporter": "python",
   "pygments_lexer": "ipython3",
   "version": "3.11.4"
  }
 },
 "nbformat": 4,
 "nbformat_minor": 2
}
