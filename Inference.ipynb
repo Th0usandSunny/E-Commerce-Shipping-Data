{
 "cells": [
  {
   "cell_type": "code",
   "execution_count": 1,
   "metadata": {},
   "outputs": [],
   "source": [
    "import pickle \n",
    "import pandas as pd"
   ]
  },
  {
   "cell_type": "code",
   "execution_count": 2,
   "metadata": {},
   "outputs": [],
   "source": [
    "# Load the decision tree model from 'final_pipeline1.pkl'\n",
    "with open('donePipeline.pkl', 'rb') as file_2:\n",
    "    loaded_model_dt = pickle.load(file_2)"
   ]
  },
  {
   "cell_type": "code",
   "execution_count": 6,
   "metadata": {},
   "outputs": [
    {
     "data": {
      "text/html": [
       "<div>\n",
       "<style scoped>\n",
       "    .dataframe tbody tr th:only-of-type {\n",
       "        vertical-align: middle;\n",
       "    }\n",
       "\n",
       "    .dataframe tbody tr th {\n",
       "        vertical-align: top;\n",
       "    }\n",
       "\n",
       "    .dataframe thead th {\n",
       "        text-align: right;\n",
       "    }\n",
       "</style>\n",
       "<table border=\"1\" class=\"dataframe\">\n",
       "  <thead>\n",
       "    <tr style=\"text-align: right;\">\n",
       "      <th></th>\n",
       "      <th>Warehouse_block</th>\n",
       "      <th>Mode_of_Shipment</th>\n",
       "      <th>Customer_care_calls</th>\n",
       "      <th>Customer_rating</th>\n",
       "      <th>Cost_of_the_Product</th>\n",
       "      <th>Prior_purchases</th>\n",
       "      <th>Product_importance</th>\n",
       "      <th>Discount_offered</th>\n",
       "      <th>Weight_in_gms</th>\n",
       "    </tr>\n",
       "  </thead>\n",
       "  <tbody>\n",
       "    <tr>\n",
       "      <th>0</th>\n",
       "      <td>D</td>\n",
       "      <td>Flight</td>\n",
       "      <td>4</td>\n",
       "      <td>5</td>\n",
       "      <td>183</td>\n",
       "      <td>3</td>\n",
       "      <td>low</td>\n",
       "      <td>44</td>\n",
       "      <td>3088</td>\n",
       "    </tr>\n",
       "    <tr>\n",
       "      <th>1</th>\n",
       "      <td>A</td>\n",
       "      <td>Flight</td>\n",
       "      <td>2</td>\n",
       "      <td>2</td>\n",
       "      <td>176</td>\n",
       "      <td>2</td>\n",
       "      <td>medium</td>\n",
       "      <td>48</td>\n",
       "      <td>3374</td>\n",
       "    </tr>\n",
       "    <tr>\n",
       "      <th>2</th>\n",
       "      <td>B</td>\n",
       "      <td>Ship</td>\n",
       "      <td>3</td>\n",
       "      <td>3</td>\n",
       "      <td>216</td>\n",
       "      <td>5</td>\n",
       "      <td>low</td>\n",
       "      <td>10</td>\n",
       "      <td>2484</td>\n",
       "    </tr>\n",
       "  </tbody>\n",
       "</table>\n",
       "</div>"
      ],
      "text/plain": [
       "  Warehouse_block Mode_of_Shipment  Customer_care_calls  Customer_rating  \\\n",
       "0               D           Flight                    4                5   \n",
       "1               A           Flight                    2                2   \n",
       "2               B             Ship                    3                3   \n",
       "\n",
       "   Cost_of_the_Product  Prior_purchases Product_importance  Discount_offered  \\\n",
       "0                  183                3                low                44   \n",
       "1                  176                2             medium                48   \n",
       "2                  216                5                low                10   \n",
       "\n",
       "   Weight_in_gms  \n",
       "0           3088  \n",
       "1           3374  \n",
       "2           2484  "
      ]
     },
     "execution_count": 6,
     "metadata": {},
     "output_type": "execute_result"
    }
   ],
   "source": [
    "# Membuat Data Baru\n",
    "\n",
    "data_inf = {\n",
    "    # \"ID\": [1, 2, 3],\n",
    "    \"Warehouse_block\": ['D', 'A', 'B'],\n",
    "    \"Mode_of_Shipment\": ['Flight', 'Flight', 'Ship'],\n",
    "    \"Customer_care_calls\": [4, 2, 3],\n",
    "    \"Customer_rating\": [5, 2, 3],\n",
    "    \"Cost_of_the_Product\": [183, 176, 216],\n",
    "    \"Prior_purchases\": [3, 2, 5],\n",
    "    \"Product_importance\": ['low', 'medium', 'low'],\n",
    "    # \"Gender\": ['F', 'M', 'M'],\n",
    "    \"Discount_offered\": [44, 48, 10],\n",
    "    \"Weight_in_gms\": [3088, 3374, 2484],\n",
    "    # \"Rot\": [1, 0, 0],\n",
    "}\n",
    "\n",
    "# Membuat DataFrame dari data baru\n",
    "data_inf = pd.DataFrame(data_inf)\n",
    "\n",
    "# Menampilkan data baru\n",
    "data_inf"
   ]
  },
  {
   "cell_type": "code",
   "execution_count": 7,
   "metadata": {},
   "outputs": [
    {
     "data": {
      "text/plain": [
       "array([1, 1, 1])"
      ]
     },
     "execution_count": 7,
     "metadata": {},
     "output_type": "execute_result"
    }
   ],
   "source": [
    "y_pred_inf = loaded_model_dt.predict(data_inf)\n",
    "\n",
    "y_pred_inf"
   ]
  }
 ],
 "metadata": {
  "kernelspec": {
   "display_name": "base",
   "language": "python",
   "name": "python3"
  },
  "language_info": {
   "codemirror_mode": {
    "name": "ipython",
    "version": 3
   },
   "file_extension": ".py",
   "mimetype": "text/x-python",
   "name": "python",
   "nbconvert_exporter": "python",
   "pygments_lexer": "ipython3",
   "version": "3.11.4"
  }
 },
 "nbformat": 4,
 "nbformat_minor": 2
}
